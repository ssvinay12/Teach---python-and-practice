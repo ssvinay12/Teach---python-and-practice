{
 "cells": [
  {
   "cell_type": "markdown",
   "id": "b50f4fe4",
   "metadata": {},
   "source": [
    "#####                                   Methods and Functions"
   ]
  },
  {
   "cell_type": "markdown",
   "id": "d05e0c67",
   "metadata": {},
   "source": [
    "#### Methods"
   ]
  },
  {
   "cell_type": "markdown",
   "id": "44b11832",
   "metadata": {},
   "source": [
    "BUilt - in objects in Python have a variety of methods you can use!  <br>\n",
    "Let's explore in a bit more detail how to find methods and how to get information about them ,<br>\n",
    "Methods are essentially functions built into objects <br> \n",
    "\n",
    "later on we will see how we can built our own objects and methods using Object Oriented programming in classes\n"
   ]
  },
  {
   "cell_type": "code",
   "execution_count": 1,
   "id": "206aaaaa",
   "metadata": {},
   "outputs": [],
   "source": [
    " mylist = [1,2,3]"
   ]
  },
  {
   "cell_type": "code",
   "execution_count": 2,
   "id": "2147cfbe",
   "metadata": {},
   "outputs": [],
   "source": [
    "mylist.append(4)"
   ]
  },
  {
   "cell_type": "code",
   "execution_count": 3,
   "id": "caf22f01",
   "metadata": {},
   "outputs": [
    {
     "data": {
      "text/plain": [
       "[1, 2, 3, 4]"
      ]
     },
     "execution_count": 3,
     "metadata": {},
     "output_type": "execute_result"
    }
   ],
   "source": [
    "mylist"
   ]
  },
  {
   "cell_type": "code",
   "execution_count": 4,
   "id": "124a5eee",
   "metadata": {},
   "outputs": [
    {
     "data": {
      "text/plain": [
       "4"
      ]
     },
     "execution_count": 4,
     "metadata": {},
     "output_type": "execute_result"
    }
   ],
   "source": [
    "mylist.pop()"
   ]
  },
  {
   "cell_type": "code",
   "execution_count": 5,
   "id": "7099b054",
   "metadata": {},
   "outputs": [
    {
     "data": {
      "text/plain": [
       "[1, 2, 3]"
      ]
     },
     "execution_count": 5,
     "metadata": {},
     "output_type": "execute_result"
    }
   ],
   "source": [
    "mylist\n"
   ]
  },
  {
   "cell_type": "code",
   "execution_count": 6,
   "id": "4c935adf",
   "metadata": {},
   "outputs": [
    {
     "name": "stdout",
     "output_type": "stream",
     "text": [
      "Help on built-in function insert:\n",
      "\n",
      "insert(index, object, /) method of builtins.list instance\n",
      "    Insert object before index.\n",
      "\n"
     ]
    }
   ],
   "source": [
    "help(mylist.insert)"
   ]
  },
  {
   "cell_type": "markdown",
   "id": "7e86cb57",
   "metadata": {},
   "source": [
    "### Functions\n",
    "\n",
    "Creating clean repeatable code is a key part of becoming an effective programmer. \n",
    "\n",
    "Functions allow us to create blocks of code that can be easily executed many times without needing to constantly rewrite the entire block of code\n",
    "\n",
    "Functions will be a huge leap forward in your capabilities as a python programmer\n",
    "this means that the problems you are able to solve can also be a lot harder\n",
    "it is important to get practice combining everything you've learned sofar(control flow, loops, etc.) with functions to become an effective programmer\n",
    "\n"
   ]
  },
  {
   "cell_type": "markdown",
   "id": "7df11f30",
   "metadata": {},
   "source": [
    "##### def Keyword\n",
    "which allows us to create a function in python\n",
    "\n",
    "Creating a function requires a very specific syntax, including the def keyword, correct indentation and proper structure\n",
    "\n",
    "Lets get an overview of a python function structure\n"
   ]
  },
  {
   "cell_type": "markdown",
   "id": "741c733b",
   "metadata": {},
   "source": [
    "def name_of_function(): \n",
    "    '''\n",
    "    DocString explains function.\n",
    "    '''\n",
    "    \n",
    "    print('Hello')\n",
    "    \n",
    ">> Hello\n",
    "\n",
    "Typically we use tge return keyword to send back the result of the function\n",
    "instead of just printing it out.\n",
    "\n",
    "return allows us to assign the output of the function to a new variable.\n",
    "\n",
    "\n"
   ]
  },
  {
   "cell_type": "markdown",
   "id": "d29114dc",
   "metadata": {},
   "source": [
    "#### Basic Functions"
   ]
  },
  {
   "cell_type": "code",
   "execution_count": 7,
   "id": "fb18109d",
   "metadata": {},
   "outputs": [],
   "source": [
    "def say_hello():\n",
    "    print('hello')"
   ]
  },
  {
   "cell_type": "code",
   "execution_count": 8,
   "id": "4495f126",
   "metadata": {},
   "outputs": [
    {
     "name": "stdout",
     "output_type": "stream",
     "text": [
      "hello\n"
     ]
    }
   ],
   "source": [
    "say_hello()"
   ]
  },
  {
   "cell_type": "code",
   "execution_count": 9,
   "id": "ca3aefa4",
   "metadata": {},
   "outputs": [],
   "source": [
    "def say_hello():\n",
    "    print('hello')\n",
    "    print('are')\n",
    "    print('you')\n",
    "    print('Vinay?')"
   ]
  },
  {
   "cell_type": "code",
   "execution_count": 10,
   "id": "679c74a0",
   "metadata": {},
   "outputs": [
    {
     "name": "stdout",
     "output_type": "stream",
     "text": [
      "hello\n",
      "are\n",
      "you\n",
      "Vinay?\n"
     ]
    }
   ],
   "source": [
    "say_hello()"
   ]
  },
  {
   "cell_type": "markdown",
   "id": "be2ceb75",
   "metadata": {},
   "source": [
    "#####  the main point of a function is to execute a block of code when you call it, especially when you plan to execute the code several times or maybe in future "
   ]
  },
  {
   "cell_type": "code",
   "execution_count": 12,
   "id": "83ef27c6",
   "metadata": {},
   "outputs": [],
   "source": [
    "def say_hello(name):\n",
    "    print(f'hello {name}' )\n",
    "    "
   ]
  },
  {
   "cell_type": "code",
   "execution_count": 13,
   "id": "8e49e92d",
   "metadata": {},
   "outputs": [
    {
     "name": "stdout",
     "output_type": "stream",
     "text": [
      "hello vinay\n"
     ]
    }
   ],
   "source": [
    "say_hello('vinay')"
   ]
  },
  {
   "cell_type": "code",
   "execution_count": 14,
   "id": "b42592fe",
   "metadata": {},
   "outputs": [
    {
     "ename": "TypeError",
     "evalue": "say_hello() missing 1 required positional argument: 'name'",
     "output_type": "error",
     "traceback": [
      "\u001b[1;31m---------------------------------------------------------------------------\u001b[0m",
      "\u001b[1;31mTypeError\u001b[0m                                 Traceback (most recent call last)",
      "Input \u001b[1;32mIn [14]\u001b[0m, in \u001b[0;36m<cell line: 5>\u001b[1;34m()\u001b[0m\n\u001b[0;32m      2\u001b[0m \u001b[38;5;28;01mdef\u001b[39;00m \u001b[38;5;21msay_hello\u001b[39m(name ):\n\u001b[0;32m      3\u001b[0m     \u001b[38;5;28mprint\u001b[39m(\u001b[38;5;124mf\u001b[39m\u001b[38;5;124m'\u001b[39m\u001b[38;5;124mhello \u001b[39m\u001b[38;5;132;01m{\u001b[39;00mname\u001b[38;5;132;01m}\u001b[39;00m\u001b[38;5;124m'\u001b[39m )\n\u001b[1;32m----> 5\u001b[0m \u001b[43msay_hello\u001b[49m\u001b[43m(\u001b[49m\u001b[43m)\u001b[49m\n",
      "\u001b[1;31mTypeError\u001b[0m: say_hello() missing 1 required positional argument: 'name'"
     ]
    }
   ],
   "source": [
    "# what if you dont provide any name while calling the function\n",
    "def say_hello(name ):\n",
    "    print(f'hello {name}' )\n",
    "    \n",
    "say_hello()    "
   ]
  },
  {
   "cell_type": "code",
   "execution_count": 16,
   "id": "33d4ae9b",
   "metadata": {},
   "outputs": [
    {
     "name": "stdout",
     "output_type": "stream",
     "text": [
      "hello Default\n",
      "hello vinay\n"
     ]
    }
   ],
   "source": [
    "# python is complaining that 1 argument is missing\n",
    "# to overcome that  we can provide default value so that python dont throw error like above\n",
    "\n",
    "def say_hello(name = 'Default'):\n",
    "    print(f'hello {name}' )\n",
    "say_hello()\n",
    "say_hello('vinay')"
   ]
  },
  {
   "cell_type": "markdown",
   "id": "e035feaa",
   "metadata": {},
   "source": [
    "###### ideally we dont print the stuffout when using functions -- we use return - lets see that\n"
   ]
  },
  {
   "cell_type": "code",
   "execution_count": 17,
   "id": "f7a442c0",
   "metadata": {},
   "outputs": [],
   "source": [
    "def add_num(num1,num2):\n",
    "    return num1+num2\n",
    "\n",
    "# when using the retun we can actually assign that to a variable"
   ]
  },
  {
   "cell_type": "code",
   "execution_count": 18,
   "id": "0621f9ed",
   "metadata": {},
   "outputs": [
    {
     "data": {
      "text/plain": [
       "50"
      ]
     },
     "execution_count": 18,
     "metadata": {},
     "output_type": "execute_result"
    }
   ],
   "source": [
    "add_num(20,30)"
   ]
  },
  {
   "cell_type": "code",
   "execution_count": 19,
   "id": "1fea1c9c",
   "metadata": {},
   "outputs": [],
   "source": [
    "# we can assign it to a variable but not while using the print\n",
    "res = add_num(25,35)"
   ]
  },
  {
   "cell_type": "code",
   "execution_count": 20,
   "id": "581f9046",
   "metadata": {},
   "outputs": [
    {
     "data": {
      "text/plain": [
       "60"
      ]
     },
     "execution_count": 20,
     "metadata": {},
     "output_type": "execute_result"
    }
   ],
   "source": [
    "res"
   ]
  },
  {
   "cell_type": "markdown",
   "id": "0a90d874",
   "metadata": {},
   "source": [
    "Logic with Python Functions"
   ]
  },
  {
   "cell_type": "code",
   "execution_count": 27,
   "id": "904ab932",
   "metadata": {},
   "outputs": [],
   "source": [
    "def even_check(num):\n",
    "    number = num % 2 == 0\n",
    "    return number"
   ]
  },
  {
   "cell_type": "code",
   "execution_count": 28,
   "id": "e7c6e638",
   "metadata": {},
   "outputs": [
    {
     "data": {
      "text/plain": [
       "True"
      ]
     },
     "execution_count": 28,
     "metadata": {},
     "output_type": "execute_result"
    }
   ],
   "source": [
    "even_check(22)"
   ]
  },
  {
   "cell_type": "code",
   "execution_count": 29,
   "id": "5d7cd1f7",
   "metadata": {},
   "outputs": [
    {
     "data": {
      "text/plain": [
       "False"
      ]
     },
     "execution_count": 29,
     "metadata": {},
     "output_type": "execute_result"
    }
   ],
   "source": [
    "# you actually need not write that in multiple lines of code \n",
    "def even_check(num):\n",
    "    return num % 2 == 0\n",
    "even_check(41)"
   ]
  },
  {
   "cell_type": "code",
   "execution_count": 30,
   "id": "b39687b7",
   "metadata": {},
   "outputs": [],
   "source": [
    "# RETURN TRUE IF ANY NUMBER IS EVEN INSIDE A LIST"
   ]
  },
  {
   "cell_type": "code",
   "execution_count": 31,
   "id": "e5e6a7ee",
   "metadata": {},
   "outputs": [],
   "source": [
    "def check_eve_list(num_list):\n",
    "    \n",
    "    for number in num_list:\n",
    "        if number % 2 == 0:\n",
    "            return True\n",
    "        else: \n",
    "            pass\n",
    "        "
   ]
  },
  {
   "cell_type": "code",
   "execution_count": 32,
   "id": "07b66fec",
   "metadata": {},
   "outputs": [
    {
     "data": {
      "text/plain": [
       "True"
      ]
     },
     "execution_count": 32,
     "metadata": {},
     "output_type": "execute_result"
    }
   ],
   "source": [
    "check_eve_list([2,3,4])"
   ]
  },
  {
   "cell_type": "code",
   "execution_count": 33,
   "id": "50a13f54",
   "metadata": {},
   "outputs": [
    {
     "data": {
      "text/plain": [
       "True"
      ]
     },
     "execution_count": 33,
     "metadata": {},
     "output_type": "execute_result"
    }
   ],
   "source": [
    "check_eve_list([3,6,9\n",
    "               ])"
   ]
  },
  {
   "cell_type": "code",
   "execution_count": 34,
   "id": "9fe7622f",
   "metadata": {},
   "outputs": [],
   "source": [
    "# if you have all the odd numbers this particular code does nothing\n",
    "check_eve_list([3,5,9])"
   ]
  },
  {
   "cell_type": "code",
   "execution_count": 35,
   "id": "e6619f4c",
   "metadata": {},
   "outputs": [],
   "source": [
    "# to solve this \n",
    "def check_eve_list(num_list):\n",
    "    \n",
    "    for number in num_list:\n",
    "        if number % 2 == 0:\n",
    "            return True\n",
    "        else: \n",
    "            pass\n",
    "    return False        "
   ]
  },
  {
   "cell_type": "code",
   "execution_count": 36,
   "id": "5d51e7c7",
   "metadata": {},
   "outputs": [
    {
     "data": {
      "text/plain": [
       "False"
      ]
     },
     "execution_count": 36,
     "metadata": {},
     "output_type": "execute_result"
    }
   ],
   "source": [
    "check_eve_list([3,5,9])"
   ]
  },
  {
   "cell_type": "code",
   "execution_count": 37,
   "id": "5bc13f4e",
   "metadata": {},
   "outputs": [],
   "source": [
    "# now lets return all the even numbers\n",
    "\n",
    "def check_eve_list(num_list):\n",
    "    \n",
    "    \n",
    "    # placeholder variables at the top of a function \n",
    "    even_numbers = []\n",
    "    \n",
    "    for number in num_list:\n",
    "        if number % 2 == 0:\n",
    "            even_numbers.append(number)\n",
    "        else: \n",
    "            pass\n",
    "    return even_numbers            "
   ]
  },
  {
   "cell_type": "code",
   "execution_count": 38,
   "id": "388dae49",
   "metadata": {},
   "outputs": [
    {
     "data": {
      "text/plain": [
       "[2, 6, 8, 4, 10, 12, 14, 16, 18]"
      ]
     },
     "execution_count": 38,
     "metadata": {},
     "output_type": "execute_result"
    }
   ],
   "source": [
    "check_eve_list([3,5,9,2,6,8,7,4,10,12,13,14,15,16,17,18])"
   ]
  },
  {
   "cell_type": "code",
   "execution_count": 39,
   "id": "8dd9da5f",
   "metadata": {},
   "outputs": [
    {
     "data": {
      "text/plain": [
       "[]"
      ]
     },
     "execution_count": 39,
     "metadata": {},
     "output_type": "execute_result"
    }
   ],
   "source": [
    "check_eve_list([3,5,9])"
   ]
  },
  {
   "cell_type": "markdown",
   "id": "7f2b731c",
   "metadata": {},
   "source": [
    "#### Tuple Unpacking with Python Functions"
   ]
  },
  {
   "cell_type": "markdown",
   "id": "a96ff6e6",
   "metadata": {},
   "source": [
    "we discuss functions returning multiple items with tuple unpacking"
   ]
  },
  {
   "cell_type": "code",
   "execution_count": 40,
   "id": "7f9269cf",
   "metadata": {},
   "outputs": [],
   "source": [
    "# first lets recap tuple unpacking\n",
    "\n",
    "stock_price = [('apple',200),('google',400),('microsoft',500)]"
   ]
  },
  {
   "cell_type": "code",
   "execution_count": 41,
   "id": "0b01e13e",
   "metadata": {},
   "outputs": [
    {
     "name": "stdout",
     "output_type": "stream",
     "text": [
      "('apple', 200)\n",
      "('google', 400)\n",
      "('microsoft', 500)\n"
     ]
    }
   ],
   "source": [
    "for item in stock_price:\n",
    "    print(item)"
   ]
  },
  {
   "cell_type": "code",
   "execution_count": 42,
   "id": "424c3477",
   "metadata": {},
   "outputs": [
    {
     "name": "stdout",
     "output_type": "stream",
     "text": [
      "apple\n",
      "google\n",
      "microsoft\n"
     ]
    }
   ],
   "source": [
    "for ticker,price in stock_price:\n",
    "    print (ticker)"
   ]
  },
  {
   "cell_type": "code",
   "execution_count": 43,
   "id": "03ab3258",
   "metadata": {},
   "outputs": [
    {
     "name": "stdout",
     "output_type": "stream",
     "text": [
      "220.0\n",
      "440.0\n",
      "550.0\n"
     ]
    }
   ],
   "source": [
    "for ticker,price in stock_price:\n",
    "    print (price+(0.1*price))"
   ]
  },
  {
   "cell_type": "code",
   "execution_count": 52,
   "id": "ca3e7484",
   "metadata": {},
   "outputs": [],
   "source": [
    "# lets increase complexity\n",
    "work_hours = [('siri',200),('assist',4000),('skype',500),('tests',18000)]\n",
    "# now lets see who is the employee of the month\n",
    "# the way we judge that is by more number of hours\n",
    "# we want to return the employee as well as number of hours\n",
    "# what we want is the - traverse tru each tuple see name and hours track the name which has most no of hours"
   ]
  },
  {
   "cell_type": "code",
   "execution_count": 48,
   "id": "bdcad0e4",
   "metadata": {},
   "outputs": [],
   "source": [
    "def employee_check(work_hours):\n",
    "    \n",
    "    # as we know we have placeholder variables at the top of the when it come to Logic\n",
    "    # here in this case we are goint to have 2 placeholder variables\n",
    "    \n",
    "    current_max = 0\n",
    "    # why is current_max is set to zero is - well, what it does is 0 and it compare the with current_max \n",
    "    # when it beats the current_max then we will set current_max to that value\n",
    "    employee_of_month = ''\n",
    "    # at the end i intend to return a tuple\n",
    "    \n",
    "    for employee,hours in work_hours:\n",
    "        if hours > current_max:\n",
    "            current_max = hours\n",
    "            employee_of_month = employee\n",
    "        else:\n",
    "            pass\n",
    "    \n",
    "    return (employee_of_month, current_max)"
   ]
  },
  {
   "cell_type": "code",
   "execution_count": 53,
   "id": "dbbf7d4f",
   "metadata": {},
   "outputs": [
    {
     "data": {
      "text/plain": [
       "('tests', 18000)"
      ]
     },
     "execution_count": 53,
     "metadata": {},
     "output_type": "execute_result"
    }
   ],
   "source": [
    "employee_check(work_hours)"
   ]
  },
  {
   "cell_type": "markdown",
   "id": "0148e868",
   "metadata": {},
   "source": [
    "###### Interactions between Python Functions"
   ]
  },
  {
   "cell_type": "markdown",
   "id": "9afb6676",
   "metadata": {},
   "source": [
    "typically a python script or notebook contains several functions interacting with each other. we often take one function result as input to other function\n",
    "\n",
    "Lets create a few functions to mimic the carnival guessing game ' Three cup Monte'\n",
    "\n",
    "our simple game wot actually show the cups or ball, instead we will simpyl mimic the effect with a python list- with 2 empty strings and\n",
    "\n",
    "our simple version will aslo not show the shuffle tothe user, so the guess is completely random.\n",
    "\n",
    "\n",
    "###### Our main focus here is to show you how multiple functions end up feeding ohter functions and interacting with eachother\n",
    "\n",
    "in Python we have a built in random module - but for now lets use shuffle function that comes from random module- lets see how we can import it\n"
   ]
  },
  {
   "cell_type": "code",
   "execution_count": 54,
   "id": "c9521a6a",
   "metadata": {},
   "outputs": [],
   "source": [
    "ex = [1,2,3,4,5,6,7,8,9]"
   ]
  },
  {
   "cell_type": "code",
   "execution_count": 55,
   "id": "78e57388",
   "metadata": {},
   "outputs": [],
   "source": [
    "from random import shuffle"
   ]
  },
  {
   "cell_type": "code",
   "execution_count": 57,
   "id": "ff5481ee",
   "metadata": {},
   "outputs": [],
   "source": [
    "# shuffle function grabs the list and shuffles it\n",
    "shuffle(ex)"
   ]
  },
  {
   "cell_type": "code",
   "execution_count": 58,
   "id": "55fc6790",
   "metadata": {},
   "outputs": [
    {
     "data": {
      "text/plain": [
       "[8, 1, 2, 4, 3, 9, 6, 7, 5]"
      ]
     },
     "execution_count": 58,
     "metadata": {},
     "output_type": "execute_result"
    }
   ],
   "source": [
    "ex"
   ]
  },
  {
   "cell_type": "code",
   "execution_count": 59,
   "id": "cc131ec9",
   "metadata": {},
   "outputs": [
    {
     "data": {
      "text/plain": [
       "list"
      ]
     },
     "execution_count": 59,
     "metadata": {},
     "output_type": "execute_result"
    }
   ],
   "source": [
    "# lets begin building our simple game\n",
    "type(ex)"
   ]
  },
  {
   "cell_type": "code",
   "execution_count": 60,
   "id": "423a0fff",
   "metadata": {},
   "outputs": [],
   "source": [
    "def shuffle_list(mylist):\n",
    "    shuffle(mylist)\n",
    "    return mylist\n"
   ]
  },
  {
   "cell_type": "code",
   "execution_count": 73,
   "id": "811e0bfe",
   "metadata": {},
   "outputs": [],
   "source": [
    "result = shuffle_list(ex)"
   ]
  },
  {
   "cell_type": "code",
   "execution_count": 74,
   "id": "ba1645f8",
   "metadata": {},
   "outputs": [
    {
     "data": {
      "text/plain": [
       "[1, 2, 5, 7, 3, 4, 8, 9, 6]"
      ]
     },
     "execution_count": 74,
     "metadata": {},
     "output_type": "execute_result"
    }
   ],
   "source": [
    "result"
   ]
  },
  {
   "cell_type": "code",
   "execution_count": 81,
   "id": "3b9416c0",
   "metadata": {},
   "outputs": [],
   "source": [
    "# Now as we understand the logic concept lets dive into the simple game we are designing \n",
    "mylist = ['','O','']"
   ]
  },
  {
   "cell_type": "code",
   "execution_count": 82,
   "id": "105eb835",
   "metadata": {},
   "outputs": [
    {
     "data": {
      "text/plain": [
       "['O', '', '']"
      ]
     },
     "execution_count": 82,
     "metadata": {},
     "output_type": "execute_result"
    }
   ],
   "source": [
    "shuffle_list(mylist)"
   ]
  },
  {
   "cell_type": "code",
   "execution_count": null,
   "id": "6737f3a9",
   "metadata": {},
   "outputs": [],
   "source": [
    "# now we have to create a function to take in the player guess \n",
    "# after we shuffle we have to take in the guess and we dont display till playeer guesses\n"
   ]
  },
  {
   "cell_type": "code",
   "execution_count": 83,
   "id": "cac568c7",
   "metadata": {},
   "outputs": [],
   "source": [
    "def player_guess():\n",
    "    \n",
    "    guess = ''\n",
    "    # inorder to see  if the player guess is correct - lets use while loop\n",
    "    while guess not in ['0','1','2']:\n",
    "        guess = input(\"pick a number: 0,1, or 2\")\n",
    "        \n",
    "    return int(guess)    "
   ]
  },
  {
   "cell_type": "code",
   "execution_count": 84,
   "id": "b74d9148",
   "metadata": {},
   "outputs": [
    {
     "name": "stdout",
     "output_type": "stream",
     "text": [
      "pick a number: 0,1, or 22\n"
     ]
    },
    {
     "data": {
      "text/plain": [
       "2"
      ]
     },
     "execution_count": 84,
     "metadata": {},
     "output_type": "execute_result"
    }
   ],
   "source": [
    "player_guess()"
   ]
  },
  {
   "cell_type": "code",
   "execution_count": 85,
   "id": "15bb948b",
   "metadata": {},
   "outputs": [
    {
     "name": "stdout",
     "output_type": "stream",
     "text": [
      "pick a number: 0,1, or 22\n"
     ]
    }
   ],
   "source": [
    "# now i can save that player guess and passit on\n",
    "\n",
    "myindex = player_guess()"
   ]
  },
  {
   "cell_type": "code",
   "execution_count": 86,
   "id": "7f28280b",
   "metadata": {},
   "outputs": [
    {
     "data": {
      "text/plain": [
       "2"
      ]
     },
     "execution_count": 86,
     "metadata": {},
     "output_type": "execute_result"
    }
   ],
   "source": [
    "myindex"
   ]
  },
  {
   "cell_type": "code",
   "execution_count": 87,
   "id": "f3d91b11",
   "metadata": {},
   "outputs": [],
   "source": [
    "# now we just need onemore function to combine the list shuffled and player guess\n",
    "def check_guess(mylist,guess):\n",
    "    if mylist[guess] == 'O':\n",
    "        print(\"correct!\")\n",
    "    else:\n",
    "        print(\"Wrong Guess!\")\n",
    "        print(mylist)"
   ]
  },
  {
   "cell_type": "code",
   "execution_count": 90,
   "id": "de8ea97e",
   "metadata": {},
   "outputs": [
    {
     "name": "stdout",
     "output_type": "stream",
     "text": [
      "pick a number: 0,1, or 22\n",
      "correct!\n"
     ]
    }
   ],
   "source": [
    "# now our functions defined lets setup a logic for the order of the functions to execute\n",
    "# order we follow is\n",
    "\n",
    "# Initial List\n",
    "mylist = ['','O','']\n",
    "# Shuffle List\n",
    "mixedup_list = shuffle_list(mylist)\n",
    "# user Guess\n",
    "guess = player_guess()\n",
    "\n",
    "# check Guess\n",
    "check_guess(mixedup_list, guess)\n",
    "\n",
    "\n"
   ]
  },
  {
   "cell_type": "code",
   "execution_count": 104,
   "id": "9e8ca0e2",
   "metadata": {},
   "outputs": [],
   "source": [
    "\n",
    "def myfunc(name = 'Default'):\n",
    "    print(f'Hello {name}')\n",
    "    "
   ]
  },
  {
   "cell_type": "code",
   "execution_count": 105,
   "id": "c24a90cb",
   "metadata": {},
   "outputs": [
    {
     "ename": "NameError",
     "evalue": "name 'sai' is not defined",
     "output_type": "error",
     "traceback": [
      "\u001b[1;31m---------------------------------------------------------------------------\u001b[0m",
      "\u001b[1;31mNameError\u001b[0m                                 Traceback (most recent call last)",
      "Input \u001b[1;32mIn [105]\u001b[0m, in \u001b[0;36m<cell line: 1>\u001b[1;34m()\u001b[0m\n\u001b[1;32m----> 1\u001b[0m myfunc(\u001b[43msai\u001b[49m)\n",
      "\u001b[1;31mNameError\u001b[0m: name 'sai' is not defined"
     ]
    }
   ],
   "source": [
    "myfunc(sai)"
   ]
  },
  {
   "cell_type": "code",
   "execution_count": 103,
   "id": "cc1ea32e",
   "metadata": {},
   "outputs": [
    {
     "data": {
      "text/plain": [
       "'Goodbye'"
      ]
     },
     "execution_count": 103,
     "metadata": {},
     "output_type": "execute_result"
    }
   ],
   "source": [
    "def myfunc(a):\n",
    "    if a == True:\n",
    "        return 'Hello'\n",
    "    elif a == False:\n",
    "        return 'Goodbye'\n",
    "    else:\n",
    "        pass\n",
    "        \n",
    "myfunc(False) "
   ]
  },
  {
   "cell_type": "code",
   "execution_count": 106,
   "id": "8a698a8a",
   "metadata": {},
   "outputs": [
    {
     "data": {
      "text/plain": [
       "'x'"
      ]
     },
     "execution_count": 106,
     "metadata": {},
     "output_type": "execute_result"
    }
   ],
   "source": [
    "def myfunc(x,y,z):\n",
    "    if z == True:\n",
    "        return x\n",
    "    else:\n",
    "        return y\n",
    "        \n",
    "myfunc('x','y',True)      "
   ]
  },
  {
   "cell_type": "code",
   "execution_count": 1,
   "id": "af296c3c",
   "metadata": {},
   "outputs": [
    {
     "name": "stdout",
     "output_type": "stream",
     "text": [
      "-10\n",
      "-9\n",
      "-8\n",
      "-7\n",
      "-6\n",
      "-5\n",
      "-4\n",
      "-3\n",
      "-2\n",
      "-1\n",
      "0\n",
      "1\n",
      "2\n",
      "3\n",
      "4\n",
      "5\n",
      "6\n",
      "7\n",
      "8\n",
      "9\n"
     ]
    }
   ],
   "source": [
    "for num in range(-10,10):\n",
    "    print(num)"
   ]
  },
  {
   "cell_type": "code",
   "execution_count": null,
   "id": "7fe4e057",
   "metadata": {},
   "outputs": [],
   "source": []
  }
 ],
 "metadata": {
  "kernelspec": {
   "display_name": "Python 3 (ipykernel)",
   "language": "python",
   "name": "python3"
  },
  "language_info": {
   "codemirror_mode": {
    "name": "ipython",
    "version": 3
   },
   "file_extension": ".py",
   "mimetype": "text/x-python",
   "name": "python",
   "nbconvert_exporter": "python",
   "pygments_lexer": "ipython3",
   "version": "3.9.12"
  }
 },
 "nbformat": 4,
 "nbformat_minor": 5
}
