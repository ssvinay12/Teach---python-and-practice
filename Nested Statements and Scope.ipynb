{
 "cells": [
  {
   "cell_type": "markdown",
   "id": "415d43ab",
   "metadata": {},
   "source": [
    "# Nested Statements and Scope"
   ]
  },
  {
   "cell_type": "markdown",
   "id": "fe09db68",
   "metadata": {},
   "source": [
    "We have seen how to write our own functions.we will now understand Nested Statements and Scope.\n",
    "Its important to understand how python deals with the variable names you assign when you create a variable name\n",
    "In Python, that name is stored in what's called the namespace, and variable names also have a scope,and the scope determines the visibility of that variable name to other parts of your code.\n",
    "So if you've ever wondered what you've gotten, some errors that say something like This variable is\n",
    "\n",
    "not defined.\n",
    "\n",
    "We're going to explore why that happens and how to fix those errors in the future.\n",
    "\n",
    "Let's get started."
   ]
  },
  {
   "cell_type": "markdown",
   "id": "a32d5b1b",
   "metadata": {},
   "source": [
    "Scope of the variable is determined by LEGB rule formate- it stands for \n",
    "L - local, E- Enclosing , G- Global , B- Built in \n",
    "#### This is the order in which Python is going to look for variables in\n",
    "L:Local - names assigned in anyway with in a function(def or Lambda) and not declared global in that function.\n",
    "\n",
    "E: Enclosing function locals - names in the local scope of any and all enclosing functions(def or lambda), from inner to outer \n",
    "\n",
    "G:Global(module)-names assigned at the top-level of a module file, or declared global in a def within the file\n",
    "\n",
    "B:built-in(python)- names preassigned in the built-in names module. open, range,syntaxError.... "
   ]
  },
  {
   "cell_type": "code",
   "execution_count": 2,
   "id": "5cbd000d",
   "metadata": {},
   "outputs": [
    {
     "data": {
      "text/plain": [
       "<function __main__.<lambda>(num)>"
      ]
     },
     "execution_count": 2,
     "metadata": {},
     "output_type": "execute_result"
    }
   ],
   "source": [
    "# example of Local variables\n",
    "\n",
    "lambda num:num**2\n",
    "# num is an example of local variable"
   ]
  },
  {
   "cell_type": "code",
   "execution_count": 3,
   "id": "56212226",
   "metadata": {},
   "outputs": [],
   "source": [
    "# example of enclosing local function\n",
    "# in order to show enclosing local function we need to create a function and put a func inside it\n",
    "\n",
    "name = ' This is a global saivinay'\n",
    "\n",
    "def greet():\n",
    "    \n",
    "    name = 'Enclosing sai vinay'\n",
    "    \n",
    "    def hello():\n",
    "        name = 'local saivinay'\n",
    "        print('Hello ' +name)\n",
    "    hello()\n",
    "\n"
   ]
  },
  {
   "cell_type": "code",
   "execution_count": 4,
   "id": "56726a64",
   "metadata": {},
   "outputs": [
    {
     "name": "stdout",
     "output_type": "stream",
     "text": [
      "Hello local saivinay\n"
     ]
    }
   ],
   "source": [
    "greet()"
   ]
  },
  {
   "cell_type": "code",
   "execution_count": 5,
   "id": "13976613",
   "metadata": {},
   "outputs": [],
   "source": [
    "name = ' This is a global saivinay'\n",
    "\n",
    "def greet():\n",
    "    \n",
    "    name = 'Enclosing sai vinay'\n",
    "    \n",
    "    def hello():\n",
    "        # name = 'local saivinay'\n",
    "        print('Hello ' +name)\n",
    "    hello()\n"
   ]
  },
  {
   "cell_type": "code",
   "execution_count": 6,
   "id": "e682d182",
   "metadata": {},
   "outputs": [
    {
     "name": "stdout",
     "output_type": "stream",
     "text": [
      "Hello Enclosing sai vinay\n"
     ]
    }
   ],
   "source": [
    "greet()"
   ]
  },
  {
   "cell_type": "code",
   "execution_count": 7,
   "id": "0b26a6cb",
   "metadata": {},
   "outputs": [],
   "source": [
    "name = ' This is a global saivinay'\n",
    "\n",
    "def greet():\n",
    "    \n",
    "   # name = 'Enclosing sai vinay'\n",
    "    \n",
    "    def hello():\n",
    "        # name = 'local saivinay'\n",
    "        print('Hello ' +name)\n",
    "    hello()\n"
   ]
  },
  {
   "cell_type": "code",
   "execution_count": 8,
   "id": "1bbdfa22",
   "metadata": {},
   "outputs": [
    {
     "name": "stdout",
     "output_type": "stream",
     "text": [
      "Hello  This is a global saivinay\n"
     ]
    }
   ],
   "source": [
    "greet()"
   ]
  },
  {
   "cell_type": "markdown",
   "id": "701c8825",
   "metadata": {},
   "source": [
    "From the past three cells we understand that the name varialble is being executed following LEGB rule if its name variable is not available in local - it searches in enclosing - when not available in enclosing it searches in global - a level above global is built-in \n",
    "\n",
    "lets see that- that something like len which we should not over write"
   ]
  },
  {
   "cell_type": "code",
   "execution_count": 9,
   "id": "ad99d699",
   "metadata": {},
   "outputs": [
    {
     "name": "stdout",
     "output_type": "stream",
     "text": [
      "Help on built-in function len in module builtins:\n",
      "\n",
      "len(obj, /)\n",
      "    Return the number of items in a container.\n",
      "\n"
     ]
    }
   ],
   "source": [
    "help(len )\n"
   ]
  },
  {
   "cell_type": "code",
   "execution_count": null,
   "id": "9e63ec39",
   "metadata": {},
   "outputs": [],
   "source": [
    "# len is built in and identifiable with syntax highlighting "
   ]
  }
 ],
 "metadata": {
  "kernelspec": {
   "display_name": "Python 3 (ipykernel)",
   "language": "python",
   "name": "python3"
  },
  "language_info": {
   "codemirror_mode": {
    "name": "ipython",
    "version": 3
   },
   "file_extension": ".py",
   "mimetype": "text/x-python",
   "name": "python",
   "nbconvert_exporter": "python",
   "pygments_lexer": "ipython3",
   "version": "3.9.12"
  }
 },
 "nbformat": 4,
 "nbformat_minor": 5
}
