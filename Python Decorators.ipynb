{
 "cells": [
  {
   "cell_type": "markdown",
   "id": "bdbb2e64",
   "metadata": {},
   "source": [
    "# Decorators\n",
    "- Decorators allow you to \"Decorate\" a function, lets discuss what that word means in this context\n",
    "- Imagine yu have created a function\n",
    "        > def simple_func():\n",
    "            Do simple stuff\n",
    "            return something\n",
    "    - now you want to create more functionality or add some new capabilities or simply code to this function:\n",
    "        \n",
    "- you have two options:\n",
    "    - add that extra code(functionality) to your old function. ( but then you have a problem not being able to call the original function you have edited that somway with new functionality)\n",
    "    - Create a brand new function that contains the copied old code, and then add new code to that the problem with that is you have created the whole function over again\n",
    "    \n",
    "__but what if you want to remove that extra functionality at later date__\n",
    "you would need to delete it manually or make sure to have the old function.\n",
    "\n",
    "- is there a better way? maybe an on/off swithch to quickly add this functinality?"
   ]
  },
  {
   "cell_type": "markdown",
   "id": "c38d383d",
   "metadata": {},
   "source": [
    "#### This is where the Decorators come in\n",
    "- Python has decorators that allow you to trac on extra functionality to an already existing function\n",
    "- they use the __@ operator__ and are then place on top of the original function"
   ]
  },
  {
   "cell_type": "markdown",
   "id": "b6e00740",
   "metadata": {},
   "source": [
    "-  This idea is pretty abstract in practice with Python syntax, so we will go through the steps of manually building out a decorator ourselves, to show what the __@ Operator__ is doing behind the scenes"
   ]
  },
  {
   "cell_type": "code",
   "execution_count": 1,
   "id": "a18871d8",
   "metadata": {},
   "outputs": [],
   "source": [
    "def func():\n",
    "    return 1\n"
   ]
  },
  {
   "cell_type": "code",
   "execution_count": 2,
   "id": "93679c12",
   "metadata": {},
   "outputs": [
    {
     "data": {
      "text/plain": [
       "1"
      ]
     },
     "execution_count": 2,
     "metadata": {},
     "output_type": "execute_result"
    }
   ],
   "source": [
    "func()"
   ]
  },
  {
   "cell_type": "markdown",
   "id": "46a339a0",
   "metadata": {},
   "source": [
    "- remember if you call jus func you will get the information that saying you have a function here- you wont actually execute the function: \n",
    "- __That means you can actually assign functions to other variables__ and execute them of that variable\n",
    "for ex:"
   ]
  },
  {
   "cell_type": "code",
   "execution_count": 3,
   "id": "bc5c6804",
   "metadata": {},
   "outputs": [],
   "source": [
    "def hello():\n",
    "    return \"Hello!\""
   ]
  },
  {
   "cell_type": "code",
   "execution_count": 4,
   "id": "dd15c35c",
   "metadata": {},
   "outputs": [
    {
     "data": {
      "text/plain": [
       "'Hello!'"
      ]
     },
     "execution_count": 4,
     "metadata": {},
     "output_type": "execute_result"
    }
   ],
   "source": [
    "hello()"
   ]
  },
  {
   "cell_type": "code",
   "execution_count": 5,
   "id": "f638acbc",
   "metadata": {},
   "outputs": [
    {
     "data": {
      "text/plain": [
       "<function __main__.hello()>"
      ]
     },
     "execution_count": 5,
     "metadata": {},
     "output_type": "execute_result"
    }
   ],
   "source": [
    "hello\n"
   ]
  },
  {
   "cell_type": "code",
   "execution_count": 6,
   "id": "2ce32b26",
   "metadata": {},
   "outputs": [],
   "source": [
    "greet = hello\n"
   ]
  },
  {
   "cell_type": "code",
   "execution_count": 8,
   "id": "d7a91033",
   "metadata": {},
   "outputs": [
    {
     "data": {
      "text/plain": [
       "'Hello!'"
      ]
     },
     "execution_count": 8,
     "metadata": {},
     "output_type": "execute_result"
    }
   ],
   "source": [
    "greet()"
   ]
  },
  {
   "cell_type": "markdown",
   "id": "d840efd1",
   "metadata": {},
   "source": [
    "__we have assigned the hello function to greet and when we called greet it returns the hello function now__\n",
    "\n",
    "- Now that question we want to ask ourselves is \n",
    " >  - has greet made a copy of hello function or\n",
    "    - has greet pointing towards hello()\n",
    "    \n",
    "    The way we can findout is by deleting hello() and lets see if we still can call greet()"
   ]
  },
  {
   "cell_type": "code",
   "execution_count": 9,
   "id": "0447303b",
   "metadata": {},
   "outputs": [
    {
     "data": {
      "text/plain": [
       "'Hello!'"
      ]
     },
     "execution_count": 9,
     "metadata": {},
     "output_type": "execute_result"
    }
   ],
   "source": [
    "hello()"
   ]
  },
  {
   "cell_type": "code",
   "execution_count": 10,
   "id": "bc8fd52f",
   "metadata": {},
   "outputs": [],
   "source": [
    "del hello\n"
   ]
  },
  {
   "cell_type": "code",
   "execution_count": 11,
   "id": "bfd9bc9c",
   "metadata": {},
   "outputs": [
    {
     "ename": "NameError",
     "evalue": "name 'hello' is not defined",
     "output_type": "error",
     "traceback": [
      "\u001b[1;31m---------------------------------------------------------------------------\u001b[0m",
      "\u001b[1;31mNameError\u001b[0m                                 Traceback (most recent call last)",
      "Input \u001b[1;32mIn [11]\u001b[0m, in \u001b[0;36m<cell line: 1>\u001b[1;34m()\u001b[0m\n\u001b[1;32m----> 1\u001b[0m \u001b[43mhello\u001b[49m()\n",
      "\u001b[1;31mNameError\u001b[0m: name 'hello' is not defined"
     ]
    }
   ],
   "source": [
    "hello()"
   ]
  },
  {
   "cell_type": "markdown",
   "id": "9d4ffc14",
   "metadata": {},
   "source": [
    "Error make sense we just deleted Hello - lets now call greet\n"
   ]
  },
  {
   "cell_type": "code",
   "execution_count": 12,
   "id": "7784b73e",
   "metadata": {},
   "outputs": [
    {
     "data": {
      "text/plain": [
       "'Hello!'"
      ]
     },
     "execution_count": 12,
     "metadata": {},
     "output_type": "execute_result"
    }
   ],
   "source": [
    "greet()"
   ]
  },
  {
   "cell_type": "markdown",
   "id": "aac38277",
   "metadata": {},
   "source": [
    "note: __Eventhough we have deleted hello() the greet is still pointing toward the hello function object. It is important to know that functions are objects that can be passed into other objects__\n",
    "\n",
    "now lets see some examples of passing in functions with in functions or calling functions with in other functions - revise __SCOPE and NESTED statements lecture__"
   ]
  },
  {
   "cell_type": "code",
   "execution_count": null,
   "id": "4b55344a",
   "metadata": {},
   "outputs": [],
   "source": []
  },
  {
   "cell_type": "code",
   "execution_count": null,
   "id": "7fd99c4f",
   "metadata": {},
   "outputs": [],
   "source": []
  },
  {
   "cell_type": "code",
   "execution_count": null,
   "id": "7c570fd8",
   "metadata": {},
   "outputs": [],
   "source": []
  },
  {
   "cell_type": "code",
   "execution_count": 13,
   "id": "b96d7c42",
   "metadata": {},
   "outputs": [],
   "source": [
    "def hello(name='Vinay'):\n",
    "    print('The Hello() function has been executed!')"
   ]
  },
  {
   "cell_type": "code",
   "execution_count": 14,
   "id": "fd30f0f7",
   "metadata": {},
   "outputs": [
    {
     "name": "stdout",
     "output_type": "stream",
     "text": [
      "The Hello() function has been executed!\n"
     ]
    }
   ],
   "source": [
    "hello()"
   ]
  },
  {
   "cell_type": "code",
   "execution_count": 15,
   "id": "30548031",
   "metadata": {},
   "outputs": [],
   "source": [
    "# now lets define greet\n",
    "def hello(name='Vinay'):\n",
    "    print('The Hello() function has been executed!')\n",
    "    \n",
    "    def greet(): #(\\t escape charecter for a tab)\n",
    "        return '\\t This is the greet() func inside hello!'\n",
    "    \n",
    "    # if you run this you still get back hello()\n",
    "    # we have just defined greet()but sitll now calling it"
   ]
  },
  {
   "cell_type": "code",
   "execution_count": 16,
   "id": "c6f1f561",
   "metadata": {},
   "outputs": [
    {
     "name": "stdout",
     "output_type": "stream",
     "text": [
      "The Hello() function has been executed!\n"
     ]
    }
   ],
   "source": [
    "hello(\n",
    ")"
   ]
  },
  {
   "cell_type": "code",
   "execution_count": 17,
   "id": "af2f6ca8",
   "metadata": {},
   "outputs": [],
   "source": [
    "# lets call greet()\n",
    "def hello(name='Vinay'):\n",
    "    print('The Hello() function has been executed!')\n",
    "    \n",
    "    def greet(): #(\\t escape charecter for a tab)\n",
    "        return '\\t This is the greet() func inside hello!'\n",
    "    \n",
    "    print(greet()) # now we are executing the greet function as well"
   ]
  },
  {
   "cell_type": "code",
   "execution_count": 18,
   "id": "ede5d4d8",
   "metadata": {},
   "outputs": [
    {
     "name": "stdout",
     "output_type": "stream",
     "text": [
      "The Hello() function has been executed!\n",
      "\t This is the greet() func inside hello!\n"
     ]
    }
   ],
   "source": [
    "hello()"
   ]
  },
  {
   "cell_type": "code",
   "execution_count": 19,
   "id": "ea5208bf",
   "metadata": {},
   "outputs": [],
   "source": [
    "# lets call greet() and welcome()\n",
    "def hello(name='Vinay'):\n",
    "    print('The Hello() function has been executed!')\n",
    "    \n",
    "    def greet(): #(\\t escape charecter for a tab)\n",
    "        return '\\t This is the greet() func inside hello!'\n",
    "    def welcome():\n",
    "        return '\\t This is the welcome() func inside hello!'\n",
    "    \n",
    "    print(greet()) # now we are executing the greet function as well\n",
    "    print(welcome())"
   ]
  },
  {
   "cell_type": "code",
   "execution_count": 20,
   "id": "5a1efc0f",
   "metadata": {},
   "outputs": [
    {
     "data": {
      "text/plain": [
       "<function __main__.hello(name='Vinay')>"
      ]
     },
     "execution_count": 20,
     "metadata": {},
     "output_type": "execute_result"
    }
   ],
   "source": [
    "hello"
   ]
  },
  {
   "cell_type": "code",
   "execution_count": 21,
   "id": "30b44a9e",
   "metadata": {},
   "outputs": [
    {
     "name": "stdout",
     "output_type": "stream",
     "text": [
      "The Hello() function has been executed!\n",
      "\t This is the greet() func inside hello!\n",
      "\t This is the welcome() func inside hello!\n"
     ]
    }
   ],
   "source": [
    "hello()"
   ]
  },
  {
   "cell_type": "code",
   "execution_count": 22,
   "id": "375c6cdc",
   "metadata": {},
   "outputs": [
    {
     "ename": "NameError",
     "evalue": "name 'welcome' is not defined",
     "output_type": "error",
     "traceback": [
      "\u001b[1;31m---------------------------------------------------------------------------\u001b[0m",
      "\u001b[1;31mNameError\u001b[0m                                 Traceback (most recent call last)",
      "Input \u001b[1;32mIn [22]\u001b[0m, in \u001b[0;36m<cell line: 2>\u001b[1;34m()\u001b[0m\n\u001b[0;32m      1\u001b[0m \u001b[38;5;66;03m# if we try to execute the greet() and welcome() outside the hello function it gives error\u001b[39;00m\n\u001b[1;32m----> 2\u001b[0m \u001b[43mwelcome\u001b[49m()\n",
      "\u001b[1;31mNameError\u001b[0m: name 'welcome' is not defined"
     ]
    }
   ],
   "source": [
    "# if we try to execute the greet() and welcome() outside the hello function it gives error\n",
    "welcome()"
   ]
  },
  {
   "cell_type": "markdown",
   "id": "fc75e9dc",
   "metadata": {},
   "source": [
    "- the scope of the greet() and welcome() are limited to inside functions /n\n",
    "- what if we want to access these functions outside hello\n",
    "- what we could do is hello() function actually return a function"
   ]
  },
  {
   "cell_type": "code",
   "execution_count": 23,
   "id": "b8d2bd8a",
   "metadata": {},
   "outputs": [],
   "source": [
    "def hello(name='Vinay'):\n",
    "    print('The Hello() function has been executed!')\n",
    "    \n",
    "    def greet(): #(\\t escape charecter for a tab)\n",
    "        return '\\t This is the greet() func inside hello!'\n",
    "    def welcome():\n",
    "        return '\\t This is the welcome() func inside hello!'\n",
    "    print(\"I am going to return a function!!\")\n",
    "    \n",
    "    if name == 'Vinay':\n",
    "        return greet\n",
    "    else:\n",
    "        return welcome\n",
    "    "
   ]
  },
  {
   "cell_type": "code",
   "execution_count": 24,
   "id": "46e613f8",
   "metadata": {},
   "outputs": [
    {
     "name": "stdout",
     "output_type": "stream",
     "text": [
      "The Hello() function has been executed!\n",
      "I am going to return a function!!\n"
     ]
    }
   ],
   "source": [
    "my_new_func = hello('Vinay')"
   ]
  },
  {
   "cell_type": "code",
   "execution_count": 25,
   "id": "e0d9e67d",
   "metadata": {},
   "outputs": [
    {
     "data": {
      "text/plain": [
       "<function __main__.hello.<locals>.greet()>"
      ]
     },
     "execution_count": 25,
     "metadata": {},
     "output_type": "execute_result"
    }
   ],
   "source": [
    "my_new_func\n"
   ]
  },
  {
   "cell_type": "code",
   "execution_count": 26,
   "id": "a9f501f9",
   "metadata": {},
   "outputs": [
    {
     "data": {
      "text/plain": [
       "'\\t This is the greet() func inside hello!'"
      ]
     },
     "execution_count": 26,
     "metadata": {},
     "output_type": "execute_result"
    }
   ],
   "source": [
    "my_new_func()"
   ]
  },
  {
   "cell_type": "code",
   "execution_count": 27,
   "id": "069ee666",
   "metadata": {},
   "outputs": [
    {
     "name": "stdout",
     "output_type": "stream",
     "text": [
      "\t This is the greet() func inside hello!\n"
     ]
    }
   ],
   "source": [
    "print(my_new_func())"
   ]
  },
  {
   "cell_type": "code",
   "execution_count": 28,
   "id": "6d7b936c",
   "metadata": {},
   "outputs": [],
   "source": [
    "def cool():\n",
    "    \n",
    "    def super_cool():\n",
    "        return ' I am very cool!'\n",
    "    \n",
    "    return super_cool"
   ]
  },
  {
   "cell_type": "code",
   "execution_count": 29,
   "id": "13625b40",
   "metadata": {},
   "outputs": [
    {
     "data": {
      "text/plain": [
       "<function __main__.cool.<locals>.super_cool()>"
      ]
     },
     "execution_count": 29,
     "metadata": {},
     "output_type": "execute_result"
    }
   ],
   "source": [
    "cool()"
   ]
  },
  {
   "cell_type": "code",
   "execution_count": 30,
   "id": "081c249c",
   "metadata": {},
   "outputs": [],
   "source": [
    "some_func = cool()"
   ]
  },
  {
   "cell_type": "code",
   "execution_count": 31,
   "id": "56a1043f",
   "metadata": {},
   "outputs": [
    {
     "data": {
      "text/plain": [
       "<function __main__.cool.<locals>.super_cool()>"
      ]
     },
     "execution_count": 31,
     "metadata": {},
     "output_type": "execute_result"
    }
   ],
   "source": [
    "some_func"
   ]
  },
  {
   "cell_type": "code",
   "execution_count": 32,
   "id": "e12bb403",
   "metadata": {},
   "outputs": [
    {
     "data": {
      "text/plain": [
       "' I am very cool!'"
      ]
     },
     "execution_count": 32,
     "metadata": {},
     "output_type": "execute_result"
    }
   ],
   "source": [
    "some_func()"
   ]
  },
  {
   "cell_type": "code",
   "execution_count": null,
   "id": "e447b8fb",
   "metadata": {},
   "outputs": [],
   "source": []
  },
  {
   "cell_type": "markdown",
   "id": "f95afe86",
   "metadata": {},
   "source": [
    "__Now, let's see how to build the function as an aurgument__"
   ]
  },
  {
   "cell_type": "code",
   "execution_count": null,
   "id": "4638b318",
   "metadata": {},
   "outputs": [],
   "source": []
  },
  {
   "cell_type": "code",
   "execution_count": 33,
   "id": "048a6fb8",
   "metadata": {},
   "outputs": [],
   "source": [
    "def hello():\n",
    "    return 'Hi vinay!'"
   ]
  },
  {
   "cell_type": "code",
   "execution_count": 34,
   "id": "3bc4cee1",
   "metadata": {},
   "outputs": [],
   "source": [
    "def other(some_def_func):\n",
    "    print('other code rund here!')\n",
    "    print(some_def_func())"
   ]
  },
  {
   "cell_type": "markdown",
   "id": "2a2ee620",
   "metadata": {},
   "source": [
    "So what does this mean?\n",
    "\n",
    "It means I'm going to be able to actually pass in a function into this other function, do some stuff,\n",
    "\n",
    "and then execute the function.\n",
    "\n",
    "This is known as passing a function as an argument."
   ]
  },
  {
   "cell_type": "code",
   "execution_count": 35,
   "id": "36e83b11",
   "metadata": {},
   "outputs": [
    {
     "name": "stdout",
     "output_type": "stream",
     "text": [
      "other code rund here!\n",
      "Hi vinay!\n"
     ]
    }
   ],
   "source": [
    "other(hello)"
   ]
  },
  {
   "cell_type": "markdown",
   "id": "e4ba5099",
   "metadata": {},
   "source": [
    "So now we understand that we can return functions and we can have functions arguments with those two\n",
    "\n",
    "main tools.\n",
    "\n",
    "We're actually going to now be able to create a decorator.\n",
    "\n",
    "We have the tools we need to quickly create some sort of device that is an on off switch when we want\n",
    "\n",
    "to add more functionality to a decorator."
   ]
  },
  {
   "cell_type": "code",
   "execution_count": null,
   "id": "58fc819a",
   "metadata": {},
   "outputs": [],
   "source": []
  },
  {
   "cell_type": "code",
   "execution_count": null,
   "id": "b611eb81",
   "metadata": {},
   "outputs": [],
   "source": []
  },
  {
   "cell_type": "code",
   "execution_count": null,
   "id": "3ec0300b",
   "metadata": {},
   "outputs": [],
   "source": []
  },
  {
   "cell_type": "code",
   "execution_count": 37,
   "id": "f74ffc1d",
   "metadata": {},
   "outputs": [],
   "source": [
    "def new_decorator(original_func):\n",
    "    \n",
    "    def wrap_func():\n",
    "        \n",
    "        print('some extra code, before the original func!')\n",
    "        \n",
    "        original_func()\n",
    "        \n",
    "        print('some extra code, after the original func!')\n",
    "        \n",
    "    return wrap_func\n",
    "        "
   ]
  },
  {
   "cell_type": "code",
   "execution_count": 39,
   "id": "f416e54c",
   "metadata": {},
   "outputs": [],
   "source": [
    "def func_needs_decorator():\n",
    "    print('I want to be decorated!!')"
   ]
  },
  {
   "cell_type": "code",
   "execution_count": 40,
   "id": "471a3ee9",
   "metadata": {},
   "outputs": [
    {
     "name": "stdout",
     "output_type": "stream",
     "text": [
      "I want to be decorated!!\n"
     ]
    }
   ],
   "source": [
    "func_needs_decorator()"
   ]
  },
  {
   "cell_type": "code",
   "execution_count": 43,
   "id": "4a184f49",
   "metadata": {},
   "outputs": [],
   "source": [
    "decorated_func = new_decorator(func_needs_decorator)\n",
    "\n",
    "# later in following cells we will see one line substitution for the above line"
   ]
  },
  {
   "cell_type": "code",
   "execution_count": 44,
   "id": "a52a6227",
   "metadata": {},
   "outputs": [
    {
     "name": "stdout",
     "output_type": "stream",
     "text": [
      "some extra code, before the original func!\n",
      "I want to be decorated!!\n",
      "some extra code, after the original func!\n"
     ]
    }
   ],
   "source": [
    "decorated_func()"
   ]
  },
  {
   "cell_type": "code",
   "execution_count": 45,
   "id": "946f5539",
   "metadata": {},
   "outputs": [],
   "source": [
    "@new_decorator\n",
    "def func_needs_decorator():\n",
    "    print('I want to be decorated!!')"
   ]
  },
  {
   "cell_type": "code",
   "execution_count": 46,
   "id": "7ec1b8f4",
   "metadata": {},
   "outputs": [
    {
     "name": "stdout",
     "output_type": "stream",
     "text": [
      "some extra code, before the original func!\n",
      "I want to be decorated!!\n",
      "some extra code, after the original func!\n"
     ]
    }
   ],
   "source": [
    "func_needs_decorator()"
   ]
  },
  {
   "cell_type": "code",
   "execution_count": null,
   "id": "de548f48",
   "metadata": {},
   "outputs": [],
   "source": []
  }
 ],
 "metadata": {
  "kernelspec": {
   "display_name": "Python 3 (ipykernel)",
   "language": "python",
   "name": "python3"
  },
  "language_info": {
   "codemirror_mode": {
    "name": "ipython",
    "version": 3
   },
   "file_extension": ".py",
   "mimetype": "text/x-python",
   "name": "python",
   "nbconvert_exporter": "python",
   "pygments_lexer": "ipython3",
   "version": "3.9.12"
  }
 },
 "nbformat": 4,
 "nbformat_minor": 5
}
