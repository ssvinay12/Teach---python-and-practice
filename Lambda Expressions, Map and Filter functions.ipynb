{
 "cells": [
  {
   "cell_type": "markdown",
   "id": "e390052a",
   "metadata": {},
   "source": [
    "# Lambda Expressions, Map and Filter functions"
   ]
  },
  {
   "cell_type": "markdown",
   "id": "3c789cdd",
   "metadata": {},
   "source": [
    "lambda Expressions are quick way to what is know an ananomous functions these basically onetime use functions- you dont even name them- you just use them one time and then never reference them again\n",
    "\n",
    "To understand why this would be useful and in what context you would use this, we first need to talk\n",
    "\n",
    "about the map function that's built into Python as well as the filter function that's built into Python.\n",
    "\n",
    "lets understand Map, Filter and then discuss Lambda.  let's get started!"
   ]
  },
  {
   "cell_type": "code",
   "execution_count": 1,
   "id": "9e4fdc38",
   "metadata": {},
   "outputs": [],
   "source": [
    "def square(num):\n",
    "    return num**2\n"
   ]
  },
  {
   "cell_type": "code",
   "execution_count": 2,
   "id": "4c1fdfca",
   "metadata": {},
   "outputs": [
    {
     "data": {
      "text/plain": [
       "3025"
      ]
     },
     "execution_count": 2,
     "metadata": {},
     "output_type": "execute_result"
    }
   ],
   "source": [
    "square(55)"
   ]
  },
  {
   "cell_type": "markdown",
   "id": "8a91185a",
   "metadata": {},
   "source": [
    "##### lets say you have a list of numbers and want to have squares - in that case we might want to use forloop- that might take some code instead what we can do is create a Map function\n",
    "\n",
    "so in map function what happens we endup doing function for each of the element in list\n",
    "\n"
   ]
  },
  {
   "cell_type": "code",
   "execution_count": 3,
   "id": "1b97bd03",
   "metadata": {},
   "outputs": [
    {
     "data": {
      "text/plain": [
       "<map at 0x1c1ce862190>"
      ]
     },
     "execution_count": 3,
     "metadata": {},
     "output_type": "execute_result"
    }
   ],
   "source": [
    "my_nums = [1,2,3,4,5,6]\n",
    "map(square,my_nums)\n"
   ]
  },
  {
   "cell_type": "markdown",
   "id": "cd838880",
   "metadata": {},
   "source": [
    "if we just type map- it gives the memory location of the map function- so what we have to do is iterate through the map function"
   ]
  },
  {
   "cell_type": "code",
   "execution_count": 4,
   "id": "17e308fe",
   "metadata": {},
   "outputs": [
    {
     "name": "stdout",
     "output_type": "stream",
     "text": [
      "1\n",
      "4\n",
      "9\n",
      "16\n",
      "25\n",
      "36\n"
     ]
    }
   ],
   "source": [
    "for item in map(square,my_nums):\n",
    "    print(item)"
   ]
  },
  {
   "cell_type": "code",
   "execution_count": 6,
   "id": "5fcb0cbb",
   "metadata": {},
   "outputs": [
    {
     "data": {
      "text/plain": [
       "[1, 4, 9, 16, 25, 36]"
      ]
     },
     "execution_count": 6,
     "metadata": {},
     "output_type": "execute_result"
    }
   ],
   "source": [
    "list(map(square,my_nums))"
   ]
  },
  {
   "cell_type": "markdown",
   "id": "67c856f2",
   "metadata": {},
   "source": [
    "These functions can be lot more complex then just this square function - lets see the function which works with strings"
   ]
  },
  {
   "cell_type": "code",
   "execution_count": 7,
   "id": "e65039c6",
   "metadata": {},
   "outputs": [],
   "source": [
    "def splicer(mystring):\n",
    "    if len(mystring)%2 == 0: # it means it has even number of char in string\n",
    "        return 'EVEN'\n",
    "    else:\n",
    "        return mystring[0]\n",
    "        \n",
    "    "
   ]
  },
  {
   "cell_type": "code",
   "execution_count": 8,
   "id": "3b14f102",
   "metadata": {},
   "outputs": [],
   "source": [
    "# now lets create a list of names\n",
    "names = ['vinay','sai','sunkara','naveen','choudary','success','tab']"
   ]
  },
  {
   "cell_type": "code",
   "execution_count": 9,
   "id": "baeb2be6",
   "metadata": {},
   "outputs": [
    {
     "data": {
      "text/plain": [
       "['v', 's', 's', 'EVEN', 'EVEN', 's', 't']"
      ]
     },
     "execution_count": 9,
     "metadata": {},
     "output_type": "execute_result"
    }
   ],
   "source": [
    "list(map(splicer,names))"
   ]
  },
  {
   "cell_type": "markdown",
   "id": "a6c59dcf",
   "metadata": {},
   "source": [
    "##### Filter Function"
   ]
  },
  {
   "cell_type": "markdown",
   "id": "a9996ed5",
   "metadata": {},
   "source": [
    "The filter function returns an iterator yielding those items of the iterable for which when you pass in the item into the function, it's true.\n",
    "\n",
    "And that just means that you need to filter by a function that returns either true or false.\n",
    "\n",
    "lets create a function"
   ]
  },
  {
   "cell_type": "code",
   "execution_count": 11,
   "id": "cfe70a22",
   "metadata": {},
   "outputs": [],
   "source": [
    "def check_even(num):\n",
    "    return num%2 == 0\n",
    "         "
   ]
  },
  {
   "cell_type": "code",
   "execution_count": 12,
   "id": "998b32c8",
   "metadata": {},
   "outputs": [
    {
     "data": {
      "text/plain": [
       "False"
      ]
     },
     "execution_count": 12,
     "metadata": {},
     "output_type": "execute_result"
    }
   ],
   "source": [
    "check_even(45)"
   ]
  },
  {
   "cell_type": "code",
   "execution_count": 13,
   "id": "eff06db6",
   "metadata": {},
   "outputs": [
    {
     "data": {
      "text/plain": [
       "True"
      ]
     },
     "execution_count": 13,
     "metadata": {},
     "output_type": "execute_result"
    }
   ],
   "source": [
    "check_even(44)"
   ]
  },
  {
   "cell_type": "code",
   "execution_count": 14,
   "id": "15cec887",
   "metadata": {},
   "outputs": [],
   "source": [
    "mynums =[1,2,3,4,5,6,7,8,9]"
   ]
  },
  {
   "cell_type": "markdown",
   "id": "35c126c9",
   "metadata": {},
   "source": [
    "Now, let's imagine I only want to grab even numbers from this list, or I only want to grab numbers that pass some sort of condition based off a function that I previously defined.\n",
    "\n",
    "What I could do is use the filter function, and it's very similar to what we just saw with MAP. But what map does is MAP applied this function to every element in that list filter. Instead, what it's going to do is it's going to filter based off this functions condition. So this function, when you're using a filter, has to return, a boolean has to return either true\n",
    "\n",
    "or false.\n",
    "\n",
    "And then what we're going to do here is say, apply, check even.\n",
    "\n",
    "To my numbs."
   ]
  },
  {
   "cell_type": "code",
   "execution_count": 15,
   "id": "60228785",
   "metadata": {},
   "outputs": [
    {
     "data": {
      "text/plain": [
       "[2, 4, 6, 8]"
      ]
     },
     "execution_count": 15,
     "metadata": {},
     "output_type": "execute_result"
    }
   ],
   "source": [
    "list(filter(check_even,mynums))"
   ]
  },
  {
   "cell_type": "code",
   "execution_count": 17,
   "id": "fec6e21f",
   "metadata": {},
   "outputs": [
    {
     "name": "stdout",
     "output_type": "stream",
     "text": [
      "2\n",
      "4\n",
      "6\n",
      "8\n"
     ]
    }
   ],
   "source": [
    "# or you can iterate through the list\n",
    "for nums in filter(check_even,mynums):\n",
    "    print(nums)"
   ]
  },
  {
   "cell_type": "markdown",
   "id": "67aea4d2",
   "metadata": {},
   "source": [
    "###### Now we have understood Map functions and filter functions - lets learn about lambda expressions and see why they are useful"
   ]
  },
  {
   "cell_type": "code",
   "execution_count": 18,
   "id": "a292b9ea",
   "metadata": {},
   "outputs": [],
   "source": [
    "# lets develop lambda \n",
    "def square(num):\n",
    "    result = num**2\n",
    "    return result"
   ]
  },
  {
   "cell_type": "code",
   "execution_count": 19,
   "id": "a981b218",
   "metadata": {},
   "outputs": [
    {
     "data": {
      "text/plain": [
       "9"
      ]
     },
     "execution_count": 19,
     "metadata": {},
     "output_type": "execute_result"
    }
   ],
   "source": [
    "square(3)"
   ]
  },
  {
   "cell_type": "code",
   "execution_count": 21,
   "id": "c8a451a1",
   "metadata": {},
   "outputs": [
    {
     "data": {
      "text/plain": [
       "36"
      ]
     },
     "execution_count": 21,
     "metadata": {},
     "output_type": "execute_result"
    }
   ],
   "source": [
    "square(6)"
   ]
  },
  {
   "cell_type": "code",
   "execution_count": 22,
   "id": "aa87eb24",
   "metadata": {},
   "outputs": [
    {
     "data": {
      "text/plain": [
       "9"
      ]
     },
     "execution_count": 22,
     "metadata": {},
     "output_type": "execute_result"
    }
   ],
   "source": [
    "# now slowly step by step we will trun into Lambda expression\n",
    "def square(num):\n",
    " \n",
    "    return num**2\n",
    "# its similar to the above function\n",
    "square(3)"
   ]
  },
  {
   "cell_type": "code",
   "execution_count": 24,
   "id": "46bb557c",
   "metadata": {},
   "outputs": [
    {
     "data": {
      "text/plain": [
       "9"
      ]
     },
     "execution_count": 24,
     "metadata": {},
     "output_type": "execute_result"
    }
   ],
   "source": [
    "# we can also write that all in one line\n",
    "def square(num):return num**2\n",
    "square(3)\n",
    "# typically you wouldn't do that because its bad styling and not the convention"
   ]
  },
  {
   "cell_type": "code",
   "execution_count": 32,
   "id": "b248269d",
   "metadata": {},
   "outputs": [],
   "source": [
    "# we are almost in the for of a labda expression - infact we can convert it into a labda expression\n",
    "# through the following manner - lambda is also called as annanymous function - we dont use def or the name in this func\n",
    "squareof = lambda num:num**2"
   ]
  },
  {
   "cell_type": "code",
   "execution_count": 33,
   "id": "5be08457",
   "metadata": {},
   "outputs": [
    {
     "data": {
      "text/plain": [
       "9"
      ]
     },
     "execution_count": 33,
     "metadata": {},
     "output_type": "execute_result"
    }
   ],
   "source": [
    "squareof(3)"
   ]
  },
  {
   "cell_type": "code",
   "execution_count": 34,
   "id": "53a90b7f",
   "metadata": {},
   "outputs": [
    {
     "data": {
      "text/plain": [
       "[1, 4, 9, 16, 25, 36, 49, 64, 81]"
      ]
     },
     "execution_count": 34,
     "metadata": {},
     "output_type": "execute_result"
    }
   ],
   "source": [
    "# since we are not naming these functions - we typically use them in conjunction with Map and filter func\n",
    "# when we are using map and filter we were using function along with the list that required us to define a function\n",
    "# what if we intend to use the function only once - in that case we use lambda expression\n",
    "\n",
    "list(map(lambda num:num**2,mynums))"
   ]
  },
  {
   "cell_type": "code",
   "execution_count": 37,
   "id": "29dedd78",
   "metadata": {},
   "outputs": [
    {
     "data": {
      "text/plain": [
       "[2, 4, 6, 8]"
      ]
     },
     "execution_count": 37,
     "metadata": {},
     "output_type": "execute_result"
    }
   ],
   "source": [
    "# lets convert check_even in lambda expression\n",
    "list(filter(lambda checkevens:checkevens%2==0,mynums))"
   ]
  },
  {
   "cell_type": "markdown",
   "id": "69ec0e5b",
   "metadata": {},
   "source": [
    "lambda functions can be used for variety of things - lets say we want to grab the first letter of the String"
   ]
  },
  {
   "cell_type": "code",
   "execution_count": 38,
   "id": "a4e2925e",
   "metadata": {},
   "outputs": [
    {
     "data": {
      "text/plain": [
       "['vinay', 'sai', 'sunkara', 'naveen', 'choudary', 'success', 'tab']"
      ]
     },
     "execution_count": 38,
     "metadata": {},
     "output_type": "execute_result"
    }
   ],
   "source": [
    "names"
   ]
  },
  {
   "cell_type": "code",
   "execution_count": 40,
   "id": "91c1c547",
   "metadata": {},
   "outputs": [
    {
     "data": {
      "text/plain": [
       "['v', 's', 's', 'n', 'c', 's', 't']"
      ]
     },
     "execution_count": 40,
     "metadata": {},
     "output_type": "execute_result"
    }
   ],
   "source": [
    "# if we want to grab the first letters\n",
    "list(map(lambda name:name[0],names ))"
   ]
  },
  {
   "cell_type": "code",
   "execution_count": 41,
   "id": "026a36ad",
   "metadata": {},
   "outputs": [
    {
     "data": {
      "text/plain": [
       "['v', 's', 's', 'n', 'c', 's', 't']"
      ]
     },
     "execution_count": 41,
     "metadata": {},
     "output_type": "execute_result"
    }
   ],
   "source": [
    "list(map(lambda X:X[0],names ))"
   ]
  },
  {
   "cell_type": "code",
   "execution_count": 42,
   "id": "9aaec0a9",
   "metadata": {},
   "outputs": [
    {
     "data": {
      "text/plain": [
       "['yaniv', 'ias', 'araknus', 'neevan', 'yraduohc', 'sseccus', 'bat']"
      ]
     },
     "execution_count": 42,
     "metadata": {},
     "output_type": "execute_result"
    }
   ],
   "source": [
    "# what if we want to reverse the names justlike slicing \n",
    "list(map(lambda X:X[::-1],names ))"
   ]
  },
  {
   "cell_type": "code",
   "execution_count": null,
   "id": "2ad0287a",
   "metadata": {},
   "outputs": [],
   "source": []
  }
 ],
 "metadata": {
  "kernelspec": {
   "display_name": "Python 3 (ipykernel)",
   "language": "python",
   "name": "python3"
  },
  "language_info": {
   "codemirror_mode": {
    "name": "ipython",
    "version": 3
   },
   "file_extension": ".py",
   "mimetype": "text/x-python",
   "name": "python",
   "nbconvert_exporter": "python",
   "pygments_lexer": "ipython3",
   "version": "3.9.12"
  }
 },
 "nbformat": 4,
 "nbformat_minor": 5
}
