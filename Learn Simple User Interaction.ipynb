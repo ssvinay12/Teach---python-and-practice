{
 "cells": [
  {
   "cell_type": "markdown",
   "id": "43b74f55",
   "metadata": {},
   "source": [
    "######  we're almost ready for you to begin creating a full, interactive python program\n",
    "\n",
    "for this milestone project you will be creating an interactive tic tac toe game\n",
    "\n",
    " in order to 'warm-up'  for this project , we're going to code along with a few exercises in order for you to see how to use python code to the following: \n",
    " >> Grab user Input <br>\n",
    " >> manipulate a variable based on input <br>\n",
    " >> Return back adjusted variable<br>\n",
    " \n",
    " let's first describe what an interactive program does\n",
    "   you should have some sort of \"VISUAL Representation\" that the user see - in this case tic tac toe board\n",
    "   inorder to update this program - the user has to make some decision and input that decision based of what they visually see\n",
    "   \n",
    "  in this case user input a decision a place on the board inroder to win this game\n",
    "  \n",
    "  > then the user input goes into some sort of Python function - <br>\n",
    "  > inside that python scrip or notebook we update what ever the board variable is and then we have a new visual to show the user <br>\n",
    "  > then we have an updated Visual Representation on the board and essentially the cycle can happen ove and over again to have an interactive running program<br>\n",
    "  \n",
    "   This is a simple example to make a Tic Tac Toe board - but essentially any interactive software you have used will follow simple logic like this- but actual script that runs can be extreamly complicated based on how many options there are and how complex the caluculations can be.\n",
    "      \n",
    "    As we have mentiond earlier\n",
    "   \n",
    "   ######  Most programs that are interactive works on this very simple Idea.<br>\n",
    "      > . Display something visual to the User<br>\n",
    "      > . Let the user Update through an interaction<br>\n",
    "      > . Update variable in the Program<br>\n",
    "      > . Display the updated visual<br>\n",
    "  \n",
    "  now let's see how to perform these tasks with Python\n",
    "  Keep in Mind, there are many different ways of performing the same task, so dont feel restricted by the examples we show here\n",
    "  \n",
    "  Follow your Heart!..."
   ]
  },
  {
   "cell_type": "markdown",
   "id": "0d3a6391",
   "metadata": {},
   "source": [
    "###### DISPLAYING INFORMATION"
   ]
  },
  {
   "cell_type": "markdown",
   "id": "a81bdf0b",
   "metadata": {},
   "source": [
    "###### we are going to learn here how to combine a custom function using a Def call along with the already built in Print function in order to show something to the user that actually displays like a board game"
   ]
  },
  {
   "cell_type": "code",
   "execution_count": 1,
   "id": "f24771cb",
   "metadata": {},
   "outputs": [
    {
     "name": "stdout",
     "output_type": "stream",
     "text": [
      "[1, 2, 3]\n"
     ]
    }
   ],
   "source": [
    "# lets see how we print list\n",
    "\n",
    "print([1,2,3])"
   ]
  },
  {
   "cell_type": "code",
   "execution_count": 2,
   "id": "f2bc5c2f",
   "metadata": {},
   "outputs": [
    {
     "name": "stdout",
     "output_type": "stream",
     "text": [
      "[1, 2, 3]\n",
      "[4, 5, 6]\n",
      "[7, 8, 9]\n"
     ]
    }
   ],
   "source": [
    "# multiple lines of Print\n",
    "print([1,2,3])\n",
    "print([4,5,6])\n",
    "print([7,8,9])"
   ]
  },
  {
   "cell_type": "code",
   "execution_count": 3,
   "id": "396fb778",
   "metadata": {},
   "outputs": [],
   "source": [
    "# instead of calling this print func over and over again what i can do is - pu it in my own custom function\n",
    "\n",
    "def display(row1,row2,row3):\n",
    "    print(row1)\n",
    "    print(row2)\n",
    "    print(row3)\n",
    "    \n",
    "# now i have defined my function - now ican display it    "
   ]
  },
  {
   "cell_type": "code",
   "execution_count": 4,
   "id": "66c3aca7",
   "metadata": {},
   "outputs": [
    {
     "name": "stdout",
     "output_type": "stream",
     "text": [
      "[1, 2, 3]\n",
      "[1, 2, 3]\n",
      "[1, 2, 3]\n"
     ]
    }
   ],
   "source": [
    "# lets say i have an ex_row\n",
    "ex_row = [1,2,3]\n",
    "\n",
    "display(ex_row,ex_row,ex_row)"
   ]
  },
  {
   "cell_type": "markdown",
   "id": "1d6a8eb0",
   "metadata": {},
   "source": [
    "what happened in the above cell is that instead of calling print prit print manytimes we have defined the func and called the function to do what we want it to do"
   ]
  },
  {
   "cell_type": "code",
   "execution_count": 5,
   "id": "8225b6ba",
   "metadata": {},
   "outputs": [
    {
     "name": "stdout",
     "output_type": "stream",
     "text": [
      "[' ', ' ', ' ']\n",
      "[' ', ' ', ' ']\n",
      "[' ', ' ', ' ']\n"
     ]
    }
   ],
   "source": [
    "# now lets take some list and strings to display using the function we created display()\n",
    "\n",
    "ex_row1 = ([' ',' ',' '])\n",
    "ex_row2 = ([' ',' ',' '])\n",
    "ex_row3 = ([' ',' ',' '])\n",
    "\n",
    "display(ex_row1,ex_row2,ex_row3)"
   ]
  },
  {
   "cell_type": "code",
   "execution_count": 6,
   "id": "14bbd400",
   "metadata": {},
   "outputs": [
    {
     "name": "stdout",
     "output_type": "stream",
     "text": [
      "[' ', ' ', ' ']\n",
      "[' ', ' ', ' ']\n",
      "[' ', ' ', ' ']\n"
     ]
    }
   ],
   "source": [
    "# the display function need not be in same cell - it can go in another cell - no prob\n",
    "\n",
    "display(ex_row1,ex_row2,ex_row3)"
   ]
  },
  {
   "cell_type": "code",
   "execution_count": 7,
   "id": "415aadd5",
   "metadata": {},
   "outputs": [],
   "source": [
    "# what we can do is later on in our program lets say we have setup tic tac toe board \n",
    "# say row 2 and center position and mark it  'X'"
   ]
  },
  {
   "cell_type": "code",
   "execution_count": 8,
   "id": "bf4feaae",
   "metadata": {},
   "outputs": [],
   "source": [
    "row1 = ([' ',' ',' '])\n",
    "row2 = ([' ',' ',' '])\n",
    "row3 = ([' ',' ',' '])"
   ]
  },
  {
   "cell_type": "code",
   "execution_count": 9,
   "id": "ebd71b10",
   "metadata": {},
   "outputs": [
    {
     "name": "stdout",
     "output_type": "stream",
     "text": [
      "[' ', ' ', ' ']\n",
      "[' ', ' ', ' ']\n",
      "[' ', ' ', ' ']\n"
     ]
    }
   ],
   "source": [
    "display(row1,row2,row3)"
   ]
  },
  {
   "cell_type": "code",
   "execution_count": 10,
   "id": "9fa4158e",
   "metadata": {},
   "outputs": [],
   "source": [
    "row2[1] = 'X'"
   ]
  },
  {
   "cell_type": "code",
   "execution_count": 11,
   "id": "beaab801",
   "metadata": {},
   "outputs": [
    {
     "name": "stdout",
     "output_type": "stream",
     "text": [
      "[' ', ' ', ' ']\n",
      "[' ', 'X', ' ']\n",
      "[' ', ' ', ' ']\n"
     ]
    }
   ],
   "source": [
    "display(row1,row2,row3)"
   ]
  },
  {
   "cell_type": "markdown",
   "id": "ab77b15d",
   "metadata": {},
   "source": [
    " see now we can see X after assignment- this is a rudimentary way of displaying but we can also do using strings and make it more interesting looking board - \n",
    " <br>  Next we will accept user Input"
   ]
  },
  {
   "cell_type": "markdown",
   "id": "81551ded",
   "metadata": {},
   "source": [
    "#### Accepting User Input"
   ]
  },
  {
   "cell_type": "markdown",
   "id": "dbe0895a",
   "metadata": {},
   "source": [
    "sofar, we have just displayed information with a function which is essentially just a place holder for multiple print functions- now what we want to do is accept user input and before let's see few things to be aware of when using the input function"
   ]
  },
  {
   "cell_type": "code",
   "execution_count": 12,
   "id": "410af619",
   "metadata": {},
   "outputs": [
    {
     "name": "stdout",
     "output_type": "stream",
     "text": [
      "please enter a value: 5\n"
     ]
    },
    {
     "data": {
      "text/plain": [
       "'5'"
      ]
     },
     "execution_count": 12,
     "metadata": {},
     "output_type": "execute_result"
    }
   ],
   "source": [
    "input(\"please enter a value: \") # please enter value written in () will be displayed for the user to see and returns back a string"
   ]
  },
  {
   "cell_type": "code",
   "execution_count": 13,
   "id": "86297169",
   "metadata": {},
   "outputs": [
    {
     "name": "stdout",
     "output_type": "stream",
     "text": [
      "please enter a value: 4\n"
     ]
    }
   ],
   "source": [
    "# what we'll say instead of direct input we save it in result\n",
    "\n",
    "result = input(\"please enter a value: \")\n",
    "# when we give the value in the box we now actually dont see any result unless we call the variable result"
   ]
  },
  {
   "cell_type": "code",
   "execution_count": 14,
   "id": "f3a6572c",
   "metadata": {},
   "outputs": [
    {
     "data": {
      "text/plain": [
       "'4'"
      ]
     },
     "execution_count": 14,
     "metadata": {},
     "output_type": "execute_result"
    }
   ],
   "source": [
    "result"
   ]
  },
  {
   "cell_type": "code",
   "execution_count": 15,
   "id": "c34be940",
   "metadata": {},
   "outputs": [
    {
     "data": {
      "text/plain": [
       "str"
      ]
     },
     "execution_count": 15,
     "metadata": {},
     "output_type": "execute_result"
    }
   ],
   "source": [
    "# Notice: Input function returns the information in the form of a string\n",
    "\n",
    "type(result)"
   ]
  },
  {
   "cell_type": "code",
   "execution_count": 16,
   "id": "093ae140",
   "metadata": {},
   "outputs": [
    {
     "name": "stdout",
     "output_type": "stream",
     "text": [
      "please enter a value: 5\n"
     ]
    }
   ],
   "source": [
    "# if you want this to be floating point or integer what we have to do is convert using the built in casting function\n",
    "\n",
    "result = int(input(\"please enter a value: \"))"
   ]
  },
  {
   "cell_type": "code",
   "execution_count": 17,
   "id": "270e424d",
   "metadata": {},
   "outputs": [
    {
     "data": {
      "text/plain": [
       "5"
      ]
     },
     "execution_count": 17,
     "metadata": {},
     "output_type": "execute_result"
    }
   ],
   "source": [
    "result"
   ]
  },
  {
   "cell_type": "code",
   "execution_count": 18,
   "id": "58603171",
   "metadata": {},
   "outputs": [
    {
     "data": {
      "text/plain": [
       "int"
      ]
     },
     "execution_count": 18,
     "metadata": {},
     "output_type": "execute_result"
    }
   ],
   "source": [
    "type(result)"
   ]
  },
  {
   "cell_type": "code",
   "execution_count": 19,
   "id": "25de658d",
   "metadata": {},
   "outputs": [],
   "source": [
    "result_float = float(result)"
   ]
  },
  {
   "cell_type": "code",
   "execution_count": 20,
   "id": "1e8c859b",
   "metadata": {},
   "outputs": [
    {
     "data": {
      "text/plain": [
       "int"
      ]
     },
     "execution_count": 20,
     "metadata": {},
     "output_type": "execute_result"
    }
   ],
   "source": [
    "type(result)"
   ]
  },
  {
   "cell_type": "code",
   "execution_count": 21,
   "id": "9223fc6b",
   "metadata": {},
   "outputs": [
    {
     "data": {
      "text/plain": [
       "float"
      ]
     },
     "execution_count": 21,
     "metadata": {},
     "output_type": "execute_result"
    }
   ],
   "source": [
    "type(result_float)"
   ]
  },
  {
   "cell_type": "markdown",
   "id": "9f0b4713",
   "metadata": {},
   "source": [
    "##### validate the user input"
   ]
  },
  {
   "cell_type": "markdown",
   "id": "df6ac4d3",
   "metadata": {},
   "source": [
    "###### Quick note:\n",
    "the input function itself is little bit tricky because it awaits user interaction which means if you accidentally run it twice  python program or script make it stuck waiting for reply that actually don't come- so what happens is the remaining cells won't execute till this particular cell is executed - \n",
    "\n",
    "another problem is if you accidentally run the input cell twice it won't execute at all - only thing we can do is to restart the kernel"
   ]
  },
  {
   "cell_type": "markdown",
   "id": "0af35f1a",
   "metadata": {},
   "source": [
    "Let's now explore how to further validate user input to avoid errors for invalid conversions that basically have a while loop that basically ask the user the input the untill you get a valid input and continue to the next step \n",
    "\n",
    "if the user input which isn't correct conversion - we get the valueerror for ex: user entered 'two' instead of 2\n",
    "\n",
    "so what we can do is use a while loop along with checking- and keep asking the user till he enters the correct input\n",
    "\n",
    "for this what we are going to do is take the input function and use it in our own custom function"
   ]
  },
  {
   "cell_type": "markdown",
   "id": "5b40aa77",
   "metadata": {},
   "source": [
    "--"
   ]
  },
  {
   "cell_type": "code",
   "execution_count": 22,
   "id": "b1f381f1",
   "metadata": {},
   "outputs": [],
   "source": [
    "def user_choice():\n",
    "    \n",
    "    choice = input('please enter a number (0-10): ')\n",
    "    \n",
    "    return int(choice)"
   ]
  },
  {
   "cell_type": "code",
   "execution_count": 23,
   "id": "4331adfb",
   "metadata": {},
   "outputs": [
    {
     "name": "stdout",
     "output_type": "stream",
     "text": [
      "please enter a number (0-10): 4\n"
     ]
    },
    {
     "data": {
      "text/plain": [
       "4"
      ]
     },
     "execution_count": 23,
     "metadata": {},
     "output_type": "execute_result"
    }
   ],
   "source": [
    "user_choice()"
   ]
  },
  {
   "cell_type": "markdown",
   "id": "f5922e06",
   "metadata": {},
   "source": [
    "now there are two problems right now\n",
    "1) if you give word 'five' it gives error <br>\n",
    "2) if you enter value more than 10 still it returns because its able to convert the string in to integer from above code"
   ]
  },
  {
   "cell_type": "code",
   "execution_count": 24,
   "id": "8cd5c7bf",
   "metadata": {},
   "outputs": [
    {
     "name": "stdout",
     "output_type": "stream",
     "text": [
      "please enter a number (0-10): 5\n"
     ]
    },
    {
     "data": {
      "text/plain": [
       "5"
      ]
     },
     "execution_count": 24,
     "metadata": {},
     "output_type": "execute_result"
    }
   ],
   "source": [
    "user_choice()"
   ]
  },
  {
   "cell_type": "code",
   "execution_count": 25,
   "id": "23e29179",
   "metadata": {},
   "outputs": [
    {
     "name": "stdout",
     "output_type": "stream",
     "text": [
      "please enter a number (0-10): 4\n"
     ]
    },
    {
     "data": {
      "text/plain": [
       "4"
      ]
     },
     "execution_count": 25,
     "metadata": {},
     "output_type": "execute_result"
    }
   ],
   "source": [
    "user_choice()"
   ]
  },
  {
   "cell_type": "markdown",
   "id": "06dc53cd",
   "metadata": {},
   "source": [
    "you have to make sure the data type is valid and its a correct input expect\n",
    "so how we can do this- \n",
    "\n",
    "first start of with default choice value - lets say \"WRONG\" in this case"
   ]
  },
  {
   "cell_type": "code",
   "execution_count": 26,
   "id": "e318c897",
   "metadata": {},
   "outputs": [],
   "source": [
    "def user_choice():\n",
    "    \n",
    "    choice = 'WRONG' # technically this could be any string you want as long as its not going to say True for not expected\n",
    "    # now we will use a while loop - as you know it while loop continues as long as its met\n",
    "    \n",
    "    while choice.isdigit() == False: # as long as our choice is digit we are going to ask the choice\n",
    "        choice = input('please enter a number (0-10): ') # now we cleverly removed the value error ( there could be a case entering -ve number but we will skip for now)\n",
    "    \n",
    "    return int(choice)"
   ]
  },
  {
   "cell_type": "code",
   "execution_count": 27,
   "id": "f1352524",
   "metadata": {},
   "outputs": [
    {
     "name": "stdout",
     "output_type": "stream",
     "text": [
      "please enter a number (0-10): 4\n"
     ]
    },
    {
     "data": {
      "text/plain": [
       "4"
      ]
     },
     "execution_count": 27,
     "metadata": {},
     "output_type": "execute_result"
    }
   ],
   "source": [
    "user_choice()"
   ]
  },
  {
   "cell_type": "code",
   "execution_count": 28,
   "id": "fd5265a4",
   "metadata": {},
   "outputs": [],
   "source": [
    "# we can add in some error message for user to know what happened\n",
    "def user_choice():\n",
    "    choice = 'WRONG'\n",
    "    while choice.isdigit() == False:\n",
    "        choice = input('please enter a number (0-10): ')\n",
    "        if choice.isdigit()  == False:\n",
    "            print(\"sorry that is not a digit!\")\n",
    "        \n",
    "    \n",
    "    return int(choice)"
   ]
  },
  {
   "cell_type": "code",
   "execution_count": 29,
   "id": "7abc0792",
   "metadata": {},
   "outputs": [
    {
     "name": "stdout",
     "output_type": "stream",
     "text": [
      "please enter a number (0-10): 4\n"
     ]
    },
    {
     "data": {
      "text/plain": [
       "4"
      ]
     },
     "execution_count": 29,
     "metadata": {},
     "output_type": "execute_result"
    }
   ],
   "source": [
    "user_choice()"
   ]
  },
  {
   "cell_type": "code",
   "execution_count": 30,
   "id": "5306fe02",
   "metadata": {},
   "outputs": [],
   "source": [
    "# Checking against the multiple possible values - there are multiple ways but esiest is to check against list of values\n",
    "# for example\n",
    "result = 'WRONG VALUE'\n"
   ]
  },
  {
   "cell_type": "code",
   "execution_count": 31,
   "id": "80c37f79",
   "metadata": {},
   "outputs": [],
   "source": [
    "accecptable_values = [0,1,2] # lets run in operator"
   ]
  },
  {
   "cell_type": "code",
   "execution_count": 32,
   "id": "6fe37241",
   "metadata": {},
   "outputs": [
    {
     "data": {
      "text/plain": [
       "False"
      ]
     },
     "execution_count": 32,
     "metadata": {},
     "output_type": "execute_result"
    }
   ],
   "source": [
    "result in accecptable_values"
   ]
  },
  {
   "cell_type": "code",
   "execution_count": 33,
   "id": "149e7b16",
   "metadata": {},
   "outputs": [
    {
     "data": {
      "text/plain": [
       "True"
      ]
     },
     "execution_count": 33,
     "metadata": {},
     "output_type": "execute_result"
    }
   ],
   "source": [
    "# we can also check not in \n",
    "result not in accecptable_values"
   ]
  },
  {
   "cell_type": "code",
   "execution_count": 46,
   "id": "90b7d676",
   "metadata": {},
   "outputs": [],
   "source": [
    "# lets check for two conditions\n",
    "def user_choice():\n",
    "    # variables\n",
    "    \n",
    "    # initial values\n",
    "    choice = 'WRONG'\n",
    "    \n",
    "    acceptable_range = range(0,10)    # or [0,1,2,3,4,5,6,7,8,9,10]\n",
    "    within_range = False\n",
    "    # we are going to check for 2 conditions\n",
    "    # Digit or Within_range == False\n",
    "    while choice.isdigit() == False or within_range == False:\n",
    "        choice = input('please enter a number (0-10): ')\n",
    "        # Digit Check\n",
    "        if choice.isdigit()  == False:\n",
    "            print(\"sorry that is not a digit!\")\n",
    "            \n",
    "        # Range Check\n",
    "        if choice.isdigit() == True:\n",
    "            if int(choice) in range(0,10):\n",
    "                within_range = True     # keep in mind == is checking for equality   and = is actual assignment\n",
    "            else:\n",
    "                print(' sorry, you are out of acceptable range(0-10): ')\n",
    "                within_range = False\n",
    "                \n",
    "    return int(choice)"
   ]
  },
  {
   "cell_type": "code",
   "execution_count": 47,
   "id": "fcc91a04",
   "metadata": {},
   "outputs": [
    {
     "name": "stdout",
     "output_type": "stream",
     "text": [
      "please enter a number (0-10): 12\n",
      " sorry, you are out of acceptable range(0-10): \n",
      "please enter a number (0-10): 1\n"
     ]
    },
    {
     "data": {
      "text/plain": [
       "1"
      ]
     },
     "execution_count": 47,
     "metadata": {},
     "output_type": "execute_result"
    }
   ],
   "source": [
    "user_choice()\n",
    "    "
   ]
  },
  {
   "cell_type": "code",
   "execution_count": 44,
   "id": "8848e73a",
   "metadata": {},
   "outputs": [],
   "source": [
    "def user_choice():\n",
    "    \n",
    "    choice ='WRONG'\n",
    "    within_range = False\n",
    "    \n",
    "    while choice.isdigit() == False or within_range == False:\n",
    "        \n",
    "    \n",
    "    \n",
    "        choice = input(\"Please enter a number (0-10): \")\n",
    "        \n",
    "        if choice.isdigit() == False:\n",
    "            print(\"Sorry that is not a digit!\")\n",
    "            \n",
    "        if choice.isdigit() == True:\n",
    "            if int(choice) in range(0,10):\n",
    "                within_range = True\n",
    "            else:\n",
    "                within_range = False\n",
    "        \n",
    "    \n",
    "    return int(choice)"
   ]
  },
  {
   "cell_type": "code",
   "execution_count": 45,
   "id": "aa3bdc68",
   "metadata": {},
   "outputs": [
    {
     "name": "stdout",
     "output_type": "stream",
     "text": [
      "Please enter a number (0-10): 12\n",
      "Please enter a number (0-10): 1\n"
     ]
    },
    {
     "data": {
      "text/plain": [
       "1"
      ]
     },
     "execution_count": 45,
     "metadata": {},
     "output_type": "execute_result"
    }
   ],
   "source": [
    "user_choice()"
   ]
  },
  {
   "cell_type": "markdown",
   "id": "eecef9b6",
   "metadata": {},
   "source": [
    "### Simple User Interaction"
   ]
  },
  {
   "cell_type": "markdown",
   "id": "aa952fb5",
   "metadata": {},
   "source": [
    "To put everything together, lets create a simple interactive program.\n",
    "\n",
    "The prorgram will\n",
    "\n",
    "> display a list <br>\n",
    "> Have a user choose an Index position and an input value <br>\n",
    "> Replace value at index position with user's choosen input value <br>\n",
    "\n",
    "Let's see what the finished game looks like, and then construct it ourselves using the functions we've already made!\n"
   ]
  },
  {
   "cell_type": "code",
   "execution_count": 48,
   "id": "5485fd8c",
   "metadata": {},
   "outputs": [],
   "source": [
    "game_list = [0,1,2]"
   ]
  },
  {
   "cell_type": "code",
   "execution_count": 49,
   "id": "63e7bc59",
   "metadata": {},
   "outputs": [],
   "source": [
    "def display_game(game_list):\n",
    "    print(\"Here is the current list: \")\n",
    "    print(game_list)"
   ]
  },
  {
   "cell_type": "code",
   "execution_count": 50,
   "id": "35cc11bd",
   "metadata": {},
   "outputs": [
    {
     "name": "stdout",
     "output_type": "stream",
     "text": [
      "Here is the current list: \n",
      "[0, 1, 2]\n"
     ]
    }
   ],
   "source": [
    "display_game(game_list)"
   ]
  },
  {
   "cell_type": "code",
   "execution_count": 51,
   "id": "e8bc27c0",
   "metadata": {},
   "outputs": [],
   "source": [
    "def position_choice():\n",
    "    \n",
    "    choice = 'WRONG'\n",
    "    \n",
    "    while choice not in ['0','1','2']:\n",
    "        choice = input('pick a position (0,1,2): ')\n",
    "        \n",
    "        if choice not in  ['0','1','2']:\n",
    "            print(\"sorry Invalid choice! \")\n",
    "            \n",
    "    return int(choice)\n",
    "        "
   ]
  },
  {
   "cell_type": "code",
   "execution_count": 52,
   "id": "44982ef3",
   "metadata": {},
   "outputs": [
    {
     "name": "stdout",
     "output_type": "stream",
     "text": [
      "pick a position (0,1,2): two\n",
      "sorry Invalid choice! \n",
      "pick a position (0,1,2): s\n",
      "sorry Invalid choice! \n",
      "pick a position (0,1,2): 5\n",
      "sorry Invalid choice! \n",
      "pick a position (0,1,2): 2\n"
     ]
    },
    {
     "data": {
      "text/plain": [
       "2"
      ]
     },
     "execution_count": 52,
     "metadata": {},
     "output_type": "execute_result"
    }
   ],
   "source": [
    "position_choice()"
   ]
  },
  {
   "cell_type": "code",
   "execution_count": 55,
   "id": "307ae0a8",
   "metadata": {},
   "outputs": [],
   "source": [
    "def replacement_choice(game_list,position):\n",
    "    \n",
    "    user_placement = input(\"Type a string to place at position: \")\n",
    "    \n",
    "    game_list[position] = user_placement\n",
    "    \n",
    "    return game_list"
   ]
  },
  {
   "cell_type": "code",
   "execution_count": 56,
   "id": "cdc33e01",
   "metadata": {},
   "outputs": [
    {
     "name": "stdout",
     "output_type": "stream",
     "text": [
      "Type a string to place at position: test\n"
     ]
    },
    {
     "data": {
      "text/plain": [
       "[0, 'test', 2]"
      ]
     },
     "execution_count": 56,
     "metadata": {},
     "output_type": "execute_result"
    }
   ],
   "source": [
    "replacement_choice(game_list,1)"
   ]
  },
  {
   "cell_type": "code",
   "execution_count": 64,
   "id": "8dadb537",
   "metadata": {},
   "outputs": [],
   "source": [
    "# we want to make sure that user playing - lets make gameon choice\n",
    "def gameon_choice():\n",
    "    \n",
    "    choice = 'WRONG'\n",
    "    \n",
    "    while choice not in ['Y','N']:\n",
    "        choice = input('keep playing? (Y or N): ')\n",
    "        \n",
    "        if choice not in  ['Y','N']:\n",
    "            print(\"sorry I dont understan please choose Y or N! \")\n",
    "            \n",
    "    if choice == \"Y\":\n",
    "        return True\n",
    "    else:\n",
    "        return False"
   ]
  },
  {
   "cell_type": "code",
   "execution_count": 65,
   "id": "067c6b59",
   "metadata": {},
   "outputs": [
    {
     "name": "stdout",
     "output_type": "stream",
     "text": [
      "keep playing? (Y or N): Y\n"
     ]
    },
    {
     "data": {
      "text/plain": [
       "True"
      ]
     },
     "execution_count": 65,
     "metadata": {},
     "output_type": "execute_result"
    }
   ],
   "source": [
    "gameon_choice()"
   ]
  },
  {
   "cell_type": "code",
   "execution_count": 66,
   "id": "70accd5f",
   "metadata": {},
   "outputs": [
    {
     "name": "stdout",
     "output_type": "stream",
     "text": [
      "Here is the current list: \n",
      "[0, 1, 2]\n",
      "pick a position (0,1,2): Y\n",
      "sorry Invalid choice! \n",
      "pick a position (0,1,2): 1\n",
      "Type a string to place at position: saivinay\n",
      "Here is the current list: \n",
      "[0, 'saivinay', 2]\n",
      "keep playing? (Y or N): Y\n",
      "Here is the current list: \n",
      "[0, 'saivinay', 2]\n",
      "pick a position (0,1,2): 0\n",
      "Type a string to place at position: Sunkara\n",
      "Here is the current list: \n",
      "['Sunkara', 'saivinay', 2]\n",
      "keep playing? (Y or N): Y\n",
      "Here is the current list: \n",
      "['Sunkara', 'saivinay', 2]\n",
      "pick a position (0,1,2): 2 \n",
      "sorry Invalid choice! \n",
      "pick a position (0,1,2): Data Scientist\n",
      "sorry Invalid choice! \n",
      "pick a position (0,1,2): 2\n",
      "Type a string to place at position: Data Scientist\n",
      "Here is the current list: \n",
      "['Sunkara', 'saivinay', 'Data Scientist']\n",
      "keep playing? (Y or N): N\n"
     ]
    }
   ],
   "source": [
    "# to finish we have to put all this together\n",
    "game_on = True\n",
    "game_list = [0,1,2]\n",
    "\n",
    "while game_on:\n",
    "    \n",
    "    display_game(game_list)\n",
    "    \n",
    "    position = position_choice()\n",
    "    \n",
    "    game_list = replacement_choice(game_list,position)\n",
    "    \n",
    "    display_game(game_list)\n",
    "    \n",
    "    game_on = gameon_choice()"
   ]
  },
  {
   "cell_type": "code",
   "execution_count": null,
   "id": "4cf45f66",
   "metadata": {},
   "outputs": [],
   "source": []
  }
 ],
 "metadata": {
  "kernelspec": {
   "display_name": "Python 3 (ipykernel)",
   "language": "python",
   "name": "python3"
  },
  "language_info": {
   "codemirror_mode": {
    "name": "ipython",
    "version": 3
   },
   "file_extension": ".py",
   "mimetype": "text/x-python",
   "name": "python",
   "nbconvert_exporter": "python",
   "pygments_lexer": "ipython3",
   "version": "3.9.12"
  }
 },
 "nbformat": 4,
 "nbformat_minor": 5
}
