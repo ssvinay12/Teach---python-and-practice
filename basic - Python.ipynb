{
 "cells": [
  {
   "cell_type": "code",
   "execution_count": 1,
   "id": "6b68834c",
   "metadata": {},
   "outputs": [
    {
     "data": {
      "text/plain": [
       "3"
      ]
     },
     "execution_count": 1,
     "metadata": {},
     "output_type": "execute_result"
    }
   ],
   "source": [
    "2+1\n"
   ]
  },
  {
   "cell_type": "code",
   "execution_count": 2,
   "id": "b071b6a5",
   "metadata": {},
   "outputs": [
    {
     "data": {
      "text/plain": [
       "1"
      ]
     },
     "execution_count": 2,
     "metadata": {},
     "output_type": "execute_result"
    }
   ],
   "source": [
    "2-1"
   ]
  },
  {
   "cell_type": "code",
   "execution_count": 3,
   "id": "208bc638",
   "metadata": {},
   "outputs": [
    {
     "data": {
      "text/plain": [
       "1.5"
      ]
     },
     "execution_count": 3,
     "metadata": {},
     "output_type": "execute_result"
    }
   ],
   "source": [
    "3/2\n"
   ]
  },
  {
   "cell_type": "markdown",
   "id": "bd26dbb1",
   "metadata": {},
   "source": [
    "### Modulo or 'Mod\" Operator\n",
    "\n",
    "basically what it does is it returns the reminder after division"
   ]
  },
  {
   "cell_type": "code",
   "execution_count": 4,
   "id": "6b8913eb",
   "metadata": {},
   "outputs": [
    {
     "data": {
      "text/plain": [
       "1.75"
      ]
     },
     "execution_count": 4,
     "metadata": {},
     "output_type": "execute_result"
    }
   ],
   "source": [
    "### If you type \n",
    "7/4"
   ]
  },
  {
   "cell_type": "code",
   "execution_count": 6,
   "id": "8e140ac5",
   "metadata": {},
   "outputs": [
    {
     "data": {
      "text/plain": [
       "3"
      ]
     },
     "execution_count": 6,
     "metadata": {},
     "output_type": "execute_result"
    }
   ],
   "source": [
    "# in Mod operator whic is represented by % sign\n",
    "\n",
    "7 % 4   # since when we divide 7 with 4 then the reminder will be 3 \n"
   ]
  },
  {
   "cell_type": "code",
   "execution_count": 7,
   "id": "37d3e990",
   "metadata": {},
   "outputs": [
    {
     "data": {
      "text/plain": [
       "1"
      ]
     },
     "execution_count": 7,
     "metadata": {},
     "output_type": "execute_result"
    }
   ],
   "source": [
    "# lets check if the number is even or odd \n",
    "23 % 2"
   ]
  },
  {
   "cell_type": "code",
   "execution_count": 8,
   "id": "9e8a7e6c",
   "metadata": {},
   "outputs": [
    {
     "data": {
      "text/plain": [
       "0"
      ]
     },
     "execution_count": 8,
     "metadata": {},
     "output_type": "execute_result"
    }
   ],
   "source": [
    "## So we can say the number 23 is odd since it leaves reminder 1, \n",
    "22%2"
   ]
  },
  {
   "cell_type": "markdown",
   "id": "6c15cac1",
   "metadata": {},
   "source": [
    "### the power operator   **\n",
    "2"
   ]
  },
  {
   "cell_type": "code",
   "execution_count": 9,
   "id": "2d8f553e",
   "metadata": {},
   "outputs": [
    {
     "data": {
      "text/plain": [
       "8"
      ]
     },
     "execution_count": 9,
     "metadata": {},
     "output_type": "execute_result"
    }
   ],
   "source": [
    "2 ** 3"
   ]
  },
  {
   "cell_type": "markdown",
   "id": "82ad9a12",
   "metadata": {},
   "source": [
    "### we can assign the variable and use it later in our code"
   ]
  },
  {
   "cell_type": "code",
   "execution_count": 10,
   "id": "c706caee",
   "metadata": {},
   "outputs": [],
   "source": [
    "a = 5"
   ]
  },
  {
   "cell_type": "code",
   "execution_count": 11,
   "id": "c53f1820",
   "metadata": {},
   "outputs": [
    {
     "data": {
      "text/plain": [
       "5"
      ]
     },
     "execution_count": 11,
     "metadata": {},
     "output_type": "execute_result"
    }
   ],
   "source": [
    "a\n"
   ]
  },
  {
   "cell_type": "code",
   "execution_count": 12,
   "id": "40793e4c",
   "metadata": {},
   "outputs": [
    {
     "data": {
      "text/plain": [
       "10"
      ]
     },
     "execution_count": 12,
     "metadata": {},
     "output_type": "execute_result"
    }
   ],
   "source": [
    "a = 10\n",
    "a"
   ]
  },
  {
   "cell_type": "code",
   "execution_count": 13,
   "id": "18fc287a",
   "metadata": {},
   "outputs": [
    {
     "data": {
      "text/plain": [
       "20"
      ]
     },
     "execution_count": 13,
     "metadata": {},
     "output_type": "execute_result"
    }
   ],
   "source": [
    "a + a "
   ]
  },
  {
   "cell_type": "code",
   "execution_count": 15,
   "id": "20e7db09",
   "metadata": {},
   "outputs": [
    {
     "data": {
      "text/plain": [
       "210"
      ]
     },
     "execution_count": 15,
     "metadata": {},
     "output_type": "execute_result"
    }
   ],
   "source": [
    " a +a * (20)"
   ]
  },
  {
   "cell_type": "code",
   "execution_count": 16,
   "id": "6700db96",
   "metadata": {},
   "outputs": [],
   "source": [
    "a = a+a"
   ]
  },
  {
   "cell_type": "code",
   "execution_count": 17,
   "id": "c8cc0cc4",
   "metadata": {},
   "outputs": [
    {
     "data": {
      "text/plain": [
       "20"
      ]
     },
     "execution_count": 17,
     "metadata": {},
     "output_type": "execute_result"
    }
   ],
   "source": [
    "a"
   ]
  },
  {
   "cell_type": "code",
   "execution_count": 18,
   "id": "29b28155",
   "metadata": {},
   "outputs": [
    {
     "data": {
      "text/plain": [
       "20"
      ]
     },
     "execution_count": 18,
     "metadata": {},
     "output_type": "execute_result"
    }
   ],
   "source": [
    "a"
   ]
  },
  {
   "cell_type": "code",
   "execution_count": 19,
   "id": "a8a669ea",
   "metadata": {},
   "outputs": [
    {
     "data": {
      "text/plain": [
       "40"
      ]
     },
     "execution_count": 19,
     "metadata": {},
     "output_type": "execute_result"
    }
   ],
   "source": [
    "a = a+a \n",
    "a"
   ]
  },
  {
   "cell_type": "code",
   "execution_count": 20,
   "id": "54189fda",
   "metadata": {},
   "outputs": [
    {
     "data": {
      "text/plain": [
       "80"
      ]
     },
     "execution_count": 20,
     "metadata": {},
     "output_type": "execute_result"
    }
   ],
   "source": [
    "a = a+a\n",
    "a"
   ]
  },
  {
   "cell_type": "code",
   "execution_count": 21,
   "id": "0c7ff874",
   "metadata": {},
   "outputs": [],
   "source": [
    "###  since value of a is change as a+a"
   ]
  },
  {
   "cell_type": "markdown",
   "id": "c2b90e25",
   "metadata": {},
   "source": [
    "#### to know what type of function is a we can use built in type() function we get what type of function it is"
   ]
  },
  {
   "cell_type": "code",
   "execution_count": 22,
   "id": "d918bada",
   "metadata": {},
   "outputs": [
    {
     "data": {
      "text/plain": [
       "int"
      ]
     },
     "execution_count": 22,
     "metadata": {},
     "output_type": "execute_result"
    }
   ],
   "source": [
    "type(a)"
   ]
  },
  {
   "cell_type": "code",
   "execution_count": 23,
   "id": "79a77dce",
   "metadata": {},
   "outputs": [
    {
     "data": {
      "text/plain": [
       "float"
      ]
     },
     "execution_count": 23,
     "metadata": {},
     "output_type": "execute_result"
    }
   ],
   "source": [
    "### lets reasign some float and check what type of function it is\n",
    "a = 30.33\n",
    "type(a)"
   ]
  },
  {
   "cell_type": "code",
   "execution_count": 24,
   "id": "e96e4664",
   "metadata": {},
   "outputs": [],
   "source": [
    "### now lets see\n",
    "\n",
    "price_of_mangoes = 60\n",
    "gst_fruits = 0.5\n",
    "total_price = price_of_mangoes + (price_of_mangoes * gst_fruits)"
   ]
  },
  {
   "cell_type": "code",
   "execution_count": 25,
   "id": "e1a680dc",
   "metadata": {},
   "outputs": [
    {
     "data": {
      "text/plain": [
       "90.0"
      ]
     },
     "execution_count": 25,
     "metadata": {},
     "output_type": "execute_result"
    }
   ],
   "source": [
    "total_price"
   ]
  },
  {
   "cell_type": "markdown",
   "id": "7537ceee",
   "metadata": {},
   "source": [
    "### Strings"
   ]
  },
  {
   "cell_type": "markdown",
   "id": "a7189f40",
   "metadata": {},
   "source": [
    "#### strings are ordered sequences \n",
    "It means we can do indexing and slicing to grab sub-sections of the string\n",
    "> indexing notation uses [] notation after the string (or variable assigned to the string)\n",
    " . indexing allows you to grab a single character from the string\n",
    " \n",
    " > we can use forward indexing and also negative indexing\n",
    " \n",
    "##### Slicing : allows you to grab a subsection of multiple characters, a 'slice' of the string\n",
    "> . This has the following syntax :\n",
    "    > [start:stop:step]\n",
    "    . Start is a numerical index for the slice start"
   ]
  },
  {
   "cell_type": "code",
   "execution_count": 26,
   "id": "00040659",
   "metadata": {},
   "outputs": [
    {
     "data": {
      "text/plain": [
       "'Sam'"
      ]
     },
     "execution_count": 26,
     "metadata": {},
     "output_type": "execute_result"
    }
   ],
   "source": [
    "'Sam'"
   ]
  },
  {
   "cell_type": "code",
   "execution_count": 27,
   "id": "578c3729",
   "metadata": {},
   "outputs": [
    {
     "data": {
      "text/plain": [
       "\" I'm a Data Scientist\""
      ]
     },
     "execution_count": 27,
     "metadata": {},
     "output_type": "execute_result"
    }
   ],
   "source": [
    "\" I'm a Data Scientist\""
   ]
  },
  {
   "cell_type": "markdown",
   "id": "0bc58bf1",
   "metadata": {},
   "source": [
    "#####  we are just asking the string to be returned so far. thats the reason we see quote '' marks in out put now lets print the string so that we dont see the quote marks"
   ]
  },
  {
   "cell_type": "code",
   "execution_count": 28,
   "id": "6015cacd",
   "metadata": {},
   "outputs": [
    {
     "name": "stdout",
     "output_type": "stream",
     "text": [
      "sam\n"
     ]
    }
   ],
   "source": [
    "print('sam')"
   ]
  },
  {
   "cell_type": "code",
   "execution_count": 29,
   "id": "b5e357ee",
   "metadata": {},
   "outputs": [
    {
     "name": "stdout",
     "output_type": "stream",
     "text": [
      " I'm a data scientist\n"
     ]
    }
   ],
   "source": [
    "print(\" I'm a data scientist\")"
   ]
  },
  {
   "cell_type": "code",
   "execution_count": 30,
   "id": "790c2fa4",
   "metadata": {},
   "outputs": [
    {
     "data": {
      "text/plain": [
       "' big python'"
      ]
     },
     "execution_count": 30,
     "metadata": {},
     "output_type": "execute_result"
    }
   ],
   "source": [
    "# if you dont use the print it returns only the last string of all the strings written for ex: \n",
    "\n",
    "' hello python '\n",
    "' big python'  # see one one string is being returned below "
   ]
  },
  {
   "cell_type": "code",
   "execution_count": 31,
   "id": "0e8d2234",
   "metadata": {},
   "outputs": [
    {
     "name": "stdout",
     "output_type": "stream",
     "text": [
      "hello python\n",
      "big python\n"
     ]
    }
   ],
   "source": [
    "# other wise if you use print function we can get both the results\n",
    "print('hello python')\n",
    "print('big python')"
   ]
  },
  {
   "cell_type": "markdown",
   "id": "b1eba729",
   "metadata": {},
   "source": [
    "#### escape sequence in python by using \\n - where python know to breake and print in the next line"
   ]
  },
  {
   "cell_type": "code",
   "execution_count": 32,
   "id": "9fdc8f1a",
   "metadata": {},
   "outputs": [
    {
     "name": "stdout",
     "output_type": "stream",
     "text": [
      "hello \n",
      " python\n"
     ]
    }
   ],
   "source": [
    "print('hello \\n python')"
   ]
  },
  {
   "cell_type": "code",
   "execution_count": 33,
   "id": "25b27f3b",
   "metadata": {},
   "outputs": [
    {
     "name": "stdout",
     "output_type": "stream",
     "text": [
      "handsome \n",
      "python\n"
     ]
    }
   ],
   "source": [
    "print('handsome \\npython')"
   ]
  },
  {
   "cell_type": "markdown",
   "id": "f1fe29a3",
   "metadata": {},
   "source": [
    "#### another poplular function is len()"
   ]
  },
  {
   "cell_type": "code",
   "execution_count": 34,
   "id": "c0f02de3",
   "metadata": {},
   "outputs": [
    {
     "data": {
      "text/plain": [
       "11"
      ]
     },
     "execution_count": 34,
     "metadata": {},
     "output_type": "execute_result"
    }
   ],
   "source": [
    "len('hello maddy') ## note even the space is treated as charecter hence it give output as 11"
   ]
  },
  {
   "cell_type": "markdown",
   "id": "8640f6a0",
   "metadata": {},
   "source": [
    "### String indexing and String Slicing\n"
   ]
  },
  {
   "cell_type": "code",
   "execution_count": 35,
   "id": "06204eb6",
   "metadata": {},
   "outputs": [],
   "source": [
    "mystring = 'Hello World'"
   ]
  },
  {
   "cell_type": "code",
   "execution_count": 36,
   "id": "23aec24a",
   "metadata": {},
   "outputs": [
    {
     "data": {
      "text/plain": [
       "'Hello World'"
      ]
     },
     "execution_count": 36,
     "metadata": {},
     "output_type": "execute_result"
    }
   ],
   "source": [
    "mystring"
   ]
  },
  {
   "cell_type": "code",
   "execution_count": 39,
   "id": "fcd058df",
   "metadata": {},
   "outputs": [
    {
     "data": {
      "text/plain": [
       "'H'"
      ]
     },
     "execution_count": 39,
     "metadata": {},
     "output_type": "execute_result"
    }
   ],
   "source": [
    "mystring[0] # string indexing"
   ]
  },
  {
   "cell_type": "code",
   "execution_count": 40,
   "id": "382787a3",
   "metadata": {},
   "outputs": [
    {
     "data": {
      "text/plain": [
       "'l'"
      ]
     },
     "execution_count": 40,
     "metadata": {},
     "output_type": "execute_result"
    }
   ],
   "source": [
    "mystring[2]"
   ]
  },
  {
   "cell_type": "code",
   "execution_count": 43,
   "id": "53a0a78c",
   "metadata": {},
   "outputs": [
    {
     "name": "stdout",
     "output_type": "stream",
     "text": [
      "r\n",
      "r\n"
     ]
    }
   ],
   "source": [
    "# we know negative indexing is possible in python \n",
    "print(mystring[8])\n",
    "print(mystring[-3]) # these two indexing should invariablly return same letter 'r' from the ' Hello World'"
   ]
  },
  {
   "cell_type": "code",
   "execution_count": 44,
   "id": "eb723a7b",
   "metadata": {},
   "outputs": [
    {
     "name": "stdout",
     "output_type": "stream",
     "text": [
      "11\n"
     ]
    }
   ],
   "source": [
    "print(len(mystring))"
   ]
  },
  {
   "cell_type": "markdown",
   "id": "ba97a990",
   "metadata": {},
   "source": [
    "###### lets do Slicing"
   ]
  },
  {
   "cell_type": "code",
   "execution_count": 45,
   "id": "caaa94e2",
   "metadata": {},
   "outputs": [],
   "source": [
    "mystring = 'abcdefghijklmnopqrstuvwxyz'"
   ]
  },
  {
   "cell_type": "code",
   "execution_count": 46,
   "id": "84cac0a8",
   "metadata": {},
   "outputs": [
    {
     "data": {
      "text/plain": [
       "'abcdef'"
      ]
     },
     "execution_count": 46,
     "metadata": {},
     "output_type": "execute_result"
    }
   ],
   "source": [
    "mystring[0:6]"
   ]
  },
  {
   "cell_type": "code",
   "execution_count": 48,
   "id": "088d1c2c",
   "metadata": {},
   "outputs": [
    {
     "data": {
      "text/plain": [
       "'def'"
      ]
     },
     "execution_count": 48,
     "metadata": {},
     "output_type": "execute_result"
    }
   ],
   "source": [
    "# lets grab 'def' from the string \n",
    "mystring[3:6]"
   ]
  },
  {
   "cell_type": "code",
   "execution_count": 49,
   "id": "dabaec95",
   "metadata": {},
   "outputs": [
    {
     "data": {
      "text/plain": [
       "'ghi'"
      ]
     },
     "execution_count": 49,
     "metadata": {},
     "output_type": "execute_result"
    }
   ],
   "source": [
    "mystring[6:9]"
   ]
  },
  {
   "cell_type": "markdown",
   "id": "8613d844",
   "metadata": {},
   "source": [
    "#####  in the above it includes 6 letter and grabs everything till 9 th leeter but not the 9th letter starting from 0"
   ]
  },
  {
   "cell_type": "code",
   "execution_count": 53,
   "id": "86507622",
   "metadata": {},
   "outputs": [
    {
     "data": {
      "text/plain": [
       "'defghijklmnopqr'"
      ]
     },
     "execution_count": 53,
     "metadata": {},
     "output_type": "execute_result"
    }
   ],
   "source": [
    "mystring[3:-8]"
   ]
  },
  {
   "cell_type": "code",
   "execution_count": 54,
   "id": "d8c74382",
   "metadata": {},
   "outputs": [
    {
     "data": {
      "text/plain": [
       "'nopqr'"
      ]
     },
     "execution_count": 54,
     "metadata": {},
     "output_type": "execute_result"
    }
   ],
   "source": [
    "mystring[13:-8]"
   ]
  },
  {
   "cell_type": "markdown",
   "id": "9b32ec33",
   "metadata": {},
   "source": [
    "##### Lets discuss step size\n"
   ]
  },
  {
   "cell_type": "code",
   "execution_count": 55,
   "id": "e44ae8a0",
   "metadata": {},
   "outputs": [
    {
     "data": {
      "text/plain": [
       "'abcdefghijklmnopqrstuvwxyz'"
      ]
     },
     "execution_count": 55,
     "metadata": {},
     "output_type": "execute_result"
    }
   ],
   "source": [
    "mystring[::]"
   ]
  },
  {
   "cell_type": "code",
   "execution_count": 56,
   "id": "25d7b281",
   "metadata": {},
   "outputs": [
    {
     "data": {
      "text/plain": [
       "'acegikmoqsuwy'"
      ]
     },
     "execution_count": 56,
     "metadata": {},
     "output_type": "execute_result"
    }
   ],
   "source": [
    "mystring[::2]"
   ]
  },
  {
   "cell_type": "code",
   "execution_count": 57,
   "id": "d31d7fa6",
   "metadata": {},
   "outputs": [
    {
     "data": {
      "text/plain": [
       "'dfhjlnprtvxz'"
      ]
     },
     "execution_count": 57,
     "metadata": {},
     "output_type": "execute_result"
    }
   ],
   "source": [
    "mystring[3::2]"
   ]
  },
  {
   "cell_type": "code",
   "execution_count": 58,
   "id": "f229d0ea",
   "metadata": {},
   "outputs": [
    {
     "data": {
      "text/plain": [
       "'dfhjlnpr'"
      ]
     },
     "execution_count": 58,
     "metadata": {},
     "output_type": "execute_result"
    }
   ],
   "source": [
    "mystring[3:-8:2]"
   ]
  },
  {
   "cell_type": "code",
   "execution_count": 59,
   "id": "2b78c763",
   "metadata": {},
   "outputs": [
    {
     "name": "stdout",
     "output_type": "stream",
     "text": [
      "8\n"
     ]
    }
   ],
   "source": [
    "print(len(mystring[3:-8:2]))"
   ]
  },
  {
   "cell_type": "markdown",
   "id": "3ac755f8",
   "metadata": {},
   "source": [
    "### lets do a python tric to reverse the string"
   ]
  },
  {
   "cell_type": "code",
   "execution_count": 62,
   "id": "07213bae",
   "metadata": {},
   "outputs": [
    {
     "data": {
      "text/plain": [
       "'abcdefghijklmnopqrstuvwxyz'"
      ]
     },
     "execution_count": 62,
     "metadata": {},
     "output_type": "execute_result"
    }
   ],
   "source": [
    "mystring"
   ]
  },
  {
   "cell_type": "code",
   "execution_count": 63,
   "id": "a39b5cb3",
   "metadata": {},
   "outputs": [
    {
     "data": {
      "text/plain": [
       "'zxvtrpnljhfdb'"
      ]
     },
     "execution_count": 63,
     "metadata": {},
     "output_type": "execute_result"
    }
   ],
   "source": [
    "mystring[::-2]"
   ]
  },
  {
   "cell_type": "code",
   "execution_count": 64,
   "id": "3ca46c73",
   "metadata": {},
   "outputs": [
    {
     "data": {
      "text/plain": [
       "''"
      ]
     },
     "execution_count": 64,
     "metadata": {},
     "output_type": "execute_result"
    }
   ],
   "source": [
    "mystring[3:8:-1]"
   ]
  },
  {
   "cell_type": "code",
   "execution_count": 66,
   "id": "e677d8b4",
   "metadata": {},
   "outputs": [
    {
     "name": "stdout",
     "output_type": "stream",
     "text": [
      "defgh\n"
     ]
    }
   ],
   "source": [
    "print(mystring[3:8:1])"
   ]
  },
  {
   "cell_type": "code",
   "execution_count": 67,
   "id": "f9903961",
   "metadata": {},
   "outputs": [
    {
     "data": {
      "text/plain": [
       "'ink'"
      ]
     },
     "execution_count": 67,
     "metadata": {},
     "output_type": "execute_result"
    }
   ],
   "source": [
    "s= 'tinker'\n",
    "s[1:4]"
   ]
  },
  {
   "cell_type": "markdown",
   "id": "514196b6",
   "metadata": {},
   "source": [
    "#### String Properties and Methods"
   ]
  },
  {
   "cell_type": "code",
   "execution_count": 68,
   "id": "fd6d01c2",
   "metadata": {},
   "outputs": [],
   "source": [
    "## immutability of the strings\n",
    "name = \"vinay\"\n",
    "#  'str' objects does not support item assignment"
   ]
  },
  {
   "cell_type": "markdown",
   "id": "bae33c0c",
   "metadata": {},
   "source": [
    "### lets understand string concatination \n",
    "'string' objects does not supprot item assignemnt meaning we cannot for example in abve cell replace V in name wit somethin like 'P'\n",
    "however what we can do is - we can concatinate string by doing like this"
   ]
  },
  {
   "cell_type": "code",
   "execution_count": 69,
   "id": "30e02c5c",
   "metadata": {},
   "outputs": [
    {
     "data": {
      "text/plain": [
       "'inay'"
      ]
     },
     "execution_count": 69,
     "metadata": {},
     "output_type": "execute_result"
    }
   ],
   "source": [
    "last_letters = name[1:]\n",
    "last_letters"
   ]
  },
  {
   "cell_type": "code",
   "execution_count": 70,
   "id": "7fc64719",
   "metadata": {},
   "outputs": [
    {
     "data": {
      "text/plain": [
       "'Pinay'"
      ]
     },
     "execution_count": 70,
     "metadata": {},
     "output_type": "execute_result"
    }
   ],
   "source": [
    "# now Join with 'P'\n",
    "\"P\" + last_letters"
   ]
  },
  {
   "cell_type": "code",
   "execution_count": 71,
   "id": "f7b0912f",
   "metadata": {},
   "outputs": [],
   "source": [
    "x = 'python'\n"
   ]
  },
  {
   "cell_type": "code",
   "execution_count": 72,
   "id": "4dec9b94",
   "metadata": {},
   "outputs": [
    {
     "data": {
      "text/plain": [
       "'pythonis a big snake and a computer language'"
      ]
     },
     "execution_count": 72,
     "metadata": {},
     "output_type": "execute_result"
    }
   ],
   "source": [
    "x + 'is a big snake and a computer language'"
   ]
  },
  {
   "cell_type": "code",
   "execution_count": 73,
   "id": "80eee5ec",
   "metadata": {},
   "outputs": [
    {
     "data": {
      "text/plain": [
       "'nambi narayananrocketry'"
      ]
     },
     "execution_count": 73,
     "metadata": {},
     "output_type": "execute_result"
    }
   ],
   "source": [
    "y= 'nambi narayanan'\n",
    "movie = y+'rocketry'\n",
    "movie"
   ]
  },
  {
   "cell_type": "code",
   "execution_count": 74,
   "id": "4536f0c9",
   "metadata": {},
   "outputs": [
    {
     "data": {
      "text/plain": [
       "'nambi narayananrocketry'"
      ]
     },
     "execution_count": 74,
     "metadata": {},
     "output_type": "execute_result"
    }
   ],
   "source": [
    "movie"
   ]
  },
  {
   "cell_type": "code",
   "execution_count": 75,
   "id": "5dabcdfe",
   "metadata": {},
   "outputs": [
    {
     "data": {
      "text/plain": [
       "'nambi narayananisro scientist'"
      ]
     },
     "execution_count": 75,
     "metadata": {},
     "output_type": "execute_result"
    }
   ],
   "source": [
    "y+ 'isro scientist'"
   ]
  },
  {
   "cell_type": "code",
   "execution_count": 77,
   "id": "f8c17057",
   "metadata": {},
   "outputs": [
    {
     "data": {
      "text/plain": [
       "'nambi narayanan movie made on him'"
      ]
     },
     "execution_count": 77,
     "metadata": {},
     "output_type": "execute_result"
    }
   ],
   "source": [
    "y + ' movie made on him'"
   ]
  },
  {
   "cell_type": "code",
   "execution_count": 80,
   "id": "8c124547",
   "metadata": {},
   "outputs": [
    {
     "data": {
      "text/plain": [
       "'nambi narayanannambi narayanan'"
      ]
     },
     "execution_count": 80,
     "metadata": {},
     "output_type": "execute_result"
    }
   ],
   "source": [
    "R = y + y\n",
    "R "
   ]
  },
  {
   "cell_type": "code",
   "execution_count": 82,
   "id": "467f4393",
   "metadata": {},
   "outputs": [
    {
     "data": {
      "text/plain": [
       "'nambi narayanannambi narayanan'"
      ]
     },
     "execution_count": 82,
     "metadata": {},
     "output_type": "execute_result"
    }
   ],
   "source": [
    "R"
   ]
  },
  {
   "cell_type": "markdown",
   "id": "2b1aef1b",
   "metadata": {},
   "source": [
    "### we can do multiple concatination "
   ]
  },
  {
   "cell_type": "code",
   "execution_count": 84,
   "id": "25816a0d",
   "metadata": {},
   "outputs": [
    {
     "data": {
      "text/plain": [
       "'nambi narayanannambi narayanannambi narayanannambi narayanannambi narayanannambi narayanannambi narayanannambi narayanannambi narayanannambi narayanan'"
      ]
     },
     "execution_count": 84,
     "metadata": {},
     "output_type": "execute_result"
    }
   ],
   "source": [
    "R * 5"
   ]
  },
  {
   "cell_type": "code",
   "execution_count": 85,
   "id": "4d1589c4",
   "metadata": {},
   "outputs": [
    {
     "data": {
      "text/plain": [
       "False"
      ]
     },
     "execution_count": 85,
     "metadata": {},
     "output_type": "execute_result"
    }
   ],
   "source": [
    "R.isalpha()"
   ]
  },
  {
   "cell_type": "code",
   "execution_count": 86,
   "id": "63c199ea",
   "metadata": {},
   "outputs": [
    {
     "data": {
      "text/plain": [
       "'NAMBI NARAYANANNAMBI NARAYANAN'"
      ]
     },
     "execution_count": 86,
     "metadata": {},
     "output_type": "execute_result"
    }
   ],
   "source": [
    "R.upper()"
   ]
  },
  {
   "cell_type": "code",
   "execution_count": 87,
   "id": "7d40cb3d",
   "metadata": {},
   "outputs": [
    {
     "data": {
      "text/plain": [
       "'nambi narayanannambi narayanan'"
      ]
     },
     "execution_count": 87,
     "metadata": {},
     "output_type": "execute_result"
    }
   ],
   "source": [
    "R.lower()"
   ]
  },
  {
   "cell_type": "code",
   "execution_count": 88,
   "id": "701de0de",
   "metadata": {},
   "outputs": [
    {
     "data": {
      "text/plain": [
       "['nambi', 'narayanannambi', 'narayanan']"
      ]
     },
     "execution_count": 88,
     "metadata": {},
     "output_type": "execute_result"
    }
   ],
   "source": [
    "R.split()"
   ]
  },
  {
   "cell_type": "code",
   "execution_count": 90,
   "id": "e67ca814",
   "metadata": {},
   "outputs": [
    {
     "data": {
      "text/plain": [
       "['n', 'mbi n', 'r', 'y', 'n', 'nn', 'mbi n', 'r', 'y', 'n', 'n']"
      ]
     },
     "execution_count": 90,
     "metadata": {},
     "output_type": "execute_result"
    }
   ],
   "source": [
    "R.split('a')"
   ]
  },
  {
   "cell_type": "markdown",
   "id": "4bf5b871",
   "metadata": {},
   "source": [
    "#### String formating for Print function"
   ]
  },
  {
   "cell_type": "markdown",
   "id": "5c39a729",
   "metadata": {},
   "source": [
    "> There are multiple ways to formate strings for printing variable in them, os that you dont have to use + sign in them as we did above\n",
    "this is know as string interpoliation \n",
    "> This is just a fancy way of saying stick a variable into a string\n",
    ">  Lets explore two methods for this:\n",
    ". format() method\n",
    "f-string(fomated string literals)"
   ]
  },
  {
   "cell_type": "markdown",
   "id": "ea0f44a9",
   "metadata": {},
   "source": [
    "### Formatting with the .formate() method\n",
    "a good way to format objects into your strings for print statements is whith the string , format() method . the syntax is :\n",
    "\n",
    "#### string here{} then also{}/ 'format('something1','something2')"
   ]
  },
  {
   "cell_type": "code",
   "execution_count": 92,
   "id": "b9732f42",
   "metadata": {},
   "outputs": [
    {
     "name": "stdout",
     "output_type": "stream",
     "text": [
      "this is a string Inserted\n"
     ]
    }
   ],
   "source": [
    "print('this is a string {}'.format('Inserted'))"
   ]
  },
  {
   "cell_type": "code",
   "execution_count": 93,
   "id": "172ca288",
   "metadata": {},
   "outputs": [
    {
     "name": "stdout",
     "output_type": "stream",
     "text": [
      "The fox brown quick \n"
     ]
    }
   ],
   "source": [
    "print('The {} {} {} '.format('fox', 'brown', 'quick'))"
   ]
  },
  {
   "cell_type": "code",
   "execution_count": 94,
   "id": "e109da7a",
   "metadata": {},
   "outputs": [
    {
     "name": "stdout",
     "output_type": "stream",
     "text": [
      "The quick brown fox \n"
     ]
    }
   ],
   "source": [
    "### it would be better if the out put is momething gramatically correct saying - The quick brown fox\n",
    "# we can give indexing in the above print like below\n",
    "\n",
    "print('The {2} {1} {0} '.format('fox', 'brown', 'quick'))"
   ]
  },
  {
   "cell_type": "code",
   "execution_count": 95,
   "id": "f0697de5",
   "metadata": {},
   "outputs": [
    {
     "data": {
      "text/plain": [
       "'The fox brown quick '"
      ]
     },
     "execution_count": 95,
     "metadata": {},
     "output_type": "execute_result"
    }
   ],
   "source": [
    "'The {} {} {} '.format('fox', 'brown', 'quick')"
   ]
  },
  {
   "cell_type": "code",
   "execution_count": 96,
   "id": "e58b47b2",
   "metadata": {},
   "outputs": [
    {
     "data": {
      "text/plain": [
       "'The quick brown fox '"
      ]
     },
     "execution_count": 96,
     "metadata": {},
     "output_type": "execute_result"
    }
   ],
   "source": [
    "'The {2} {1} {0} '.format('fox', 'brown', 'quick')"
   ]
  },
  {
   "cell_type": "code",
   "execution_count": 97,
   "id": "0e9b2223",
   "metadata": {},
   "outputs": [
    {
     "data": {
      "text/plain": [
       "'The quick quick quick '"
      ]
     },
     "execution_count": 97,
     "metadata": {},
     "output_type": "execute_result"
    }
   ],
   "source": [
    "'The {2} {2} {2} '.format('fox', 'brown', 'quick')"
   ]
  },
  {
   "cell_type": "code",
   "execution_count": 98,
   "id": "09fe51f9",
   "metadata": {},
   "outputs": [
    {
     "name": "stdout",
     "output_type": "stream",
     "text": [
      "The quick brown fox \n"
     ]
    }
   ],
   "source": [
    "# we can also use variable names to insert the keywords\n",
    "print('The {c} {b} {f} '.format(f='fox', b='brown', c='quick'))"
   ]
  },
  {
   "cell_type": "markdown",
   "id": "a5734d73",
   "metadata": {},
   "source": [
    "#### before finishing .format() method lets talk about Float Formatting . \n",
    "####  Float fomatting follows \"{value:width.precision f}\" \n",
    "basically it allows you to adjust width and precision of your lfloating point number"
   ]
  },
  {
   "cell_type": "code",
   "execution_count": 101,
   "id": "2a47371d",
   "metadata": {},
   "outputs": [
    {
     "data": {
      "text/plain": [
       "0.1287001287001287"
      ]
     },
     "execution_count": 101,
     "metadata": {},
     "output_type": "execute_result"
    }
   ],
   "source": [
    "r = 100/777\n",
    "r "
   ]
  },
  {
   "cell_type": "code",
   "execution_count": 102,
   "id": "cbfb5a1e",
   "metadata": {},
   "outputs": [
    {
     "name": "stdout",
     "output_type": "stream",
     "text": [
      "The resust was 0.1287001287001287\n"
     ]
    }
   ],
   "source": [
    "print(\"The resust was {}\".format(r))"
   ]
  },
  {
   "cell_type": "code",
   "execution_count": 106,
   "id": "009c9d54",
   "metadata": {},
   "outputs": [
    {
     "name": "stdout",
     "output_type": "stream",
     "text": [
      "The result was 0.1287001287001287\n"
     ]
    }
   ],
   "source": [
    "# now lets see how float formatting works\n",
    "print(\"The result was {}\".format(r))"
   ]
  },
  {
   "cell_type": "code",
   "execution_count": 109,
   "id": "c50c97aa",
   "metadata": {},
   "outputs": [
    {
     "name": "stdout",
     "output_type": "stream",
     "text": [
      "The result was 0.129\n"
     ]
    }
   ],
   "source": [
    "print(\"The result was {resul:1.3f}\".format(resul=r))"
   ]
  },
  {
   "cell_type": "markdown",
   "id": "052b8de4",
   "metadata": {},
   "source": [
    "#### basically what we did was to store the value of r in a variable and  number of decimals taken after (.) with passing 3f... \n",
    "####  and with width we are playing around what and howmany spaces there should be\n"
   ]
  },
  {
   "cell_type": "code",
   "execution_count": 113,
   "id": "b92596d1",
   "metadata": {},
   "outputs": [
    {
     "name": "stdout",
     "output_type": "stream",
     "text": [
      "The result was      0.129\n"
     ]
    }
   ],
   "source": [
    "print(\"The result was {resul:10.3f}\".format(resul=r))"
   ]
  },
  {
   "cell_type": "markdown",
   "id": "07e0c9cf",
   "metadata": {},
   "source": [
    "### lets understand f strings - fomating string literals introduced in python 3.6 kind of new to python"
   ]
  },
  {
   "cell_type": "code",
   "execution_count": 114,
   "id": "e42aedea",
   "metadata": {},
   "outputs": [],
   "source": [
    "name = 'vinay'\n"
   ]
  },
  {
   "cell_type": "code",
   "execution_count": 116,
   "id": "29052c77",
   "metadata": {},
   "outputs": [
    {
     "name": "stdout",
     "output_type": "stream",
     "text": [
      "Hello his name is vinay\n"
     ]
    }
   ],
   "source": [
    "# from the above case we can write the code as\n",
    "print('Hello his name is {}'.format(name))"
   ]
  },
  {
   "cell_type": "code",
   "execution_count": 118,
   "id": "12221eaf",
   "metadata": {},
   "outputs": [
    {
     "name": "stdout",
     "output_type": "stream",
     "text": [
      "Hello his name is vinay\n"
     ]
    }
   ],
   "source": [
    "# now using the string literals we can say - directly pass the string by using f before ...\n",
    "print(f'Hello his name is {name}')"
   ]
  },
  {
   "cell_type": "code",
   "execution_count": 121,
   "id": "2b30c569",
   "metadata": {},
   "outputs": [
    {
     "name": "stdout",
     "output_type": "stream",
     "text": [
      "vinay is 35 years old and he is working as software_architect\n"
     ]
    }
   ],
   "source": [
    "# this works with multiple variables\n",
    "name = \"vinay\"\n",
    "age = \"35\"\n",
    "designation = \"software_architect\"\n",
    "print(f'{name} is {age} years old and he is working as {designation}')"
   ]
  },
  {
   "cell_type": "markdown",
   "id": "72e273aa",
   "metadata": {},
   "source": [
    "## Lists in python"
   ]
  },
  {
   "cell_type": "markdown",
   "id": "60083280",
   "metadata": {},
   "source": [
    "#####  Lists are ordered sequences that can hols a variety of object types\n",
    "\n",
    "They use [] brackets and commas to seperate objects in the list ex. [1,2,3,4]\n",
    "lists support indexing and slicing . lists can be nested and also have a variety of useful methods that can be called off of them"
   ]
  },
  {
   "cell_type": "code",
   "execution_count": 123,
   "id": "d478be8b",
   "metadata": {},
   "outputs": [],
   "source": [
    "my_list = [1,2,3]\n",
    "#see thats a list - also python has no problem in handling different types of data types in lists\n",
    "my_list2 = ['string',2, 2.6,89, 223.6]"
   ]
  },
  {
   "cell_type": "code",
   "execution_count": 128,
   "id": "64e785c8",
   "metadata": {},
   "outputs": [
    {
     "data": {
      "text/plain": [
       "3"
      ]
     },
     "execution_count": 128,
     "metadata": {},
     "output_type": "execute_result"
    }
   ],
   "source": [
    "# if you ever want to check the length of the list you can just use len function\n",
    "\n",
    "len(my_list)\n"
   ]
  },
  {
   "cell_type": "code",
   "execution_count": 129,
   "id": "145fdc45",
   "metadata": {},
   "outputs": [
    {
     "data": {
      "text/plain": [
       "5"
      ]
     },
     "execution_count": 129,
     "metadata": {},
     "output_type": "execute_result"
    }
   ],
   "source": [
    "len(my_list2)"
   ]
  },
  {
   "cell_type": "code",
   "execution_count": 131,
   "id": "940cd4f8",
   "metadata": {},
   "outputs": [
    {
     "data": {
      "text/plain": [
       "('string', 2)"
      ]
     },
     "execution_count": 131,
     "metadata": {},
     "output_type": "execute_result"
    }
   ],
   "source": [
    "# List being ordered sequence of objects we can use indexing and slicing just like strings\n",
    "\n",
    "my_list2[0] , my_list[1]"
   ]
  },
  {
   "cell_type": "code",
   "execution_count": 132,
   "id": "a7a8bc29",
   "metadata": {},
   "outputs": [
    {
     "name": "stdout",
     "output_type": "stream",
     "text": [
      "string 2\n"
     ]
    }
   ],
   "source": [
    "print(my_list2[0] , my_list[1])"
   ]
  },
  {
   "cell_type": "code",
   "execution_count": 133,
   "id": "7f40bd78",
   "metadata": {},
   "outputs": [
    {
     "data": {
      "text/plain": [
       "['string']"
      ]
     },
     "execution_count": 133,
     "metadata": {},
     "output_type": "execute_result"
    }
   ],
   "source": [
    "my_list2[0 :1] "
   ]
  },
  {
   "cell_type": "code",
   "execution_count": 134,
   "id": "6eed4e97",
   "metadata": {},
   "outputs": [
    {
     "data": {
      "text/plain": [
       "[1, 2, 3, 87, 88, 59, 'Vinay', 'list']"
      ]
     },
     "execution_count": 134,
     "metadata": {},
     "output_type": "execute_result"
    }
   ],
   "source": [
    "# slicing and indexing in list works just like string and can also concatinate lists together - lets take another list\n",
    "another_list = [87, 88, 59, 'Vinay', 'list']\n",
    "my_list + another_list\n"
   ]
  },
  {
   "cell_type": "code",
   "execution_count": 135,
   "id": "7514cf71",
   "metadata": {},
   "outputs": [
    {
     "data": {
      "text/plain": [
       "[1, 2, 3]"
      ]
     },
     "execution_count": 135,
     "metadata": {},
     "output_type": "execute_result"
    }
   ],
   "source": [
    "# we can see orighnallist will stay as it is since we haven't saved it to another - \n",
    "my_list"
   ]
  },
  {
   "cell_type": "code",
   "execution_count": 136,
   "id": "4939971b",
   "metadata": {},
   "outputs": [
    {
     "data": {
      "text/plain": [
       "[87, 88, 59, 'Vinay', 'list']"
      ]
     },
     "execution_count": 136,
     "metadata": {},
     "output_type": "execute_result"
    }
   ],
   "source": [
    "another_list"
   ]
  },
  {
   "cell_type": "code",
   "execution_count": 137,
   "id": "525fb54e",
   "metadata": {},
   "outputs": [],
   "source": [
    "# indexing, slicing is simlar to the strings but what is difference is we can mutate the list for example :\n",
    "new_list = another_list + my_list + my_list2 "
   ]
  },
  {
   "cell_type": "code",
   "execution_count": 138,
   "id": "507a9875",
   "metadata": {},
   "outputs": [
    {
     "data": {
      "text/plain": [
       "[87, 88, 59, 'Vinay', 'list', 1, 2, 3, 'string', 2, 2.6, 89, 223.6]"
      ]
     },
     "execution_count": 138,
     "metadata": {},
     "output_type": "execute_result"
    }
   ],
   "source": [
    "new_list"
   ]
  },
  {
   "cell_type": "code",
   "execution_count": 139,
   "id": "72474843",
   "metadata": {},
   "outputs": [
    {
     "name": "stdout",
     "output_type": "stream",
     "text": [
      "['87 CHANGED', 88, 59, 'Vinay', 'list', 1, 2, 3, 'string', 2, 2.6, 89, 223.6]\n"
     ]
    }
   ],
   "source": [
    "new_list[0] = \"87 CHANGED\"\n",
    "print(new_list)"
   ]
  },
  {
   "cell_type": "code",
   "execution_count": 140,
   "id": "d5613fea",
   "metadata": {},
   "outputs": [],
   "source": [
    "# thats the way u can change or mutate the list"
   ]
  },
  {
   "cell_type": "code",
   "execution_count": 141,
   "id": "204c7a95",
   "metadata": {},
   "outputs": [],
   "source": [
    "# another common operation we can perform is add another element at the end of the list\n",
    "new_list.append('last_name')"
   ]
  },
  {
   "cell_type": "code",
   "execution_count": 145,
   "id": "a29d8036",
   "metadata": {},
   "outputs": [
    {
     "data": {
      "text/plain": [
       "['87 CHANGED',\n",
       " 88,\n",
       " 59,\n",
       " 'Vinay',\n",
       " 'list',\n",
       " 1,\n",
       " 2,\n",
       " 3,\n",
       " 'string',\n",
       " 2,\n",
       " 2.6,\n",
       " 89,\n",
       " 223.6,\n",
       " 'last_name']"
      ]
     },
     "execution_count": 145,
     "metadata": {},
     "output_type": "execute_result"
    }
   ],
   "source": [
    "new_list"
   ]
  },
  {
   "cell_type": "code",
   "execution_count": 147,
   "id": "92fbc311",
   "metadata": {},
   "outputs": [
    {
     "name": "stdout",
     "output_type": "stream",
     "text": [
      "['87 CHANGED', 88, 59, 'Vinay', 'list', 1, 2, 3, 'string', 2, 2.6, 89, 223.6, 'last_name']\n"
     ]
    }
   ],
   "source": [
    "# append is the method to add new item to the list that permanently changes our lkist to have a new element\n",
    "print(new_list)"
   ]
  },
  {
   "cell_type": "code",
   "execution_count": 148,
   "id": "d53e66b1",
   "metadata": {},
   "outputs": [],
   "source": [
    "new_list.append('super_useful')"
   ]
  },
  {
   "cell_type": "code",
   "execution_count": 149,
   "id": "1c4bfbe7",
   "metadata": {},
   "outputs": [
    {
     "data": {
      "text/plain": [
       "['87 CHANGED',\n",
       " 88,\n",
       " 59,\n",
       " 'Vinay',\n",
       " 'list',\n",
       " 1,\n",
       " 2,\n",
       " 3,\n",
       " 'string',\n",
       " 2,\n",
       " 2.6,\n",
       " 89,\n",
       " 223.6,\n",
       " 'last_name',\n",
       " 'super_useful']"
      ]
     },
     "execution_count": 149,
     "metadata": {},
     "output_type": "execute_result"
    }
   ],
   "source": [
    "new_list"
   ]
  },
  {
   "cell_type": "code",
   "execution_count": 150,
   "id": "98117c76",
   "metadata": {},
   "outputs": [
    {
     "data": {
      "text/plain": [
       "'super_useful'"
      ]
     },
     "execution_count": 150,
     "metadata": {},
     "output_type": "execute_result"
    }
   ],
   "source": [
    "# now lets talk about removing the item from the list - for this we use POP method- pop= is actually going to pop off the item\n",
    "new_list.pop()"
   ]
  },
  {
   "cell_type": "code",
   "execution_count": 153,
   "id": "8a4da45f",
   "metadata": {},
   "outputs": [
    {
     "data": {
      "text/plain": [
       "['87 CHANGED',\n",
       " 88,\n",
       " 59,\n",
       " 'Vinay',\n",
       " 'list',\n",
       " 1,\n",
       " 2,\n",
       " 3,\n",
       " 'string',\n",
       " 2,\n",
       " 2.6,\n",
       " 89,\n",
       " 223.6,\n",
       " 'last_name']"
      ]
     },
     "execution_count": 153,
     "metadata": {},
     "output_type": "execute_result"
    }
   ],
   "source": [
    "# now when you check there nolonger hast the last element in the list\n",
    "new_list"
   ]
  },
  {
   "cell_type": "code",
   "execution_count": 154,
   "id": "e8ce60c2",
   "metadata": {},
   "outputs": [],
   "source": [
    "# lets save the last item in the last item \n",
    "popped_item = new_list.pop()"
   ]
  },
  {
   "cell_type": "code",
   "execution_count": 155,
   "id": "168d4cde",
   "metadata": {},
   "outputs": [
    {
     "data": {
      "text/plain": [
       "'last_name'"
      ]
     },
     "execution_count": 155,
     "metadata": {},
     "output_type": "execute_result"
    }
   ],
   "source": [
    "popped_item"
   ]
  },
  {
   "cell_type": "code",
   "execution_count": 156,
   "id": "5f4fa4e2",
   "metadata": {},
   "outputs": [
    {
     "data": {
      "text/plain": [
       "'87 CHANGED'"
      ]
     },
     "execution_count": 156,
     "metadata": {},
     "output_type": "execute_result"
    }
   ],
   "source": [
    "# we can pop the specific item from the list using the pop function\n",
    "new_list.pop(0)"
   ]
  },
  {
   "cell_type": "code",
   "execution_count": 157,
   "id": "05ce2715",
   "metadata": {},
   "outputs": [
    {
     "data": {
      "text/plain": [
       "[88, 59, 'Vinay', 'list', 1, 2, 3, 'string', 2, 2.6, 89, 223.6]"
      ]
     },
     "execution_count": 157,
     "metadata": {},
     "output_type": "execute_result"
    }
   ],
   "source": [
    "new_list"
   ]
  },
  {
   "cell_type": "code",
   "execution_count": 163,
   "id": "9fa42b74",
   "metadata": {},
   "outputs": [],
   "source": [
    "new_list2 = ['a','c','b','f','t','y', 'u','d','e','z']\n",
    "num_list3 = [4,1,8]"
   ]
  },
  {
   "cell_type": "code",
   "execution_count": 164,
   "id": "f33ee974",
   "metadata": {},
   "outputs": [],
   "source": [
    "# we can also sort the list \n",
    "new_list2.sort()\n",
    "# even while we call sort function with () it will not return anything its inplace function - meaning in background it has sorted the list\n"
   ]
  },
  {
   "cell_type": "code",
   "execution_count": 165,
   "id": "e2147c85",
   "metadata": {},
   "outputs": [
    {
     "data": {
      "text/plain": [
       "['a', 'b', 'c', 'd', 'e', 'f', 't', 'u', 'y', 'z']"
      ]
     },
     "execution_count": 165,
     "metadata": {},
     "output_type": "execute_result"
    }
   ],
   "source": [
    "new_list2"
   ]
  },
  {
   "cell_type": "code",
   "execution_count": 166,
   "id": "28ec29d9",
   "metadata": {},
   "outputs": [],
   "source": [
    "# when you use sort()function you can't assign it to new variable\n",
    "# doing so will save that as NoneType => meaning we having nothing in that new assigned varible for example :\n",
    "num_list3.sort()"
   ]
  },
  {
   "cell_type": "code",
   "execution_count": 167,
   "id": "82e99d32",
   "metadata": {},
   "outputs": [
    {
     "data": {
      "text/plain": [
       "[1, 4, 8]"
      ]
     },
     "execution_count": 167,
     "metadata": {},
     "output_type": "execute_result"
    }
   ],
   "source": [
    "num_list3"
   ]
  },
  {
   "cell_type": "code",
   "execution_count": 168,
   "id": "ba791fb0",
   "metadata": {},
   "outputs": [],
   "source": [
    "# lets assign and see \n",
    "newnum_list = num_list3.sort()"
   ]
  },
  {
   "cell_type": "code",
   "execution_count": 170,
   "id": "3e09e4c6",
   "metadata": {},
   "outputs": [
    {
     "data": {
      "text/plain": [
       "NoneType"
      ]
     },
     "execution_count": 170,
     "metadata": {},
     "output_type": "execute_result"
    }
   ],
   "source": [
    "type(newnum_list)\n"
   ]
  },
  {
   "cell_type": "code",
   "execution_count": 171,
   "id": "e32fd1be",
   "metadata": {},
   "outputs": [],
   "source": [
    "# this is the distinction we need to make while using the .sort() function => it sorts the list inplace"
   ]
  },
  {
   "cell_type": "markdown",
   "id": "a3a679e1",
   "metadata": {},
   "source": [
    "##### Reverse of the list"
   ]
  },
  {
   "cell_type": "code",
   "execution_count": 172,
   "id": "ff6a87dd",
   "metadata": {},
   "outputs": [],
   "source": [
    "num_list3.reverse()"
   ]
  },
  {
   "cell_type": "code",
   "execution_count": 173,
   "id": "de896685",
   "metadata": {},
   "outputs": [
    {
     "data": {
      "text/plain": [
       "[8, 4, 1]"
      ]
     },
     "execution_count": 173,
     "metadata": {},
     "output_type": "execute_result"
    }
   ],
   "source": [
    "num_list3"
   ]
  },
  {
   "cell_type": "markdown",
   "id": "dfe48af8",
   "metadata": {},
   "source": [
    "## Dictionaries\n",
    "\n",
    "Dictionaries are unordered mappings for sorting objects. Previously we saw how lists store objects in an ordered sequence , dictionaries use a key- value pairing instead."
   ]
  },
  {
   "cell_type": "markdown",
   "id": "6b32d1cd",
   "metadata": {},
   "source": [
    "This key-value pair allows users to quickly grab objects without needing to know an index location  Dictionaries use curly braces and colons to signify the keys and their associated values. \n",
    "\n",
    "{'key':'value','key2':'value2'}\n",
    "\n",
    "\n",
    "so when to use a LIst and when to choose a dictionary\n",
    "\n",
    "Well, \n",
    "##### Dictionaries :\n",
    "Objects retrieved by key name\n",
    "un ordered and cannot be sorted.\n",
    "\n",
    "##### Lists: \n",
    "objects retrieved by location- ordered sequence can be indexed and sliced"
   ]
  },
  {
   "cell_type": "code",
   "execution_count": 174,
   "id": "0dd7c3ac",
   "metadata": {},
   "outputs": [],
   "source": [
    "my_dict = {'key':'value','key2':'value2'}"
   ]
  },
  {
   "cell_type": "code",
   "execution_count": 175,
   "id": "b5ed0e37",
   "metadata": {},
   "outputs": [
    {
     "data": {
      "text/plain": [
       "{'key': 'value', 'key2': 'value2'}"
      ]
     },
     "execution_count": 175,
     "metadata": {},
     "output_type": "execute_result"
    }
   ],
   "source": [
    "my_dict"
   ]
  },
  {
   "cell_type": "code",
   "execution_count": 176,
   "id": "16a65af5",
   "metadata": {},
   "outputs": [
    {
     "data": {
      "text/plain": [
       "'value'"
      ]
     },
     "execution_count": 176,
     "metadata": {},
     "output_type": "execute_result"
    }
   ],
   "source": [
    "# what if we want to get only the values - instead of using the locations we call by the keys\n",
    "my_dict['key']"
   ]
  },
  {
   "cell_type": "code",
   "execution_count": 178,
   "id": "5f45dc9e",
   "metadata": {},
   "outputs": [],
   "source": [
    "# see, a good example of using a dictionary is getting the prices of the store\n",
    "my_prices = {'idly':50, 'oranges':35, 'dosa_pindi':65}"
   ]
  },
  {
   "cell_type": "code",
   "execution_count": 179,
   "id": "79fd5d50",
   "metadata": {},
   "outputs": [
    {
     "data": {
      "text/plain": [
       "65"
      ]
     },
     "execution_count": 179,
     "metadata": {},
     "output_type": "execute_result"
    }
   ],
   "source": [
    "my_prices['dosa_pindi']"
   ]
  },
  {
   "cell_type": "code",
   "execution_count": 180,
   "id": "cd80552d",
   "metadata": {},
   "outputs": [],
   "source": [
    "# point to note - dictionaries are super flexible on datatypes they can hold tey can hold list and other dictionaries as well\n",
    "d= {'k1':123,'k2':[1,2,3], 'k3':{'insidekey':100}}"
   ]
  },
  {
   "cell_type": "code",
   "execution_count": 181,
   "id": "9d7f55a5",
   "metadata": {},
   "outputs": [
    {
     "data": {
      "text/plain": [
       "[1, 2, 3]"
      ]
     },
     "execution_count": 181,
     "metadata": {},
     "output_type": "execute_result"
    }
   ],
   "source": [
    "d['k2']"
   ]
  },
  {
   "cell_type": "code",
   "execution_count": 182,
   "id": "d0b8b65e",
   "metadata": {},
   "outputs": [
    {
     "data": {
      "text/plain": [
       "{'insidekey': 100}"
      ]
     },
     "execution_count": 182,
     "metadata": {},
     "output_type": "execute_result"
    }
   ],
   "source": [
    "d['k3']"
   ]
  },
  {
   "cell_type": "code",
   "execution_count": 183,
   "id": "2be01965",
   "metadata": {},
   "outputs": [
    {
     "data": {
      "text/plain": [
       "100"
      ]
     },
     "execution_count": 183,
     "metadata": {},
     "output_type": "execute_result"
    }
   ],
   "source": [
    "d['k3']['insidekey']"
   ]
  },
  {
   "cell_type": "code",
   "execution_count": 185,
   "id": "efd9a86c",
   "metadata": {},
   "outputs": [
    {
     "data": {
      "text/plain": [
       "2"
      ]
     },
     "execution_count": 185,
     "metadata": {},
     "output_type": "execute_result"
    }
   ],
   "source": [
    "d['k2'][1]"
   ]
  },
  {
   "cell_type": "code",
   "execution_count": 186,
   "id": "0e84af34",
   "metadata": {},
   "outputs": [
    {
     "data": {
      "text/plain": [
       "[2, 3]"
      ]
     },
     "execution_count": 186,
     "metadata": {},
     "output_type": "execute_result"
    }
   ],
   "source": [
    "d['k2'][1:]"
   ]
  },
  {
   "cell_type": "code",
   "execution_count": 188,
   "id": "4fd0f31b",
   "metadata": {},
   "outputs": [],
   "source": [
    "# now let us grab a string form the list inside the dictionary and make it upper case\n",
    "\n",
    "dic = {'k':[1,2,'string',3,'c']}"
   ]
  },
  {
   "cell_type": "code",
   "execution_count": 189,
   "id": "c271009b",
   "metadata": {},
   "outputs": [
    {
     "data": {
      "text/plain": [
       "{'k': [1, 2, 'string', 3, 'c']}"
      ]
     },
     "execution_count": 189,
     "metadata": {},
     "output_type": "execute_result"
    }
   ],
   "source": [
    "dic"
   ]
  },
  {
   "cell_type": "code",
   "execution_count": 190,
   "id": "ef713936",
   "metadata": {},
   "outputs": [],
   "source": [
    "list11 = dic['k']"
   ]
  },
  {
   "cell_type": "code",
   "execution_count": 191,
   "id": "4a92d908",
   "metadata": {},
   "outputs": [
    {
     "data": {
      "text/plain": [
       "[1, 2, 'string', 3, 'c']"
      ]
     },
     "execution_count": 191,
     "metadata": {},
     "output_type": "execute_result"
    }
   ],
   "source": [
    "list11"
   ]
  },
  {
   "cell_type": "code",
   "execution_count": 192,
   "id": "0ff7a977",
   "metadata": {},
   "outputs": [],
   "source": [
    "strr = list11[2]"
   ]
  },
  {
   "cell_type": "code",
   "execution_count": 193,
   "id": "2a78c00c",
   "metadata": {},
   "outputs": [
    {
     "data": {
      "text/plain": [
       "'string'"
      ]
     },
     "execution_count": 193,
     "metadata": {},
     "output_type": "execute_result"
    }
   ],
   "source": [
    "strr"
   ]
  },
  {
   "cell_type": "code",
   "execution_count": 194,
   "id": "ba9b31c6",
   "metadata": {},
   "outputs": [
    {
     "data": {
      "text/plain": [
       "'STRING'"
      ]
     },
     "execution_count": 194,
     "metadata": {},
     "output_type": "execute_result"
    }
   ],
   "source": [
    "strr.upper()"
   ]
  },
  {
   "cell_type": "code",
   "execution_count": 195,
   "id": "7a4241c2",
   "metadata": {},
   "outputs": [
    {
     "data": {
      "text/plain": [
       "'C'"
      ]
     },
     "execution_count": 195,
     "metadata": {},
     "output_type": "execute_result"
    }
   ],
   "source": [
    "# however, we can do all these in one step because of the  flexibility offered in python\n",
    "\n",
    "dic['k'][4].upper()"
   ]
  },
  {
   "cell_type": "code",
   "execution_count": 196,
   "id": "5bb857d6",
   "metadata": {},
   "outputs": [],
   "source": [
    "#  we can add new key-value pair to the dictionary its straight forward lets see how\n",
    "d = {'k':100,'k2':200,'k3':300, 'k4':400}"
   ]
  },
  {
   "cell_type": "code",
   "execution_count": 197,
   "id": "15913d2b",
   "metadata": {},
   "outputs": [
    {
     "data": {
      "text/plain": [
       "{'k': 100, 'k2': 200, 'k3': 300, 'k4': 400}"
      ]
     },
     "execution_count": 197,
     "metadata": {},
     "output_type": "execute_result"
    }
   ],
   "source": [
    "d"
   ]
  },
  {
   "cell_type": "code",
   "execution_count": 198,
   "id": "eb6ea5c0",
   "metadata": {},
   "outputs": [],
   "source": [
    "# what if you wanted to add k5 : 500 \n",
    "d['k5'] = 500"
   ]
  },
  {
   "cell_type": "code",
   "execution_count": 199,
   "id": "5dcabfbd",
   "metadata": {},
   "outputs": [
    {
     "data": {
      "text/plain": [
       "{'k': 100, 'k2': 200, 'k3': 300, 'k4': 400, 'k5': 500}"
      ]
     },
     "execution_count": 199,
     "metadata": {},
     "output_type": "execute_result"
    }
   ],
   "source": [
    "d\n"
   ]
  },
  {
   "cell_type": "code",
   "execution_count": 200,
   "id": "73486ad3",
   "metadata": {},
   "outputs": [],
   "source": [
    "# we can also alter the existing keys to new value\n",
    "d['k1'] = 'NEW Value'"
   ]
  },
  {
   "cell_type": "code",
   "execution_count": 201,
   "id": "516f9b86",
   "metadata": {},
   "outputs": [
    {
     "data": {
      "text/plain": [
       "{'k': 100, 'k2': 200, 'k3': 300, 'k4': 400, 'k5': 500, 'k1': 'NEW Value'}"
      ]
     },
     "execution_count": 201,
     "metadata": {},
     "output_type": "execute_result"
    }
   ],
   "source": [
    "d"
   ]
  },
  {
   "cell_type": "code",
   "execution_count": 202,
   "id": "55bdeaed",
   "metadata": {},
   "outputs": [],
   "source": [
    "d['k3'] = 8000"
   ]
  },
  {
   "cell_type": "code",
   "execution_count": 203,
   "id": "8f07731d",
   "metadata": {},
   "outputs": [
    {
     "data": {
      "text/plain": [
       "{'k': 100, 'k2': 200, 'k3': 8000, 'k4': 400, 'k5': 500, 'k1': 'NEW Value'}"
      ]
     },
     "execution_count": 203,
     "metadata": {},
     "output_type": "execute_result"
    }
   ],
   "source": [
    "d"
   ]
  },
  {
   "cell_type": "code",
   "execution_count": 204,
   "id": "49a3708a",
   "metadata": {},
   "outputs": [
    {
     "data": {
      "text/plain": [
       "dict_keys(['k', 'k2', 'k3', 'k4', 'k5', 'k1'])"
      ]
     },
     "execution_count": 204,
     "metadata": {},
     "output_type": "execute_result"
    }
   ],
   "source": [
    "# lets see few useful methods \n",
    "# if we want to see all the keys\n",
    "d.keys()\n",
    "\n"
   ]
  },
  {
   "cell_type": "code",
   "execution_count": 205,
   "id": "3267ea3d",
   "metadata": {},
   "outputs": [
    {
     "data": {
      "text/plain": [
       "dict_values([100, 200, 8000, 400, 500, 'NEW Value'])"
      ]
     },
     "execution_count": 205,
     "metadata": {},
     "output_type": "execute_result"
    }
   ],
   "source": [
    "d.values()"
   ]
  },
  {
   "cell_type": "code",
   "execution_count": 206,
   "id": "10ba8e00",
   "metadata": {},
   "outputs": [
    {
     "data": {
      "text/plain": [
       "dict_items([('k', 100), ('k2', 200), ('k3', 8000), ('k4', 400), ('k5', 500), ('k1', 'NEW Value')])"
      ]
     },
     "execution_count": 206,
     "metadata": {},
     "output_type": "execute_result"
    }
   ],
   "source": [
    "# if you want actual pairing \n",
    "d.items()"
   ]
  },
  {
   "cell_type": "code",
   "execution_count": 207,
   "id": "65f0e9d5",
   "metadata": {},
   "outputs": [
    {
     "name": "stdout",
     "output_type": "stream",
     "text": [
      "dict_items([('k', 100), ('k2', 200), ('k3', 8000), ('k4', 400), ('k5', 500), ('k1', 'NEW Value')])\n"
     ]
    }
   ],
   "source": [
    "print(d.items())"
   ]
  },
  {
   "cell_type": "markdown",
   "id": "e64b9bb3",
   "metadata": {},
   "source": [
    "### Tuples "
   ]
  },
  {
   "cell_type": "markdown",
   "id": "0a11d146",
   "metadata": {},
   "source": [
    "Tuples are very similar to lists. However they have one key difference -    Immutability\n",
    "\n",
    "\n",
    "Once an element is inside a tuple, it can not be reassigned\n",
    "\n",
    "Tuples use paranthesis: (1,2,3,4,5)"
   ]
  },
  {
   "cell_type": "code",
   "execution_count": 208,
   "id": "7c5c18ee",
   "metadata": {},
   "outputs": [],
   "source": [
    "t = (1,2,3,4,6)"
   ]
  },
  {
   "cell_type": "code",
   "execution_count": 209,
   "id": "05cfbead",
   "metadata": {},
   "outputs": [
    {
     "data": {
      "text/plain": [
       "['string', 2, 2.6, 89, 223.6]"
      ]
     },
     "execution_count": 209,
     "metadata": {},
     "output_type": "execute_result"
    }
   ],
   "source": [
    "my_list2"
   ]
  },
  {
   "cell_type": "code",
   "execution_count": 210,
   "id": "43a5a219",
   "metadata": {},
   "outputs": [
    {
     "data": {
      "text/plain": [
       "tuple"
      ]
     },
     "execution_count": 210,
     "metadata": {},
     "output_type": "execute_result"
    }
   ],
   "source": [
    "type(t)"
   ]
  },
  {
   "cell_type": "code",
   "execution_count": 211,
   "id": "4be2ca30",
   "metadata": {},
   "outputs": [
    {
     "data": {
      "text/plain": [
       "list"
      ]
     },
     "execution_count": 211,
     "metadata": {},
     "output_type": "execute_result"
    }
   ],
   "source": [
    "type(my_list2)"
   ]
  },
  {
   "cell_type": "code",
   "execution_count": 212,
   "id": "fa1dd4e1",
   "metadata": {},
   "outputs": [
    {
     "data": {
      "text/plain": [
       "5"
      ]
     },
     "execution_count": 212,
     "metadata": {},
     "output_type": "execute_result"
    }
   ],
   "source": [
    "len(t)"
   ]
  },
  {
   "cell_type": "code",
   "execution_count": 213,
   "id": "653dce46",
   "metadata": {},
   "outputs": [],
   "source": [
    "# just like a list we can have mixed elements or object typles in TUPLES\n",
    "tu =(1,2,'or',6,'intuple')"
   ]
  },
  {
   "cell_type": "code",
   "execution_count": 214,
   "id": "d8b83a57",
   "metadata": {},
   "outputs": [
    {
     "data": {
      "text/plain": [
       "(1, 2, 'or', 6, 'intuple')"
      ]
     },
     "execution_count": 214,
     "metadata": {},
     "output_type": "execute_result"
    }
   ],
   "source": [
    "tu"
   ]
  },
  {
   "cell_type": "code",
   "execution_count": 215,
   "id": "54f2ad6e",
   "metadata": {},
   "outputs": [
    {
     "data": {
      "text/plain": [
       "1"
      ]
     },
     "execution_count": 215,
     "metadata": {},
     "output_type": "execute_result"
    }
   ],
   "source": [
    "# just like list we can use slicing and indexing\n",
    "tu[0]"
   ]
  },
  {
   "cell_type": "code",
   "execution_count": 216,
   "id": "7fc8ff58",
   "metadata": {},
   "outputs": [
    {
     "data": {
      "text/plain": [
       "'intuple'"
      ]
     },
     "execution_count": 216,
     "metadata": {},
     "output_type": "execute_result"
    }
   ],
   "source": [
    "tu[-1]"
   ]
  },
  {
   "cell_type": "markdown",
   "id": "76e14dd6",
   "metadata": {},
   "source": [
    "sofar very similar to list\n",
    "###### there are also 2 basic inbuit method for tuple - i.e index method and count method"
   ]
  },
  {
   "cell_type": "code",
   "execution_count": 217,
   "id": "1d70a9bb",
   "metadata": {},
   "outputs": [],
   "source": [
    "tup = ('a', 'a', 'a', 'b', 'b')"
   ]
  },
  {
   "cell_type": "code",
   "execution_count": 219,
   "id": "36f78a72",
   "metadata": {},
   "outputs": [
    {
     "data": {
      "text/plain": [
       "3"
      ]
     },
     "execution_count": 219,
     "metadata": {},
     "output_type": "execute_result"
    }
   ],
   "source": [
    "tup.count('a')"
   ]
  },
  {
   "cell_type": "code",
   "execution_count": 220,
   "id": "79a08c86",
   "metadata": {},
   "outputs": [
    {
     "data": {
      "text/plain": [
       "3"
      ]
     },
     "execution_count": 220,
     "metadata": {},
     "output_type": "execute_result"
    }
   ],
   "source": [
    "tup.index('b')"
   ]
  },
  {
   "cell_type": "markdown",
   "id": "42e4b719",
   "metadata": {},
   "source": [
    "index shows when that object first appeared in the tuple - later on we shall see how use control flow logic like forloop \n",
    "grab all the index locations of the repeated elements\n",
    "\n",
    "Lets check the tuple immutability of the list\n",
    "\n",
    "tuple object doesnot support item assignment \n",
    "\n",
    "we ususlly use tuple in advance level where you see the requirement that you accidentally dont change the tuple\n",
    "\n",
    "\n",
    "Thats when tuple becomes a great solution - in tuple you cannot change the elements - thats where tuple provides data integrity"
   ]
  },
  {
   "cell_type": "markdown",
   "id": "9145bd7e",
   "metadata": {},
   "source": [
    "## SETS in Python"
   ]
  },
  {
   "cell_type": "markdown",
   "id": "30a0f0fc",
   "metadata": {},
   "source": [
    "Sets are unordered collections of unique elements -\n",
    "\n",
    "meaning there can only be one representative of the same object\n",
    "\n",
    "lets see some examples"
   ]
  },
  {
   "cell_type": "code",
   "execution_count": 221,
   "id": "c84a1ae2",
   "metadata": {},
   "outputs": [
    {
     "data": {
      "text/plain": [
       "set()"
      ]
     },
     "execution_count": 221,
     "metadata": {},
     "output_type": "execute_result"
    }
   ],
   "source": [
    "myset = set()\n",
    "myset"
   ]
  },
  {
   "cell_type": "code",
   "execution_count": 222,
   "id": "c827bf5b",
   "metadata": {},
   "outputs": [],
   "source": [
    "myset.add(1)"
   ]
  },
  {
   "cell_type": "code",
   "execution_count": 223,
   "id": "2df28a60",
   "metadata": {},
   "outputs": [
    {
     "data": {
      "text/plain": [
       "{1}"
      ]
     },
     "execution_count": 223,
     "metadata": {},
     "output_type": "execute_result"
    }
   ],
   "source": [
    "myset\n"
   ]
  },
  {
   "cell_type": "code",
   "execution_count": 224,
   "id": "ababe6f6",
   "metadata": {},
   "outputs": [],
   "source": [
    "myset.add(2)"
   ]
  },
  {
   "cell_type": "code",
   "execution_count": 225,
   "id": "bcb0ad48",
   "metadata": {},
   "outputs": [
    {
     "data": {
      "text/plain": [
       "{1, 2}"
      ]
     },
     "execution_count": 225,
     "metadata": {},
     "output_type": "execute_result"
    }
   ],
   "source": [
    "myset"
   ]
  },
  {
   "cell_type": "code",
   "execution_count": 226,
   "id": "03c62806",
   "metadata": {},
   "outputs": [],
   "source": [
    "myset.add(2)"
   ]
  },
  {
   "cell_type": "code",
   "execution_count": 228,
   "id": "3bb953e5",
   "metadata": {},
   "outputs": [
    {
     "data": {
      "text/plain": [
       "{1, 2}"
      ]
     },
     "execution_count": 228,
     "metadata": {},
     "output_type": "execute_result"
    }
   ],
   "source": [
    "myset\n"
   ]
  },
  {
   "cell_type": "markdown",
   "id": "abd0ffa7",
   "metadata": {},
   "source": [
    "######  see in the above two cells though 2 is added 2 times its only ingested once - sets are collection of unique elements and \n",
    "though its showing in flower brackets its not dictionaries since there is no key value pair...\n",
    "\n",
    "While working with sets it may not be super useful to add unique values one at a time but it would be better if we add a list without repetition "
   ]
  },
  {
   "cell_type": "code",
   "execution_count": 229,
   "id": "b5c110b4",
   "metadata": {},
   "outputs": [],
   "source": [
    "mylist = [1,1,1,1,1,1,1,2,2,2,2,3,3,3,3,3]"
   ]
  },
  {
   "cell_type": "code",
   "execution_count": 230,
   "id": "21efa85b",
   "metadata": {},
   "outputs": [
    {
     "data": {
      "text/plain": [
       "{1, 2, 3}"
      ]
     },
     "execution_count": 230,
     "metadata": {},
     "output_type": "execute_result"
    }
   ],
   "source": [
    "set(mylist)"
   ]
  },
  {
   "cell_type": "code",
   "execution_count": 231,
   "id": "b575ed45",
   "metadata": {},
   "outputs": [],
   "source": [
    "# kindly note: though sets seems they have ordered the list but they dont have any particular order\n",
    "\n",
    "mylist22 = [1,2,2,2,2,4,4,4,8,6,6,7,3,5,9,9,9,9]"
   ]
  },
  {
   "cell_type": "code",
   "execution_count": 232,
   "id": "61bfee51",
   "metadata": {},
   "outputs": [
    {
     "data": {
      "text/plain": [
       "{1, 2, 3, 4, 5, 6, 7, 8, 9}"
      ]
     },
     "execution_count": 232,
     "metadata": {},
     "output_type": "execute_result"
    }
   ],
   "source": [
    "set(mylist22)"
   ]
  },
  {
   "cell_type": "code",
   "execution_count": 233,
   "id": "e1561e92",
   "metadata": {},
   "outputs": [],
   "source": [
    "mylist223 =  [1,2,2,2,2,4,4,4,8,6,6,7,3,5,9,9,9,9,2,5,10,14,10,25,36,36,'sai','sai','vinay']"
   ]
  },
  {
   "cell_type": "code",
   "execution_count": 234,
   "id": "3e6159fd",
   "metadata": {},
   "outputs": [
    {
     "data": {
      "text/plain": [
       "{1, 10, 14, 2, 25, 3, 36, 4, 5, 6, 7, 8, 9, 'sai', 'vinay'}"
      ]
     },
     "execution_count": 234,
     "metadata": {},
     "output_type": "execute_result"
    }
   ],
   "source": [
    "set(mylist223)"
   ]
  },
  {
   "cell_type": "markdown",
   "id": "31ccf144",
   "metadata": {},
   "source": [
    "#### Booleans:\n",
    "Booleans are operators that allow you to convey True or False statements\n",
    "\n",
    "These are very important later on when we deal with control flow and logic!"
   ]
  },
  {
   "cell_type": "code",
   "execution_count": 235,
   "id": "19901415",
   "metadata": {},
   "outputs": [
    {
     "data": {
      "text/plain": [
       "bool"
      ]
     },
     "execution_count": 235,
     "metadata": {},
     "output_type": "execute_result"
    }
   ],
   "source": [
    "type(False)"
   ]
  },
  {
   "cell_type": "code",
   "execution_count": 236,
   "id": "74c380e6",
   "metadata": {},
   "outputs": [
    {
     "data": {
      "text/plain": [
       "False"
      ]
     },
     "execution_count": 236,
     "metadata": {},
     "output_type": "execute_result"
    }
   ],
   "source": [
    "1 ==1.1"
   ]
  },
  {
   "cell_type": "code",
   "execution_count": 237,
   "id": "39bb713c",
   "metadata": {},
   "outputs": [
    {
     "data": {
      "text/plain": [
       "True"
      ]
     },
     "execution_count": 237,
     "metadata": {},
     "output_type": "execute_result"
    }
   ],
   "source": [
    "1 == 1"
   ]
  },
  {
   "cell_type": "markdown",
   "id": "9e2ed90a",
   "metadata": {},
   "source": [
    "None keywoard is used as placeholder"
   ]
  },
  {
   "cell_type": "code",
   "execution_count": 239,
   "id": "7c2ef77d",
   "metadata": {},
   "outputs": [],
   "source": [
    "b = None"
   ]
  },
  {
   "cell_type": "code",
   "execution_count": 240,
   "id": "093844bc",
   "metadata": {},
   "outputs": [],
   "source": [
    "b"
   ]
  },
  {
   "cell_type": "code",
   "execution_count": 241,
   "id": "aac4461f",
   "metadata": {},
   "outputs": [
    {
     "data": {
      "text/plain": [
       "{1, 2, 3}"
      ]
     },
     "execution_count": 241,
     "metadata": {},
     "output_type": "execute_result"
    }
   ],
   "source": [
    "set([1,1,2,3])"
   ]
  },
  {
   "cell_type": "code",
   "execution_count": 243,
   "id": "cddc4d3c",
   "metadata": {},
   "outputs": [
    {
     "data": {
      "text/plain": [
       "{1, 2, 3, 4, 5, 6, 8, 9, 41}"
      ]
     },
     "execution_count": 243,
     "metadata": {},
     "output_type": "execute_result"
    }
   ],
   "source": [
    "set([1,2,2,2,3,5,4,4,6,8,8,9,41])"
   ]
  },
  {
   "cell_type": "markdown",
   "id": "0e4f2912",
   "metadata": {},
   "source": [
    "#### I/O with Basic Files in Python\n",
    "\n",
    "Before we finish this section, lets quickly go over how to perform simple I/O with basic.txt files \n",
    "\n",
    "we'll also discuss file paths on your computer lets get started!\n",
    "\n"
   ]
  },
  {
   "cell_type": "code",
   "execution_count": 253,
   "id": "43885670",
   "metadata": {},
   "outputs": [
    {
     "data": {
      "text/plain": [
       "'C:\\\\Users\\\\sai vinay sunkara'"
      ]
     },
     "execution_count": 253,
     "metadata": {},
     "output_type": "execute_result"
    }
   ],
   "source": [
    "pwd\n"
   ]
  },
  {
   "cell_type": "markdown",
   "id": "d7b646a1",
   "metadata": {},
   "source": [
    "#### myfile = open('')\n",
    "####  myfile.read()    # Reads the complete .txt file\n",
    "####  myfile.seek(0)  \n",
    " > after you do the read the cursor will be at the end of the text file when you read again it will give empty string\n",
    "                    that need to be bought to the begining to\n",
    "                    \n",
    "#### myfile.readlines()                    \n"
   ]
  },
  {
   "cell_type": "markdown",
   "id": "d3fa4c6f",
   "metadata": {},
   "source": [
    "#### how to open the file locations\n",
    "\n",
    "if you want to open files at another location on your comoputer , simply pass in the entire file path\n",
    "\n",
    "for windows you need to use double\\ so python doesn't treat the second \\ as an escape character, a file path is in the form "
   ]
  },
  {
   "cell_type": "markdown",
   "id": "5dd6d2f7",
   "metadata": {},
   "source": [
    "####  Resources for More Basic Practice\n",
    "\n",
    "\n",
    "Basic Practice:\n",
    "\n",
    "http://codingbat.com/python\n",
    "\n",
    "More Mathematical (and Harder) Practice:\n",
    "\n",
    "https://projecteuler.net/archives\n",
    "\n",
    "List of Practice Problems:\n",
    "\n",
    "http://www.codeabbey.com/index/task_list\n",
    "\n",
    "A SubReddit Devoted to Daily Practice Problems:\n",
    "\n",
    "https://www.reddit.com/r/dailyprogrammer\n",
    "\n",
    "A very tricky website with very few hints and touch problems (Not for beginners but still interesting)\n",
    "\n",
    "http://www.pythonchallenge.com/"
   ]
  },
  {
   "cell_type": "markdown",
   "id": "62b89a51",
   "metadata": {},
   "source": [
    "For the following quiz questions, we will get a preview of comparison operators. In the table below, a=3 and b=4.\n",
    "\n",
    "<table class=\"table table-bordered\">\n",
    "<tr>\n",
    "<th style=\"width:10%\">Operator</th><th style=\"width:45%\">Description</th><th>Example</th>\n",
    "</tr>\n",
    "<tr>\n",
    "<td>==</td>\n",
    "<td>If the values of two operands are equal, then the condition becomes true.</td>\n",
    "<td> (a == b) is not true.</td>\n",
    "</tr>\n",
    "<tr>\n",
    "<td>!=</td>\n",
    "<td>If values of two operands are not equal, then condition becomes true.</td>\n",
    "<td> (a != b) is true.</td>\n",
    "</tr>\n",
    "<tr>\n",
    "<td>&gt;</td>\n",
    "<td>If the value of left operand is greater than the value of right operand, then condition becomes true.</td>\n",
    "<td> (a &gt; b) is not true.</td>\n",
    "</tr>\n",
    "<tr>\n",
    "<td>&lt;</td>\n",
    "<td>If the value of left operand is less than the value of right operand, then condition becomes true.</td>\n",
    "<td> (a &lt; b) is true.</td>\n",
    "</tr>\n",
    "<tr>\n",
    "<td>&gt;=</td>\n",
    "<td>If the value of left operand is greater than or equal to the value of right operand, then condition becomes true.</td>\n",
    "<td> (a &gt;= b) is not true. </td>\n",
    "</tr>\n",
    "<tr>\n",
    "<td>&lt;=</td>\n",
    "<td>If the value of left operand is less than or equal to the value of right operand, then condition becomes true.</td>\n",
    "<td> (a &lt;= b) is true. </td>\n",
    "</tr>\n",
    "</table>"
   ]
  },
  {
   "cell_type": "markdown",
   "id": "95df54bd",
   "metadata": {},
   "source": [
    "### Comparision operators in Python"
   ]
  },
  {
   "cell_type": "code",
   "execution_count": 256,
   "id": "9bcb36a4",
   "metadata": {},
   "outputs": [
    {
     "data": {
      "text/plain": [
       "True"
      ]
     },
     "execution_count": 256,
     "metadata": {},
     "output_type": "execute_result"
    }
   ],
   "source": [
    "2 == 2"
   ]
  },
  {
   "cell_type": "code",
   "execution_count": 257,
   "id": "4d86034c",
   "metadata": {},
   "outputs": [
    {
     "data": {
      "text/plain": [
       "True"
      ]
     },
     "execution_count": 257,
     "metadata": {},
     "output_type": "execute_result"
    }
   ],
   "source": [
    "2 > 1"
   ]
  },
  {
   "cell_type": "code",
   "execution_count": 259,
   "id": "8b7c1bac",
   "metadata": {},
   "outputs": [
    {
     "data": {
      "text/plain": [
       "True"
      ]
     },
     "execution_count": 259,
     "metadata": {},
     "output_type": "execute_result"
    }
   ],
   "source": [
    "36 != 63"
   ]
  },
  {
   "cell_type": "code",
   "execution_count": 260,
   "id": "361ae813",
   "metadata": {},
   "outputs": [
    {
     "data": {
      "text/plain": [
       "False"
      ]
     },
     "execution_count": 260,
     "metadata": {},
     "output_type": "execute_result"
    }
   ],
   "source": [
    "36 >= 63"
   ]
  },
  {
   "cell_type": "code",
   "execution_count": 261,
   "id": "38db6a02",
   "metadata": {},
   "outputs": [
    {
     "data": {
      "text/plain": [
       "True"
      ]
     },
     "execution_count": 261,
     "metadata": {},
     "output_type": "execute_result"
    }
   ],
   "source": [
    "36 <= 63"
   ]
  },
  {
   "cell_type": "code",
   "execution_count": 263,
   "id": "eb4f308d",
   "metadata": {},
   "outputs": [
    {
     "data": {
      "text/plain": [
       "False"
      ]
     },
     "execution_count": 263,
     "metadata": {},
     "output_type": "execute_result"
    }
   ],
   "source": [
    "'Hello' == 'bye'"
   ]
  },
  {
   "cell_type": "code",
   "execution_count": 264,
   "id": "d275f4c8",
   "metadata": {},
   "outputs": [
    {
     "data": {
      "text/plain": [
       "False"
      ]
     },
     "execution_count": 264,
     "metadata": {},
     "output_type": "execute_result"
    }
   ],
   "source": [
    "'Bye' == 'bye'"
   ]
  },
  {
   "cell_type": "code",
   "execution_count": 265,
   "id": "a8a774f6",
   "metadata": {},
   "outputs": [
    {
     "data": {
      "text/plain": [
       "True"
      ]
     },
     "execution_count": 265,
     "metadata": {},
     "output_type": "execute_result"
    }
   ],
   "source": [
    "'Bye' == 'Bye'"
   ]
  },
  {
   "cell_type": "code",
   "execution_count": 266,
   "id": "3a862d7d",
   "metadata": {},
   "outputs": [
    {
     "data": {
      "text/plain": [
       "False"
      ]
     },
     "execution_count": 266,
     "metadata": {},
     "output_type": "execute_result"
    }
   ],
   "source": [
    "# python also considers data types\n",
    "\n",
    "'2' == 2"
   ]
  },
  {
   "cell_type": "code",
   "execution_count": 267,
   "id": "04ca0fea",
   "metadata": {},
   "outputs": [
    {
     "data": {
      "text/plain": [
       "True"
      ]
     },
     "execution_count": 267,
     "metadata": {},
     "output_type": "execute_result"
    }
   ],
   "source": [
    "# floating points as long as it holds the same value its True\n",
    "\n",
    "2.0 == 2"
   ]
  },
  {
   "cell_type": "code",
   "execution_count": 268,
   "id": "59a4928a",
   "metadata": {},
   "outputs": [
    {
     "data": {
      "text/plain": [
       "True"
      ]
     },
     "execution_count": 268,
     "metadata": {},
     "output_type": "execute_result"
    }
   ],
   "source": [
    "3 != 2"
   ]
  },
  {
   "cell_type": "code",
   "execution_count": 269,
   "id": "145f1f68",
   "metadata": {},
   "outputs": [
    {
     "data": {
      "text/plain": [
       "False"
      ]
     },
     "execution_count": 269,
     "metadata": {},
     "output_type": "execute_result"
    }
   ],
   "source": [
    "3 != 3"
   ]
  },
  {
   "cell_type": "markdown",
   "id": "18380c23",
   "metadata": {},
   "source": [
    "####  LOGICAL OPERATORS\n",
    "> When doing multiple compariotns we do what is called as Logical Operators!\n",
    "\n",
    "###### Chaining comparison operators in python with logical operators\n",
    "> we use logical operators to combine comparisions: <br>\n",
    "    . And <br>\n",
    "    . or  <br>\n",
    "    . not"
   ]
  },
  {
   "cell_type": "code",
   "execution_count": 270,
   "id": "c32a1c94",
   "metadata": {},
   "outputs": [
    {
     "data": {
      "text/plain": [
       "True"
      ]
     },
     "execution_count": 270,
     "metadata": {},
     "output_type": "execute_result"
    }
   ],
   "source": [
    "'h' == 'h'  and 2 == 2"
   ]
  },
  {
   "cell_type": "code",
   "execution_count": 271,
   "id": "17955ff4",
   "metadata": {},
   "outputs": [
    {
     "data": {
      "text/plain": [
       "False"
      ]
     },
     "execution_count": 271,
     "metadata": {},
     "output_type": "execute_result"
    }
   ],
   "source": [
    "'h' == 'b'  and 2 == 2  # both of statements should be right"
   ]
  },
  {
   "cell_type": "code",
   "execution_count": 272,
   "id": "232ce34b",
   "metadata": {},
   "outputs": [
    {
     "data": {
      "text/plain": [
       "True"
      ]
     },
     "execution_count": 272,
     "metadata": {},
     "output_type": "execute_result"
    }
   ],
   "source": [
    "# for 'or' one of the satement should be true\n",
    "\n",
    "1 == 1 or 2 == 3"
   ]
  },
  {
   "cell_type": "markdown",
   "id": "369717fa",
   "metadata": {},
   "source": [
    "######  Not  will return just the opposite of that particular result"
   ]
  },
  {
   "cell_type": "code",
   "execution_count": 273,
   "id": "778d408b",
   "metadata": {},
   "outputs": [
    {
     "data": {
      "text/plain": [
       "False"
      ]
     },
     "execution_count": 273,
     "metadata": {},
     "output_type": "execute_result"
    }
   ],
   "source": [
    "not 1 == 1\n"
   ]
  },
  {
   "cell_type": "code",
   "execution_count": 274,
   "id": "6b41055e",
   "metadata": {},
   "outputs": [
    {
     "data": {
      "text/plain": [
       "False"
      ]
     },
     "execution_count": 274,
     "metadata": {},
     "output_type": "execute_result"
    }
   ],
   "source": [
    "400 > 5000"
   ]
  },
  {
   "cell_type": "code",
   "execution_count": 275,
   "id": "c45bd6e7",
   "metadata": {},
   "outputs": [
    {
     "data": {
      "text/plain": [
       "True"
      ]
     },
     "execution_count": 275,
     "metadata": {},
     "output_type": "execute_result"
    }
   ],
   "source": [
    "not  400 > 5000"
   ]
  },
  {
   "cell_type": "markdown",
   "id": "0265ee92",
   "metadata": {},
   "source": [
    "### IF  ,  Elif and else statements"
   ]
  },
  {
   "cell_type": "markdown",
   "id": "1d82f179",
   "metadata": {},
   "source": [
    "> Control Flow syntax makes use of colons and indentation (whitespace). <br>\n",
    "> This indentation system is crucial to python and is what sets it apart from other programming languages <br>\n",
    "\n",
    "syntax of an if statement <br>\n",
    "       if some_condition: <br>\n",
    "          # execute some code\n",
    "\n"
   ]
  },
  {
   "cell_type": "code",
   "execution_count": 276,
   "id": "a953cfad",
   "metadata": {},
   "outputs": [
    {
     "name": "stdout",
     "output_type": "stream",
     "text": [
      "Its True!\n"
     ]
    }
   ],
   "source": [
    "if True:\n",
    "    print('Its True!')"
   ]
  },
  {
   "cell_type": "code",
   "execution_count": 282,
   "id": "b7649bc3",
   "metadata": {},
   "outputs": [
    {
     "name": "stdout",
     "output_type": "stream",
     "text": [
      "feed me!\n"
     ]
    }
   ],
   "source": [
    "hungry = True\n",
    "\n",
    "if hungry:\n",
    "    print('feed me!')\n",
    "else:\n",
    "    print('No thanks')\n",
    "    "
   ]
  },
  {
   "cell_type": "code",
   "execution_count": 283,
   "id": "dc04a9a7",
   "metadata": {},
   "outputs": [
    {
     "name": "stdout",
     "output_type": "stream",
     "text": [
      "No thanks\n"
     ]
    }
   ],
   "source": [
    "hungry = False\n",
    "\n",
    "if hungry:\n",
    "    print('feed me!')\n",
    "else:\n",
    "    print('No thanks')\n",
    "    "
   ]
  },
  {
   "cell_type": "code",
   "execution_count": 286,
   "id": "22114256",
   "metadata": {},
   "outputs": [
    {
     "name": "stdout",
     "output_type": "stream",
     "text": [
      "Prices are high\n"
     ]
    }
   ],
   "source": [
    "loc = 'supermarket'\n",
    "\n",
    "if loc == 'Auto shop':\n",
    "    print('cars are cool')\n",
    "elif loc == 'Bank':\n",
    "    print('Money is cool')\n",
    "elif loc == 'store':\n",
    "    print('welcome to the store!')\n",
    "elif loc == 'supermarket':\n",
    "    print('Prices are high')\n",
    "else:\n",
    "    print('I dont know much.')\n"
   ]
  },
  {
   "cell_type": "markdown",
   "id": "6a6dc43e",
   "metadata": {},
   "source": [
    "### For Loops\n",
    "\n",
    "Many objects in Python are 'iterable', meaning we can iterate over every element in the object. <br>\n",
    "such as every element in a list of every character in a string.\n",
    "\n",
    "we can use for loops to execute a block of code for every iteration\n",
    "\n",
    "The term \"Iterable\" means you can 'iterate' over the object.\n",
    "\n",
    "for example you can iterate over every character in a string, iterate over every item in a list, iterate over every key in a dictionary\n",
    "\n",
    "item in a list <br>\n",
    "every key in a dictionary  <br>\n",
    "\n"
   ]
  },
  {
   "cell_type": "markdown",
   "id": "3b25dfda",
   "metadata": {},
   "source": [
    "##### Syntax For Loop\n",
    "\n",
    "my_list = [1,2,3] <br>\n",
    "for item_inList in my_list:<br>\n",
    "----print(item-inList)<br>\n",
    "    \n",
    ">>1 <br>\n",
    ">>2 <br>\n",
    ">>3 <br>"
   ]
  },
  {
   "cell_type": "code",
   "execution_count": 287,
   "id": "396abb52",
   "metadata": {},
   "outputs": [],
   "source": [
    "mylist = [1,2,3,4,5,6,7,8,9,10,11,12,13,14,15,16,17,18,19,20]\n",
    "\n",
    "# now we shall create a for loop to retrieve elements one after the other "
   ]
  },
  {
   "cell_type": "code",
   "execution_count": 288,
   "id": "5da1790a",
   "metadata": {},
   "outputs": [
    {
     "name": "stdout",
     "output_type": "stream",
     "text": [
      "1\n",
      "2\n",
      "3\n",
      "4\n",
      "5\n",
      "6\n",
      "7\n",
      "8\n",
      "9\n",
      "10\n",
      "11\n",
      "12\n",
      "13\n",
      "14\n",
      "15\n",
      "16\n",
      "17\n",
      "18\n",
      "19\n",
      "20\n"
     ]
    }
   ],
   "source": [
    "for item_list in mylist:\n",
    "    print(item_list)\n",
    "    \n",
    "# item_list is what you choose"
   ]
  },
  {
   "cell_type": "code",
   "execution_count": 289,
   "id": "952c4948",
   "metadata": {},
   "outputs": [
    {
     "name": "stdout",
     "output_type": "stream",
     "text": [
      "jolly\n",
      "jolly\n",
      "jolly\n",
      "jolly\n",
      "jolly\n",
      "jolly\n",
      "jolly\n",
      "jolly\n",
      "jolly\n",
      "jolly\n",
      "jolly\n",
      "jolly\n",
      "jolly\n",
      "jolly\n",
      "jolly\n",
      "jolly\n",
      "jolly\n",
      "jolly\n",
      "jolly\n",
      "jolly\n"
     ]
    }
   ],
   "source": [
    "for num in mylist:\n",
    "    print('jolly')"
   ]
  },
  {
   "cell_type": "markdown",
   "id": "b3275374",
   "metadata": {},
   "source": [
    "##### you chose the variable name that is somehow related to the object in the variable\n",
    "#####  in the above cells its 'num' and 'item_list'"
   ]
  },
  {
   "cell_type": "code",
   "execution_count": 293,
   "id": "df962c82",
   "metadata": {},
   "outputs": [
    {
     "name": "stdout",
     "output_type": "stream",
     "text": [
      "Odd number: 1\n",
      "Even Number: 2\n",
      "Odd number: 3\n",
      "Even Number: 4\n",
      "Odd number: 5\n",
      "Even Number: 6\n",
      "Odd number: 7\n",
      "Even Number: 8\n",
      "Odd number: 9\n",
      "Even Number: 10\n",
      "Odd number: 11\n",
      "Even Number: 12\n",
      "Odd number: 13\n",
      "Even Number: 14\n",
      "Odd number: 15\n",
      "Even Number: 16\n",
      "Odd number: 17\n",
      "Even Number: 18\n",
      "Odd number: 19\n",
      "Even Number: 20\n"
     ]
    }
   ],
   "source": [
    "for num in mylist:\n",
    "    # Check for even\n",
    "    if num%2 == 0:\n",
    "        print(f'Even Number: {num}')\n",
    "    else:\n",
    "        print(f'Odd number: {num}')"
   ]
  },
  {
   "cell_type": "code",
   "execution_count": 294,
   "id": "84c7f3df",
   "metadata": {},
   "outputs": [
    {
     "name": "stdout",
     "output_type": "stream",
     "text": [
      "210\n"
     ]
    }
   ],
   "source": [
    "list_sum = 0\n",
    "for num in mylist:\n",
    "    list_sum = list_sum + num\n",
    "print(list_sum)"
   ]
  },
  {
   "cell_type": "code",
   "execution_count": null,
   "id": "c0488343",
   "metadata": {},
   "outputs": [],
   "source": [
    "mystring = 'hell'"
   ]
  },
  {
   "cell_type": "code",
   "execution_count": null,
   "id": "a900019a",
   "metadata": {},
   "outputs": [],
   "source": []
  },
  {
   "cell_type": "code",
   "execution_count": null,
   "id": "b9ca0e55",
   "metadata": {},
   "outputs": [],
   "source": []
  },
  {
   "cell_type": "code",
   "execution_count": null,
   "id": "b91336e3",
   "metadata": {},
   "outputs": [],
   "source": []
  },
  {
   "cell_type": "code",
   "execution_count": null,
   "id": "4eb89311",
   "metadata": {},
   "outputs": [],
   "source": []
  },
  {
   "cell_type": "code",
   "execution_count": null,
   "id": "b980b468",
   "metadata": {},
   "outputs": [],
   "source": []
  },
  {
   "cell_type": "code",
   "execution_count": null,
   "id": "074a7336",
   "metadata": {},
   "outputs": [],
   "source": []
  }
 ],
 "metadata": {
  "kernelspec": {
   "display_name": "Python 3 (ipykernel)",
   "language": "python",
   "name": "python3"
  },
  "language_info": {
   "codemirror_mode": {
    "name": "ipython",
    "version": 3
   },
   "file_extension": ".py",
   "mimetype": "text/x-python",
   "name": "python",
   "nbconvert_exporter": "python",
   "pygments_lexer": "ipython3",
   "version": "3.9.12"
  }
 },
 "nbformat": 4,
 "nbformat_minor": 5
}
