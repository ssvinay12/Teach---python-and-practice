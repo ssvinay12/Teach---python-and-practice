{
 "cells": [
  {
   "cell_type": "code",
   "execution_count": 1,
   "id": "892dbcbd",
   "metadata": {},
   "outputs": [
    {
     "ename": "ValueError",
     "evalue": "cannot switch from automatic field numbering to manual field specification",
     "output_type": "error",
     "traceback": [
      "\u001b[1;31m---------------------------------------------------------------------------\u001b[0m",
      "\u001b[1;31mValueError\u001b[0m                                Traceback (most recent call last)",
      "\u001b[1;32mC:\\Users\\SAIVIN~1\\AppData\\Local\\Temp/ipykernel_4008/334221804.py\u001b[0m in \u001b[0;36m<module>\u001b[1;34m\u001b[0m\n\u001b[1;32m----> 1\u001b[1;33m \u001b[1;34m'the {} side {1}{2}'\u001b[0m\u001b[1;33m.\u001b[0m\u001b[0mformat\u001b[0m\u001b[1;33m(\u001b[0m\u001b[1;34m'bright'\u001b[0m\u001b[1;33m,\u001b[0m \u001b[1;34m'of'\u001b[0m\u001b[1;33m,\u001b[0m \u001b[1;34m'life'\u001b[0m\u001b[1;33m)\u001b[0m\u001b[1;33m\u001b[0m\u001b[1;33m\u001b[0m\u001b[0m\n\u001b[0m",
      "\u001b[1;31mValueError\u001b[0m: cannot switch from automatic field numbering to manual field specification"
     ]
    }
   ],
   "source": [
    "'the {} side {1}{2}'.format('bright', 'of', 'life')\n"
   ]
  },
  {
   "cell_type": "code",
   "execution_count": 3,
   "id": "0dfd8e38",
   "metadata": {},
   "outputs": [
    {
     "name": "stdout",
     "output_type": "stream",
     "text": [
      "p.test= 25\n",
      "index= 0\n"
     ]
    }
   ],
   "source": [
    " def add(c, k):\n",
    "    c.test = c.test + 1\n",
    "    k = k + 1\n",
    "\n",
    "class Plus:\n",
    "    def __init__(self):\n",
    "        self.test = 0\n",
    "  \n",
    "def main():\n",
    "    p = Plus()\n",
    "    index = 0\n",
    "\n",
    "    for i in range(0, 25):\n",
    "        add(p, index)\n",
    "\n",
    "    print(\"p.test=\", p.test)\n",
    "    print(\"index=\", index)\n",
    "    \n",
    "    \n",
    "main()    \n",
    "    "
   ]
  },
  {
   "cell_type": "code",
   "execution_count": 4,
   "id": "a80cb919",
   "metadata": {},
   "outputs": [
    {
     "name": "stdout",
     "output_type": "stream",
     "text": [
      "[2, 4, 8, 16, 32]\n"
     ]
    }
   ],
   "source": [
    "l = [1, 2, 3, 4, 5]\n",
    "m = map(lambda x: 2**x, l)\n",
    "print(list(m))\n"
   ]
  },
  {
   "cell_type": "code",
   "execution_count": 5,
   "id": "f38b9e14",
   "metadata": {},
   "outputs": [
    {
     "name": "stdout",
     "output_type": "stream",
     "text": [
      "[1, 3, 6, 10]\n"
     ]
    }
   ],
   "source": [
    "a = [1, 2, 3, 4]\n",
    "b = [sum(a[0:x+1]) for x in range(0, len(a))]\n",
    "print(b)\n"
   ]
  },
  {
   "cell_type": "code",
   "execution_count": 6,
   "id": "dd0216a0",
   "metadata": {},
   "outputs": [
    {
     "name": "stdout",
     "output_type": "stream",
     "text": [
      "[0, 2, 3, 4, 5]\n"
     ]
    }
   ],
   "source": [
    "array1 = [1, 2, 3, 4, 5]\n",
    "array2 = array1\n",
    "array2[0] = 0\n",
    "print(array1)\n"
   ]
  },
  {
   "cell_type": "code",
   "execution_count": 7,
   "id": "6c827297",
   "metadata": {},
   "outputs": [
    {
     "name": "stdout",
     "output_type": "stream",
     "text": [
      "Welcome to Turing\n"
     ]
    }
   ],
   "source": [
    "class hello: \n",
    "\n",
    "    def __init__(self, a='Welcome to '):\n",
    "        self.a = a\n",
    "            \n",
    "    def welcome(self, x):\n",
    "        print(self.a + x)\n",
    "\n",
    "h = hello()\n",
    "h.welcome('Turing')"
   ]
  },
  {
   "cell_type": "code",
   "execution_count": 8,
   "id": "20fa5821",
   "metadata": {},
   "outputs": [
    {
     "ename": "IndentationError",
     "evalue": "expected an indented block (Temp/ipykernel_4008/3020602790.py, line 3)",
     "output_type": "error",
     "traceback": [
      "\u001b[1;36m  File \u001b[1;32m\"C:\\Users\\SAIVIN~1\\AppData\\Local\\Temp/ipykernel_4008/3020602790.py\"\u001b[1;36m, line \u001b[1;32m3\u001b[0m\n\u001b[1;33m    except:\u001b[0m\n\u001b[1;37m    ^\u001b[0m\n\u001b[1;31mIndentationError\u001b[0m\u001b[1;31m:\u001b[0m expected an indented block\n"
     ]
    }
   ],
   "source": [
    "try:\n",
    " # Do something\n",
    "except:\n",
    " # Do something\n",
    "finally:\n",
    " # Do something\n"
   ]
  },
  {
   "cell_type": "code",
   "execution_count": 9,
   "id": "97c91790",
   "metadata": {},
   "outputs": [
    {
     "name": "stdout",
     "output_type": "stream",
     "text": [
      "[1, 2, 3, 4, 5, 6, 7]\n"
     ]
    }
   ],
   "source": [
    "l1 = [1, 2, 3, 4]\n",
    "l2 = [5, 6, 7]\n",
    "\n",
    "result = l1+l2\n",
    "print(result)"
   ]
  },
  {
   "cell_type": "code",
   "execution_count": 10,
   "id": "d65569a8",
   "metadata": {},
   "outputs": [
    {
     "name": "stdout",
     "output_type": "stream",
     "text": [
      "False\n",
      "True\n"
     ]
    }
   ],
   "source": [
    "list1 = [1, 2, 6, 12]\n",
    "list2 = [12, 6, 2, 1]\n",
    "print(list1 == list2)\n",
    "print(set(list1) == set(list2))"
   ]
  },
  {
   "cell_type": "code",
   "execution_count": 11,
   "id": "ee01533a",
   "metadata": {},
   "outputs": [
    {
     "name": "stdout",
     "output_type": "stream",
     "text": [
      "[10, 20, 30, 40]\n",
      "[10, 20, 40]\n"
     ]
    }
   ],
   "source": [
    "data = [10, 20, 30, 40, 50]\n",
    "data.pop()\n",
    "print(data)\n",
    "data.pop(2)\n",
    "print(data)"
   ]
  },
  {
   "cell_type": "code",
   "execution_count": 12,
   "id": "3d987a1f",
   "metadata": {},
   "outputs": [],
   "source": [
    "skills = ['NodeJS', 'Python', 'ReactJS', 'VueJS']\n",
    "skills.insert(2, 'java')"
   ]
  },
  {
   "cell_type": "code",
   "execution_count": 13,
   "id": "b72b4459",
   "metadata": {},
   "outputs": [
    {
     "data": {
      "text/plain": [
       "['NodeJS', 'Python', 'java', 'ReactJS', 'VueJS']"
      ]
     },
     "execution_count": 13,
     "metadata": {},
     "output_type": "execute_result"
    }
   ],
   "source": [
    "skills"
   ]
  },
  {
   "cell_type": "code",
   "execution_count": 14,
   "id": "0a7b87b6",
   "metadata": {},
   "outputs": [
    {
     "name": "stdout",
     "output_type": "stream",
     "text": [
      "[0, 1]\n",
      "[3, 2, 1, 0, 1, 4]\n",
      "[0, 1, 0, 1, 4]\n"
     ]
    }
   ],
   "source": [
    "def f(x, l=[]):\n",
    "    for i in range(x):\n",
    "        l.append(i * i)\n",
    "    print(l)\n",
    "\n",
    "f(2)\n",
    "f(3, [3, 2, 1])\n",
    "f(3)"
   ]
  },
  {
   "cell_type": "code",
   "execution_count": 15,
   "id": "f0a69edc",
   "metadata": {},
   "outputs": [
    {
     "ename": "TypeError",
     "evalue": "'<' not supported between instances of 'complex' and 'int'",
     "output_type": "error",
     "traceback": [
      "\u001b[1;31m---------------------------------------------------------------------------\u001b[0m",
      "\u001b[1;31mTypeError\u001b[0m                                 Traceback (most recent call last)",
      "\u001b[1;32mC:\\Users\\SAIVIN~1\\AppData\\Local\\Temp/ipykernel_4008/825623103.py\u001b[0m in \u001b[0;36m<module>\u001b[1;34m\u001b[0m\n\u001b[0;32m      1\u001b[0m \u001b[0mY\u001b[0m \u001b[1;33m=\u001b[0m \u001b[1;33m[\u001b[0m\u001b[1;36m2\u001b[0m\u001b[1;33m,\u001b[0m \u001b[1;36m5J\u001b[0m\u001b[1;33m,\u001b[0m \u001b[1;36m6\u001b[0m\u001b[1;33m]\u001b[0m\u001b[1;33m\u001b[0m\u001b[1;33m\u001b[0m\u001b[0m\n\u001b[1;32m----> 2\u001b[1;33m \u001b[0mY\u001b[0m\u001b[1;33m.\u001b[0m\u001b[0msort\u001b[0m\u001b[1;33m(\u001b[0m\u001b[1;33m)\u001b[0m\u001b[1;33m\u001b[0m\u001b[1;33m\u001b[0m\u001b[0m\n\u001b[0m\u001b[0;32m      3\u001b[0m \u001b[0mprint\u001b[0m\u001b[1;33m(\u001b[0m\u001b[0mY\u001b[0m\u001b[1;33m)\u001b[0m\u001b[1;33m\u001b[0m\u001b[1;33m\u001b[0m\u001b[0m\n",
      "\u001b[1;31mTypeError\u001b[0m: '<' not supported between instances of 'complex' and 'int'"
     ]
    }
   ],
   "source": [
    "Y = [2, 5J, 6]\n",
    "Y.sort()\n",
    "print(Y)"
   ]
  },
  {
   "cell_type": "code",
   "execution_count": 16,
   "id": "f96e0da4",
   "metadata": {},
   "outputs": [
    {
     "name": "stdout",
     "output_type": "stream",
     "text": [
      "{'p', 'q', 'a', 'c', 'b', 'san'}\n"
     ]
    }
   ],
   "source": [
    "z = set('abc')\n",
    "z.add('san')\n",
    "z.update(set(['p', 'q']))\n",
    "print(z)"
   ]
  },
  {
   "cell_type": "markdown",
   "id": "a9bc69cb",
   "metadata": {},
   "source": [
    "x = \"abcd"
   ]
  },
  {
   "cell_type": "code",
   "execution_count": null,
   "id": "2df79494",
   "metadata": {},
   "outputs": [],
   "source": [
    "array = ['Welcome', 'To', 'Turing']\n",
    "print(\"-\".join(array))"
   ]
  },
  {
   "cell_type": "code",
   "execution_count": null,
   "id": "003db681",
   "metadata": {},
   "outputs": [],
   "source": [
    "inputs = ['nodejs', 'reactjs', 'vuejs']\n",
    "print(inputs)\n",
    "\n",
    "for i in inputs:\n",
    "    inputs.append(i.upper())\n",
    "    \n",
    "print(inputs)"
   ]
  },
  {
   "cell_type": "code",
   "execution_count": null,
   "id": "c9ec1e94",
   "metadata": {},
   "outputs": [],
   "source": []
  }
 ],
 "metadata": {
  "kernelspec": {
   "display_name": "Python 3 (ipykernel)",
   "language": "python",
   "name": "python3"
  },
  "language_info": {
   "codemirror_mode": {
    "name": "ipython",
    "version": 3
   },
   "file_extension": ".py",
   "mimetype": "text/x-python",
   "name": "python",
   "nbconvert_exporter": "python",
   "pygments_lexer": "ipython3",
   "version": "3.9.12"
  }
 },
 "nbformat": 4,
 "nbformat_minor": 5
}
