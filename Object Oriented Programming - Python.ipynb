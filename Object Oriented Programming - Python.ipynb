{
 "cells": [
  {
   "cell_type": "markdown",
   "id": "6dd60ecb",
   "metadata": {},
   "source": [
    "###### Object Oriented programming (OOP) allows programmers to create their own objects that have methods and attributes\n",
    "- Recal that after defining a string, list, dictionary or other objects, you were able to call methods off of them with the .method_name() syntax - such as we were able to call the .append() method of a list object or index method of a tuple\n",
    "- These methods act as functions that use information about the object, as well as the object itself to return results, or change the current object.\n",
    "- for example this includes appending to a list or counting the occurences of an element in a tuple\n",
    "###### OOP\n",
    "- OOP allows user to create thier own objects.\n",
    "- the general format is often confusing when first encountered, particularly because of the use of self keyword and its usefulness may not be completely clear at first\n",
    "- In general, OOP allows us to create code that is repeatable and organized, particularly when you start working with outside libraries you need to understand how the OOP is useful while working with those programs\n",
    "- For much larger scripts of Python code, functions by themselves aren't enough for organizing and repeatability\n",
    "- commonly repeated tasks and objects can be defined with OOP to create code that is more useable especially across organization\n",
    "\n"
   ]
  },
  {
   "cell_type": "code",
   "execution_count": 1,
   "id": "ff9a2f9d",
   "metadata": {},
   "outputs": [],
   "source": [
    " mylist = [1,2,3,4,5]\n",
    "    "
   ]
  },
  {
   "cell_type": "code",
   "execution_count": 4,
   "id": "d5a288f1",
   "metadata": {},
   "outputs": [],
   "source": [
    "myset = set()"
   ]
  },
  {
   "cell_type": "markdown",
   "id": "cbeebff3",
   "metadata": {},
   "source": [
    "####  everything in Python is an object - lets see how we can create our own objects"
   ]
  },
  {
   "cell_type": "code",
   "execution_count": 5,
   "id": "afc66880",
   "metadata": {},
   "outputs": [
    {
     "data": {
      "text/plain": [
       "list"
      ]
     },
     "execution_count": 5,
     "metadata": {},
     "output_type": "execute_result"
    }
   ],
   "source": [
    "type(mylist)"
   ]
  },
  {
   "cell_type": "code",
   "execution_count": 6,
   "id": "44e1cf43",
   "metadata": {},
   "outputs": [
    {
     "data": {
      "text/plain": [
       "set"
      ]
     },
     "execution_count": 6,
     "metadata": {},
     "output_type": "execute_result"
    }
   ],
   "source": [
    "type(myset)"
   ]
  },
  {
   "cell_type": "code",
   "execution_count": 7,
   "id": "c7092814",
   "metadata": {},
   "outputs": [],
   "source": [
    "# above are built in objects - lets create some user defined objects\n",
    "# for classes we use CamelCasing capitalize each word\n",
    "\n",
    "class Sample():\n",
    "    pass"
   ]
  },
  {
   "cell_type": "code",
   "execution_count": 8,
   "id": "12004589",
   "metadata": {},
   "outputs": [],
   "source": [
    "# lets create an instance for the sample class\n",
    "\n",
    "my_sample = Sample()"
   ]
  },
  {
   "cell_type": "code",
   "execution_count": 9,
   "id": "e733eb72",
   "metadata": {},
   "outputs": [
    {
     "data": {
      "text/plain": [
       "__main__.Sample"
      ]
     },
     "execution_count": 9,
     "metadata": {},
     "output_type": "execute_result"
    }
   ],
   "source": [
    "type(my_sample)"
   ]
  },
  {
   "cell_type": "code",
   "execution_count": 10,
   "id": "f2616033",
   "metadata": {},
   "outputs": [],
   "source": [
    "# Lets see how we can create some attributes for the class we created\n",
    "\n",
    "class Dog():\n",
    "    \n",
    "    def __init__(self,breed):\n",
    "        \n",
    "        self.breed = breed"
   ]
  },
  {
   "cell_type": "markdown",
   "id": "992e7990",
   "metadata": {},
   "source": []
  },
  {
   "cell_type": "code",
   "execution_count": 13,
   "id": "d96ae123",
   "metadata": {},
   "outputs": [],
   "source": [
    "my_dog = Dog(breed = 'Lab')"
   ]
  },
  {
   "cell_type": "code",
   "execution_count": 14,
   "id": "7efb6c0d",
   "metadata": {},
   "outputs": [
    {
     "data": {
      "text/plain": [
       "__main__.Dog"
      ]
     },
     "execution_count": 14,
     "metadata": {},
     "output_type": "execute_result"
    }
   ],
   "source": [
    "type(my_dog)"
   ]
  },
  {
   "cell_type": "code",
   "execution_count": 15,
   "id": "fdccfe46",
   "metadata": {},
   "outputs": [
    {
     "data": {
      "text/plain": [
       "'Lab'"
      ]
     },
     "execution_count": 15,
     "metadata": {},
     "output_type": "execute_result"
    }
   ],
   "source": [
    "my_dog.breed"
   ]
  },
  {
   "cell_type": "markdown",
   "id": "04649731",
   "metadata": {},
   "source": [
    "#### Class Objects Attributes and Methods"
   ]
  },
  {
   "cell_type": "code",
   "execution_count": 16,
   "id": "67db9946",
   "metadata": {},
   "outputs": [],
   "source": [
    "class Dogs():\n",
    "    \n",
    "    def __init__(self,breed,name,spots):\n",
    "        \n",
    "        #Attributes\n",
    "        #we take in the argument\n",
    "        #Assign it using self.attribute_name\n",
    "        \n",
    "        self.breed = breed\n",
    "        self.name = name\n",
    "        \n",
    "        \n",
    "        # Expect boolean True/False\n",
    "        self.spots = spots"
   ]
  },
  {
   "cell_type": "code",
   "execution_count": 19,
   "id": "5efda281",
   "metadata": {},
   "outputs": [],
   "source": [
    "my_dog = Dogs(breed='Lab', name='scoopy',spots=\" No SPOTS\")"
   ]
  },
  {
   "cell_type": "code",
   "execution_count": 20,
   "id": "2bb0fa8c",
   "metadata": {},
   "outputs": [
    {
     "data": {
      "text/plain": [
       "__main__.Dogs"
      ]
     },
     "execution_count": 20,
     "metadata": {},
     "output_type": "execute_result"
    }
   ],
   "source": [
    "type(my_dog)"
   ]
  },
  {
   "cell_type": "code",
   "execution_count": 21,
   "id": "3be0e9ea",
   "metadata": {},
   "outputs": [
    {
     "data": {
      "text/plain": [
       "'scoopy'"
      ]
     },
     "execution_count": 21,
     "metadata": {},
     "output_type": "execute_result"
    }
   ],
   "source": [
    "my_dog.name"
   ]
  },
  {
   "cell_type": "markdown",
   "id": "5e396fbb",
   "metadata": {},
   "source": [
    "Now , There may be attributes that might be same for the instance of DOG class, \n",
    "for instance we know for dog it might be any breed or name it belongs to \"mammals\"\n",
    "- some thing we might want to do is define the attibute at class  object level\n",
    "- these will be same for any instance\n",
    "\n",
    "since class attibute is same for any instance of the class\n",
    "- we dont use self attibute\n"
   ]
  },
  {
   "cell_type": "code",
   "execution_count": 30,
   "id": "3026d274",
   "metadata": {},
   "outputs": [],
   "source": [
    "class Dogs():\n",
    "    \n",
    "    # Class Object ATTRIBUTE\n",
    "    # same for Any Instance ofa class\n",
    "    \n",
    "    species = 'mammal'\n",
    "    animaltype = \"Dog\"\n",
    "    \n",
    "    \n",
    "    def __init__(self,breed,name,spots):\n",
    "        \n",
    "        #Attributes\n",
    "        #we take in the argument\n",
    "        #Assign it using self.attribute_name\n",
    "        \n",
    "        self.breed = breed\n",
    "        self.name = name\n",
    "        \n",
    "        \n",
    "        # Expect boolean True/False\n",
    "        self.spots = spots"
   ]
  },
  {
   "cell_type": "code",
   "execution_count": 31,
   "id": "b05b95c2",
   "metadata": {},
   "outputs": [
    {
     "data": {
      "text/plain": [
       "__main__.Dogs"
      ]
     },
     "execution_count": 31,
     "metadata": {},
     "output_type": "execute_result"
    }
   ],
   "source": [
    "type(my_dog)"
   ]
  },
  {
   "cell_type": "code",
   "execution_count": 32,
   "id": "0ff7369e",
   "metadata": {},
   "outputs": [
    {
     "data": {
      "text/plain": [
       "'Lab'"
      ]
     },
     "execution_count": 32,
     "metadata": {},
     "output_type": "execute_result"
    }
   ],
   "source": [
    "my_dog.breed"
   ]
  },
  {
   "cell_type": "code",
   "execution_count": 35,
   "id": "fad16ac6",
   "metadata": {},
   "outputs": [],
   "source": [
    "my_dogs = Dogs(breed='cocker', name='scoopy',spots=\" False\")"
   ]
  },
  {
   "cell_type": "code",
   "execution_count": 37,
   "id": "a6a5f286",
   "metadata": {},
   "outputs": [
    {
     "data": {
      "text/plain": [
       "'Dog'"
      ]
     },
     "execution_count": 37,
     "metadata": {},
     "output_type": "execute_result"
    }
   ],
   "source": [
    "my_dogs.animaltype"
   ]
  },
  {
   "cell_type": "markdown",
   "id": "9e9e01f1",
   "metadata": {},
   "source": [
    "##### METHODS\n",
    "\n",
    "Now, lets discuss methods\n",
    "- Methods are functions essentially defined inside the body of a class and they are used to perform operations that sometimes use the attibutes of the object we created\n",
    "\n",
    "- What is the difference between Method and function?\n",
    "- > Method is defined inside the class and work with the object"
   ]
  },
  {
   "cell_type": "code",
   "execution_count": 39,
   "id": "582550e5",
   "metadata": {},
   "outputs": [],
   "source": [
    "class Pets():\n",
    "    \n",
    "    # Class Object ATTRIBUTE\n",
    "    # same for Any Instance ofa class\n",
    "    \n",
    "    species = 'mammal'\n",
    "    animaltype = \"Dog\"\n",
    "    \n",
    "    \n",
    "    def __init__(self,breed,name):\n",
    "        \n",
    "        #Attributes\n",
    "        #we take in the argument\n",
    "        #Assign it using self.attribute_name\n",
    "        \n",
    "        self.breed = breed\n",
    "        self.name = name\n",
    "        \n",
    "        \n",
    "       \n",
    "    # OPERATIONS/Actions ----> Methods\n",
    "    # lets define the action this pet animal could take\n",
    "    \n",
    "    \n",
    "    def bark(self):\n",
    "        print(\"WOOF!\")"
   ]
  },
  {
   "cell_type": "code",
   "execution_count": 44,
   "id": "1008603a",
   "metadata": {},
   "outputs": [],
   "source": [
    "my_dog = Pets('COCKER_SPANIEL', \"ScoopyBlack\")"
   ]
  },
  {
   "cell_type": "markdown",
   "id": "4d6872cf",
   "metadata": {},
   "source": [
    "See we are not bothered to write the attribute here"
   ]
  },
  {
   "cell_type": "code",
   "execution_count": 45,
   "id": "c2f8c110",
   "metadata": {},
   "outputs": [
    {
     "data": {
      "text/plain": [
       "__main__.Pets"
      ]
     },
     "execution_count": 45,
     "metadata": {},
     "output_type": "execute_result"
    }
   ],
   "source": [
    "type(my_dog)"
   ]
  },
  {
   "cell_type": "code",
   "execution_count": 46,
   "id": "375c91a6",
   "metadata": {},
   "outputs": [
    {
     "data": {
      "text/plain": [
       "'mammal'"
      ]
     },
     "execution_count": 46,
     "metadata": {},
     "output_type": "execute_result"
    }
   ],
   "source": [
    "my_dog.species"
   ]
  },
  {
   "cell_type": "code",
   "execution_count": 47,
   "id": "b469004d",
   "metadata": {},
   "outputs": [
    {
     "data": {
      "text/plain": [
       "'ScoopyBlack'"
      ]
     },
     "execution_count": 47,
     "metadata": {},
     "output_type": "execute_result"
    }
   ],
   "source": [
    "my_dog.name"
   ]
  },
  {
   "cell_type": "markdown",
   "id": "249d01ad",
   "metadata": {},
   "source": [
    "- One of the key difference between the method and attribute is the way we call them\n",
    "> Notice that attributes donot have () paranthesis, that is the charecteristic of the object you call back its just the information about the object where as \n",
    "> - Methods need to be executed with open and closed paranthesis()\n"
   ]
  },
  {
   "cell_type": "code",
   "execution_count": 48,
   "id": "9810890c",
   "metadata": {},
   "outputs": [
    {
     "name": "stdout",
     "output_type": "stream",
     "text": [
      "WOOF!\n"
     ]
    }
   ],
   "source": [
    "my_dog.bark()"
   ]
  },
  {
   "cell_type": "markdown",
   "id": "0fb424aa",
   "metadata": {},
   "source": [
    "- here method didn't do anything exept printing the statement\n",
    " - usually mathods uses the informationa about the object itself\n",
    " \n",
    "- Lets use the information - lets ask the dog to bark its name "
   ]
  },
  {
   "cell_type": "code",
   "execution_count": 60,
   "id": "ed1ff0e0",
   "metadata": {},
   "outputs": [],
   "source": [
    "class Pets():\n",
    "    \n",
    "    # Class Object ATTRIBUTE\n",
    "    # same for Any Instance ofa class\n",
    "    \n",
    "    species = 'mammal'\n",
    "    animaltype = \"Dog\"\n",
    "    \n",
    "    \n",
    "    def __init__(self,breed,name):\n",
    "        \n",
    "        #Attributes\n",
    "        #we take in the argument\n",
    "        #Assign it using self.attribute_name\n",
    "        \n",
    "        self.breed = breed\n",
    "        self.name = name\n",
    "        \n",
    "        \n",
    "       \n",
    "    # OPERATIONS/Actions ----> Methods\n",
    "    # lets define the action this pet animal could take\n",
    "    \n",
    "    \n",
    "    def bark(self):\n",
    "        print(\"WOOF! I am a {} and my name is {}\".format(self.breed,self.name))"
   ]
  },
  {
   "cell_type": "code",
   "execution_count": 61,
   "id": "d7d68784",
   "metadata": {},
   "outputs": [],
   "source": [
    "my_dog = Pets('COCKER_SPANIEL', \"ScoopyBlack\")"
   ]
  },
  {
   "cell_type": "code",
   "execution_count": 62,
   "id": "477697e3",
   "metadata": {},
   "outputs": [
    {
     "name": "stdout",
     "output_type": "stream",
     "text": [
      "WOOF! I am a COCKER_SPANIEL and my name is ScoopyBlack\n"
     ]
    }
   ],
   "source": [
    "my_dog.bark()"
   ]
  },
  {
   "cell_type": "code",
   "execution_count": null,
   "id": "2421056a",
   "metadata": {},
   "outputs": [],
   "source": []
  },
  {
   "cell_type": "code",
   "execution_count": null,
   "id": "f6d7e03e",
   "metadata": {},
   "outputs": [],
   "source": []
  },
  {
   "cell_type": "code",
   "execution_count": null,
   "id": "2b68b765",
   "metadata": {},
   "outputs": [],
   "source": []
  },
  {
   "cell_type": "code",
   "execution_count": 78,
   "id": "c5b280fa",
   "metadata": {},
   "outputs": [],
   "source": [
    "class Circle():\n",
    "    \n",
    "    # Class OBject Attributes\n",
    "    pi = 3.14\n",
    "    \n",
    "    def __init__(self,radius = 1): # default radius is = 1\n",
    "        \n",
    "        self.radius = radius\n",
    "        self.area = radius*radius*self.pi\n",
    "        # since pi is class object we can call it in 2 way 1) self.pi 2) Circle.pi if its class object attribute\n",
    "    # Method    \n",
    "    def get_circumference(self):\n",
    "        return self.radius*self.pi*2 #2piR\n",
    "    "
   ]
  },
  {
   "cell_type": "markdown",
   "id": "f6214f4b",
   "metadata": {},
   "source": [
    "One thing to consider is that if you have an attribute, it doesn't necessarily have to be defined from\n",
    "\n",
    "a particular parameter call.\n",
    "\n",
    "So, for example, I can create an attribute for the area so circle can have an area attribute and I\n",
    "\n",
    "can say self area is equal to the radius that's passed in times, the radius that's passed in times\n",
    "\n",
    "pi.\n",
    "\n",
    "So pi r squared is the area of a circle so I can say self pi."
   ]
  },
  {
   "cell_type": "code",
   "execution_count": 71,
   "id": "e0df0131",
   "metadata": {},
   "outputs": [],
   "source": [
    "my_circle = Circle()"
   ]
  },
  {
   "cell_type": "code",
   "execution_count": 72,
   "id": "be26ba48",
   "metadata": {},
   "outputs": [
    {
     "data": {
      "text/plain": [
       "3.14"
      ]
     },
     "execution_count": 72,
     "metadata": {},
     "output_type": "execute_result"
    }
   ],
   "source": [
    "my_circle.pi"
   ]
  },
  {
   "cell_type": "code",
   "execution_count": 73,
   "id": "a3a5fe43",
   "metadata": {},
   "outputs": [
    {
     "data": {
      "text/plain": [
       "1"
      ]
     },
     "execution_count": 73,
     "metadata": {},
     "output_type": "execute_result"
    }
   ],
   "source": [
    "my_circle.radius"
   ]
  },
  {
   "cell_type": "code",
   "execution_count": 74,
   "id": "82c5ef0e",
   "metadata": {},
   "outputs": [],
   "source": [
    "my_circle = Circle(25)"
   ]
  },
  {
   "cell_type": "code",
   "execution_count": 75,
   "id": "2d9f208b",
   "metadata": {},
   "outputs": [
    {
     "data": {
      "text/plain": [
       "25"
      ]
     },
     "execution_count": 75,
     "metadata": {},
     "output_type": "execute_result"
    }
   ],
   "source": [
    "my_circle.radius"
   ]
  },
  {
   "cell_type": "code",
   "execution_count": 76,
   "id": "46f46244",
   "metadata": {},
   "outputs": [
    {
     "data": {
      "text/plain": [
       "157.0"
      ]
     },
     "execution_count": 76,
     "metadata": {},
     "output_type": "execute_result"
    }
   ],
   "source": [
    "my_circle.get_circumference()"
   ]
  },
  {
   "cell_type": "code",
   "execution_count": 77,
   "id": "248c52f1",
   "metadata": {},
   "outputs": [
    {
     "data": {
      "text/plain": [
       "1962.5"
      ]
     },
     "execution_count": 77,
     "metadata": {},
     "output_type": "execute_result"
    }
   ],
   "source": [
    "my_circle.area"
   ]
  },
  {
   "cell_type": "markdown",
   "id": "8363e926",
   "metadata": {},
   "source": [
    "#### Inheritance and Polymorphisim"
   ]
  },
  {
   "cell_type": "markdown",
   "id": "5501cf8e",
   "metadata": {},
   "source": [
    "###### Inheritance is basically way to form new classes based on already formed classes"
   ]
  },
  {
   "cell_type": "code",
   "execution_count": 81,
   "id": "cfbc0299",
   "metadata": {},
   "outputs": [],
   "source": [
    "class Animal():\n",
    "    \n",
    "    def __init__(self):\n",
    "        print('Animal Created')\n",
    "        \n",
    "    def who_am_i(self):\n",
    "        print(\"i am an Animal\")\n",
    "        \n",
    "    def eat(self):\n",
    "        print(\"I am eating\")"
   ]
  },
  {
   "cell_type": "code",
   "execution_count": 82,
   "id": "8f174f9f",
   "metadata": {},
   "outputs": [
    {
     "name": "stdout",
     "output_type": "stream",
     "text": [
      "Animal Created\n"
     ]
    }
   ],
   "source": [
    "myanimal = Animal()"
   ]
  },
  {
   "cell_type": "markdown",
   "id": "57fa13a9",
   "metadata": {},
   "source": [
    "my"
   ]
  },
  {
   "cell_type": "code",
   "execution_count": 83,
   "id": "f1d50515",
   "metadata": {},
   "outputs": [
    {
     "name": "stdout",
     "output_type": "stream",
     "text": [
      "i am an Animal\n"
     ]
    }
   ],
   "source": [
    "myanimal.who_am_i()"
   ]
  },
  {
   "cell_type": "code",
   "execution_count": 84,
   "id": "aa781b61",
   "metadata": {},
   "outputs": [
    {
     "name": "stdout",
     "output_type": "stream",
     "text": [
      "I am eating\n"
     ]
    }
   ],
   "source": [
    "myanimal.eat()"
   ]
  },
  {
   "cell_type": "markdown",
   "id": "b5da7870",
   "metadata": {},
   "source": [
    "#####  Lets see Inheritance now"
   ]
  },
  {
   "cell_type": "code",
   "execution_count": 87,
   "id": "b0db84a9",
   "metadata": {},
   "outputs": [],
   "source": [
    "class Pets(Animal):\n",
    "    \n",
    "    def __init__(self):\n",
    "        Animal. __init__(self)\n",
    "        print('Pet Animal Created')\n",
    "        \n",
    "    "
   ]
  },
  {
   "cell_type": "code",
   "execution_count": 88,
   "id": "846afa92",
   "metadata": {},
   "outputs": [
    {
     "name": "stdout",
     "output_type": "stream",
     "text": [
      "Animal Created\n",
      "Pet Animal Created\n"
     ]
    }
   ],
   "source": [
    "mydog = Pets()"
   ]
  },
  {
   "cell_type": "code",
   "execution_count": 89,
   "id": "5fbcce87",
   "metadata": {},
   "outputs": [
    {
     "name": "stdout",
     "output_type": "stream",
     "text": [
      "i am an Animal\n"
     ]
    }
   ],
   "source": [
    "mydog.who_am_i()"
   ]
  },
  {
   "cell_type": "markdown",
   "id": "c92689c1",
   "metadata": {},
   "source": [
    "__Now what if you want to over write one of the method__ That is actually not a problem\n"
   ]
  },
  {
   "cell_type": "code",
   "execution_count": 90,
   "id": "bbc02c9d",
   "metadata": {},
   "outputs": [],
   "source": [
    "class Pets(Animal):\n",
    "    \n",
    "    def __init__(self):\n",
    "        Animal. __init__(self)\n",
    "        print('Pet Animal Created')\n",
    "        \n",
    "    def who_am_i(self):\n",
    "        print('I am a Pet animal')"
   ]
  },
  {
   "cell_type": "code",
   "execution_count": 91,
   "id": "7e578e85",
   "metadata": {},
   "outputs": [],
   "source": [
    "mydog = Pets"
   ]
  },
  {
   "cell_type": "code",
   "execution_count": 92,
   "id": "cd24ea79",
   "metadata": {},
   "outputs": [
    {
     "name": "stdout",
     "output_type": "stream",
     "text": [
      "Animal Created\n",
      "Pet Animal Created\n"
     ]
    }
   ],
   "source": [
    "mydog = Pets()"
   ]
  },
  {
   "cell_type": "code",
   "execution_count": 93,
   "id": "56152b66",
   "metadata": {},
   "outputs": [
    {
     "name": "stdout",
     "output_type": "stream",
     "text": [
      "I am a Pet animal\n"
     ]
    }
   ],
   "source": [
    "mydog.who_am_i()"
   ]
  },
  {
   "cell_type": "markdown",
   "id": "08104884",
   "metadata": {},
   "source": [
    "- Inherit from Base class and now you have access to all these old methods\n",
    "####  Polymorphism\n",
    "\n",
    "- Polymorphism in python refers to how different Object classes can share same method name\n",
    "- > and those methods can be called from same place even though a variety of objects might be passed in"
   ]
  },
  {
   "cell_type": "code",
   "execution_count": 99,
   "id": "e6256666",
   "metadata": {},
   "outputs": [],
   "source": [
    "class Dog():\n",
    "    \n",
    "    \n",
    "    \n",
    "    species = 'mammal'\n",
    "    animaltype = \"Dog\"\n",
    "    \n",
    "    \n",
    "    def __init__(self,name):\n",
    "        \n",
    "        \n",
    "        \n",
    "       \n",
    "        self.name = name\n",
    "        \n",
    "    def speak(self):\n",
    "        return self.name + \" says Woof!!\"\n",
    "      "
   ]
  },
  {
   "cell_type": "code",
   "execution_count": 106,
   "id": "195b51f2",
   "metadata": {},
   "outputs": [],
   "source": [
    "class Cat():\n",
    "    \n",
    "    \n",
    "    \n",
    "    species = 'mammal'\n",
    "    animaltype = \"Cat\"\n",
    "    \n",
    "    \n",
    "    def __init__(self,name):\n",
    "        \n",
    "        \n",
    "        \n",
    "       \n",
    "        self.name = name\n",
    "        \n",
    "    def speak(self):\n",
    "        return self.name +  \" says Meow!!\""
   ]
  },
  {
   "cell_type": "code",
   "execution_count": 107,
   "id": "1452ae97",
   "metadata": {},
   "outputs": [],
   "source": [
    "scoopy = Dog(\"scoopy\")\n",
    "catie = Cat(\"catie\")"
   ]
  },
  {
   "cell_type": "code",
   "execution_count": 108,
   "id": "53394a45",
   "metadata": {},
   "outputs": [
    {
     "name": "stdout",
     "output_type": "stream",
     "text": [
      "scoopy says Woof!!\n"
     ]
    }
   ],
   "source": [
    "print(scoopy.speak())"
   ]
  },
  {
   "cell_type": "code",
   "execution_count": 109,
   "id": "f67740ff",
   "metadata": {},
   "outputs": [
    {
     "name": "stdout",
     "output_type": "stream",
     "text": [
      "catie says Meow!!\n"
     ]
    }
   ],
   "source": [
    "print(catie.speak())"
   ]
  },
  {
   "cell_type": "markdown",
   "id": "50689253",
   "metadata": {},
   "source": [
    "__Now you got the calsses defined__ . There are few different ways to define polymorphism . \n",
    "- for loop is one of them\n",
    "- Another way to do is witha function - this is the most common way\n",
    "- Another common method is to use abstract classes and Inheritance: abstract class means _ the one that never expeted to be initiated - it was just expected to serve as base class"
   ]
  },
  {
   "cell_type": "code",
   "execution_count": 114,
   "id": "65eb13b5",
   "metadata": {},
   "outputs": [
    {
     "name": "stdout",
     "output_type": "stream",
     "text": [
      "<class '__main__.Dog'>\n",
      "<class 'str'>\n",
      "<class '__main__.Cat'>\n",
      "<class 'str'>\n"
     ]
    }
   ],
   "source": [
    "for pet in [scoopy,catie]:\n",
    "    print(type(pet))\n",
    "    print(type(pet.speak()))"
   ]
  },
  {
   "cell_type": "markdown",
   "id": "b00810bf",
   "metadata": {},
   "source": [
    "__When you look above both scoopy and catie share the same method name speak they are different classes__\n",
    "\n",
    "Lets remove type both returning string for method name and see"
   ]
  },
  {
   "cell_type": "code",
   "execution_count": 115,
   "id": "2aa85356",
   "metadata": {},
   "outputs": [
    {
     "name": "stdout",
     "output_type": "stream",
     "text": [
      "<class '__main__.Dog'>\n",
      "scoopy says Woof!!\n",
      "<class '__main__.Cat'>\n",
      "catie says Meow!!\n"
     ]
    }
   ],
   "source": [
    "for pet in [scoopy,catie]:\n",
    "    print(type(pet))\n",
    "    print(pet.speak())"
   ]
  },
  {
   "cell_type": "code",
   "execution_count": 117,
   "id": "7f8ff156",
   "metadata": {},
   "outputs": [],
   "source": [
    "# Lets do polymorphisim with function\n",
    "\n",
    "def pet_speak(pet):\n",
    "    print(pet.speak())"
   ]
  },
  {
   "cell_type": "code",
   "execution_count": 118,
   "id": "78d189e4",
   "metadata": {},
   "outputs": [
    {
     "name": "stdout",
     "output_type": "stream",
     "text": [
      "scoopy says Woof!!\n"
     ]
    }
   ],
   "source": [
    "pet_speak(scoopy)"
   ]
  },
  {
   "cell_type": "code",
   "execution_count": 119,
   "id": "c5f74a60",
   "metadata": {},
   "outputs": [
    {
     "name": "stdout",
     "output_type": "stream",
     "text": [
      "catie says Meow!!\n"
     ]
    }
   ],
   "source": [
    "pet_speak(catie)"
   ]
  },
  {
   "cell_type": "markdown",
   "id": "df2505c3",
   "metadata": {},
   "source": [
    "__3)abstract method of polymorphism__"
   ]
  },
  {
   "cell_type": "code",
   "execution_count": 120,
   "id": "f66fed93",
   "metadata": {},
   "outputs": [],
   "source": [
    "class Animal():\n",
    "    \n",
    "    def __init__(self,name):\n",
    "        self.name = name\n",
    "        # this base class\n",
    "    def speak(self):\n",
    "        # here we are going to raise an error\n",
    "        raise NotImplementedError(\"Subclass must implement this abstract method\")"
   ]
  },
  {
   "cell_type": "code",
   "execution_count": 121,
   "id": "94deccfe",
   "metadata": {},
   "outputs": [],
   "source": [
    "myanimal = Animal('fred')"
   ]
  },
  {
   "cell_type": "code",
   "execution_count": 122,
   "id": "8c3d00d4",
   "metadata": {},
   "outputs": [
    {
     "ename": "NotImplementedError",
     "evalue": "Subclass must implement this abstract method",
     "output_type": "error",
     "traceback": [
      "\u001b[1;31m---------------------------------------------------------------------------\u001b[0m",
      "\u001b[1;31mNotImplementedError\u001b[0m                       Traceback (most recent call last)",
      "Input \u001b[1;32mIn [122]\u001b[0m, in \u001b[0;36m<cell line: 1>\u001b[1;34m()\u001b[0m\n\u001b[1;32m----> 1\u001b[0m \u001b[43mmyanimal\u001b[49m\u001b[38;5;241;43m.\u001b[39;49m\u001b[43mspeak\u001b[49m\u001b[43m(\u001b[49m\u001b[43m)\u001b[49m\n",
      "Input \u001b[1;32mIn [120]\u001b[0m, in \u001b[0;36mAnimal.speak\u001b[1;34m(self)\u001b[0m\n\u001b[0;32m      6\u001b[0m \u001b[38;5;28;01mdef\u001b[39;00m \u001b[38;5;21mspeak\u001b[39m(\u001b[38;5;28mself\u001b[39m):\n\u001b[0;32m      7\u001b[0m     \u001b[38;5;66;03m# here we are going to raise an error\u001b[39;00m\n\u001b[1;32m----> 8\u001b[0m     \u001b[38;5;28;01mraise\u001b[39;00m \u001b[38;5;167;01mNotImplementedError\u001b[39;00m(\u001b[38;5;124m\"\u001b[39m\u001b[38;5;124mSubclass must implement this abstract method\u001b[39m\u001b[38;5;124m\"\u001b[39m)\n",
      "\u001b[1;31mNotImplementedError\u001b[0m: Subclass must implement this abstract method"
     ]
    }
   ],
   "source": [
    "myanimal.speak()"
   ]
  },
  {
   "cell_type": "markdown",
   "id": "a60a523a",
   "metadata": {},
   "source": [
    "__The reason why the above method is called abstract because in base class itself it dosen't do anything__\n",
    "it expecting to inherit the Animal class and overwrite the speak method\n",
    "\n",
    "so what we can do, we creat the new class and pass Animal to that class"
   ]
  },
  {
   "cell_type": "code",
   "execution_count": 123,
   "id": "995f867e",
   "metadata": {},
   "outputs": [],
   "source": [
    "class Dog(Animal):\n",
    "    # now, you no longer have to have init method here\n",
    "    \n",
    "    def speak(self):\n",
    "        return self.name + \" say woof!\""
   ]
  },
  {
   "cell_type": "code",
   "execution_count": 124,
   "id": "20dcf742",
   "metadata": {},
   "outputs": [],
   "source": [
    "class Cat(Animal):\n",
    "    # now, you no longer have to have init method here\n",
    "    \n",
    "    def speak(self):\n",
    "        return self.name + \" say meow!\""
   ]
  },
  {
   "cell_type": "code",
   "execution_count": 125,
   "id": "c0cd665c",
   "metadata": {},
   "outputs": [],
   "source": [
    "fido = Dog(\"Fido\")"
   ]
  },
  {
   "cell_type": "code",
   "execution_count": 126,
   "id": "8244b12d",
   "metadata": {},
   "outputs": [],
   "source": [
    "catie = Cat('Catie')"
   ]
  },
  {
   "cell_type": "code",
   "execution_count": 127,
   "id": "8cc8cafa",
   "metadata": {},
   "outputs": [
    {
     "name": "stdout",
     "output_type": "stream",
     "text": [
      "Fido say woof!\n"
     ]
    }
   ],
   "source": [
    "print(fido.speak())"
   ]
  },
  {
   "cell_type": "code",
   "execution_count": 128,
   "id": "531cad11",
   "metadata": {},
   "outputs": [
    {
     "name": "stdout",
     "output_type": "stream",
     "text": [
      "Catie say meow!\n"
     ]
    }
   ],
   "source": [
    "print(catie.speak())"
   ]
  },
  {
   "cell_type": "markdown",
   "id": "69f03e4d",
   "metadata": {},
   "source": [
    "### some real life cases of Polymorphism "
   ]
  },
  {
   "cell_type": "markdown",
   "id": "24dfa900",
   "metadata": {},
   "source": [
    "> - opening different file types"
   ]
  },
  {
   "cell_type": "markdown",
   "id": "a682e5cf",
   "metadata": {},
   "source": [
    "# Special(magic/Dunder) Methods"
   ]
  },
  {
   "cell_type": "markdown",
   "id": "0a2555ad",
   "metadata": {},
   "source": [
    "- special methods allows us to use built in operations in python such as length function and print function with our own user created objects"
   ]
  },
  {
   "cell_type": "code",
   "execution_count": 129,
   "id": "0c6798cb",
   "metadata": {},
   "outputs": [],
   "source": [
    "mylist = [1,2,3,4,5,6]"
   ]
  },
  {
   "cell_type": "code",
   "execution_count": 130,
   "id": "caa24a68",
   "metadata": {},
   "outputs": [
    {
     "data": {
      "text/plain": [
       "6"
      ]
     },
     "execution_count": 130,
     "metadata": {},
     "output_type": "execute_result"
    }
   ],
   "source": [
    "len(mylist)"
   ]
  },
  {
   "cell_type": "code",
   "execution_count": 132,
   "id": "7e1cd241",
   "metadata": {},
   "outputs": [],
   "source": [
    "# what if i want to check the length on one of my won object\n",
    "\n",
    "# say we have...\n",
    "\n",
    "class Sample():\n",
    "    pass"
   ]
  },
  {
   "cell_type": "code",
   "execution_count": 133,
   "id": "b569d011",
   "metadata": {},
   "outputs": [],
   "source": [
    "mysample = Sample()"
   ]
  },
  {
   "cell_type": "code",
   "execution_count": 134,
   "id": "d8b06b19",
   "metadata": {},
   "outputs": [
    {
     "ename": "TypeError",
     "evalue": "object of type 'Sample' has no len()",
     "output_type": "error",
     "traceback": [
      "\u001b[1;31m---------------------------------------------------------------------------\u001b[0m",
      "\u001b[1;31mTypeError\u001b[0m                                 Traceback (most recent call last)",
      "Input \u001b[1;32mIn [134]\u001b[0m, in \u001b[0;36m<cell line: 1>\u001b[1;34m()\u001b[0m\n\u001b[1;32m----> 1\u001b[0m \u001b[38;5;28;43mlen\u001b[39;49m\u001b[43m(\u001b[49m\u001b[43mmysample\u001b[49m\u001b[43m)\u001b[49m\n",
      "\u001b[1;31mTypeError\u001b[0m: object of type 'Sample' has no len()"
     ]
    }
   ],
   "source": [
    "len(mysample)"
   ]
  },
  {
   "cell_type": "code",
   "execution_count": 135,
   "id": "f3a7a450",
   "metadata": {},
   "outputs": [
    {
     "name": "stdout",
     "output_type": "stream",
     "text": [
      "<__main__.Sample object at 0x0000024D34082AC0>\n"
     ]
    }
   ],
   "source": [
    "# above we understand the for the classes we created we cannot use len function even if we try to print the it gives the location\n",
    "print(mysample)"
   ]
  },
  {
   "cell_type": "markdown",
   "id": "efe7eba1",
   "metadata": {},
   "source": [
    "###### How can we use the built in python functions such as length and print with my own classes this is where special methods come into play\n",
    "\n",
    "__people also call them magic methods or Dunder methods because they use double underscores__"
   ]
  },
  {
   "cell_type": "code",
   "execution_count": 156,
   "id": "bc652fb7",
   "metadata": {},
   "outputs": [],
   "source": [
    "class Book():\n",
    "    \n",
    "    #init is first special method we have learned about- its special because its called automatically when u creat the\n",
    "    object\n",
    "    def __init__(self,title,author,pages):\n",
    "        \n",
    "        self.title = title\n",
    "        self.author = author\n",
    "        self.pages = pages"
   ]
  },
  {
   "cell_type": "code",
   "execution_count": 157,
   "id": "759812a8",
   "metadata": {},
   "outputs": [],
   "source": [
    "# lets imagine I want to print out my book\n",
    "b = Book('wonderful Python','saivinaysunkara',200)"
   ]
  },
  {
   "cell_type": "code",
   "execution_count": 158,
   "id": "b1eb9eed",
   "metadata": {},
   "outputs": [
    {
     "name": "stdout",
     "output_type": "stream",
     "text": [
      "<__main__.Book object at 0x0000024D342A1CA0>\n"
     ]
    }
   ],
   "source": [
    "# If i Try to print my book 'b'\n",
    "print(b)"
   ]
  },
  {
   "cell_type": "code",
   "execution_count": 159,
   "id": "bb127f95",
   "metadata": {},
   "outputs": [
    {
     "data": {
      "text/plain": [
       "'<__main__.Book object at 0x0000024D342A1CA0>'"
      ]
     },
     "execution_count": 159,
     "metadata": {},
     "output_type": "execute_result"
    }
   ],
   "source": [
    "str(b)"
   ]
  },
  {
   "cell_type": "markdown",
   "id": "bc985288",
   "metadata": {},
   "source": [
    "#### it says you have this book object in memory\n",
    "__what happens is when you print function- what the print function does is what is the string representation of book b__\n",
    "- instead what we can do is actually use the special method related to that string call which is __str__ what it does is if there is ever any function ask for string representation of your book class its going to return what ever this str returns\n",
    "> - which is why its special method"
   ]
  },
  {
   "cell_type": "code",
   "execution_count": 189,
   "id": "7fb67607",
   "metadata": {},
   "outputs": [],
   "source": [
    "class Book():\n",
    "    \n",
    "  \n",
    "    def __init__(self,title,author,pages):\n",
    "        \n",
    "        self.title = title\n",
    "        self.author = author\n",
    "        self.pages = pages\n",
    "        \n",
    "    def __str__(self):\n",
    "        return f\"{self.title} by { self.author} has {self.pages} pages\"\n",
    "    \n",
    "    def __len__(self):\n",
    "        return self.pages\n",
    "    \n",
    "    def __del__(self):\n",
    "        return (\"A book Object has been deleted\")"
   ]
  },
  {
   "cell_type": "code",
   "execution_count": 190,
   "id": "fcf239fd",
   "metadata": {},
   "outputs": [],
   "source": [
    "b = Book('wonderful Python','saivinaysunkara',300)"
   ]
  },
  {
   "cell_type": "code",
   "execution_count": 191,
   "id": "fcba440a",
   "metadata": {},
   "outputs": [
    {
     "name": "stdout",
     "output_type": "stream",
     "text": [
      "wonderful Python by saivinaysunkara has 300 pages\n"
     ]
    }
   ],
   "source": [
    "print(b)"
   ]
  },
  {
   "cell_type": "code",
   "execution_count": 192,
   "id": "92699d03",
   "metadata": {},
   "outputs": [
    {
     "name": "stdout",
     "output_type": "stream",
     "text": [
      "wonderful Python by saivinaysunkara has 300 pages\n"
     ]
    }
   ],
   "source": [
    "print(b)"
   ]
  },
  {
   "cell_type": "code",
   "execution_count": 193,
   "id": "352907fb",
   "metadata": {},
   "outputs": [],
   "source": [
    "del b"
   ]
  },
  {
   "cell_type": "code",
   "execution_count": 184,
   "id": "79a4bad0",
   "metadata": {},
   "outputs": [
    {
     "data": {
      "text/plain": [
       "'wonderful Python by saivinaysunkara has 300 pages'"
      ]
     },
     "execution_count": 184,
     "metadata": {},
     "output_type": "execute_result"
    }
   ],
   "source": [
    "str(b)"
   ]
  },
  {
   "cell_type": "code",
   "execution_count": null,
   "id": "43fce75d",
   "metadata": {},
   "outputs": [],
   "source": []
  },
  {
   "cell_type": "code",
   "execution_count": 179,
   "id": "bfe80c52",
   "metadata": {},
   "outputs": [
    {
     "data": {
      "text/plain": [
       "300"
      ]
     },
     "execution_count": 179,
     "metadata": {},
     "output_type": "execute_result"
    }
   ],
   "source": [
    "len(b)"
   ]
  },
  {
   "cell_type": "markdown",
   "id": "f2b9de6f",
   "metadata": {},
   "source": [
    "What if we want to delete the book- use del and that will delete the book from computer memory"
   ]
  },
  {
   "cell_type": "code",
   "execution_count": 180,
   "id": "168c2a1c",
   "metadata": {},
   "outputs": [],
   "source": [
    "del b"
   ]
  },
  {
   "cell_type": "code",
   "execution_count": null,
   "id": "30598e62",
   "metadata": {},
   "outputs": [],
   "source": []
  },
  {
   "cell_type": "code",
   "execution_count": null,
   "id": "317d35ad",
   "metadata": {},
   "outputs": [],
   "source": []
  },
  {
   "cell_type": "code",
   "execution_count": null,
   "id": "e8018c2f",
   "metadata": {},
   "outputs": [],
   "source": []
  },
  {
   "cell_type": "code",
   "execution_count": null,
   "id": "75e6a9b8",
   "metadata": {},
   "outputs": [],
   "source": []
  },
  {
   "cell_type": "code",
   "execution_count": null,
   "id": "a40a2a65",
   "metadata": {},
   "outputs": [],
   "source": []
  }
 ],
 "metadata": {
  "kernelspec": {
   "display_name": "Python 3 (ipykernel)",
   "language": "python",
   "name": "python3"
  },
  "language_info": {
   "codemirror_mode": {
    "name": "ipython",
    "version": 3
   },
   "file_extension": ".py",
   "mimetype": "text/x-python",
   "name": "python",
   "nbconvert_exporter": "python",
   "pygments_lexer": "ipython3",
   "version": "3.9.12"
  }
 },
 "nbformat": 4,
 "nbformat_minor": 5
}
