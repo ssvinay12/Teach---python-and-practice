{
 "cells": [
  {
   "cell_type": "code",
   "execution_count": 1,
   "id": "6db79aa5",
   "metadata": {},
   "outputs": [
    {
     "data": {
      "text/plain": [
       "6"
      ]
     },
     "execution_count": 1,
     "metadata": {},
     "output_type": "execute_result"
    }
   ],
   "source": [
    "5\n",
    "x = 5\n",
    "x+1\n"
   ]
  },
  {
   "cell_type": "code",
   "execution_count": 4,
   "id": "cc214688",
   "metadata": {},
   "outputs": [
    {
     "name": "stdout",
     "output_type": "stream",
     "text": [
      "5\n",
      "5\n"
     ]
    }
   ],
   "source": [
    "print(5)\n",
    "x = 5\n",
    "x+1\n",
    "print(x)"
   ]
  },
  {
   "cell_type": "code",
   "execution_count": 6,
   "id": "9ae47fc6",
   "metadata": {},
   "outputs": [
    {
     "ename": "ValueError",
     "evalue": "could not convert string to float: 'sai'",
     "output_type": "error",
     "traceback": [
      "\u001b[1;31m---------------------------------------------------------------------------\u001b[0m",
      "\u001b[1;31mValueError\u001b[0m                                Traceback (most recent call last)",
      "\u001b[1;32mC:\\Users\\SAIVIN~1\\AppData\\Local\\Temp/ipykernel_26236/270946037.py\u001b[0m in \u001b[0;36m<module>\u001b[1;34m\u001b[0m\n\u001b[1;32m----> 1\u001b[1;33m \u001b[0mfloat\u001b[0m\u001b[1;33m(\u001b[0m\u001b[1;34m'sai'\u001b[0m\u001b[1;33m)\u001b[0m\u001b[1;33m\u001b[0m\u001b[1;33m\u001b[0m\u001b[0m\n\u001b[0m",
      "\u001b[1;31mValueError\u001b[0m: could not convert string to float: 'sai'"
     ]
    }
   ],
   "source": [
    "float('sai')"
   ]
  },
  {
   "cell_type": "code",
   "execution_count": 7,
   "id": "c78b0801",
   "metadata": {},
   "outputs": [
    {
     "data": {
      "text/plain": [
       "3.2546"
      ]
     },
     "execution_count": 7,
     "metadata": {},
     "output_type": "execute_result"
    }
   ],
   "source": [
    "float(\"3.2546\")"
   ]
  },
  {
   "cell_type": "code",
   "execution_count": 8,
   "id": "fa02841c",
   "metadata": {},
   "outputs": [
    {
     "data": {
      "text/plain": [
       "3.2101"
      ]
     },
     "execution_count": 8,
     "metadata": {},
     "output_type": "execute_result"
    }
   ],
   "source": [
    "float(3.2101)"
   ]
  },
  {
   "cell_type": "code",
   "execution_count": 14,
   "id": "39409dbd",
   "metadata": {},
   "outputs": [],
   "source": [
    "def print_lyrics():\n",
    "    print(' i m sai vinay, and i am Ok' )\n",
    "    print(' L2 im saivinay and this is line 2')\n",
    "\n"
   ]
  },
  {
   "cell_type": "code",
   "execution_count": 15,
   "id": "adefa5d1",
   "metadata": {},
   "outputs": [
    {
     "name": "stdout",
     "output_type": "stream",
     "text": [
      " i m sai vinay, and i am Ok\n",
      " L2 im saivinay and this is line 2\n",
      " i m sai vinay, and i am Ok\n",
      " L2 im saivinay and this is line 2\n"
     ]
    }
   ],
   "source": [
    "   \n",
    "def repeat_lyrics():\n",
    "    print_lyrics()\n",
    "    print_lyrics()\n",
    "    \n",
    "   \n",
    "repeat_lyrics()"
   ]
  },
  {
   "cell_type": "code",
   "execution_count": 16,
   "id": "58b701bc",
   "metadata": {},
   "outputs": [
    {
     "name": "stdout",
     "output_type": "stream",
     "text": [
      " i m sai vinay, and i am Ok\n",
      " L2 im saivinay and this is line 2\n",
      " i m sai vinay, and i am Ok\n",
      " L2 im saivinay and this is line 2\n"
     ]
    }
   ],
   "source": [
    "repeat_lyrics()\n",
    "def print_lyrics():\n",
    "    print(' i m sai vinay, and i am Ok' )\n",
    "    print(' L2 im saivinay and this is line 2')\n",
    "    \n",
    "  \n",
    "def repeat_lyrics():\n",
    "    print_lyrics()\n",
    "    print_lyrics()\n",
    "    "
   ]
  },
  {
   "cell_type": "code",
   "execution_count": 17,
   "id": "457b6e15",
   "metadata": {},
   "outputs": [],
   "source": [
    "def repeat_lyrics():\n",
    "    print_lyrics()\n",
    "    print_lyrics()\n",
    "    "
   ]
  },
  {
   "cell_type": "code",
   "execution_count": 23,
   "id": "6f6cbbd9",
   "metadata": {},
   "outputs": [
    {
     "ename": "SyntaxError",
     "evalue": "invalid syntax (Temp/ipykernel_26236/3433350617.py, line 1)",
     "output_type": "error",
     "traceback": [
      "\u001b[1;36m  File \u001b[1;32m\"C:\\Users\\SAIVIN~1\\AppData\\Local\\Temp/ipykernel_26236/3433350617.py\"\u001b[1;36m, line \u001b[1;32m1\u001b[0m\n\u001b[1;33m    def print_twice('bruce'):\u001b[0m\n\u001b[1;37m                    ^\u001b[0m\n\u001b[1;31mSyntaxError\u001b[0m\u001b[1;31m:\u001b[0m invalid syntax\n"
     ]
    }
   ],
   "source": [
    "def print_twice('bruce'):\n",
    "    print(bruce)\n",
    "    print(bruce)\n",
    "    \n",
    "   \n",
    "print_twice(bruce)"
   ]
  },
  {
   "cell_type": "code",
   "execution_count": 24,
   "id": "72ec8a96",
   "metadata": {},
   "outputs": [
    {
     "name": "stdout",
     "output_type": "stream",
     "text": [
      "Emil Refsnes\n",
      "Tobias Refsnes\n",
      "Linus Refsnes\n"
     ]
    }
   ],
   "source": [
    "def my_function(fname):\n",
    "  print(fname + \" Refsnes\")\n",
    "\n",
    "my_function(\"Emil\")\n",
    "my_function(\"Tobias\")\n",
    "my_function(\"Linus\")"
   ]
  },
  {
   "cell_type": "code",
   "execution_count": null,
   "id": "f370dd7d",
   "metadata": {},
   "outputs": [],
   "source": []
  }
 ],
 "metadata": {
  "kernelspec": {
   "display_name": "Python 3 (ipykernel)",
   "language": "python",
   "name": "python3"
  },
  "language_info": {
   "codemirror_mode": {
    "name": "ipython",
    "version": 3
   },
   "file_extension": ".py",
   "mimetype": "text/x-python",
   "name": "python",
   "nbconvert_exporter": "python",
   "pygments_lexer": "ipython3",
   "version": "3.9.12"
  }
 },
 "nbformat": 4,
 "nbformat_minor": 5
}
