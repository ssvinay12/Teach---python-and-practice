{
 "cells": [
  {
   "cell_type": "code",
   "execution_count": 1,
   "id": "3dd85798",
   "metadata": {},
   "outputs": [
    {
     "name": "stdout",
     "output_type": "stream",
     "text": [
      "['NodeJS', 'ReactJS']\n",
      "['Java']\n",
      "['NodeJS', 'ReactJS']\n"
     ]
    }
   ],
   "source": [
    "def listSkills(val, list=[]):\n",
    "    list.append(val)\n",
    "    return list\n",
    "\n",
    "list1 = listSkills('NodeJS')\n",
    "list2 = listSkills('Java', [])\n",
    "list3 = listSkills('ReactJS')\n",
    "print(\"%s\" % list1)\n",
    "print(\"%s\" % list2)\n",
    "print(\"%s\" % list3)"
   ]
  },
  {
   "cell_type": "code",
   "execution_count": 2,
   "id": "437b07e6",
   "metadata": {},
   "outputs": [
    {
     "name": "stdout",
     "output_type": "stream",
     "text": [
      "[]\n"
     ]
    }
   ],
   "source": [
    "import re\n",
    "result = re.findall('Welcome to Turing', 'Welcome', 1)\n",
    "print(result)"
   ]
  },
  {
   "cell_type": "code",
   "execution_count": 2,
   "id": "e0d2e71c",
   "metadata": {},
   "outputs": [
    {
     "name": "stdout",
     "output_type": "stream",
     "text": [
      "11\n"
     ]
    }
   ],
   "source": [
    "x = 10\n",
    "x = x+1\n",
    "print (x)"
   ]
  },
  {
   "cell_type": "code",
   "execution_count": 10,
   "id": "14a68813",
   "metadata": {},
   "outputs": [
    {
     "name": "stdout",
     "output_type": "stream",
     "text": [
      "36000\n"
     ]
    }
   ],
   "source": [
    "sal = 35000\n",
    "sal = sal+1000\n",
    "print(sal)"
   ]
  },
  {
   "cell_type": "code",
   "execution_count": 21,
   "id": "3e4ced77",
   "metadata": {},
   "outputs": [
    {
     "name": "stdout",
     "output_type": "stream",
     "text": [
      "Enter value of x = 15.55555555555555555555555555555555555555555555555555555555555555555555555555\n",
      "Enter value of y = 14\n",
      "the sum of the two numbers is =  29.555555555555557\n"
     ]
    }
   ],
   "source": [
    "x = float(input(\"Enter value of x = \"))\n",
    "y = int(input(\"Enter value of y = \"))\n",
    "z = x+y\n",
    "print('the sum of the two numbers is = ', z )"
   ]
  },
  {
   "cell_type": "markdown",
   "id": "1d2c4173",
   "metadata": {},
   "source": [
    " Arithematic Operation "
   ]
  },
  {
   "cell_type": "code",
   "execution_count": 23,
   "id": "3b73d2ba",
   "metadata": {},
   "outputs": [
    {
     "name": "stdout",
     "output_type": "stream",
     "text": [
      "enter the value of x = 45\n",
      "enterthe value of y = 55\n",
      "sum of the two numbers =  100.0\n",
      "difference in the two numbers =  -10.0\n",
      "multiplication of the two numbers = 2475.0\n",
      "division of the two numbers = 0.8181818181818182\n"
     ]
    }
   ],
   "source": [
    "x = float(input(\"enter the value of x = \"))\n",
    "y = float(input('enterthe value of y = '))\n",
    "r1 = x+y\n",
    "r2 = x-y\n",
    "r3 = x*y\n",
    "r4 = x/y\n",
    "print(\"sum of the two numbers = \" ,r1)\n",
    "print ('difference in the two numbers = ', r2)\n",
    "print('multiplication of the two numbers =' ,r3)\n",
    "print('division of the two numbers =' ,r4)"
   ]
  },
  {
   "cell_type": "code",
   "execution_count": 28,
   "id": "426dc0ae",
   "metadata": {},
   "outputs": [
    {
     "name": "stdout",
     "output_type": "stream",
     "text": [
      "100\n",
      "101\n",
      "102\n",
      "103\n",
      "104\n",
      "105\n",
      "106\n",
      "107\n",
      "108\n",
      "109\n",
      "110\n",
      "111\n",
      "112\n",
      "113\n",
      "114\n",
      "115\n",
      "116\n",
      "117\n",
      "118\n",
      "119\n",
      "120\n",
      "121\n",
      "122\n",
      "123\n",
      "124\n",
      "125\n",
      "126\n",
      "127\n",
      "128\n",
      "129\n",
      "130\n",
      "131\n",
      "132\n",
      "133\n",
      "134\n",
      "135\n",
      "136\n",
      "137\n",
      "138\n",
      "139\n",
      "140\n",
      "141\n",
      "142\n",
      "143\n",
      "144\n",
      "145\n",
      "146\n",
      "147\n",
      "148\n",
      "149\n",
      "150\n",
      "151\n",
      "152\n",
      "153\n",
      "154\n",
      "155\n",
      "156\n",
      "157\n",
      "158\n",
      "159\n",
      "160\n",
      "161\n",
      "162\n",
      "163\n",
      "164\n",
      "165\n",
      "166\n",
      "167\n",
      "168\n",
      "169\n",
      "170\n",
      "171\n",
      "172\n",
      "173\n",
      "174\n",
      "175\n",
      "176\n",
      "177\n",
      "178\n",
      "179\n",
      "180\n",
      "181\n",
      "182\n",
      "183\n",
      "184\n",
      "185\n",
      "186\n",
      "187\n",
      "188\n",
      "189\n",
      "190\n",
      "191\n",
      "192\n",
      "193\n",
      "194\n",
      "195\n",
      "196\n",
      "197\n",
      "198\n",
      "199\n",
      "200\n",
      "end\n"
     ]
    }
   ],
   "source": [
    "x=100\n",
    "while x <=200:\n",
    "    print(x)\n",
    "    x = x+1\n",
    "   \n",
    "print('end')\n",
    "    \n",
    "    "
   ]
  },
  {
   "cell_type": "code",
   "execution_count": 31,
   "id": "3fdd0edb",
   "metadata": {},
   "outputs": [
    {
     "name": "stdout",
     "output_type": "stream",
     "text": [
      "from the number = 12\n",
      "to the number = 24\n",
      "even numbers between the given numbers are\n",
      "-------------\n",
      "12\n",
      "14\n",
      "16\n",
      "18\n",
      "20\n",
      "22\n",
      "24\n",
      "-----The END ------\n"
     ]
    }
   ],
   "source": [
    "m = int(input('from the number = '))\n",
    "n = int(input('to the number = '))\n",
    "print('even numbers between the given numbers are')\n",
    "print('-------------')\n",
    "\n",
    "if m%2 !=0:\n",
    "    m=m+1\n",
    "else:\n",
    "    m=m\n",
    "    \n",
    "while m<=n:\n",
    "    print(m)\n",
    "    m=m+2\n",
    "    \n",
    "print('-----The END ------')    \n"
   ]
  },
  {
   "cell_type": "markdown",
   "id": "bf44cb6b",
   "metadata": {},
   "source": [
    " Reverse the number"
   ]
  },
  {
   "cell_type": "code",
   "execution_count": 54,
   "id": "43ebc2b7",
   "metadata": {},
   "outputs": [
    {
     "name": "stdout",
     "output_type": "stream",
     "text": [
      "Enter the number to be reversed = 258963147\n",
      "7413698522 "
     ]
    }
   ],
   "source": [
    "num = int(input('Enter the number to be reversed = '))\n",
    "while num !=0:\n",
    "    reversedNumber = num%10\n",
    "    print(reversedNumber, end='')\n",
    "    num = int(num/10)\n",
    "    \n",
    "print(reversedNumber, end=' ')    "
   ]
  },
  {
   "cell_type": "code",
   "execution_count": 53,
   "id": "ce4f9bc0",
   "metadata": {
    "scrolled": true
   },
   "outputs": [
    {
     "name": "stdout",
     "output_type": "stream",
     "text": [
      "enter number to be summed by digit = 203\n",
      "5\n"
     ]
    }
   ],
   "source": [
    "num = int(input('enter number to be summed by digit = '))\n",
    "summ = 0\n",
    "while num!=0:\n",
    "    sum = num%10\n",
    "    summ = summ + sum\n",
    "    \n",
    "    num = int(num/10)\n",
    "print(summ)    "
   ]
  },
  {
   "cell_type": "code",
   "execution_count": 65,
   "id": "8762ad06",
   "metadata": {},
   "outputs": [
    {
     "name": "stdout",
     "output_type": "stream",
     "text": [
      "2\n",
      "3\n",
      "5\n",
      "8\n",
      "15\n",
      "10\n",
      "96\n"
     ]
    }
   ],
   "source": [
    "L =[2, 3, 5, 8, 15, 10, 96]\n",
    "n = len(L)\n",
    "i=0\n",
    "r=0\n",
    "while i<n:\n",
    "    print(L[i])\n",
    "    i =i+1\n",
    "\n",
    "   \n",
    "\n",
    "    "
   ]
  },
  {
   "cell_type": "code",
   "execution_count": 71,
   "id": "15585774",
   "metadata": {},
   "outputs": [
    {
     "name": "stdout",
     "output_type": "stream",
     "text": [
      "2\n",
      "3\n",
      "5\n",
      "8\n",
      "15\n",
      "10\n",
      "96\n",
      "sum of all the list elements =  139\n"
     ]
    }
   ],
   "source": [
    "L =[2, 3, 5, 8, 15, 10, 96]\n",
    "n = len(L)\n",
    "i=0\n",
    "\n",
    "sum = 0\n",
    "while i<n:\n",
    "    sum = sum + L[i]\n",
    "    print(L[i])\n",
    "    i =i+1\n",
    "print('sum of all the list elements = '  , sum)"
   ]
  },
  {
   "cell_type": "markdown",
   "id": "1429e82e",
   "metadata": {},
   "source": [
    "# To Display given string for  5 times - we will use wile loop"
   ]
  },
  {
   "cell_type": "code",
   "execution_count": 73,
   "id": "73591866",
   "metadata": {},
   "outputs": [
    {
     "name": "stdout",
     "output_type": "stream",
     "text": [
      "Enter a String: what is your name : My name is Siddu\n",
      "what is your name : My name is Siddu\n",
      "what is your name : My name is Siddu\n",
      "what is your name : My name is Siddu\n",
      "what is your name : My name is Siddu\n",
      "what is your name : My name is Siddu\n"
     ]
    }
   ],
   "source": [
    "str = input ('Enter a String: ')\n",
    "count = 1\n",
    "while count<=5:\n",
    "    print(str)\n",
    "    count= count+1"
   ]
  },
  {
   "cell_type": "markdown",
   "id": "4e6254c3",
   "metadata": {},
   "source": [
    "### Display two sequences\n"
   ]
  },
  {
   "cell_type": "code",
   "execution_count": 226,
   "id": "e2fdaff3",
   "metadata": {},
   "outputs": [
    {
     "name": "stdout",
     "output_type": "stream",
     "text": [
      "1\n",
      "------ 5\n",
      "2\n",
      "------ 4\n",
      "3\n",
      "------ 3\n",
      "4\n",
      "------ 2\n",
      "5\n",
      "------ 1\n"
     ]
    }
   ],
   "source": [
    "i = 1; j =5\n",
    "while i<=5:\n",
    "    print(i,)\n",
    "    print(\"------\", j)\n",
    "    i= i+1\n",
    "    j= j-1"
   ]
  },
  {
   "cell_type": "code",
   "execution_count": 78,
   "id": "10ee2336",
   "metadata": {},
   "outputs": [
    {
     "name": "stdout",
     "output_type": "stream",
     "text": [
      "1\n",
      "2\n",
      "3\n",
      "4\n",
      "5\n",
      "6\n",
      "7\n",
      "8\n",
      "9\n",
      "10\n"
     ]
    }
   ],
   "source": [
    "i= 1\n",
    "while i<=10:\n",
    "    print(i)\n",
    "    i=i+1"
   ]
  },
  {
   "cell_type": "markdown",
   "id": "4608507d",
   "metadata": {},
   "source": [
    "####  Displaying even Numbers from 100-200 with while LOOP"
   ]
  },
  {
   "cell_type": "code",
   "execution_count": 79,
   "id": "f5b987b6",
   "metadata": {},
   "outputs": [
    {
     "name": "stdout",
     "output_type": "stream",
     "text": [
      "100\n",
      "102\n",
      "104\n",
      "106\n",
      "108\n",
      "110\n",
      "112\n",
      "114\n",
      "116\n",
      "118\n",
      "120\n",
      "122\n",
      "124\n",
      "126\n",
      "128\n",
      "130\n",
      "132\n",
      "134\n",
      "136\n",
      "138\n",
      "140\n",
      "142\n",
      "144\n",
      "146\n",
      "148\n",
      "150\n",
      "152\n",
      "154\n",
      "156\n",
      "158\n",
      "160\n",
      "162\n",
      "164\n",
      "166\n",
      "168\n",
      "170\n",
      "172\n",
      "174\n",
      "176\n",
      "178\n",
      "180\n",
      "182\n",
      "184\n",
      "186\n",
      "188\n",
      "190\n",
      "192\n",
      "194\n",
      "196\n",
      "198\n",
      "200\n"
     ]
    }
   ],
   "source": [
    "i= 100\n",
    "while i<=200:\n",
    "    print(i)\n",
    "    i=i+2"
   ]
  },
  {
   "cell_type": "markdown",
   "id": "e8ed3bde",
   "metadata": {},
   "source": [
    "#  FOR Loop"
   ]
  },
  {
   "cell_type": "markdown",
   "id": "f77e19a7",
   "metadata": {},
   "source": [
    "in for loop the sequence is executed as many time as there are iterations \n",
    "where as in while loop the code comes out when the condition is fulfilled\n"
   ]
  },
  {
   "cell_type": "code",
   "execution_count": 82,
   "id": "6207b564",
   "metadata": {},
   "outputs": [
    {
     "name": "stdout",
     "output_type": "stream",
     "text": [
      "10\n",
      "12\n",
      "14\n",
      "16\n",
      "18\n"
     ]
    }
   ],
   "source": [
    "for i in range(10 ,20,2):\n",
    "    print(i)"
   ]
  },
  {
   "cell_type": "code",
   "execution_count": 83,
   "id": "0550595f",
   "metadata": {},
   "outputs": [
    {
     "name": "stdout",
     "output_type": "stream",
     "text": [
      "100\n",
      "102\n",
      "104\n",
      "106\n",
      "108\n",
      "110\n",
      "112\n",
      "114\n",
      "116\n",
      "118\n",
      "120\n",
      "122\n",
      "124\n",
      "126\n",
      "128\n",
      "130\n",
      "132\n",
      "134\n",
      "136\n",
      "138\n",
      "140\n",
      "142\n",
      "144\n",
      "146\n",
      "148\n",
      "150\n",
      "152\n",
      "154\n",
      "156\n",
      "158\n",
      "160\n",
      "162\n",
      "164\n",
      "166\n",
      "168\n",
      "170\n",
      "172\n",
      "174\n",
      "176\n",
      "178\n",
      "180\n",
      "182\n",
      "184\n",
      "186\n",
      "188\n",
      "190\n",
      "192\n",
      "194\n",
      "196\n",
      "198\n",
      "200\n"
     ]
    }
   ],
   "source": [
    "for i in range(100 ,201,2):\n",
    "    print(i)"
   ]
  },
  {
   "cell_type": "code",
   "execution_count": 84,
   "id": "b7ea1ae3",
   "metadata": {},
   "outputs": [
    {
     "name": "stdout",
     "output_type": "stream",
     "text": [
      "1\n",
      "3\n",
      "2\n",
      "8\n",
      "16\n",
      "7\n",
      "3\n"
     ]
    }
   ],
   "source": [
    "L = [1, 3, 2, 8, 16, 7, 3]\n",
    "\n",
    "for i in L:\n",
    "    print(i)"
   ]
  },
  {
   "cell_type": "code",
   "execution_count": 92,
   "id": "9ad26f99",
   "metadata": {},
   "outputs": [
    {
     "name": "stdout",
     "output_type": "stream",
     "text": [
      "2\n",
      "8\n",
      "16\n",
      "32\n",
      "98\n"
     ]
    }
   ],
   "source": [
    "L = [1, 3, 2, 8, 16, 7, 3, 32, 0, 98]\n",
    "\n",
    "for i in L:\n",
    "    if i%2==0 and i!=0:\n",
    "        print(i)\n",
    "    \n",
    "    "
   ]
  },
  {
   "cell_type": "code",
   "execution_count": 100,
   "id": "8cda1409",
   "metadata": {},
   "outputs": [
    {
     "name": "stdout",
     "output_type": "stream",
     "text": [
      "98\n"
     ]
    }
   ],
   "source": [
    "L = [1, 3, 2, 8, 16, 7, 3, 32, 0, 98]\n",
    "\n",
    "max= L[0]\n",
    "for i in L:\n",
    "    if i>max : max =i\n",
    "print(max)"
   ]
  },
  {
   "cell_type": "code",
   "execution_count": 103,
   "id": "0d5d5dd0",
   "metadata": {},
   "outputs": [
    {
     "name": "stdout",
     "output_type": "stream",
     "text": [
      "how many rows? 12\n",
      "* \n",
      "* * \n",
      "* * * \n",
      "* * * * \n",
      "* * * * * \n",
      "* * * * * * \n",
      "* * * * * * * \n",
      "* * * * * * * * \n",
      "* * * * * * * * * \n",
      "* * * * * * * * * * \n",
      "* * * * * * * * * * * \n",
      "* * * * * * * * * * * * \n"
     ]
    }
   ],
   "source": [
    "roe = int(input('how many rows? '))\n",
    "for i in range(1, roe+1):\n",
    "    for j in range(1, i+1):\n",
    "        print('* ', end= '')\n",
    "        \n",
    "    print()   "
   ]
  },
  {
   "cell_type": "code",
   "execution_count": 104,
   "id": "55b16263",
   "metadata": {},
   "outputs": [
    {
     "name": "stdout",
     "output_type": "stream",
     "text": [
      "sum of positive numbers = 170\n",
      "sum of negative numbers = -304\n"
     ]
    }
   ],
   "source": [
    "L = [1, 3, 2, 8, 16, 7, 3, 32, 0, 98, -88, -56, -83, -77]\n",
    "\n",
    "sum1=0; sum2=0\n",
    "for i in L:\n",
    "    if i>0: sum1=sum1+i\n",
    "    if i<0: sum2=sum2+i \n",
    "        \n",
    "print('sum of positive numbers =', sum1)  \n",
    "print('sum of negative numbers =', sum2) \n",
    "        "
   ]
  },
  {
   "cell_type": "code",
   "execution_count": 106,
   "id": "f2be902e",
   "metadata": {},
   "outputs": [
    {
     "name": "stdout",
     "output_type": "stream",
     "text": [
      "Enter a number to check if its prime Number : 37\n",
      "37 is a Prime Number\n"
     ]
    }
   ],
   "source": [
    "n = int(input('Enter a number to check if its prime Number : '))\n",
    "flag = True\n",
    "for i in range(2, n):\n",
    "    if n%i ==0:\n",
    "        flag = False\n",
    "        break\n",
    "        \n",
    "if flag == True:\n",
    "    print(n, 'is a Prime Number')\n",
    "else:\n",
    "    print(n, 'is not a Prime Number')\n",
    "\n",
    "\n",
    "        \n",
    "    \n",
    "    \n",
    "        "
   ]
  },
  {
   "cell_type": "markdown",
   "id": "87486047",
   "metadata": {},
   "source": [
    "## Print Prime Numbers between 100 to 200 ---- By self after106 execution\n"
   ]
  },
  {
   "cell_type": "code",
   "execution_count": 146,
   "id": "de91dcdd",
   "metadata": {},
   "outputs": [
    {
     "name": "stdout",
     "output_type": "stream",
     "text": [
      "100 is not a Prime Number\n",
      "101 is a Prime Number\n",
      "102 is not a Prime Number\n",
      "103 is a Prime Number\n",
      "104 is not a Prime Number\n",
      "105 is a Prime Number\n",
      "106 is not a Prime Number\n",
      "107 is a Prime Number\n",
      "108 is not a Prime Number\n",
      "109 is a Prime Number\n",
      "110 is not a Prime Number\n",
      "111 is a Prime Number\n",
      "112 is not a Prime Number\n",
      "113 is a Prime Number\n",
      "114 is not a Prime Number\n",
      "115 is a Prime Number\n",
      "116 is not a Prime Number\n",
      "117 is a Prime Number\n",
      "118 is not a Prime Number\n",
      "119 is a Prime Number\n",
      "120 is not a Prime Number\n",
      "121 is a Prime Number\n",
      "122 is not a Prime Number\n",
      "123 is a Prime Number\n",
      "124 is not a Prime Number\n",
      "125 is a Prime Number\n",
      "126 is not a Prime Number\n",
      "127 is a Prime Number\n",
      "128 is not a Prime Number\n",
      "129 is a Prime Number\n",
      "130 is not a Prime Number\n",
      "131 is a Prime Number\n",
      "132 is not a Prime Number\n",
      "133 is a Prime Number\n",
      "134 is not a Prime Number\n",
      "135 is a Prime Number\n",
      "136 is not a Prime Number\n",
      "137 is a Prime Number\n",
      "138 is not a Prime Number\n",
      "139 is a Prime Number\n",
      "140 is not a Prime Number\n",
      "141 is a Prime Number\n",
      "142 is not a Prime Number\n",
      "143 is a Prime Number\n",
      "144 is not a Prime Number\n",
      "145 is a Prime Number\n",
      "146 is not a Prime Number\n",
      "147 is a Prime Number\n",
      "148 is not a Prime Number\n",
      "149 is a Prime Number\n",
      "150 is not a Prime Number\n",
      "151 is a Prime Number\n",
      "152 is not a Prime Number\n",
      "153 is a Prime Number\n",
      "154 is not a Prime Number\n",
      "155 is a Prime Number\n",
      "156 is not a Prime Number\n",
      "157 is a Prime Number\n",
      "158 is not a Prime Number\n",
      "159 is a Prime Number\n",
      "160 is not a Prime Number\n",
      "161 is a Prime Number\n",
      "162 is not a Prime Number\n",
      "163 is a Prime Number\n",
      "164 is not a Prime Number\n",
      "165 is a Prime Number\n",
      "166 is not a Prime Number\n",
      "167 is a Prime Number\n",
      "168 is not a Prime Number\n",
      "169 is a Prime Number\n",
      "170 is not a Prime Number\n",
      "171 is a Prime Number\n",
      "172 is not a Prime Number\n",
      "173 is a Prime Number\n",
      "174 is not a Prime Number\n",
      "175 is a Prime Number\n",
      "176 is not a Prime Number\n",
      "177 is a Prime Number\n",
      "178 is not a Prime Number\n",
      "179 is a Prime Number\n",
      "180 is not a Prime Number\n",
      "181 is a Prime Number\n",
      "182 is not a Prime Number\n",
      "183 is a Prime Number\n",
      "184 is not a Prime Number\n",
      "185 is a Prime Number\n",
      "186 is not a Prime Number\n",
      "187 is a Prime Number\n",
      "188 is not a Prime Number\n",
      "189 is a Prime Number\n",
      "190 is not a Prime Number\n",
      "191 is a Prime Number\n",
      "192 is not a Prime Number\n",
      "193 is a Prime Number\n",
      "194 is not a Prime Number\n",
      "195 is a Prime Number\n",
      "196 is not a Prime Number\n",
      "197 is a Prime Number\n",
      "198 is not a Prime Number\n",
      "199 is a Prime Number\n",
      "200 is not a Prime Number\n"
     ]
    }
   ],
   "source": [
    "for i in range(100, 201):\n",
    "    for k in range(2, i):\n",
    "        if i%k==0:\n",
    "            \n",
    "            print(i, 'is not a Prime Number')\n",
    "            break\n",
    "        else:\n",
    "            print(i, 'is a Prime Number')\n",
    "            break\n",
    "   \n",
    "\n",
    "\n",
    "    \n",
    "\n",
    "    "
   ]
  },
  {
   "cell_type": "code",
   "execution_count": 148,
   "id": "4a26f48e",
   "metadata": {},
   "outputs": [
    {
     "name": "stdout",
     "output_type": "stream",
     "text": [
      "101 is a Prime Number\n",
      "103 is a Prime Number\n",
      "105 is a Prime Number\n",
      "107 is a Prime Number\n",
      "109 is a Prime Number\n",
      "111 is a Prime Number\n",
      "113 is a Prime Number\n",
      "115 is a Prime Number\n",
      "117 is a Prime Number\n",
      "119 is a Prime Number\n",
      "121 is a Prime Number\n",
      "123 is a Prime Number\n",
      "125 is a Prime Number\n",
      "127 is a Prime Number\n",
      "129 is a Prime Number\n",
      "131 is a Prime Number\n",
      "133 is a Prime Number\n",
      "135 is a Prime Number\n",
      "137 is a Prime Number\n",
      "139 is a Prime Number\n",
      "141 is a Prime Number\n",
      "143 is a Prime Number\n",
      "145 is a Prime Number\n",
      "147 is a Prime Number\n",
      "149 is a Prime Number\n",
      "151 is a Prime Number\n",
      "153 is a Prime Number\n",
      "155 is a Prime Number\n",
      "157 is a Prime Number\n",
      "159 is a Prime Number\n",
      "161 is a Prime Number\n",
      "163 is a Prime Number\n",
      "165 is a Prime Number\n",
      "167 is a Prime Number\n",
      "169 is a Prime Number\n",
      "171 is a Prime Number\n",
      "173 is a Prime Number\n",
      "175 is a Prime Number\n",
      "177 is a Prime Number\n",
      "179 is a Prime Number\n",
      "181 is a Prime Number\n",
      "183 is a Prime Number\n",
      "185 is a Prime Number\n",
      "187 is a Prime Number\n",
      "189 is a Prime Number\n",
      "191 is a Prime Number\n",
      "193 is a Prime Number\n",
      "195 is a Prime Number\n",
      "197 is a Prime Number\n",
      "199 is a Prime Number\n"
     ]
    }
   ],
   "source": [
    "for i in range(100, 201):\n",
    "    for k in range(2, i):\n",
    "        if i%k==0:\n",
    "            \n",
    "            break\n",
    "        else:\n",
    "            print(i, 'is a Prime Number')\n",
    "            break\n",
    "           "
   ]
  },
  {
   "cell_type": "code",
   "execution_count": 151,
   "id": "4556fb82",
   "metadata": {},
   "outputs": [
    {
     "name": "stdout",
     "output_type": "stream",
     "text": [
      "101   - is a Prime Number\n",
      "103   - is a Prime Number\n",
      "107   - is a Prime Number\n",
      "109   - is a Prime Number\n",
      "113   - is a Prime Number\n",
      "127   - is a Prime Number\n",
      "131   - is a Prime Number\n",
      "137   - is a Prime Number\n",
      "139   - is a Prime Number\n",
      "149   - is a Prime Number\n",
      "151   - is a Prime Number\n",
      "157   - is a Prime Number\n",
      "163   - is a Prime Number\n",
      "167   - is a Prime Number\n",
      "173   - is a Prime Number\n",
      "179   - is a Prime Number\n",
      "181   - is a Prime Number\n",
      "191   - is a Prime Number\n",
      "193   - is a Prime Number\n",
      "197   - is a Prime Number\n",
      "199   - is a Prime Number\n"
     ]
    }
   ],
   "source": [
    "for num in range(100, 201):\n",
    "    if all(num%i !=0 for i in range(2, num)):\n",
    "        \n",
    "        print(num, '  - is a Prime Number')\n",
    "        "
   ]
  },
  {
   "cell_type": "code",
   "execution_count": 154,
   "id": "32b750ae",
   "metadata": {},
   "outputs": [
    {
     "name": "stdout",
     "output_type": "stream",
     "text": [
      "sai vinay sunkara . s\n"
     ]
    }
   ],
   "source": [
    "s= '    sai vinay sunkara . s'\n",
    "print(s.strip())"
   ]
  },
  {
   "cell_type": "code",
   "execution_count": 156,
   "id": "918c0e32",
   "metadata": {},
   "outputs": [
    {
     "name": "stdout",
     "output_type": "stream",
     "text": [
      " \n",
      " \n",
      " \n",
      " \n",
      "s\n",
      "a\n",
      "i\n",
      " \n",
      "v\n",
      "i\n",
      "n\n",
      "a\n",
      "y\n",
      " \n",
      "s\n",
      "u\n",
      "n\n",
      "k\n",
      "a\n",
      "r\n",
      "a\n",
      " \n",
      ".\n",
      " \n",
      "s\n"
     ]
    }
   ],
   "source": [
    "for i in s: \n",
    "    print(i)"
   ]
  },
  {
   "cell_type": "code",
   "execution_count": 157,
   "id": "66f20dbd",
   "metadata": {},
   "outputs": [
    {
     "name": "stdout",
     "output_type": "stream",
     "text": [
      " \n"
     ]
    }
   ],
   "source": [
    "print(s[0])"
   ]
  },
  {
   "cell_type": "code",
   "execution_count": 158,
   "id": "90bce344",
   "metadata": {},
   "outputs": [
    {
     "name": "stdout",
     "output_type": "stream",
     "text": [
      "    sa\n"
     ]
    }
   ],
   "source": [
    "print(s[0:6])"
   ]
  },
  {
   "cell_type": "code",
   "execution_count": 160,
   "id": "c59ed0e3",
   "metadata": {},
   "outputs": [
    {
     "name": "stdout",
     "output_type": "stream",
     "text": [
      "    sai vinay sunkara . \n"
     ]
    }
   ],
   "source": [
    "print(s[ : -1])"
   ]
  },
  {
   "cell_type": "code",
   "execution_count": 161,
   "id": "2e692332",
   "metadata": {},
   "outputs": [
    {
     "name": "stdout",
     "output_type": "stream",
     "text": [
      "    sai\n"
     ]
    }
   ],
   "source": [
    "print(s[:7])"
   ]
  },
  {
   "cell_type": "code",
   "execution_count": 162,
   "id": "5755d5eb",
   "metadata": {},
   "outputs": [
    {
     "name": "stdout",
     "output_type": "stream",
     "text": [
      "    sai vinay sunk\n"
     ]
    }
   ],
   "source": [
    "print(s[:-7])"
   ]
  },
  {
   "cell_type": "code",
   "execution_count": 163,
   "id": "c03e262e",
   "metadata": {},
   "outputs": [
    {
     "name": "stdout",
     "output_type": "stream",
     "text": [
      "sai vinay sunk\n"
     ]
    }
   ],
   "source": [
    "print(s[4:-7])"
   ]
  },
  {
   "cell_type": "code",
   "execution_count": 164,
   "id": "8a414094",
   "metadata": {},
   "outputs": [
    {
     "name": "stdout",
     "output_type": "stream",
     "text": [
      "sai\n"
     ]
    }
   ],
   "source": [
    "print(s[4:7])"
   ]
  },
  {
   "cell_type": "code",
   "execution_count": 168,
   "id": "ba170ca8",
   "metadata": {},
   "outputs": [
    {
     "name": "stdout",
     "output_type": "stream",
     "text": [
      "siv\n"
     ]
    }
   ],
   "source": [
    "print(s[4:10:2])"
   ]
  },
  {
   "cell_type": "code",
   "execution_count": 170,
   "id": "93a12e1b",
   "metadata": {},
   "outputs": [
    {
     "name": "stdout",
     "output_type": "stream",
     "text": [
      "sivnys\n"
     ]
    }
   ],
   "source": [
    "print(s[4:15:2])"
   ]
  },
  {
   "cell_type": "code",
   "execution_count": 172,
   "id": "d4225eb4",
   "metadata": {},
   "outputs": [
    {
     "name": "stdout",
     "output_type": "stream",
     "text": [
      "sai vi\n"
     ]
    }
   ],
   "source": [
    "print(s[4:10:1])"
   ]
  },
  {
   "cell_type": "code",
   "execution_count": 174,
   "id": "22cf4238",
   "metadata": {},
   "outputs": [
    {
     "name": "stdout",
     "output_type": "stream",
     "text": [
      "enter the id:1616464964\n",
      "Enter your name : sai vinay sunkara\n",
      " enter your salary:5600700\n",
      "your id= 1616464964 \\ nname =sai vinay sunkara \\ nsalary = 36000\n"
     ]
    }
   ],
   "source": [
    "# to Accept id, name and salary\n",
    "\n",
    "id = int(input('enter the id:'))\n",
    "name = input('Enter your name : ')\n",
    "salary = float(input(' enter your salary:'))\n",
    "print('your id= {} \\ nname ={} \\ nsalary = {}'.format(id,name,sal))"
   ]
  },
  {
   "cell_type": "code",
   "execution_count": 184,
   "id": "29a84262",
   "metadata": {},
   "outputs": [
    {
     "name": "stdout",
     "output_type": "stream",
     "text": [
      "enter the id:1361\n",
      "Enter your name : dafhdiha\n",
      " enter your salary:3154\n",
      "your id= 1361\n",
      "name =dafhdiha / salary = 36000\n"
     ]
    }
   ],
   "source": [
    "id = int(input('enter the id:'))\n",
    "name = input('Enter your name : ')\n",
    "salary = float(input(' enter your salary:'))\n",
    "print('your id= {}\\nname ={} / salary = {}'.format(id,name,sal))"
   ]
  },
  {
   "cell_type": "markdown",
   "id": "37dcd96a",
   "metadata": {},
   "source": [
    "### Enter Three Numbers Find their sum and average\n"
   ]
  },
  {
   "cell_type": "code",
   "execution_count": 188,
   "id": "8c2be4df",
   "metadata": {},
   "outputs": [
    {
     "name": "stdout",
     "output_type": "stream",
     "text": [
      "enter 3 numbers: 12 23 36\n",
      "sum= 71\n",
      "average= 23.666667\n"
     ]
    }
   ],
   "source": [
    "a,b,c = [float(x) for x in input('enter 3 numbers: ').split()]\n",
    "sum = a+b+c\n",
    "average = sum/3\n",
    "\n",
    "print(\"sum= %i\\naverage= %8f\" % (sum, average))\n",
    "\n"
   ]
  },
  {
   "cell_type": "markdown",
   "id": "4570dfa0",
   "metadata": {},
   "source": [
    "### Finding the area of the circle when entered raidius"
   ]
  },
  {
   "cell_type": "code",
   "execution_count": 192,
   "id": "227bd35f",
   "metadata": {},
   "outputs": [
    {
     "name": "stdout",
     "output_type": "stream",
     "text": [
      "enter the Radius of the Circle = 12\n",
      "Area of the circle is =  452.57142857142856\n"
     ]
    }
   ],
   "source": [
    "r= float(input(\"enter the Radius of the Circle = \"))\n",
    "area = (22/7 * r**2)\n",
    "print(\"Area of the circle is = \" , area)"
   ]
  },
  {
   "cell_type": "markdown",
   "id": "417fd543",
   "metadata": {},
   "source": [
    "### Joining strings\n"
   ]
  },
  {
   "cell_type": "code",
   "execution_count": 196,
   "id": "e44641ef",
   "metadata": {},
   "outputs": [
    {
     "name": "stdout",
     "output_type": "stream",
     "text": [
      "Enter your first sentence: hi \n",
      "Enter your second sentence: what are you\n",
      "hi what are you\n"
     ]
    }
   ],
   "source": [
    "s = input('Enter your first sentence: ')\n",
    "t = input('Enter your second sentence: ')\n",
    "\n",
    "print(s + t)"
   ]
  },
  {
   "cell_type": "code",
   "execution_count": 199,
   "id": "bcb62bba",
   "metadata": {},
   "outputs": [
    {
     "name": "stdout",
     "output_type": "stream",
     "text": [
      " enter your two strings: hi buddy , call me\n",
      " total strings:  hi buddy  call me\n"
     ]
    }
   ],
   "source": [
    "str1, str2 = input( ' enter your two strings: '). split(',')\n",
    "print(' total strings: ', str1+str2)"
   ]
  },
  {
   "cell_type": "markdown",
   "id": "41a3a71c",
   "metadata": {},
   "source": [
    "### Enter a number and display its cube value"
   ]
  },
  {
   "cell_type": "code",
   "execution_count": 201,
   "id": "c8cd8aa9",
   "metadata": {},
   "outputs": [
    {
     "name": "stdout",
     "output_type": "stream",
     "text": [
      "Enter your nuber to find its cube = 2\n",
      "cube of the given number is =  8.0\n"
     ]
    }
   ],
   "source": [
    "num = float(input( 'Enter your nuber to find its cube = '))\n",
    "cube = num**3\n",
    "print('cube of the given number is = ', cube)"
   ]
  },
  {
   "cell_type": "code",
   "execution_count": 202,
   "id": "4d627130",
   "metadata": {},
   "outputs": [
    {
     "name": "stdout",
     "output_type": "stream",
     "text": [
      "Enter your nuber to find its cube = 33\n",
      "cube of the entered number is =  35937.0\n"
     ]
    }
   ],
   "source": [
    "num = float(input( 'Enter your nuber to find its cube = '))\n",
    "print('cube of the entered number is = ', num**3)"
   ]
  },
  {
   "cell_type": "markdown",
   "id": "579fe223",
   "metadata": {},
   "source": [
    "### Sort a group of strings \n",
    "\n"
   ]
  },
  {
   "cell_type": "code",
   "execution_count": 203,
   "id": "78266eed",
   "metadata": {},
   "outputs": [
    {
     "name": "stdout",
     "output_type": "stream",
     "text": [
      "how many strings?3\n",
      "enter string:hello bolo\n",
      "enter string:hello \n",
      "enter string:handerler\n",
      "handerler\n",
      "hello \n",
      "hello bolo\n"
     ]
    }
   ],
   "source": [
    "lst = []\n",
    "\n",
    "n = int(input('how many strings?'))\n",
    "\n",
    "for i in range(n):\n",
    "    s = input('enter string:')\n",
    "    lst.append(s)\n",
    "    \n",
    "lst.sort()\n",
    "for i in lst:\n",
    "    print(i)"
   ]
  },
  {
   "cell_type": "markdown",
   "id": "0125981b",
   "metadata": {},
   "source": [
    "### sorting a group of strings - 2\n",
    "\n"
   ]
  },
  {
   "cell_type": "code",
   "execution_count": 206,
   "id": "0c76d41a",
   "metadata": {},
   "outputs": [
    {
     "name": "stdout",
     "output_type": "stream",
     "text": [
      "how many strings you wish to sort ? 3\n",
      " Enter String: hello\n",
      " Enter String: vinay \n",
      " Enter String: siddu babu\n",
      "hello\n",
      "siddu babu\n",
      "vinay \n"
     ]
    }
   ],
   "source": [
    "lst=[]\n",
    "\n",
    "n = int(input('how many strings you wish to sort ? '))\n",
    "\n",
    "for i in range(n):\n",
    "    s = input( 'Enter String: ')\n",
    "    lst.append(s)\n",
    "    \n",
    "lst.sort()\n",
    "\n",
    "for i in lst:\n",
    "    print(i)"
   ]
  },
  {
   "cell_type": "markdown",
   "id": "f09d2a79",
   "metadata": {},
   "source": [
    "### Enter a list of different elements and display them"
   ]
  },
  {
   "cell_type": "code",
   "execution_count": 210,
   "id": "924c8a40",
   "metadata": {},
   "outputs": [
    {
     "name": "stdout",
     "output_type": "stream",
     "text": [
      "enter a lst: 12, 22, 33\n",
      "List=  (12, 22, 33)\n",
      "12\n",
      "22\n",
      "33\n"
     ]
    }
   ],
   "source": [
    "# here we will be using eval()\n",
    "\n",
    "lst = eval(input('enter a lst: '))\n",
    "print('List= ', lst)\n",
    "for i in lst:\n",
    "    print(i)\n",
    "    "
   ]
  },
  {
   "cell_type": "code",
   "execution_count": 211,
   "id": "de989b14",
   "metadata": {},
   "outputs": [
    {
     "name": "stdout",
     "output_type": "stream",
     "text": [
      "enter a lst: hello, 22, 3@k, su12@123\n"
     ]
    },
    {
     "ename": "NameError",
     "evalue": "name 'hello' is not defined",
     "output_type": "error",
     "traceback": [
      "\u001b[1;31m---------------------------------------------------------------------------\u001b[0m",
      "\u001b[1;31mNameError\u001b[0m                                 Traceback (most recent call last)",
      "\u001b[1;32mC:\\Users\\SAIVIN~1\\AppData\\Local\\Temp/ipykernel_38788/3970068401.py\u001b[0m in \u001b[0;36m<module>\u001b[1;34m\u001b[0m\n\u001b[1;32m----> 1\u001b[1;33m \u001b[0mlst\u001b[0m \u001b[1;33m=\u001b[0m \u001b[0meval\u001b[0m\u001b[1;33m(\u001b[0m\u001b[0minput\u001b[0m\u001b[1;33m(\u001b[0m\u001b[1;34m'enter a lst: '\u001b[0m\u001b[1;33m)\u001b[0m\u001b[1;33m)\u001b[0m\u001b[1;33m\u001b[0m\u001b[1;33m\u001b[0m\u001b[0m\n\u001b[0m\u001b[0;32m      2\u001b[0m \u001b[0mprint\u001b[0m\u001b[1;33m(\u001b[0m\u001b[1;34m'List= '\u001b[0m\u001b[1;33m,\u001b[0m \u001b[0mlst\u001b[0m\u001b[1;33m)\u001b[0m\u001b[1;33m\u001b[0m\u001b[1;33m\u001b[0m\u001b[0m\n\u001b[0;32m      3\u001b[0m \u001b[1;32mfor\u001b[0m \u001b[0mi\u001b[0m \u001b[1;32min\u001b[0m \u001b[0mlst\u001b[0m\u001b[1;33m:\u001b[0m\u001b[1;33m\u001b[0m\u001b[1;33m\u001b[0m\u001b[0m\n\u001b[0;32m      4\u001b[0m     \u001b[0mprint\u001b[0m\u001b[1;33m(\u001b[0m\u001b[0mi\u001b[0m\u001b[1;33m)\u001b[0m\u001b[1;33m\u001b[0m\u001b[1;33m\u001b[0m\u001b[0m\n\u001b[0;32m      5\u001b[0m \u001b[1;33m\u001b[0m\u001b[0m\n",
      "\u001b[1;32m<string>\u001b[0m in \u001b[0;36m<module>\u001b[1;34m\u001b[0m\n",
      "\u001b[1;31mNameError\u001b[0m: name 'hello' is not defined"
     ]
    }
   ],
   "source": [
    "lst = eval(input('enter a lst: '))\n",
    "print('List= ', lst)\n",
    "for i in lst:\n",
    "    print(i)\n",
    "    "
   ]
  },
  {
   "cell_type": "code",
   "execution_count": 212,
   "id": "9834b950",
   "metadata": {},
   "outputs": [
    {
     "name": "stdout",
     "output_type": "stream",
     "text": [
      "enter a lst: vinay, siddu, Ajju, Varshu\n"
     ]
    },
    {
     "ename": "NameError",
     "evalue": "name 'vinay' is not defined",
     "output_type": "error",
     "traceback": [
      "\u001b[1;31m---------------------------------------------------------------------------\u001b[0m",
      "\u001b[1;31mNameError\u001b[0m                                 Traceback (most recent call last)",
      "\u001b[1;32mC:\\Users\\SAIVIN~1\\AppData\\Local\\Temp/ipykernel_38788/2789904855.py\u001b[0m in \u001b[0;36m<module>\u001b[1;34m\u001b[0m\n\u001b[1;32m----> 1\u001b[1;33m \u001b[0mlst\u001b[0m \u001b[1;33m=\u001b[0m \u001b[0meval\u001b[0m\u001b[1;33m(\u001b[0m\u001b[0minput\u001b[0m\u001b[1;33m(\u001b[0m\u001b[1;34m'enter a lst: '\u001b[0m\u001b[1;33m)\u001b[0m\u001b[1;33m)\u001b[0m\u001b[1;33m\u001b[0m\u001b[1;33m\u001b[0m\u001b[0m\n\u001b[0m\u001b[0;32m      2\u001b[0m \u001b[0mprint\u001b[0m\u001b[1;33m(\u001b[0m\u001b[1;34m'List= '\u001b[0m\u001b[1;33m,\u001b[0m \u001b[0mlst\u001b[0m\u001b[1;33m)\u001b[0m\u001b[1;33m\u001b[0m\u001b[1;33m\u001b[0m\u001b[0m\n\u001b[0;32m      3\u001b[0m \u001b[1;32mfor\u001b[0m \u001b[0mi\u001b[0m \u001b[1;32min\u001b[0m \u001b[0mlst\u001b[0m\u001b[1;33m:\u001b[0m\u001b[1;33m\u001b[0m\u001b[1;33m\u001b[0m\u001b[0m\n\u001b[0;32m      4\u001b[0m     \u001b[0mprint\u001b[0m\u001b[1;33m(\u001b[0m\u001b[0mi\u001b[0m\u001b[1;33m)\u001b[0m\u001b[1;33m\u001b[0m\u001b[1;33m\u001b[0m\u001b[0m\n",
      "\u001b[1;32m<string>\u001b[0m in \u001b[0;36m<module>\u001b[1;34m\u001b[0m\n",
      "\u001b[1;31mNameError\u001b[0m: name 'vinay' is not defined"
     ]
    }
   ],
   "source": [
    "lst = eval(input('enter a lst: '))\n",
    "print('List= ', lst)\n",
    "for i in lst:\n",
    "    print(i)"
   ]
  },
  {
   "cell_type": "code",
   "execution_count": 213,
   "id": "e198fc78",
   "metadata": {},
   "outputs": [
    {
     "name": "stdout",
     "output_type": "stream",
     "text": [
      "enter a lst: 1, vinay, 22\n"
     ]
    },
    {
     "ename": "NameError",
     "evalue": "name 'vinay' is not defined",
     "output_type": "error",
     "traceback": [
      "\u001b[1;31m---------------------------------------------------------------------------\u001b[0m",
      "\u001b[1;31mNameError\u001b[0m                                 Traceback (most recent call last)",
      "\u001b[1;32mC:\\Users\\SAIVIN~1\\AppData\\Local\\Temp/ipykernel_38788/2789904855.py\u001b[0m in \u001b[0;36m<module>\u001b[1;34m\u001b[0m\n\u001b[1;32m----> 1\u001b[1;33m \u001b[0mlst\u001b[0m \u001b[1;33m=\u001b[0m \u001b[0meval\u001b[0m\u001b[1;33m(\u001b[0m\u001b[0minput\u001b[0m\u001b[1;33m(\u001b[0m\u001b[1;34m'enter a lst: '\u001b[0m\u001b[1;33m)\u001b[0m\u001b[1;33m)\u001b[0m\u001b[1;33m\u001b[0m\u001b[1;33m\u001b[0m\u001b[0m\n\u001b[0m\u001b[0;32m      2\u001b[0m \u001b[0mprint\u001b[0m\u001b[1;33m(\u001b[0m\u001b[1;34m'List= '\u001b[0m\u001b[1;33m,\u001b[0m \u001b[0mlst\u001b[0m\u001b[1;33m)\u001b[0m\u001b[1;33m\u001b[0m\u001b[1;33m\u001b[0m\u001b[0m\n\u001b[0;32m      3\u001b[0m \u001b[1;32mfor\u001b[0m \u001b[0mi\u001b[0m \u001b[1;32min\u001b[0m \u001b[0mlst\u001b[0m\u001b[1;33m:\u001b[0m\u001b[1;33m\u001b[0m\u001b[1;33m\u001b[0m\u001b[0m\n\u001b[0;32m      4\u001b[0m     \u001b[0mprint\u001b[0m\u001b[1;33m(\u001b[0m\u001b[0mi\u001b[0m\u001b[1;33m)\u001b[0m\u001b[1;33m\u001b[0m\u001b[1;33m\u001b[0m\u001b[0m\n",
      "\u001b[1;32m<string>\u001b[0m in \u001b[0;36m<module>\u001b[1;34m\u001b[0m\n",
      "\u001b[1;31mNameError\u001b[0m: name 'vinay' is not defined"
     ]
    }
   ],
   "source": [
    "lst = eval(input('enter a lst: '))\n",
    "print('List= ', lst)\n",
    "for i in lst:\n",
    "    print(i)"
   ]
  },
  {
   "cell_type": "code",
   "execution_count": 214,
   "id": "036c3056",
   "metadata": {},
   "outputs": [
    {
     "name": "stdout",
     "output_type": "stream",
     "text": [
      "enter a lst: 1, 22, 33333\n",
      "List=  (1, 22, 33333)\n",
      "1\n",
      "22\n",
      "33333\n"
     ]
    }
   ],
   "source": [
    "lst = eval(input('enter a lst: '))\n",
    "print('List= ', lst)\n",
    "for i in lst:\n",
    "    print(i)"
   ]
  },
  {
   "cell_type": "markdown",
   "id": "dae5297f",
   "metadata": {},
   "source": [
    "### Test whether a given number is even or Odd"
   ]
  },
  {
   "cell_type": "code",
   "execution_count": 215,
   "id": "aed37694",
   "metadata": {},
   "outputs": [
    {
     "name": "stdout",
     "output_type": "stream",
     "text": [
      " Enter a number to check Even or Odd : 23\n",
      "23 is Odd Number\n"
     ]
    }
   ],
   "source": [
    "x = int(input(' Enter a number to check Even or Odd : '))\n",
    "if x%2==0:\n",
    "    print(x, 'is an Even Number')\n",
    "else:\n",
    "    print(x, 'is Odd Number')"
   ]
  },
  {
   "cell_type": "markdown",
   "id": "fbcc3c6c",
   "metadata": {},
   "source": [
    "### showing if the given number is Even, Odd or Zero\n"
   ]
  },
  {
   "cell_type": "code",
   "execution_count": 220,
   "id": "7f60bca1",
   "metadata": {},
   "outputs": [
    {
     "name": "stdout",
     "output_type": "stream",
     "text": [
      " Enter a number to check Even or Odd : 33\n",
      "33 is Odd Number\n"
     ]
    }
   ],
   "source": [
    "x = int(input(' Enter a number to check Even or Odd : '))\n",
    "if x==0:\n",
    "    print(x, 'is zero')\n",
    "elif(x%2==0):\n",
    "    \n",
    "    print(x, 'is Even number')\n",
    "else:\n",
    "    print(x, 'is Odd Number')"
   ]
  },
  {
   "cell_type": "code",
   "execution_count": 223,
   "id": "2a298101",
   "metadata": {},
   "outputs": [
    {
     "name": "stdout",
     "output_type": "stream",
     "text": [
      " Enter a number to check Even or Odd : 0\n",
      "0 is zero\n"
     ]
    }
   ],
   "source": [
    "# Version 2\n",
    "x = int(input(' Enter a number to check Even or Odd : '))\n",
    "if x==0:print(x, 'is zero')    \n",
    "elif(x%2==0):print(x, 'is Even number') \n",
    "else:print(x, 'is Odd Number')\n",
    "    "
   ]
  },
  {
   "cell_type": "markdown",
   "id": "4b4169ea",
   "metadata": {},
   "source": [
    "### Display Numbers from 1-10  using while loop"
   ]
  },
  {
   "cell_type": "code",
   "execution_count": 224,
   "id": "4f5ac0df",
   "metadata": {},
   "outputs": [
    {
     "name": "stdout",
     "output_type": "stream",
     "text": [
      "1\n",
      "2\n",
      "3\n",
      "4\n",
      "5\n",
      "6\n",
      "7\n",
      "8\n",
      "9\n",
      "10\n"
     ]
    }
   ],
   "source": [
    "x=1\n",
    "while(x<=10):\n",
    "    print(x)\n",
    "    x=x+1\n",
    "    "
   ]
  },
  {
   "cell_type": "code",
   "execution_count": 225,
   "id": "6f439896",
   "metadata": {},
   "outputs": [
    {
     "name": "stdout",
     "output_type": "stream",
     "text": [
      "1\n",
      "2\n",
      "3\n",
      "4\n",
      "5\n",
      "6\n",
      "7\n",
      "8\n",
      "9\n",
      "10\n",
      "END\n"
     ]
    }
   ],
   "source": [
    "# displaying End after the while looop exits\n",
    "\n",
    "x=1\n",
    "while(x<=10):\n",
    "    print(x)\n",
    "    x=x+1\n",
    "    \n",
    "print('END')    "
   ]
  },
  {
   "cell_type": "code",
   "execution_count": 234,
   "id": "3b21b662",
   "metadata": {},
   "outputs": [
    {
     "name": "stdout",
     "output_type": "stream",
     "text": [
      "enter the value of x: 1\n",
      "1 108\n"
     ]
    }
   ],
   "source": [
    "x = int(input('enter the value of x: '))\n",
    "i = x\n",
    "while i<=x+100:\n",
    "    print(i, j)\n",
    "    i=j+1\n",
    "    j=i+1\n",
    "    "
   ]
  },
  {
   "cell_type": "code",
   "execution_count": 247,
   "id": "7e5a4a74",
   "metadata": {},
   "outputs": [
    {
     "name": "stdout",
     "output_type": "stream",
     "text": [
      "enter the value of x: 1\n",
      "1\n",
      "2\n",
      "3\n",
      "4\n",
      "5\n",
      "6\n",
      "7\n",
      "8\n",
      "9\n",
      "10\n",
      "11\n",
      "12\n",
      "13\n",
      "14\n",
      "15\n",
      "16\n",
      "17\n",
      "18\n",
      "19\n",
      "20\n",
      "21\n",
      "22\n",
      "23\n",
      "24\n",
      "25\n",
      "26\n",
      "27\n",
      "28\n",
      "29\n",
      "30\n",
      "31\n",
      "32\n",
      "33\n",
      "34\n",
      "35\n",
      "36\n",
      "37\n",
      "38\n",
      "39\n",
      "40\n",
      "41\n",
      "42\n",
      "43\n",
      "44\n",
      "45\n",
      "46\n",
      "47\n",
      "48\n",
      "49\n",
      "50\n",
      "51\n",
      "52\n",
      "53\n",
      "54\n",
      "55\n",
      "56\n",
      "57\n",
      "58\n",
      "59\n",
      "60\n",
      "61\n",
      "62\n",
      "63\n",
      "64\n",
      "65\n",
      "66\n",
      "67\n",
      "68\n",
      "69\n",
      "70\n",
      "71\n",
      "72\n",
      "73\n",
      "74\n",
      "75\n",
      "76\n",
      "77\n",
      "78\n",
      "79\n",
      "80\n",
      "81\n",
      "82\n",
      "83\n",
      "84\n",
      "85\n",
      "86\n",
      "87\n",
      "88\n",
      "89\n",
      "90\n",
      "91\n",
      "92\n",
      "93\n",
      "94\n",
      "95\n",
      "96\n",
      "97\n",
      "98\n",
      "99\n",
      "100\n"
     ]
    }
   ],
   "source": [
    "x = int(input('enter the value of x: '))\n",
    "i =x\n",
    "\n",
    "while i <= x+100 and i<=100:\n",
    "    print(i)\n",
    "    \n",
    "    i = i+1\n",
    " \n"
   ]
  },
  {
   "cell_type": "markdown",
   "id": "b6d0d917",
   "metadata": {},
   "source": [
    "### Display even Numbers between m, n"
   ]
  },
  {
   "cell_type": "code",
   "execution_count": 249,
   "id": "555c5508",
   "metadata": {},
   "outputs": [
    {
     "name": "stdout",
     "output_type": "stream",
     "text": [
      "enter start, stop: 2,34\n",
      "2\n",
      "4\n",
      "6\n",
      "8\n",
      "10\n",
      "12\n",
      "14\n",
      "16\n",
      "18\n",
      "20\n",
      "22\n",
      "24\n",
      "26\n",
      "28\n",
      "30\n",
      "32\n",
      "34\n"
     ]
    }
   ],
   "source": [
    "m ,n  = [int(i) for i in input('enter start, stop: ').split(',')]\n",
    "x=m\n",
    "if x%2!=0: x=m+1\n",
    "while(x<=n):\n",
    "    print(x)\n",
    "    x+=2\n",
    "    "
   ]
  },
  {
   "cell_type": "markdown",
   "id": "c61543c8",
   "metadata": {},
   "source": [
    "### Display numbers from 100 to 110\n"
   ]
  },
  {
   "cell_type": "code",
   "execution_count": 250,
   "id": "799beaca",
   "metadata": {},
   "outputs": [
    {
     "name": "stdout",
     "output_type": "stream",
     "text": [
      "100\n",
      "101\n",
      "102\n",
      "103\n",
      "104\n",
      "105\n",
      "106\n",
      "107\n",
      "108\n",
      "109\n",
      "110\n"
     ]
    }
   ],
   "source": [
    "x= 100\n",
    "for i in range(100,111):\n",
    "    print(i)"
   ]
  },
  {
   "cell_type": "code",
   "execution_count": 251,
   "id": "832efafc",
   "metadata": {},
   "outputs": [
    {
     "name": "stdout",
     "output_type": "stream",
     "text": [
      "100\n",
      "102\n",
      "104\n",
      "106\n",
      "108\n"
     ]
    }
   ],
   "source": [
    "x=100\n",
    "for i in range(100,110,2):\n",
    "    print(i)\n",
    "    \n",
    "    "
   ]
  },
  {
   "cell_type": "code",
   "execution_count": 254,
   "id": "3a9f7c7e",
   "metadata": {},
   "outputs": [
    {
     "name": "stdout",
     "output_type": "stream",
     "text": [
      "100\n",
      "100\n",
      "100\n",
      "100\n",
      "100\n",
      "100\n",
      "100\n",
      "100\n",
      "100\n",
      "100\n",
      "100\n",
      "100\n",
      "100\n",
      "100\n",
      "100\n",
      "100\n",
      "100\n",
      "100\n",
      "100\n",
      "100\n",
      "100\n",
      "100\n",
      "100\n",
      "100\n",
      "100\n",
      "100\n",
      "100\n",
      "100\n",
      "100\n",
      "100\n",
      "100\n",
      "100\n",
      "100\n",
      "100\n",
      "100\n",
      "100\n",
      "100\n",
      "100\n",
      "100\n",
      "100\n",
      "100\n",
      "100\n",
      "100\n",
      "100\n",
      "100\n",
      "100\n",
      "100\n",
      "100\n",
      "100\n",
      "100\n",
      "100\n",
      "100\n",
      "100\n",
      "100\n",
      "100\n",
      "100\n",
      "100\n",
      "100\n",
      "100\n",
      "100\n",
      "100\n",
      "100\n",
      "100\n",
      "100\n",
      "100\n",
      "100\n",
      "100\n",
      "100\n",
      "100\n",
      "100\n",
      "100\n",
      "100\n",
      "100\n",
      "100\n",
      "100\n",
      "100\n",
      "100\n",
      "100\n",
      "100\n",
      "100\n",
      "100\n",
      "100\n",
      "100\n",
      "100\n",
      "100\n",
      "100\n",
      "100\n",
      "100\n",
      "100\n",
      "100\n",
      "100\n",
      "101\n",
      "101\n",
      "101\n",
      "101\n",
      "101\n",
      "101\n",
      "101\n",
      "101\n",
      "101\n",
      "101\n",
      "101\n",
      "101\n",
      "101\n",
      "101\n",
      "101\n",
      "101\n",
      "101\n",
      "101\n",
      "101\n",
      "101\n",
      "101\n",
      "101\n",
      "101\n",
      "101\n",
      "101\n",
      "101\n",
      "101\n",
      "101\n",
      "101\n",
      "101\n",
      "101\n",
      "101\n",
      "101\n",
      "101\n",
      "101\n",
      "101\n",
      "101\n",
      "101\n",
      "101\n",
      "101\n",
      "101\n",
      "101\n",
      "101\n",
      "101\n",
      "101\n",
      "101\n",
      "101\n",
      "101\n",
      "101\n",
      "101\n",
      "101\n",
      "101\n",
      "101\n",
      "101\n",
      "101\n",
      "101\n",
      "101\n",
      "101\n",
      "101\n",
      "101\n",
      "101\n",
      "101\n",
      "101\n",
      "101\n",
      "101\n",
      "101\n",
      "101\n",
      "101\n",
      "101\n",
      "101\n",
      "101\n",
      "101\n",
      "101\n",
      "101\n",
      "101\n",
      "101\n",
      "101\n",
      "101\n",
      "101\n",
      "101\n",
      "101\n",
      "101\n",
      "101\n",
      "101\n",
      "101\n",
      "101\n",
      "101\n",
      "101\n",
      "101\n",
      "101\n",
      "101\n",
      "101\n",
      "101\n",
      "101\n",
      "101\n",
      "101\n",
      "101\n",
      "101\n",
      "101\n",
      "102\n",
      "102\n",
      "102\n",
      "102\n",
      "102\n",
      "102\n",
      "102\n",
      "102\n",
      "102\n",
      "102\n",
      "102\n",
      "102\n",
      "102\n",
      "102\n",
      "102\n",
      "102\n",
      "102\n",
      "102\n",
      "102\n",
      "102\n",
      "102\n",
      "102\n",
      "102\n",
      "102\n",
      "102\n",
      "102\n",
      "102\n",
      "102\n",
      "102\n",
      "102\n",
      "102\n",
      "102\n",
      "102\n",
      "102\n",
      "102\n",
      "102\n",
      "102\n",
      "102\n",
      "102\n",
      "102\n",
      "102\n",
      "102\n",
      "102\n",
      "102\n",
      "102\n",
      "102\n",
      "102\n",
      "102\n",
      "102\n",
      "102\n",
      "102\n",
      "102\n",
      "102\n",
      "102\n",
      "102\n",
      "102\n",
      "102\n",
      "102\n",
      "102\n",
      "102\n",
      "102\n",
      "102\n",
      "102\n",
      "102\n",
      "102\n",
      "102\n",
      "102\n",
      "102\n",
      "102\n",
      "102\n",
      "102\n",
      "102\n",
      "102\n",
      "102\n",
      "102\n",
      "102\n",
      "102\n",
      "102\n",
      "102\n",
      "102\n",
      "102\n",
      "102\n",
      "102\n",
      "102\n",
      "102\n",
      "102\n",
      "102\n",
      "102\n",
      "102\n",
      "102\n",
      "102\n",
      "102\n",
      "102\n",
      "102\n",
      "103\n",
      "103\n",
      "103\n",
      "103\n",
      "103\n",
      "103\n",
      "103\n",
      "103\n",
      "103\n",
      "103\n",
      "103\n",
      "103\n",
      "103\n",
      "103\n",
      "103\n",
      "103\n",
      "103\n",
      "103\n",
      "103\n",
      "103\n",
      "103\n",
      "103\n",
      "103\n",
      "103\n",
      "103\n",
      "103\n",
      "103\n",
      "103\n",
      "103\n",
      "103\n",
      "103\n",
      "103\n",
      "103\n",
      "103\n",
      "103\n",
      "103\n",
      "103\n",
      "103\n",
      "103\n",
      "103\n",
      "103\n",
      "103\n",
      "103\n",
      "103\n",
      "103\n",
      "103\n",
      "103\n",
      "103\n",
      "103\n",
      "103\n",
      "103\n",
      "103\n",
      "103\n",
      "103\n",
      "103\n",
      "103\n",
      "103\n",
      "103\n",
      "103\n",
      "103\n",
      "103\n",
      "103\n",
      "103\n",
      "103\n",
      "103\n",
      "103\n",
      "103\n",
      "103\n",
      "103\n",
      "103\n",
      "103\n",
      "103\n",
      "103\n",
      "103\n",
      "103\n",
      "103\n",
      "103\n",
      "103\n",
      "103\n",
      "103\n",
      "103\n",
      "103\n",
      "103\n",
      "103\n",
      "103\n",
      "103\n",
      "103\n",
      "103\n",
      "103\n",
      "103\n",
      "103\n",
      "103\n",
      "103\n",
      "103\n",
      "103\n",
      "103\n",
      "103\n",
      "103\n",
      "103\n",
      "103\n",
      "103\n",
      "104\n",
      "104\n",
      "104\n",
      "104\n",
      "104\n",
      "104\n",
      "104\n",
      "104\n",
      "104\n",
      "104\n",
      "104\n",
      "104\n",
      "104\n",
      "104\n",
      "104\n",
      "104\n",
      "104\n",
      "104\n",
      "104\n",
      "104\n",
      "104\n",
      "104\n",
      "104\n",
      "104\n",
      "104\n",
      "104\n",
      "104\n",
      "104\n",
      "104\n",
      "104\n",
      "104\n",
      "104\n",
      "104\n",
      "104\n",
      "104\n",
      "104\n",
      "104\n",
      "104\n",
      "104\n",
      "104\n",
      "104\n",
      "104\n",
      "104\n",
      "104\n",
      "104\n",
      "104\n",
      "104\n",
      "104\n",
      "104\n",
      "104\n",
      "104\n",
      "104\n",
      "104\n",
      "104\n",
      "104\n",
      "104\n",
      "104\n",
      "104\n",
      "104\n",
      "104\n",
      "104\n",
      "104\n",
      "104\n",
      "104\n",
      "104\n",
      "104\n",
      "104\n",
      "104\n",
      "104\n",
      "104\n",
      "104\n",
      "104\n",
      "104\n",
      "104\n",
      "104\n",
      "104\n",
      "104\n",
      "104\n",
      "104\n",
      "104\n",
      "104\n",
      "104\n",
      "104\n",
      "104\n",
      "104\n",
      "104\n",
      "104\n",
      "104\n",
      "104\n",
      "104\n",
      "104\n",
      "104\n",
      "104\n",
      "104\n",
      "104\n",
      "104\n",
      "105\n",
      "105\n",
      "105\n",
      "105\n",
      "105\n",
      "105\n",
      "105\n",
      "105\n",
      "105\n",
      "105\n",
      "105\n",
      "105\n",
      "105\n",
      "105\n",
      "105\n",
      "105\n",
      "105\n",
      "105\n",
      "105\n",
      "105\n",
      "105\n",
      "105\n",
      "105\n",
      "105\n",
      "105\n",
      "105\n",
      "105\n",
      "105\n",
      "105\n",
      "105\n",
      "105\n",
      "105\n",
      "105\n",
      "105\n",
      "105\n",
      "105\n",
      "105\n",
      "105\n",
      "105\n",
      "105\n",
      "105\n",
      "105\n",
      "105\n",
      "105\n",
      "105\n",
      "105\n",
      "105\n",
      "105\n",
      "105\n",
      "105\n",
      "105\n",
      "105\n",
      "105\n",
      "105\n",
      "105\n",
      "105\n",
      "105\n",
      "105\n",
      "105\n",
      "105\n",
      "105\n",
      "105\n",
      "105\n",
      "105\n",
      "105\n",
      "105\n",
      "105\n",
      "105\n",
      "105\n",
      "105\n",
      "105\n",
      "105\n",
      "105\n",
      "105\n",
      "105\n",
      "105\n",
      "105\n",
      "105\n",
      "105\n",
      "105\n",
      "105\n",
      "105\n",
      "105\n",
      "105\n",
      "105\n",
      "105\n",
      "105\n",
      "105\n",
      "105\n",
      "105\n",
      "105\n",
      "105\n",
      "105\n",
      "105\n",
      "105\n",
      "105\n",
      "105\n",
      "106\n",
      "106\n",
      "106\n",
      "106\n",
      "106\n",
      "106\n",
      "106\n",
      "106\n",
      "106\n",
      "106\n",
      "106\n",
      "106\n",
      "106\n",
      "106\n",
      "106\n",
      "106\n",
      "106\n",
      "106\n",
      "106\n",
      "106\n",
      "106\n",
      "106\n",
      "106\n",
      "106\n",
      "106\n",
      "106\n",
      "106\n",
      "106\n",
      "106\n",
      "106\n",
      "106\n",
      "106\n",
      "106\n",
      "106\n",
      "106\n",
      "106\n",
      "106\n",
      "106\n",
      "106\n",
      "106\n",
      "106\n",
      "106\n",
      "106\n",
      "106\n",
      "106\n",
      "106\n",
      "106\n",
      "106\n",
      "106\n",
      "106\n",
      "106\n",
      "106\n",
      "106\n",
      "106\n",
      "106\n",
      "106\n",
      "106\n",
      "106\n",
      "106\n",
      "106\n",
      "106\n",
      "106\n",
      "106\n",
      "106\n",
      "106\n",
      "106\n",
      "106\n",
      "106\n",
      "106\n",
      "106\n",
      "106\n",
      "106\n",
      "106\n",
      "106\n",
      "106\n",
      "106\n",
      "106\n",
      "106\n",
      "106\n",
      "106\n",
      "106\n",
      "106\n",
      "106\n",
      "106\n",
      "106\n",
      "106\n",
      "106\n",
      "106\n",
      "106\n",
      "106\n",
      "106\n",
      "106\n",
      "106\n",
      "106\n",
      "106\n",
      "106\n",
      "106\n",
      "106\n",
      "106\n",
      "106\n",
      "106\n",
      "106\n",
      "107\n",
      "107\n",
      "107\n",
      "107\n",
      "107\n",
      "107\n",
      "107\n",
      "107\n",
      "107\n",
      "107\n",
      "107\n",
      "107\n",
      "107\n",
      "107\n",
      "107\n",
      "107\n",
      "107\n",
      "107\n",
      "107\n",
      "107\n",
      "107\n",
      "107\n",
      "107\n",
      "107\n",
      "107\n",
      "107\n",
      "107\n",
      "107\n",
      "107\n",
      "107\n",
      "107\n",
      "107\n",
      "107\n",
      "107\n",
      "107\n",
      "107\n",
      "107\n",
      "107\n",
      "107\n",
      "107\n",
      "107\n",
      "107\n",
      "107\n",
      "107\n",
      "107\n",
      "107\n",
      "107\n",
      "107\n",
      "107\n",
      "107\n",
      "107\n",
      "107\n",
      "107\n",
      "107\n",
      "107\n",
      "107\n",
      "107\n",
      "107\n",
      "107\n",
      "107\n",
      "107\n",
      "107\n",
      "107\n",
      "107\n",
      "107\n",
      "107\n",
      "107\n",
      "107\n",
      "107\n",
      "107\n",
      "107\n",
      "107\n",
      "107\n",
      "107\n",
      "107\n",
      "107\n",
      "107\n",
      "107\n",
      "107\n",
      "107\n",
      "107\n",
      "107\n",
      "107\n",
      "107\n",
      "107\n",
      "107\n",
      "107\n",
      "107\n",
      "107\n",
      "107\n",
      "107\n",
      "107\n",
      "107\n",
      "107\n",
      "107\n",
      "107\n",
      "107\n",
      "107\n",
      "107\n",
      "107\n",
      "107\n",
      "107\n",
      "107\n",
      "107\n",
      "107\n",
      "108\n",
      "108\n",
      "108\n",
      "108\n",
      "108\n",
      "108\n",
      "108\n",
      "108\n",
      "108\n",
      "108\n",
      "108\n",
      "108\n",
      "108\n",
      "108\n",
      "108\n",
      "108\n",
      "108\n",
      "108\n",
      "108\n",
      "108\n",
      "108\n",
      "108\n",
      "108\n",
      "108\n",
      "108\n",
      "108\n",
      "108\n",
      "108\n",
      "108\n",
      "108\n",
      "108\n",
      "108\n",
      "108\n",
      "108\n",
      "108\n",
      "108\n",
      "108\n",
      "108\n",
      "108\n",
      "108\n",
      "108\n",
      "108\n",
      "108\n",
      "108\n",
      "108\n",
      "108\n",
      "108\n",
      "108\n",
      "108\n",
      "108\n",
      "108\n",
      "108\n",
      "108\n",
      "108\n",
      "108\n",
      "108\n",
      "108\n",
      "108\n",
      "108\n",
      "108\n",
      "108\n",
      "108\n",
      "108\n",
      "108\n",
      "108\n",
      "108\n",
      "108\n",
      "108\n",
      "108\n",
      "108\n",
      "108\n",
      "108\n",
      "108\n",
      "108\n",
      "108\n",
      "108\n",
      "108\n",
      "108\n",
      "108\n",
      "108\n",
      "108\n",
      "108\n",
      "108\n",
      "108\n",
      "108\n",
      "108\n",
      "108\n",
      "108\n",
      "108\n",
      "108\n",
      "108\n",
      "108\n",
      "108\n",
      "108\n",
      "108\n",
      "108\n",
      "109\n",
      "109\n",
      "109\n",
      "109\n",
      "109\n",
      "109\n",
      "109\n",
      "109\n",
      "109\n",
      "109\n",
      "109\n",
      "109\n",
      "109\n",
      "109\n",
      "109\n",
      "109\n",
      "109\n",
      "109\n",
      "109\n",
      "109\n",
      "109\n",
      "109\n",
      "109\n",
      "109\n",
      "109\n",
      "109\n",
      "109\n",
      "109\n",
      "109\n",
      "109\n",
      "109\n",
      "109\n",
      "109\n",
      "109\n",
      "109\n",
      "109\n",
      "109\n",
      "109\n",
      "109\n",
      "109\n",
      "109\n",
      "109\n",
      "109\n",
      "109\n",
      "109\n",
      "109\n",
      "109\n",
      "109\n",
      "109\n",
      "109\n",
      "109\n",
      "109\n",
      "109\n",
      "109\n",
      "109\n",
      "109\n",
      "109\n",
      "109\n",
      "109\n",
      "109\n",
      "109\n",
      "109\n",
      "109\n",
      "109\n",
      "109\n",
      "109\n",
      "109\n",
      "109\n",
      "109\n",
      "109\n",
      "109\n",
      "109\n",
      "109\n",
      "109\n",
      "109\n",
      "109\n",
      "109\n",
      "109\n",
      "109\n",
      "109\n",
      "109\n",
      "109\n",
      "109\n",
      "109\n",
      "109\n",
      "109\n",
      "109\n",
      "109\n",
      "109\n",
      "109\n",
      "109\n",
      "109\n",
      "109\n",
      "109\n",
      "109\n",
      "109\n",
      "109\n",
      "109\n",
      "109\n",
      "109\n",
      "109\n",
      "109\n",
      "109\n",
      "109\n",
      "109\n",
      "109\n",
      "109\n",
      "110\n",
      "110\n",
      "110\n",
      "110\n",
      "110\n",
      "110\n",
      "110\n",
      "110\n",
      "110\n",
      "110\n",
      "110\n",
      "110\n",
      "110\n",
      "110\n",
      "110\n",
      "110\n",
      "110\n",
      "110\n",
      "110\n",
      "110\n",
      "110\n",
      "110\n",
      "110\n",
      "110\n",
      "110\n",
      "110\n",
      "110\n",
      "110\n",
      "110\n",
      "110\n",
      "110\n",
      "110\n",
      "110\n",
      "110\n",
      "110\n",
      "110\n",
      "110\n",
      "110\n",
      "110\n",
      "110\n",
      "110\n",
      "110\n",
      "110\n",
      "110\n",
      "110\n",
      "110\n",
      "110\n",
      "110\n",
      "110\n",
      "110\n",
      "110\n",
      "110\n",
      "110\n",
      "110\n",
      "110\n",
      "110\n",
      "110\n",
      "110\n",
      "110\n",
      "110\n",
      "110\n",
      "110\n",
      "110\n",
      "110\n",
      "110\n",
      "110\n",
      "110\n",
      "110\n",
      "110\n",
      "110\n",
      "110\n",
      "110\n",
      "110\n",
      "110\n",
      "110\n",
      "110\n",
      "110\n",
      "110\n",
      "110\n",
      "110\n",
      "110\n",
      "110\n",
      "110\n",
      "110\n",
      "110\n",
      "110\n",
      "110\n",
      "110\n",
      "110\n",
      "110\n",
      "110\n",
      "110\n",
      "110\n",
      "110\n",
      "110\n",
      "110\n",
      "110\n",
      "110\n",
      "110\n",
      "110\n",
      "110\n",
      "110\n"
     ]
    }
   ],
   "source": [
    "x=100\n",
    "for i in range(100,111):\n",
    "    for k in range(2,i):\n",
    "        if i%k !=0:\n",
    "            print(i)\n",
    "      "
   ]
  },
  {
   "cell_type": "markdown",
   "id": "b060957d",
   "metadata": {},
   "source": [
    "### 15. To display Letters of a String"
   ]
  },
  {
   "cell_type": "code",
   "execution_count": 255,
   "id": "3b60ca04",
   "metadata": {},
   "outputs": [
    {
     "name": "stdout",
     "output_type": "stream",
     "text": [
      "s\n",
      "a\n",
      "i\n",
      " \n",
      "v\n",
      "i\n",
      "n\n",
      "a\n",
      "y\n",
      " \n",
      "s\n",
      "u\n",
      "n\n",
      "k\n",
      "a\n",
      "r\n",
      "a\n"
     ]
    }
   ],
   "source": [
    "\n",
    "st = 'sai vinay sunkara'\n",
    "for i in st:\n",
    "    print(i)"
   ]
  },
  {
   "cell_type": "code",
   "execution_count": 256,
   "id": "4c99e96d",
   "metadata": {},
   "outputs": [
    {
     "name": "stdout",
     "output_type": "stream",
     "text": [
      "s\n",
      "i\n",
      "d\n",
      "d\n",
      "u\n",
      " \n",
      "b\n",
      "a\n",
      "b\n",
      "u\n"
     ]
    }
   ],
   "source": [
    "for i in s:\n",
    "    print(i)"
   ]
  },
  {
   "cell_type": "markdown",
   "id": "b00d831b",
   "metadata": {},
   "source": [
    "#### 16. To find sum of list of numbers\n"
   ]
  },
  {
   "cell_type": "code",
   "execution_count": 257,
   "id": "dd19a500",
   "metadata": {},
   "outputs": [
    {
     "name": "stdout",
     "output_type": "stream",
     "text": [
      "sum = 10\n",
      "sum = 22\n",
      "sum = 7\n",
      "sum = -5\n",
      "sum = 10\n"
     ]
    }
   ],
   "source": [
    "lst = [10, 12, -15, -12, 15]\n",
    "sum=0 \n",
    "\n",
    "for i in lst:\n",
    "    sum+=i\n",
    "print('sum =', sum)"
   ]
  },
  {
   "cell_type": "markdown",
   "id": "bb0a9e1d",
   "metadata": {},
   "source": [
    "#### 17.  To display a multiplication table\n"
   ]
  },
  {
   "cell_type": "code",
   "execution_count": 258,
   "id": "7de3d6b7",
   "metadata": {},
   "outputs": [
    {
     "name": "stdout",
     "output_type": "stream",
     "text": [
      "which table you want me to Print?  - 3\n",
      "1 x 3 = 3\n",
      "2 x 3 = 6\n",
      "3 x 3 = 9\n",
      "4 x 3 = 12\n",
      "5 x 3 = 15\n",
      "6 x 3 = 18\n",
      "7 x 3 = 21\n",
      "8 x 3 = 24\n",
      "9 x 3 = 27\n",
      "10 x 3 = 30\n",
      "11 x 3 = 33\n",
      "12 x 3 = 36\n",
      "13 x 3 = 39\n",
      "14 x 3 = 42\n",
      "15 x 3 = 45\n",
      "16 x 3 = 48\n",
      "17 x 3 = 51\n",
      "18 x 3 = 54\n",
      "19 x 3 = 57\n",
      "20 x 3 = 60\n"
     ]
    }
   ],
   "source": [
    "x = int(input('which table you want me to Print?  - '))\n",
    "for i in range(1, 21):\n",
    "    print(i, 'x', x, '=',i*x)"
   ]
  },
  {
   "cell_type": "markdown",
   "id": "2c053772",
   "metadata": {},
   "source": [
    "### 18. check whether an element exits in a list or Not"
   ]
  },
  {
   "cell_type": "code",
   "execution_count": 268,
   "id": "4481bc67",
   "metadata": {},
   "outputs": [
    {
     "name": "stdout",
     "output_type": "stream",
     "text": [
      "which element to search? 89\n",
      " searched element 89 exists in list\n"
     ]
    }
   ],
   "source": [
    "lst = [12, 13, 14, 18, 22, 74, 89]\n",
    "s= int(input('which element to search? ' ))\n",
    "for i in lst:\n",
    "    if s==i:\n",
    "        print(' searched element',s,'exists in list')\n",
    "        \n",
    "else:\n",
    "        print(' searched element',s,'doesnot exists in list')"
   ]
  },
  {
   "cell_type": "markdown",
   "id": "80d1a196",
   "metadata": {},
   "source": [
    "#### 19. Tobreak a loop at 5"
   ]
  },
  {
   "cell_type": "code",
   "execution_count": 280,
   "id": "49cac3ae",
   "metadata": {},
   "outputs": [
    {
     "name": "stdout",
     "output_type": "stream",
     "text": [
      "1\n",
      "2\n",
      "3\n",
      "4\n",
      "5\n"
     ]
    }
   ],
   "source": [
    "x = 0\n",
    "while x<=10:\n",
    "    x+=1\n",
    "    if x==6:\n",
    "         break\n",
    "    print(x)\n",
    "           "
   ]
  },
  {
   "cell_type": "markdown",
   "id": "a6cd2f71",
   "metadata": {},
   "source": [
    "### 20 not to display from 5 onwards"
   ]
  },
  {
   "cell_type": "code",
   "execution_count": 281,
   "id": "3a3e4ab4",
   "metadata": {},
   "outputs": [
    {
     "name": "stdout",
     "output_type": "stream",
     "text": [
      "1\n",
      "2\n",
      "3\n",
      "4\n"
     ]
    }
   ],
   "source": [
    "x = 0\n",
    "while x<=10:\n",
    "    x+=1\n",
    "    if x>=5:\n",
    "        continue\n",
    "    print(x)    "
   ]
  },
  {
   "cell_type": "markdown",
   "id": "b7100785",
   "metadata": {},
   "source": [
    "### 21. To retrive only Negative Numbers from the list"
   ]
  },
  {
   "cell_type": "code",
   "execution_count": 289,
   "id": "930263cb",
   "metadata": {},
   "outputs": [
    {
     "name": "stdout",
     "output_type": "stream",
     "text": [
      "[10, 12, -13, -14, 18, -19, 22, -23]\n",
      "-13\n",
      "-14\n",
      "-19\n",
      "-23\n"
     ]
    }
   ],
   "source": [
    "ls = [10, 12, -13, -14, 18, -19, 22, -23]\n",
    "print(ls)\n",
    "for i in ls:\n",
    "    if(i>0):\n",
    "        pass\n",
    "    else:\n",
    "        print(i)"
   ]
  },
  {
   "cell_type": "markdown",
   "id": "f619abe8",
   "metadata": {},
   "source": [
    "#### 22. Function to return sum value\n",
    "#####     # Defining the Function"
   ]
  },
  {
   "cell_type": "code",
   "execution_count": 290,
   "id": "55a40ba0",
   "metadata": {},
   "outputs": [],
   "source": [
    "def sum(a,b):\n",
    "    c=a+b\n",
    "    return c\n"
   ]
  },
  {
   "cell_type": "markdown",
   "id": "ec36ec53",
   "metadata": {},
   "source": [
    "###### call the above function"
   ]
  },
  {
   "cell_type": "code",
   "execution_count": 292,
   "id": "d323054d",
   "metadata": {},
   "outputs": [
    {
     "name": "stdout",
     "output_type": "stream",
     "text": [
      "result-1 =  15\n",
      "result-2 =  23.1\n"
     ]
    }
   ],
   "source": [
    "res1 =sum(5, 10)\n",
    "res2 = sum(10.5, 12.6)\n",
    "print('result-1 = ', res1)\n",
    "print('result-2 = ', res2)"
   ]
  },
  {
   "cell_type": "markdown",
   "id": "08dd55ba",
   "metadata": {},
   "source": [
    "### 23. Understanding the assert statements\n",
    "###### #Assert Statement:   to check if a particular condition is fullfilled or not. if the condition fails, it displays the assert statement and also raises AssertionError\n",
    "\n",
    "#### assert condition, 'message'\n",
    "\n",
    "### Prog: - Check if user entered a number greater than 10 or not."
   ]
  },
  {
   "cell_type": "code",
   "execution_count": 300,
   "id": "7e17f38b",
   "metadata": {},
   "outputs": [
    {
     "name": "stdout",
     "output_type": "stream",
     "text": [
      "enter a number: 5\n"
     ]
    },
    {
     "ename": "AssertionError",
     "evalue": "wrong input",
     "output_type": "error",
     "traceback": [
      "\u001b[1;31m---------------------------------------------------------------------------\u001b[0m",
      "\u001b[1;31mAssertionError\u001b[0m                            Traceback (most recent call last)",
      "\u001b[1;32mC:\\Users\\SAIVIN~1\\AppData\\Local\\Temp/ipykernel_38788/1639470426.py\u001b[0m in \u001b[0;36m<module>\u001b[1;34m\u001b[0m\n\u001b[0;32m      1\u001b[0m \u001b[0mx\u001b[0m\u001b[1;33m=\u001b[0m \u001b[0mint\u001b[0m\u001b[1;33m(\u001b[0m\u001b[0minput\u001b[0m\u001b[1;33m(\u001b[0m\u001b[1;34m'enter a number: '\u001b[0m\u001b[1;33m)\u001b[0m\u001b[1;33m)\u001b[0m\u001b[1;33m\u001b[0m\u001b[1;33m\u001b[0m\u001b[0m\n\u001b[1;32m----> 2\u001b[1;33m \u001b[1;32massert\u001b[0m \u001b[0mx\u001b[0m\u001b[1;33m>\u001b[0m\u001b[1;36m10\u001b[0m\u001b[1;33m,\u001b[0m \u001b[1;34m\"wrong input\"\u001b[0m\u001b[1;33m\u001b[0m\u001b[1;33m\u001b[0m\u001b[0m\n\u001b[0m\u001b[0;32m      3\u001b[0m \u001b[1;33m\u001b[0m\u001b[0m\n\u001b[0;32m      4\u001b[0m \u001b[0mprint\u001b[0m\u001b[1;33m(\u001b[0m\u001b[1;34m'you entered: '\u001b[0m\u001b[1;33m,\u001b[0m \u001b[0mx\u001b[0m\u001b[1;33m)\u001b[0m\u001b[1;33m\u001b[0m\u001b[1;33m\u001b[0m\u001b[0m\n",
      "\u001b[1;31mAssertionError\u001b[0m: wrong input"
     ]
    }
   ],
   "source": [
    "x= int(input('enter a number: '))\n",
    "assert x>10, \"wrong input\"\n",
    "\n",
    "print('you entered: ', x)"
   ]
  },
  {
   "cell_type": "markdown",
   "id": "a55fcf87",
   "metadata": {},
   "source": [
    "### 24. Command Line Args\n",
    "\n",
    "#####  The arguments passed to a python program at command prompt. they are stored in the form of a list in argv defined in 'sys' module.  \n",
    "\n",
    "#### len(sys.argv) gives number of command line args.\n",
    "##### sys.argv is a list that contains all command line args\n",
    "###### sys.argv[0] contains the program name"
   ]
  },
  {
   "cell_type": "code",
   "execution_count": 301,
   "id": "22d99a90",
   "metadata": {},
   "outputs": [
    {
     "name": "stdout",
     "output_type": "stream",
     "text": [
      "no of args=  3\n"
     ]
    }
   ],
   "source": [
    "import sys\n",
    "# find the number of args\n",
    "n= len(sys.argv)\n",
    "print('no of args= ', n)"
   ]
  },
  {
   "cell_type": "code",
   "execution_count": 302,
   "id": "4c01551d",
   "metadata": {},
   "outputs": [
    {
     "name": "stdout",
     "output_type": "stream",
     "text": [
      "they are: \n",
      "C:\\Users\\sai vinay sunkara\\anaconda3\\lib\\site-packages\\ipykernel_launcher.py\n",
      "-f\n",
      "C:\\Users\\sai vinay sunkara\\AppData\\Roaming\\jupyter\\runtime\\kernel-9d4d0497-35bc-4805-9fe6-454200d0797d.json\n"
     ]
    }
   ],
   "source": [
    "# get all theargs\n",
    "lst = sys.argv\n",
    "print('they are: ')\n",
    "for i in lst:\n",
    "    print(i)"
   ]
  },
  {
   "cell_type": "code",
   "execution_count": 303,
   "id": "0b88b114",
   "metadata": {},
   "outputs": [
    {
     "name": "stdout",
     "output_type": "stream",
     "text": [
      "program name= C:\\Users\\sai vinay sunkara\\anaconda3\\lib\\site-packages\\ipykernel_launcher.py\n"
     ]
    }
   ],
   "source": [
    "# show the program name\n",
    "print('program name=', sys.argv[0])"
   ]
  },
  {
   "cell_type": "markdown",
   "id": "bcbc6bc6",
   "metadata": {},
   "source": [
    "### 25. Command line args"
   ]
  },
  {
   "cell_type": "code",
   "execution_count": 304,
   "id": "fd7d953a",
   "metadata": {},
   "outputs": [
    {
     "name": "stdout",
     "output_type": "stream",
     "text": [
      "No of args = 3\n"
     ]
    }
   ],
   "source": [
    "import sys\n",
    "# find no. of args\n",
    "n= len(sys.argv)\n",
    "print('No of args =', n)"
   ]
  },
  {
   "cell_type": "code",
   "execution_count": 309,
   "id": "010826eb",
   "metadata": {},
   "outputs": [
    {
     "ename": "ValueError",
     "evalue": "could not convert string to float: '-f'",
     "output_type": "error",
     "traceback": [
      "\u001b[1;31m---------------------------------------------------------------------------\u001b[0m",
      "\u001b[1;31mValueError\u001b[0m                                Traceback (most recent call last)",
      "\u001b[1;32mC:\\Users\\SAIVIN~1\\AppData\\Local\\Temp/ipykernel_38788/3935092884.py\u001b[0m in \u001b[0;36m<module>\u001b[1;34m\u001b[0m\n\u001b[0;32m      3\u001b[0m \u001b[0mlst\u001b[0m \u001b[1;33m=\u001b[0m \u001b[0msys\u001b[0m\u001b[1;33m.\u001b[0m\u001b[0margv\u001b[0m\u001b[1;33m\u001b[0m\u001b[1;33m\u001b[0m\u001b[0m\n\u001b[0;32m      4\u001b[0m \u001b[1;32mfor\u001b[0m \u001b[0mi\u001b[0m \u001b[1;32min\u001b[0m \u001b[0mrange\u001b[0m\u001b[1;33m(\u001b[0m\u001b[1;36m1\u001b[0m\u001b[1;33m,\u001b[0m\u001b[0mn\u001b[0m\u001b[1;33m)\u001b[0m\u001b[1;33m:\u001b[0m\u001b[1;33m\u001b[0m\u001b[1;33m\u001b[0m\u001b[0m\n\u001b[1;32m----> 5\u001b[1;33m     \u001b[0msum\u001b[0m \u001b[1;33m+=\u001b[0m \u001b[0mfloat\u001b[0m\u001b[1;33m(\u001b[0m\u001b[0mlst\u001b[0m\u001b[1;33m[\u001b[0m\u001b[0mi\u001b[0m\u001b[1;33m]\u001b[0m\u001b[1;33m)\u001b[0m\u001b[1;33m\u001b[0m\u001b[1;33m\u001b[0m\u001b[0m\n\u001b[0m\u001b[0;32m      6\u001b[0m \u001b[1;33m\u001b[0m\u001b[0m\n\u001b[0;32m      7\u001b[0m \u001b[0mprint\u001b[0m\u001b[1;33m(\u001b[0m\u001b[1;34m'sum='\u001b[0m\u001b[1;33m,\u001b[0m \u001b[0msum\u001b[0m\u001b[1;33m)\u001b[0m\u001b[1;33m\u001b[0m\u001b[1;33m\u001b[0m\u001b[0m\n",
      "\u001b[1;31mValueError\u001b[0m: could not convert string to float: '-f'"
     ]
    }
   ],
   "source": [
    "# get args from [1] till end and add them\n",
    "sum = 0 \n",
    "lst = sys.argv\n",
    "for i in range(1,n):\n",
    "    sum += float(lst[i])\n",
    "    \n",
    "print('sum=', sum)\n",
    "print('average= ',sum/n)"
   ]
  },
  {
   "cell_type": "markdown",
   "id": "d8154220",
   "metadata": {},
   "source": [
    "### 26. Function Defination\n",
    "\n"
   ]
  },
  {
   "cell_type": "code",
   "execution_count": 311,
   "id": "3e859f6f",
   "metadata": {},
   "outputs": [
    {
     "name": "stdout",
     "output_type": "stream",
     "text": [
      "sum=  20\n",
      "sum=  hellofriend\n"
     ]
    }
   ],
   "source": [
    "def sum(a,b):\n",
    "    \"\"\" to find sum of two numbers\"\"\"\n",
    "    c=a+b\n",
    "    print('sum= ',c)\n",
    "    \n",
    "# call the function\n",
    "sum(5,15)\n",
    "\n",
    "# call again\n",
    "sum('hello','friend')"
   ]
  },
  {
   "cell_type": "markdown",
   "id": "2b502a5a",
   "metadata": {},
   "source": [
    "### 27. Function Defination\n"
   ]
  },
  {
   "cell_type": "code",
   "execution_count": 312,
   "id": "297520ec",
   "metadata": {},
   "outputs": [
    {
     "name": "stdout",
     "output_type": "stream",
     "text": [
      "results= 15 and -5\n"
     ]
    }
   ],
   "source": [
    "def sum_sub(a,b):\n",
    "    \"\"\"to find results of addition and subtraction\"\"\"\n",
    "    c=a+b\n",
    "    d=a-b\n",
    "    return c, d\n",
    "# call the function\n",
    "c, d= sum_sub(5,10)\n",
    "print(\"results= {} and {}\". format(c,d))"
   ]
  },
  {
   "cell_type": "markdown",
   "id": "ba2e01dc",
   "metadata": {},
   "source": [
    "\n",
    "\n"
   ]
  },
  {
   "cell_type": "code",
   "execution_count": 19,
   "id": "4b3db110",
   "metadata": {},
   "outputs": [
    {
     "name": "stdout",
     "output_type": "stream",
     "text": [
      "enter the sides of triangle a, b,c : 1, 2, 6\n",
      "Area of the triangle  %0.2f =  (4.705835796207353e-16+7.685213074469699j)\n"
     ]
    }
   ],
   "source": [
    "### Exercise\n",
    "\n",
    "# Clauculate the area of triangle using Herons formula - given the side\n",
    "\n",
    "\n",
    "a ,b, c  = [float(i) for i in input('enter the sides of triangle a, b,c : ').split(',')]\n",
    "p = (a+b+c)/2\n",
    "Area = (p*(p-a)*(p-b)*(p-c))**0.5\n",
    "print('Area of the triangle  %0.2f = ', Area)"
   ]
  },
  {
   "cell_type": "code",
   "execution_count": 30,
   "id": "cb08368a",
   "metadata": {},
   "outputs": [
    {
     "name": "stdout",
     "output_type": "stream",
     "text": [
      "enter the number to check = 124556\n",
      "entered 124556.0 is GREATER THAN 10K\n"
     ]
    }
   ],
   "source": [
    "# get an Integer(n) from the user, perform the following conditional actions with given list(l1)\n",
    "\n",
    "l1 = [10, 977, 2557, 569, 547, 1478, 3365, 7843, 1, 546, 589, 7851, 454, 454, 441, 7458, 9658, 4125, 521, 565, 321, 5454, 12546]\n",
    "a = float(input('enter the number to check = '))\n",
    "for i in l1:\n",
    "    if(a >10000 ):\n",
    "        print('entered',a,'is GREATER THAN 10K')\n",
    "        break\n",
    "    else:     \n",
    "        if(a%2!=0 and a not in l1):\n",
    "            print('Great')\n",
    "            break\n",
    "        elif(a%2!=0 and  a in l1):\n",
    "            print('Not Great')\n",
    "            break\n",
    "        elif(a%2==0 and a in l1 ):\n",
    "            print('Great')\n",
    "            break\n",
    "        elif(a%2==0 and  a not in l1):\n",
    "            print('Not Great') \n",
    "            break\n",
    "        else:\n",
    "            print('Try again')\n",
    "\n"
   ]
  },
  {
   "cell_type": "markdown",
   "id": "47ad3192",
   "metadata": {},
   "source": [
    "### 28. Function to return several values"
   ]
  },
  {
   "cell_type": "code",
   "execution_count": 32,
   "id": "6ec54515",
   "metadata": {},
   "outputs": [
    {
     "name": "stdout",
     "output_type": "stream",
     "text": [
      "(17, -1, 72, 0.8888888888888888)\n",
      "17\n",
      "-1\n",
      "72\n",
      "0.8888888888888888\n",
      "(15, -1, 56, 0.875)\n",
      "15\n",
      "-1\n",
      "56\n",
      "0.875\n"
     ]
    }
   ],
   "source": [
    "def fun(n1,n2):\n",
    "    a= n1+n2\n",
    "    b= n1-n2\n",
    "    c=n1*n2\n",
    "    d= n1/n2\n",
    "    return a, b, c, d\n",
    "# call the function \n",
    "tp = fun(8,9)\n",
    "print(tp)\n",
    "\n",
    "for i in tp: print(i)\n",
    "\n",
    "# check 2\n",
    "pp = fun(7,8)\n",
    "print(pp)\n",
    "\n",
    "for i in pp: print(i)"
   ]
  },
  {
   "cell_type": "markdown",
   "id": "8d520164",
   "metadata": {},
   "source": [
    "### 29. Enter a Groupof numbers from Keyboard and Sorting them using a function\n"
   ]
  },
  {
   "cell_type": "code",
   "execution_count": 38,
   "id": "6b1ee89d",
   "metadata": {},
   "outputs": [
    {
     "name": "stdout",
     "output_type": "stream",
     "text": [
      "enter the numbers:\n",
      "12,25,32,45,55\n",
      "12.0\n",
      "25.0\n",
      "32.0\n",
      "45.0\n",
      "55.0\n"
     ]
    }
   ],
   "source": [
    "def sortnum(lst):\n",
    "    lst.sort()\n",
    "    for i in lst:print(i)\n",
    "        \n",
    "# take a group of numbers from keyboard\n",
    "print('enter the numbers:')\n",
    "lst =[float(x) for x in input().split(',')]\n",
    "\n",
    "# call the function\n",
    "sortnum(lst)\n"
   ]
  },
  {
   "cell_type": "markdown",
   "id": "b72fe0b3",
   "metadata": {},
   "source": [
    "### 30.  Create a local variable and global variable and display their values"
   ]
  },
  {
   "cell_type": "code",
   "execution_count": 42,
   "id": "2f723d96",
   "metadata": {},
   "outputs": [
    {
     "name": "stdout",
     "output_type": "stream",
     "text": [
      "local variable :  6\n",
      "5\n"
     ]
    }
   ],
   "source": [
    "a= 5 # global variable\n",
    "def fun():\n",
    "    a=6 # local variable\n",
    "    print('local variable : ', a)\n",
    "    \n",
    "fun()\n",
    "print(a) # displays global variable\n"
   ]
  },
  {
   "cell_type": "markdown",
   "id": "27e04ca3",
   "metadata": {},
   "source": [
    "### 31. use globals() to retrieve the global variable inside a function."
   ]
  },
  {
   "cell_type": "code",
   "execution_count": 44,
   "id": "8bfd46dd",
   "metadata": {},
   "outputs": [
    {
     "name": "stdout",
     "output_type": "stream",
     "text": [
      "local variable :  6\n",
      " displays the global variable :  5\n",
      "5\n"
     ]
    }
   ],
   "source": [
    "a= 5 # global variable\n",
    "def fun():\n",
    "    a=6 # local variable\n",
    "    print('local variable : ', a) # displays a local variable\n",
    "    \n",
    "    x = globals()['a']\n",
    "    print(' displays the global variable : ', x)\n",
    "    \n",
    "    \n",
    "fun()\n",
    "print(a)\n",
    "    "
   ]
  },
  {
   "cell_type": "markdown",
   "id": "16aacc7a",
   "metadata": {},
   "source": [
    "\n",
    " Functions are first class objects -\n",
    " \n",
    " This is means we can use the functions exactly as objects.\n",
    " \n",
    "     it is possible to assign a function to a variable\n",
    "     it is possible to define a function inside another function\n",
    "     it is possible to pass a function as parameter to another function\n",
    "     its possible that a function can return another function"
   ]
  },
  {
   "cell_type": "markdown",
   "id": "96e34b67",
   "metadata": {},
   "source": [
    "#### 32.  Assign a function toa variable"
   ]
  },
  {
   "cell_type": "code",
   "execution_count": 45,
   "id": "d3ce17ad",
   "metadata": {},
   "outputs": [
    {
     "name": "stdout",
     "output_type": "stream",
     "text": [
      "haikrishna\n"
     ]
    }
   ],
   "source": [
    "def display(str):\n",
    "    return 'hai' + str\n",
    "\n",
    "var = display('krishna')\n",
    "print(var)"
   ]
  },
  {
   "cell_type": "markdown",
   "id": "577d522e",
   "metadata": {},
   "source": [
    "#### 33. Define message() function inside display() function."
   ]
  },
  {
   "cell_type": "code",
   "execution_count": 46,
   "id": "b1f9c3cd",
   "metadata": {},
   "outputs": [
    {
     "name": "stdout",
     "output_type": "stream",
     "text": [
      "how are you?krishna\n"
     ]
    }
   ],
   "source": [
    "def display(str):\n",
    "    def message():\n",
    "        return 'how are you?'\n",
    "    result = message()+str\n",
    "    return result\n",
    "\n",
    "var = display('krishna')\n",
    "print(var)\n"
   ]
  },
  {
   "cell_type": "markdown",
   "id": "d8a36f72",
   "metadata": {},
   "source": [
    "#### 34. Pass message() to display() function as parameter\n",
    "\n",
    "Function can be passed as parameters to other functions"
   ]
  },
  {
   "cell_type": "code",
   "execution_count": 48,
   "id": "bead6670",
   "metadata": {},
   "outputs": [
    {
     "name": "stdout",
     "output_type": "stream",
     "text": [
      "how are u? krishna\n"
     ]
    }
   ],
   "source": [
    "def display(fun):\n",
    "    return 'how are u? '+ fun\n",
    "def message():\n",
    "    return 'krishna'\n",
    "var = display(message())\n",
    "print(var)"
   ]
  },
  {
   "cell_type": "markdown",
   "id": "2be1b6bf",
   "metadata": {},
   "source": [
    "#### 35. Return message() function from display() function.\n",
    "\n",
    "Functions can return other functions"
   ]
  },
  {
   "cell_type": "code",
   "execution_count": 50,
   "id": "ea1f4886",
   "metadata": {},
   "outputs": [
    {
     "name": "stdout",
     "output_type": "stream",
     "text": [
      "how are you ?\n"
     ]
    }
   ],
   "source": [
    "def display():\n",
    "    def message():\n",
    "        return 'how are you ?'\n",
    "    return message\n",
    "\n",
    "# call display() function and it returns message() function\n",
    "# in the following code, var refers to the name: message.\n",
    "\n",
    "var = display()\n",
    "print(var())"
   ]
  },
  {
   "cell_type": "markdown",
   "id": "3560e0b0",
   "metadata": {},
   "source": [
    "##### Pass by Object reference.\n",
    "\n",
    "pass by value and pass by reference are not valid in python. in python, values are passed to function by object references.\n",
    "immutable objects: integers, floats, strings, tuples\n",
    "Mutable objects; list and dictionaries are mutable\n",
    "if the object is mutable, the modified value is not available outside the function and if the object is mutable, its modified version is available outside function\n",
    "\n",
    "### 36. Pass a string to a function and modify it inside the function. display it outside the function after modification."
   ]
  },
  {
   "cell_type": "code",
   "execution_count": 51,
   "id": "9ac31e3f",
   "metadata": {},
   "outputs": [
    {
     "name": "stdout",
     "output_type": "stream",
     "text": [
      "Helloraju 2971468958896\n",
      "raju 2971468958000\n"
     ]
    }
   ],
   "source": [
    "def modify(str):\n",
    "    str = 'Hello' + str\n",
    "    print(str, id(str))\n",
    "    \n",
    "# call modify() and pass str \n",
    "str = 'raju'\n",
    "modify(str)\n",
    "print(str, id(str))"
   ]
  },
  {
   "cell_type": "markdown",
   "id": "7cf1f759",
   "metadata": {},
   "source": [
    "#### 37. Pass a [ list ] to a function and modify it inside the function. display it outside the function after modification"
   ]
  },
  {
   "cell_type": "code",
   "execution_count": 53,
   "id": "86e44b51",
   "metadata": {},
   "outputs": [
    {
     "name": "stdout",
     "output_type": "stream",
     "text": [
      "[1, 2, 3, 4, 5, 6, 7, 8, 9, 9] 2971468948928\n",
      "[1, 2, 3, 4, 5, 6, 7, 8, 9, 9] 2971468948928\n"
     ]
    }
   ],
   "source": [
    "def modify(lst):\n",
    "    lst. append(9)\n",
    "    print (lst, id(lst))\n",
    "    \n",
    "# call modify( ) and pass lst\n",
    "lst = [1,2,3,4,5,6,7,8,9]\n",
    "modify(lst)\n",
    "print(lst, id(lst))\n"
   ]
  },
  {
   "cell_type": "markdown",
   "id": "f218c1dc",
   "metadata": {},
   "source": [
    "## Recursive Function:\n",
    "\n",
    "A function calling itself repeatedly\n",
    "\n",
    "#### 38. Using recursion, caluculate factorial value of a given number"
   ]
  },
  {
   "cell_type": "code",
   "execution_count": 58,
   "id": "9dfcafbe",
   "metadata": {},
   "outputs": [
    {
     "name": "stdout",
     "output_type": "stream",
     "text": [
      "enter a number: 8\n",
      "Factorial of 8 is = 40320\n"
     ]
    }
   ],
   "source": [
    "def factoal(n):\n",
    "    if n==0:\n",
    "        result = 1\n",
    "    else:\n",
    "        result = n*factoal(n-1)\n",
    "    return result\n",
    "\n",
    "n = int(input('enter a number: '))\n",
    "print('Factorial of',n,'is =', factoal(n))"
   ]
  },
  {
   "cell_type": "markdown",
   "id": "4f80fdb1",
   "metadata": {},
   "source": [
    "##### Function Decorators\n",
    "\n",
    "A function decorator is a function that accepts a function as parameter and returns a function. A decorator takes the result of a function, modifies the result and returns it. thus decorators are useful to perform some additional processing required by a function"
   ]
  },
  {
   "cell_type": "markdown",
   "id": "ac1a6972",
   "metadata": {},
   "source": [
    "#### 39. Write a decorator function to increase the value by 2. "
   ]
  },
  {
   "cell_type": "code",
   "execution_count": 60,
   "id": "1edfa6f5",
   "metadata": {},
   "outputs": [
    {
     "name": "stdout",
     "output_type": "stream",
     "text": [
      "12\n"
     ]
    }
   ],
   "source": [
    "def decor(fun):\n",
    "    def inner():\n",
    "        value = fun()\n",
    "        return value+2\n",
    "    return inner\n",
    "\"\"\" \n",
    "# This is the function to which decorator should be applied\n",
    "def num():\n",
    "    return 10\n",
    "\n",
    "result = decor(num)\n",
    "print(result())\n",
    "\n",
    "\"\"\"\n",
    "@decor\n",
    "def num():\n",
    "    return 10\n",
    "print(num())\n"
   ]
  },
  {
   "cell_type": "code",
   "execution_count": 61,
   "id": "cb1273b4",
   "metadata": {},
   "outputs": [
    {
     "name": "stdout",
     "output_type": "stream",
     "text": [
      "37\n"
     ]
    }
   ],
   "source": [
    "@decor\n",
    "def num():\n",
    "    return 35\n",
    "print(num())"
   ]
  },
  {
   "cell_type": "markdown",
   "id": "3635cdd6",
   "metadata": {},
   "source": [
    "#### 40. generator that returns sequence from X to Y\n",
    "\n",
    "##### Generators:\n",
    "Generators are functions that return a sequence of numbers.  A generator function is written like an Ordinary function but it uses 'yeild' statement. This statement is useful to return the value."
   ]
  },
  {
   "cell_type": "code",
   "execution_count": 68,
   "id": "b48e0052",
   "metadata": {},
   "outputs": [
    {
     "name": "stdout",
     "output_type": "stream",
     "text": [
      "5678910"
     ]
    }
   ],
   "source": [
    "def mygen(x,y):\n",
    "    while x<=y:\n",
    "        yield x\n",
    "        x+=1\n",
    "        \n",
    "# fill generator object with 5 and 10.\n",
    "g = mygen(5, 10)\n",
    "\n",
    "# Display all numbers in the generator\n",
    "for i in g:\n",
    "    print(i, end= '')"
   ]
  },
  {
   "cell_type": "markdown",
   "id": "050f9c55",
   "metadata": {},
   "source": [
    "### Creating Our own Modules In Python\n",
    "\n",
    "A Module represents a group of classes, methods, functions andvariables. In python we have several built-in modules like sys, io, time etc. just like these modules, we can also create our own modules and use them whenever we need them. once a module is created, any programmer in the project team can reuse that module. Hence, modules will make software development easy and faster."
   ]
  },
  {
   "cell_type": "markdown",
   "id": "92fcd7a2",
   "metadata": {},
   "source": [
    "#### 41. Create \" MyModule \" addtion and subtraction functions and use them in another program."
   ]
  },
  {
   "cell_type": "code",
   "execution_count": 70,
   "id": "ba8a1746",
   "metadata": {},
   "outputs": [
    {
     "ename": "ModuleNotFoundError",
     "evalue": "No module named 'mymodule'",
     "output_type": "error",
     "traceback": [
      "\u001b[1;31m---------------------------------------------------------------------------\u001b[0m",
      "\u001b[1;31mModuleNotFoundError\u001b[0m                       Traceback (most recent call last)",
      "\u001b[1;32mC:\\Users\\SAIVIN~1\\AppData\\Local\\Temp/ipykernel_9568/109461634.py\u001b[0m in \u001b[0;36m<module>\u001b[1;34m\u001b[0m\n\u001b[0;32m      7\u001b[0m     \u001b[1;31m# the above program can be saved in the notebook\u001b[0m\u001b[1;33m\u001b[0m\u001b[1;33m\u001b[0m\u001b[0m\n\u001b[0;32m      8\u001b[0m \u001b[1;31m# save this as mymodule.py\u001b[0m\u001b[1;33m\u001b[0m\u001b[1;33m\u001b[0m\u001b[0m\n\u001b[1;32m----> 9\u001b[1;33m \u001b[1;32mimport\u001b[0m \u001b[0mmymodule\u001b[0m\u001b[1;33m\u001b[0m\u001b[1;33m\u001b[0m\u001b[0m\n\u001b[0m\u001b[0;32m     10\u001b[0m \u001b[0mx\u001b[0m\u001b[1;33m,\u001b[0m\u001b[0my\u001b[0m \u001b[1;33m=\u001b[0m \u001b[1;33m[\u001b[0m\u001b[0mint\u001b[0m\u001b[1;33m(\u001b[0m\u001b[0mx\u001b[0m\u001b[1;33m)\u001b[0m \u001b[1;32mfor\u001b[0m \u001b[0mx\u001b[0m \u001b[1;32min\u001b[0m \u001b[0minput\u001b[0m\u001b[1;33m(\u001b[0m\u001b[1;34m'enter two nos: '\u001b[0m\u001b[1;33m)\u001b[0m\u001b[1;33m.\u001b[0m\u001b[0msplit\u001b[0m\u001b[1;33m(\u001b[0m\u001b[1;33m)\u001b[0m\u001b[1;33m]\u001b[0m\u001b[1;33m\u001b[0m\u001b[1;33m\u001b[0m\u001b[0m\n\u001b[0;32m     11\u001b[0m \u001b[0mmymodule\u001b[0m\u001b[1;33m.\u001b[0m\u001b[0madd\u001b[0m\u001b[1;33m(\u001b[0m\u001b[0mx\u001b[0m\u001b[1;33m,\u001b[0m\u001b[0my\u001b[0m\u001b[1;33m)\u001b[0m\u001b[1;33m\u001b[0m\u001b[1;33m\u001b[0m\u001b[0m\n",
      "\u001b[1;31mModuleNotFoundError\u001b[0m: No module named 'mymodule'"
     ]
    }
   ],
   "source": [
    "def add(a,b):\n",
    "    print(a+b)\n",
    "    \n",
    "def sub(a, b):\n",
    "    print(a-b)\n",
    "\n",
    "    # the above program can be saved in the notebook\n",
    "# save this as mymodule.py\n",
    "import mymodule\n",
    "x,y = [int(x) for x in input('enter two nos: ').split()]\n",
    "mymodule.add(x,y)\n",
    "mymodule.sub(x,y)"
   ]
  },
  {
   "cell_type": "markdown",
   "id": "7c63b1a5",
   "metadata": {},
   "source": [
    "##### The special variable __name__\n",
    "\n",
    "when a program is executed in python, there is a special variable internally created by the name '__name__'. This variable stores information regarding whether the program is executed as an individual program or as a module. when the program is executed directly, the python interpreter store the value '__main__' into this variable. when the program is imported as a module into another program, then python interpreter stores the module name into this variable. thus, by observing the value of the variable '__name__' , we can understand how the program is executed\n",
    "\n",
    "\n",
    "#### 42. Create 'one' module with display() function. Find out how it is executed."
   ]
  },
  {
   "cell_type": "markdown",
   "id": "e977e28c",
   "metadata": {},
   "source": [
    "###  LAMBDAS or Anonymous Functions\n",
    "A function without a name is called ' anonymuous function'. so far, the functions we worte were defined using the keyword 'def'. but anonymous functions are not defined using 'def'. they are defined using the keyword lambda and hence they are also called 'lambda Functions'."
   ]
  },
  {
   "cell_type": "markdown",
   "id": "e394fabf",
   "metadata": {},
   "source": [
    "#### 43. Create a lambda function to find square value of a number."
   ]
  },
  {
   "cell_type": "code",
   "execution_count": 72,
   "id": "d40b4f03",
   "metadata": {},
   "outputs": [
    {
     "name": "stdout",
     "output_type": "stream",
     "text": [
      "square of 5 = 25\n"
     ]
    }
   ],
   "source": [
    "f= lambda x: x*x\n",
    "    \n",
    "value =f(5)\n",
    "print('square of 5 =', value)"
   ]
  },
  {
   "cell_type": "markdown",
   "id": "08b663a3",
   "metadata": {},
   "source": [
    "#### 44. write a lambda to test weather a given number is enven or not\n"
   ]
  },
  {
   "cell_type": "code",
   "execution_count": 74,
   "id": "efb29682",
   "metadata": {},
   "outputs": [
    {
     "name": "stdout",
     "output_type": "stream",
     "text": [
      "yes\n"
     ]
    }
   ],
   "source": [
    "f= lambda x: 'yes' if x%2==0 else 'No'\n",
    "value= f(18)\n",
    "print(value)"
   ]
  },
  {
   "cell_type": "markdown",
   "id": "be38bd33",
   "metadata": {},
   "source": [
    "#### 45.  lambda function that returns even numbers from alist\n"
   ]
  },
  {
   "cell_type": "code",
   "execution_count": 75,
   "id": "2b6261e1",
   "metadata": {},
   "outputs": [
    {
     "name": "stdout",
     "output_type": "stream",
     "text": [
      "[22, 2, 28, 24, 2, 26, 78, 98, 94, 96]\n"
     ]
    }
   ],
   "source": [
    "lst= [45,22,15,1,3,2,28,24,2,26,7,78,98,95,94,96]\n",
    "lst1 = list(filter(lambda x: (x%2 == 0), lst))\n",
    "print(lst1)\n"
   ]
  },
  {
   "cell_type": "markdown",
   "id": "ca8c742c",
   "metadata": {},
   "source": [
    "#### 46. create a lambda function to return squares of all the elements in a list"
   ]
  },
  {
   "cell_type": "code",
   "execution_count": 76,
   "id": "f623bbc4",
   "metadata": {},
   "outputs": [
    {
     "name": "stdout",
     "output_type": "stream",
     "text": [
      "[2025, 484, 225, 1, 9, 4, 784, 576, 4, 676, 49, 6084, 9604, 9025, 8836, 9216]\n"
     ]
    }
   ],
   "source": [
    "lst= [45,22,15,1,3,2,28,24,2,26,7,78,98,95,94,96]\n",
    "lst1 = list(map(lambda x: x*x, lst))\n",
    "print(lst1)"
   ]
  },
  {
   "cell_type": "markdown",
   "id": "b97198f1",
   "metadata": {},
   "source": [
    "#### 47. Lambda that returns product of the elements of a list"
   ]
  },
  {
   "cell_type": "code",
   "execution_count": 2,
   "id": "ca332bd7",
   "metadata": {},
   "outputs": [
    {
     "name": "stdout",
     "output_type": "stream",
     "text": [
      "142820888672157696000\n"
     ]
    }
   ],
   "source": [
    "from functools import *\n",
    "lst= [45,22,15,1,3,2,28,24,2,26,7,78,98,95,94,96]\n",
    "result = reduce(lambda x, y: x*y, lst)\n",
    "print(result)"
   ]
  },
  {
   "cell_type": "markdown",
   "id": "7aeb4f95",
   "metadata": {},
   "source": [
    "#                                        ARRAYS"
   ]
  },
  {
   "cell_type": "markdown",
   "id": "464614b9",
   "metadata": {},
   "source": [
    "An Array is an object that stores a group of elements (Or values) of same datatype. Array elements should be of same datatype. Arrays can increase or decrease or decerese their size dynamically.\n",
    "\n",
    "\n",
    "###### Note : we can use for loop to display the individual elements of the array. "
   ]
  },
  {
   "cell_type": "markdown",
   "id": "ced2133e",
   "metadata": {},
   "source": [
    "##### 48. Create different types of 1D arrays using numpy"
   ]
  },
  {
   "cell_type": "code",
   "execution_count": 1,
   "id": "7c4b9e56",
   "metadata": {},
   "outputs": [
    {
     "name": "stdout",
     "output_type": "stream",
     "text": [
      "[1 2 3 4 5 6]\n",
      "[ 1.5   2.5  -3.44]\n",
      "['a' 'b' 'c']\n",
      "['anil' 'gopal']\n"
     ]
    }
   ],
   "source": [
    "import numpy\n",
    "arr1 = numpy.array([1,2,3,4,5,6])\n",
    "print(arr1)\n",
    "\n",
    "arr2 = numpy.array([1.5,2.5,-3.44])\n",
    "print(arr2)\n",
    "\n",
    "arr3 =numpy.array(['a','b','c'])\n",
    "print(arr3)\n",
    "\n",
    "arr4 = numpy.array(['anil', 'gopal'])\n",
    "print(arr4)"
   ]
  },
  {
   "cell_type": "markdown",
   "id": "8a88e8ff",
   "metadata": {},
   "source": [
    "##### 49. creating an array using linspace()"
   ]
  },
  {
   "cell_type": "code",
   "execution_count": 4,
   "id": "92350212",
   "metadata": {},
   "outputs": [
    {
     "name": "stdout",
     "output_type": "stream",
     "text": [
      "a = [ 0.   2.5  5.   7.5 10. ]\n"
     ]
    }
   ],
   "source": [
    "from numpy import*\n",
    "# divide 0-10 into 5 parts and take those points in the array\n",
    "\n",
    "a= linspace(0,10,5)\n",
    "print('a =' ,a)"
   ]
  },
  {
   "cell_type": "markdown",
   "id": "bcbfa07a",
   "metadata": {},
   "source": [
    "#### 50. creating an array using logspace()"
   ]
  },
  {
   "cell_type": "code",
   "execution_count": 5,
   "id": "94b1aff4",
   "metadata": {},
   "outputs": [
    {
     "name": "stdout",
     "output_type": "stream",
     "text": [
      "10.0,56.23413251903491,316.22776601683796,1778.2794100389228,10000.0,"
     ]
    }
   ],
   "source": [
    "from numpy import *\n",
    "\n",
    "# divide 1 power 10 to 4 power 10 into 5 equal parts\n",
    "# and take those points in the array\n",
    "\n",
    "a = logspace(1,4,5)\n",
    "\n",
    "# display the elements of a \n",
    "for i in a : print(i, end =',')"
   ]
  },
  {
   "cell_type": "markdown",
   "id": "27f318d7",
   "metadata": {},
   "source": [
    "#### 51. Creating an array with even numbers up to 10\n",
    "\n"
   ]
  },
  {
   "cell_type": "code",
   "execution_count": 9,
   "id": "781bcdaa",
   "metadata": {},
   "outputs": [
    {
     "name": "stdout",
     "output_type": "stream",
     "text": [
      "[ 2  4  6  8 10]\n",
      "[ 2  4  6  8 10]\n",
      "[ 2  4  6  8 10 12]\n"
     ]
    }
   ],
   "source": [
    "from numpy import*\n",
    "# create an array using arrange() function\n",
    "\n",
    "a= arange(2,11,2)\n",
    "print(a)\n",
    "\n",
    "b= arange(2,12,2)\n",
    "print(b)\n",
    "\n",
    "c= arange(2,13,2)\n",
    "print(c)"
   ]
  },
  {
   "cell_type": "markdown",
   "id": "f4580d70",
   "metadata": {},
   "source": [
    "##### 52. Create a 1D array using arange() and then create another array by alias, view and copy"
   ]
  },
  {
   "cell_type": "code",
   "execution_count": 12,
   "id": "fe24bfd9",
   "metadata": {},
   "outputs": [
    {
     "name": "stdout",
     "output_type": "stream",
     "text": [
      "original array:  [1 2 3 4 5]\n",
      "Alias array: [1 2 3 4 5]\n",
      "after modification:\n",
      "original Array:  [99  2  3  4  5]\n",
      "alias array:  [99  2  3  4  5]\n"
     ]
    }
   ],
   "source": [
    "# aliasing , viewing and copying an array.\n",
    "\n",
    "from numpy import*\n",
    "a=arange(1,6) # create array a\n",
    "b=a             # b is alias to a \n",
    "# b= a.view()   # b is a shallow copy of a\n",
    "# b=a.copy()    # b is deep copy of a\n",
    "\n",
    "print('original array: ', a)\n",
    "print('Alias array:', b)\n",
    "\n",
    "b[0]=99  # modification of 0th element of b\n",
    "print('after modification:')\n",
    "print('original Array: ', a)\n",
    "print('alias array: ',b)"
   ]
  },
  {
   "cell_type": "markdown",
   "id": "dce4d1af",
   "metadata": {},
   "source": [
    "#### 53. Create and display a 2D array"
   ]
  },
  {
   "cell_type": "code",
   "execution_count": 13,
   "id": "38535beb",
   "metadata": {},
   "outputs": [
    {
     "name": "stdout",
     "output_type": "stream",
     "text": [
      "[1, 2, 3]\n",
      "[4, 5]\n",
      "[10, 11, 12]\n",
      "123\n",
      "45\n",
      "101112\n"
     ]
    },
    {
     "name": "stderr",
     "output_type": "stream",
     "text": [
      "C:\\Users\\SAIVIN~1\\AppData\\Local\\Temp/ipykernel_17972/1809494990.py:2: VisibleDeprecationWarning: Creating an ndarray from ragged nested sequences (which is a list-or-tuple of lists-or-tuples-or ndarrays with different lengths or shapes) is deprecated. If you meant to do this, you must specify 'dtype=object' when creating the ndarray.\n",
      "  arr= numpy.array([[1,2,3] , [4,5], [10,11,12]])\n"
     ]
    }
   ],
   "source": [
    "import  numpy\n",
    "arr= numpy.array([[1,2,3] , [4,5], [10,11,12]])\n",
    "\n",
    "# display only rows\n",
    "for i in range(len(arr)):\n",
    "    print(arr[i])\n",
    "    \n",
    "# display all elements\n",
    "for i in range(len(arr)):\n",
    "    for j in range(len(arr[i])):\n",
    "        print(arr[i][j], end='')\n",
    "    print()    "
   ]
  },
  {
   "cell_type": "markdown",
   "id": "95376a58",
   "metadata": {},
   "source": [
    "#### 54. Matrix operation"
   ]
  },
  {
   "cell_type": "code",
   "execution_count": 14,
   "id": "0315ac0c",
   "metadata": {},
   "outputs": [
    {
     "name": "stdout",
     "output_type": "stream",
     "text": [
      "[[10 10]\n",
      " [22 22]]\n",
      "[[0.5 1. ]\n",
      " [1.5 2. ]]\n"
     ]
    }
   ],
   "source": [
    "import numpy as np\n",
    "a= np.matrix([[1,2],[3,4]])\n",
    "b = np.matrix([[2,2],[4,4]])\n",
    "\n",
    "c= a*b\n",
    "print(c)\n",
    "\n",
    "d= a/2\n",
    "print(d)"
   ]
  },
  {
   "cell_type": "markdown",
   "id": "248ef993",
   "metadata": {},
   "source": [
    "#### 55. Finding the transpose"
   ]
  },
  {
   "cell_type": "code",
   "execution_count": 17,
   "id": "1ba4a947",
   "metadata": {},
   "outputs": [
    {
     "name": "stdout",
     "output_type": "stream",
     "text": [
      "how many rows cols?1 2\n",
      "enter elements:\n",
      "1,2\n",
      "original\n",
      " [[1 2]]\n",
      "transpose\n",
      " [[1]\n",
      " [2]]\n"
     ]
    }
   ],
   "source": [
    "import numpy\n",
    "r,c = [int(a) for a in input('how many rows cols?').split(' ')]\n",
    "str = input('enter elements:\\n')\n",
    "\n",
    "m = numpy.matrix(str)\n",
    "x= numpy.reshape(m,(r,c))\n",
    "print('original\\n', x)\n",
    "print('transpose\\n', x.transpose())"
   ]
  },
  {
   "cell_type": "markdown",
   "id": "ec138608",
   "metadata": {},
   "source": [
    "#### 56. Finding transpose - to accept elements in matrix from\n"
   ]
  },
  {
   "cell_type": "code",
   "execution_count": 21,
   "id": "7ec3d287",
   "metadata": {},
   "outputs": [
    {
     "name": "stdout",
     "output_type": "stream",
     "text": [
      "how many rows cols?1 2\n",
      "enter elements:\n",
      "1.2 12.3\n"
     ]
    },
    {
     "ename": "ValueError",
     "evalue": "empty separator",
     "output_type": "error",
     "traceback": [
      "\u001b[1;31m---------------------------------------------------------------------------\u001b[0m",
      "\u001b[1;31mValueError\u001b[0m                                Traceback (most recent call last)",
      "\u001b[1;32mC:\\Users\\SAIVIN~1\\AppData\\Local\\Temp/ipykernel_17972/1477049701.py\u001b[0m in \u001b[0;36m<module>\u001b[1;34m\u001b[0m\n\u001b[0;32m      6\u001b[0m \u001b[0mprint\u001b[0m\u001b[1;33m(\u001b[0m\u001b[1;34m'enter elements:'\u001b[0m\u001b[1;33m)\u001b[0m\u001b[1;33m\u001b[0m\u001b[1;33m\u001b[0m\u001b[0m\n\u001b[0;32m      7\u001b[0m \u001b[1;32mfor\u001b[0m \u001b[0mi\u001b[0m \u001b[1;32min\u001b[0m \u001b[0mrange\u001b[0m\u001b[1;33m(\u001b[0m\u001b[0mr\u001b[0m\u001b[1;33m)\u001b[0m\u001b[1;33m:\u001b[0m  \u001b[1;31m# enter one row at a time\u001b[0m\u001b[1;33m\u001b[0m\u001b[1;33m\u001b[0m\u001b[0m\n\u001b[1;32m----> 8\u001b[1;33m     \u001b[0marr\u001b[0m\u001b[1;33m[\u001b[0m\u001b[0mi\u001b[0m\u001b[1;33m]\u001b[0m \u001b[1;33m=\u001b[0m\u001b[1;33m[\u001b[0m\u001b[0mfloat\u001b[0m\u001b[1;33m(\u001b[0m\u001b[0mx\u001b[0m\u001b[1;33m)\u001b[0m \u001b[1;32mfor\u001b[0m \u001b[0mx\u001b[0m \u001b[1;32min\u001b[0m \u001b[0minput\u001b[0m\u001b[1;33m(\u001b[0m\u001b[1;33m)\u001b[0m\u001b[1;33m.\u001b[0m\u001b[0msplit\u001b[0m\u001b[1;33m(\u001b[0m\u001b[1;34m''\u001b[0m\u001b[1;33m)\u001b[0m\u001b[1;33m]\u001b[0m\u001b[1;33m\u001b[0m\u001b[1;33m\u001b[0m\u001b[0m\n\u001b[0m\u001b[0;32m      9\u001b[0m \u001b[1;33m\u001b[0m\u001b[0m\n\u001b[0;32m     10\u001b[0m \u001b[0mm\u001b[0m \u001b[1;33m=\u001b[0m \u001b[0mnumpy\u001b[0m\u001b[1;33m.\u001b[0m\u001b[0mmatrix\u001b[0m\u001b[1;33m(\u001b[0m\u001b[0marr\u001b[0m\u001b[1;33m)\u001b[0m\u001b[1;33m\u001b[0m\u001b[1;33m\u001b[0m\u001b[0m\n",
      "\u001b[1;31mValueError\u001b[0m: empty separator"
     ]
    }
   ],
   "source": [
    "import numpy \n",
    "r,c = [int(a) for a in input('how many rows cols?').split(' ')]\n",
    "\n",
    "arr= numpy.zeros((r,c))   # create a rXc 2D array\n",
    "\n",
    "print('enter elements:')\n",
    "for i in range(r):  # enter one row at a time\n",
    "    arr[i] =[float(x) for x in input().split('')]\n",
    "    \n",
    "m = numpy.matrix(arr)\n",
    "print('original\\n', x)\n",
    "print('transpose\\n', x.transpose())\n"
   ]
  },
  {
   "cell_type": "markdown",
   "id": "0d1355f9",
   "metadata": {},
   "source": [
    "#### 57.  Nested list with names and marks"
   ]
  },
  {
   "cell_type": "code",
   "execution_count": 22,
   "id": "3580b4aa",
   "metadata": {},
   "outputs": [
    {
     "name": "stdout",
     "output_type": "stream",
     "text": [
      "enter name:vani\n",
      "hai vaniyour marks:605060"
     ]
    }
   ],
   "source": [
    "lst = ['raju', [40,20,60], 'vani',[60,50,60],'kamal',[54,22,36]]\n",
    "name = input('enter name:')\n",
    "for i in range(len(lst)):\n",
    "    if lst[i]== name:\n",
    "        print('hai', name, end= '')\n",
    "        print('your marks:' , end='')\n",
    "        for x in lst[i+1]:\n",
    "            print(x, end='')\n",
    "        break \n",
    "else:\n",
    "    print('name not found')"
   ]
  },
  {
   "cell_type": "markdown",
   "id": "e698ce37",
   "metadata": {},
   "source": [
    "#### 58. List comprehension to get even nos upto 10"
   ]
  },
  {
   "cell_type": "code",
   "execution_count": 23,
   "id": "622b0b5b",
   "metadata": {},
   "outputs": [
    {
     "name": "stdout",
     "output_type": "stream",
     "text": [
      "[2, 4, 6, 8, 10]\n",
      "[2, 4, 6, 8, 10]\n"
     ]
    }
   ],
   "source": [
    "evens1 = [x for x in range(2, 11, 2)]\n",
    "evens2 = [x for x in range(2, 11) if x%2 ==0]\n",
    "\n",
    "print(evens1)\n",
    "print(evens2)"
   ]
  },
  {
   "cell_type": "markdown",
   "id": "86a8b340",
   "metadata": {},
   "source": [
    "#### 59 . Adding the elements of two lists\n"
   ]
  },
  {
   "cell_type": "code",
   "execution_count": 24,
   "id": "2d19ec55",
   "metadata": {},
   "outputs": [
    {
     "name": "stdout",
     "output_type": "stream",
     "text": [
      "[20, 70, 110]\n",
      "[20, 70, 110]\n"
     ]
    }
   ],
   "source": [
    "x= [10,20,30]\n",
    "y=[10,50,80]\n",
    "\n",
    "# with using the list comprehension\n",
    "z= []\n",
    "\n",
    "for i in range(len(x)):\n",
    "    z.append(x[i]+y[i])\n",
    "    \n",
    "print(z)\n",
    "\n",
    "# now using list comprehension\n",
    "z = [x[i]+y[i] for i in range(len(x))]\n",
    "print(z)"
   ]
  },
  {
   "cell_type": "markdown",
   "id": "9a3644a9",
   "metadata": {},
   "source": [
    "#### 60. To retrive common elements of two lists\n"
   ]
  },
  {
   "cell_type": "code",
   "execution_count": 25,
   "id": "c5aaf9fb",
   "metadata": {},
   "outputs": [
    {
     "name": "stdout",
     "output_type": "stream",
     "text": [
      "[20, 40, -1, 20]\n",
      "[20, 40, -1, 20]\n"
     ]
    }
   ],
   "source": [
    "x = [10,20,40,-1,20]\n",
    "y= [40,50,20,-1,0]\n",
    "\n",
    "# without using list comprehension\n",
    "z=[]\n",
    "\n",
    "for i in x:\n",
    "    if i in y:\n",
    "        z.append(i)\n",
    "        \n",
    "print(z)\n",
    "\n",
    "# now using list comprehension\n",
    "z = [ i for i in x if i in y]\n",
    "print(z)        "
   ]
  },
  {
   "cell_type": "markdown",
   "id": "107059a2",
   "metadata": {},
   "source": [
    "#### 61.  To retrive only te first letter of each word in the words"
   ]
  },
  {
   "cell_type": "code",
   "execution_count": 28,
   "id": "c9675ed0",
   "metadata": {},
   "outputs": [
    {
     "name": "stdout",
     "output_type": "stream",
     "text": [
      "['a', 'g', 'b']\n",
      "['a', 'g', 'b']\n"
     ]
    }
   ],
   "source": [
    "words =['apple', 'grapes', 'banana']\n",
    "\n",
    "# without using list comprehension\n",
    "lst = []\n",
    "for i in words:\n",
    "    lst.append(i[0])\n",
    "    \n",
    "print(lst) \n",
    "\n",
    "\n",
    "# while using the List comprehension\n",
    "lst = [i[0] for i in words]\n",
    "print(lst)"
   ]
  },
  {
   "cell_type": "code",
   "execution_count": null,
   "id": "76e40f8c",
   "metadata": {},
   "outputs": [],
   "source": []
  }
 ],
 "metadata": {
  "kernelspec": {
   "display_name": "Python 3 (ipykernel)",
   "language": "python",
   "name": "python3"
  },
  "language_info": {
   "codemirror_mode": {
    "name": "ipython",
    "version": 3
   },
   "file_extension": ".py",
   "mimetype": "text/x-python",
   "name": "python",
   "nbconvert_exporter": "python",
   "pygments_lexer": "ipython3",
   "version": "3.9.12"
  }
 },
 "nbformat": 4,
 "nbformat_minor": 5
}
