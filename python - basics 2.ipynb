{
 "cells": [
  {
   "cell_type": "code",
   "execution_count": 1,
   "id": "cd260cd9",
   "metadata": {},
   "outputs": [
    {
     "name": "stdout",
     "output_type": "stream",
     "text": [
      "H\n",
      "e\n",
      "l\n",
      "l\n",
      "o\n",
      " \n",
      "w\n",
      "o\n",
      "r\n",
      "l\n",
      "d\n",
      "!\n"
     ]
    }
   ],
   "source": [
    "mystring = 'Hello world!'\n",
    "\n",
    "for letters in mystring: \n",
    "    print(letters)"
   ]
  },
  {
   "cell_type": "code",
   "execution_count": 2,
   "id": "6a84c591",
   "metadata": {},
   "outputs": [
    {
     "name": "stdout",
     "output_type": "stream",
     "text": [
      "H\n",
      "E\n",
      "L\n",
      "L\n",
      "O\n",
      "W\n",
      "O\n",
      "R\n",
      "L\n",
      "D\n",
      "!\n",
      "!\n"
     ]
    }
   ],
   "source": [
    "# Technically you need not assign the string to a variable you can directly take the string in for loop itself\n",
    "\n",
    "for letters in 'HELLOWORLD!!':\n",
    "    print(letters)\n",
    "# you can call this variable -- 'letters' --  anything you want as logn as its same thing "
   ]
  },
  {
   "cell_type": "markdown",
   "id": "6684a8c7",
   "metadata": {},
   "source": [
    "###### as people get advanced in python sometimes they don't even assign a variable for instance you want to print 'mad' as many times as the characters in the string - instead of variable people assign '_' as the variable"
   ]
  },
  {
   "cell_type": "code",
   "execution_count": 3,
   "id": "30585b8e",
   "metadata": {},
   "outputs": [
    {
     "name": "stdout",
     "output_type": "stream",
     "text": [
      "MAD\n",
      "MAD\n",
      "MAD\n",
      "MAD\n",
      "MAD\n",
      "MAD\n",
      "MAD\n",
      "MAD\n",
      "MAD\n",
      "MAD\n",
      "MAD\n",
      "MAD\n"
     ]
    }
   ],
   "source": [
    "for _ in 'Hello World!':\n",
    "    print('MAD')"
   ]
  },
  {
   "cell_type": "code",
   "execution_count": 4,
   "id": "cba31b14",
   "metadata": {},
   "outputs": [
    {
     "name": "stdout",
     "output_type": "stream",
     "text": [
      "1\n",
      "2\n",
      "3\n",
      "4\n",
      "5\n",
      "6\n"
     ]
    }
   ],
   "source": [
    "# Thats iteration for list and string, same thing can be done for 'Tuple'\n",
    "tup = (1,2,3,4,5,6)\n",
    "\n",
    "for elements in tup:\n",
    "    print(elements)"
   ]
  },
  {
   "cell_type": "markdown",
   "id": "c0d74ef4",
   "metadata": {},
   "source": [
    "now, lets see tuple unpacking\n",
    "tuple have a littile bit of special quality when it comes to forloops - if you are iterating through a self containg tuples - the item can be used with tuples unpacking - lets see what i mean by that"
   ]
  },
  {
   "cell_type": "code",
   "execution_count": 5,
   "id": "10a5ce82",
   "metadata": {},
   "outputs": [],
   "source": [
    "# let me take a list having tuples\n",
    "\n",
    "mylist = [(1,2),(3,4),(5,6),(7,8)]"
   ]
  },
  {
   "cell_type": "code",
   "execution_count": 6,
   "id": "8b02e4aa",
   "metadata": {},
   "outputs": [
    {
     "data": {
      "text/plain": [
       "4"
      ]
     },
     "execution_count": 6,
     "metadata": {},
     "output_type": "execute_result"
    }
   ],
   "source": [
    "len(mylist)"
   ]
  },
  {
   "cell_type": "code",
   "execution_count": 7,
   "id": "90b0b33d",
   "metadata": {},
   "outputs": [
    {
     "name": "stdout",
     "output_type": "stream",
     "text": [
      "(1, 2)\n",
      "(3, 4)\n",
      "(5, 6)\n",
      "(7, 8)\n"
     ]
    }
   ],
   "source": [
    "# mylist is a list of 4 tuple pair, lets printout items in mylist\n",
    "for items in mylist:\n",
    "    print(items)"
   ]
  },
  {
   "cell_type": "markdown",
   "id": "d862bf3a",
   "metadata": {},
   "source": [
    " this type of datastructure is extremely common in python, later on we are going to see lot of built in functions in python will take advantage of this built in structure and returnback tuple inside of a list - we can printout every item in the tuple for that what i can do the following"
   ]
  },
  {
   "cell_type": "code",
   "execution_count": 8,
   "id": "45ad21f5",
   "metadata": {},
   "outputs": [
    {
     "name": "stdout",
     "output_type": "stream",
     "text": [
      "1\n",
      "2\n",
      "3\n",
      "4\n",
      "5\n",
      "6\n",
      "7\n",
      "8\n"
     ]
    }
   ],
   "source": [
    "for (a,b) in mylist:\n",
    "    print(a)\n",
    "    print(b)\n",
    "# lets see what happens here - we are duplicating the structure of items  in this case tuples inside of the sequence <br>\n",
    "# and unpack them now i have access to the individual items "
   ]
  },
  {
   "cell_type": "code",
   "execution_count": 10,
   "id": "a88a579f",
   "metadata": {},
   "outputs": [
    {
     "name": "stdout",
     "output_type": "stream",
     "text": [
      "1\n",
      "3\n",
      "5\n",
      "7\n"
     ]
    }
   ],
   "source": [
    "# now you have access to the items in tuple you can print only the first character\n",
    "# technically you dont even need brackets for a,b\n",
    "for a,b in mylist:\n",
    "    print(a)"
   ]
  },
  {
   "cell_type": "code",
   "execution_count": 11,
   "id": "9fb46a5c",
   "metadata": {},
   "outputs": [
    {
     "name": "stdout",
     "output_type": "stream",
     "text": [
      "3\n",
      "6\n",
      "9\n"
     ]
    }
   ],
   "source": [
    "# lets try onemore time\n",
    "mylist = [(1,2,3),(4,5,6),(7,8,9)]\n",
    "for a,b,c in mylist:\n",
    "    print(c)"
   ]
  },
  {
   "cell_type": "code",
   "execution_count": 12,
   "id": "3dbeb222",
   "metadata": {},
   "outputs": [
    {
     "name": "stdout",
     "output_type": "stream",
     "text": [
      "3 2\n",
      "6 5\n",
      "9 8\n"
     ]
    }
   ],
   "source": [
    "mylist = [(1,2,3),(4,5,6),(7,8,9)]\n",
    "for a,b,c in mylist:\n",
    "    print(c ,b)"
   ]
  },
  {
   "cell_type": "code",
   "execution_count": 13,
   "id": "1c182754",
   "metadata": {},
   "outputs": [],
   "source": [
    "# lets see how to use forloop in dictionary"
   ]
  },
  {
   "cell_type": "code",
   "execution_count": 14,
   "id": "4624d70b",
   "metadata": {},
   "outputs": [
    {
     "name": "stdout",
     "output_type": "stream",
     "text": [
      "k1\n",
      "k2\n",
      "k3\n",
      "k4\n"
     ]
    }
   ],
   "source": [
    "d = {'k1':1, 'k2':2,'k3':3,'k4':4}\n",
    "for items in d:\n",
    "    print(items)"
   ]
  },
  {
   "cell_type": "markdown",
   "id": "4b08bc3e",
   "metadata": {},
   "source": [
    "This is some kind of interesting using forloop in dictionary you only iterate through dictionaries\n",
    "k1, k2, k3, k4 <br>\n",
    "if you actually want to iterate through the items themselves <br>\n",
    "what you actually what to do is you use dictionary name.items "
   ]
  },
  {
   "cell_type": "code",
   "execution_count": 21,
   "id": "f7789b05",
   "metadata": {},
   "outputs": [
    {
     "name": "stdout",
     "output_type": "stream",
     "text": [
      "('k1', 1)\n",
      "('k2', 2)\n",
      "('k3', 3)\n",
      "('k4', 4)\n"
     ]
    }
   ],
   "source": [
    "d = {'k1':1, 'k2':2,'k3':3,'k4':4}\n",
    "for item in d.items():\n",
    "    print(item)"
   ]
  },
  {
   "cell_type": "code",
   "execution_count": 22,
   "id": "4adc8722",
   "metadata": {},
   "outputs": [
    {
     "name": "stdout",
     "output_type": "stream",
     "text": [
      "1\n",
      "2\n",
      "3\n",
      "4\n"
     ]
    }
   ],
   "source": [
    "# we can use item unpacking jus like we used in tuples above\n",
    "for key,value in d.items():\n",
    "    print(value)"
   ]
  },
  {
   "cell_type": "markdown",
   "id": "405c05e5",
   "metadata": {},
   "source": [
    "### While loops in Python"
   ]
  },
  {
   "cell_type": "markdown",
   "id": "c09bf6c0",
   "metadata": {},
   "source": [
    "while loops will contineue to execute a block of code While some condition remains True.\n",
    "\n",
    "for ex: while my pool is not full, keep filling my pool with water. \n",
    "\n",
    "or while my dogs are still hungry, keep feeing my dogs\n",
    "\n",
    "##### Syntax\n",
    "while some_boolean_condition:\n",
    "    <br> Do something\n",
    "###### We can aslo with else statement\n",
    "\n",
    "while some_boolean_condition: <br>\n",
    "     > > do something <br>\n",
    "    else:<br>\n",
    "    > > do something different"
   ]
  },
  {
   "cell_type": "code",
   "execution_count": 24,
   "id": "14d39b2d",
   "metadata": {},
   "outputs": [
    {
     "name": "stdout",
     "output_type": "stream",
     "text": [
      "the current value of x is 0\n",
      "the current value of x is 1\n",
      "the current value of x is 2\n",
      "the current value of x is 3\n",
      "the current value of x is 4\n"
     ]
    }
   ],
   "source": [
    "x = 0 \n",
    "while x < 5:\n",
    "    print(f'the current value of x is {x}')\n",
    "    x = x+1"
   ]
  },
  {
   "cell_type": "code",
   "execution_count": 25,
   "id": "3093473e",
   "metadata": {},
   "outputs": [],
   "source": [
    "# we can also writ \n",
    "x += 1"
   ]
  },
  {
   "cell_type": "code",
   "execution_count": 26,
   "id": "704f45e4",
   "metadata": {},
   "outputs": [
    {
     "name": "stdout",
     "output_type": "stream",
     "text": [
      "the current value of x is 0\n",
      "the current value of x is 1\n",
      "the current value of x is 2\n",
      "the current value of x is 3\n",
      "the current value of x is 4\n",
      "x is not less than 5\n"
     ]
    }
   ],
   "source": [
    "x = 0 \n",
    "while x < 5:\n",
    "    print(f'the current value of x is {x}')\n",
    "    x +=1\n",
    "else:\n",
    "    print(f'x is not less than 5')"
   ]
  },
  {
   "cell_type": "markdown",
   "id": "8537a4dc",
   "metadata": {},
   "source": [
    "##### Now, lets get introduced to 3 new Keywords\n",
    "\n",
    "### break, continue , pass\n",
    "\n",
    "we can break, continue and pass statements in our loops to add additional functionality for various cases. the three statements are defined by:\n",
    "\n",
    "###### break : Breaks out of the current closet enclosing loop\n",
    "###### Continue: goes to the top of the closet enclosing loop\n",
    "###### pass: Does nothing at all."
   ]
  },
  {
   "cell_type": "code",
   "execution_count": 31,
   "id": "f2000bbb",
   "metadata": {},
   "outputs": [
    {
     "ename": "IndentationError",
     "evalue": "expected an indented block (1778777015.py, line 3)",
     "output_type": "error",
     "traceback": [
      "\u001b[1;36m  Input \u001b[1;32mIn [31]\u001b[1;36m\u001b[0m\n\u001b[1;33m    #comment - at this point we are not sure what we want to do here but when we execute it gives error\u001b[0m\n\u001b[1;37m                                                                                                       ^\u001b[0m\n\u001b[1;31mIndentationError\u001b[0m\u001b[1;31m:\u001b[0m expected an indented block\n"
     ]
    }
   ],
   "source": [
    "mylist = [1,2,3]\n",
    "for item in mylist:\n",
    "    #comment - at this point we are not sure what we want to do here but when we execute it gives error"
   ]
  },
  {
   "cell_type": "code",
   "execution_count": 32,
   "id": "0298b6f0",
   "metadata": {},
   "outputs": [
    {
     "name": "stdout",
     "output_type": "stream",
     "text": [
      "end of script\n"
     ]
    }
   ],
   "source": [
    "# instead we can say \n",
    "mylist = [1,2,3]\n",
    "\n",
    "for item in mylist:\n",
    "    pass\n",
    "\n",
    "\n",
    "# this literally means do nothing at all but acts as a filler\n",
    "print('end of script')"
   ]
  },
  {
   "cell_type": "code",
   "execution_count": 33,
   "id": "cab195d0",
   "metadata": {},
   "outputs": [
    {
     "name": "stdout",
     "output_type": "stream",
     "text": [
      "s\n",
      "a\n",
      "m\n",
      "a\n",
      "n\n",
      "t\n",
      "h\n",
      "a\n"
     ]
    }
   ],
   "source": [
    "# Continue : goes to the top of the closes enclosing loop\n",
    "\n",
    "mystring = 'samantha'\n",
    "\n",
    "for letter in mystring:\n",
    "    print(letter)"
   ]
  },
  {
   "cell_type": "code",
   "execution_count": 37,
   "id": "b32cb0c5",
   "metadata": {},
   "outputs": [
    {
     "name": "stdout",
     "output_type": "stream",
     "text": [
      "s\n",
      "m\n",
      "n\n",
      "t\n",
      "h\n"
     ]
    }
   ],
   "source": [
    "# for some reason you dont want to print the letter 'a', the I can do the following\n",
    "\n",
    "for letter in mystring:\n",
    "    if letter == 'a':\n",
    "        continue\n",
    "    print(letter)\n",
    "        \n",
    "    \n",
    "    \n",
    "        "
   ]
  },
  {
   "cell_type": "markdown",
   "id": "aae65781",
   "metadata": {},
   "source": [
    "###### in the above cell when the letter == a, it continues back to the above for loop when its not equal to a - it prints the letter"
   ]
  },
  {
   "cell_type": "code",
   "execution_count": 38,
   "id": "b13cd566",
   "metadata": {},
   "outputs": [
    {
     "name": "stdout",
     "output_type": "stream",
     "text": [
      "s\n"
     ]
    }
   ],
   "source": [
    "# lets see what happens if we use break in the above code\n",
    "for letter in mystring:\n",
    "    if letter == 'a':\n",
    "        break\n",
    "    print(letter)"
   ]
  },
  {
   "cell_type": "markdown",
   "id": "6e9675e7",
   "metadata": {},
   "source": [
    "###### so, what ahappend in above cell is that when you use break as soon as it encountered 'a' it kind of comes out and prints letter and breaks out of the loop\n"
   ]
  },
  {
   "cell_type": "code",
   "execution_count": 39,
   "id": "47dbdd28",
   "metadata": {},
   "outputs": [
    {
     "name": "stdout",
     "output_type": "stream",
     "text": [
      "0\n",
      "1\n",
      "2\n",
      "3\n",
      "4\n"
     ]
    }
   ],
   "source": [
    "# lets see break in action\n",
    "\n",
    "x = 0\n",
    "\n",
    "while x < 5:\n",
    "    print(x)\n",
    "    x += 1\n"
   ]
  },
  {
   "cell_type": "code",
   "execution_count": 40,
   "id": "813d1b6f",
   "metadata": {},
   "outputs": [
    {
     "name": "stdout",
     "output_type": "stream",
     "text": [
      "0\n",
      "1\n"
     ]
    }
   ],
   "source": [
    "# if i have to break this loop when its x = 2\n",
    "x = 0\n",
    "\n",
    "while x < 5:\n",
    "    if x == 2:\n",
    "        break    \n",
    "    print(x)\n",
    "    x += 1"
   ]
  },
  {
   "cell_type": "code",
   "execution_count": 44,
   "id": "8f2c8d2d",
   "metadata": {},
   "outputs": [
    {
     "name": "stdout",
     "output_type": "stream",
     "text": [
      "The result was                                                                                                                                                                                                                                                                                                                                                                                                                                                                                                                                                                                                                                                                                                                                                                                                                                                                                                                                                                                                                      129870129870129.875\n"
     ]
    }
   ],
   "source": [
    "r = 10000000000000000/77\n",
    "print(\"The result was {resul:1000.3f}\".format(resul=r))\n"
   ]
  },
  {
   "cell_type": "markdown",
   "id": "df877b9d",
   "metadata": {},
   "source": [
    "##### Useful operators in Python\n"
   ]
  },
  {
   "cell_type": "markdown",
   "id": "de06dcf8",
   "metadata": {},
   "source": [
    "##### Range function in Python"
   ]
  },
  {
   "cell_type": "code",
   "execution_count": 45,
   "id": "b634da1b",
   "metadata": {},
   "outputs": [],
   "source": [
    "# sofar what we are doing is typically we are doing somthing like taking a list and iterating through it\n",
    "\n",
    "like = [1,2,3,'list']\n",
    "\n"
   ]
  },
  {
   "cell_type": "code",
   "execution_count": 46,
   "id": "211c967f",
   "metadata": {},
   "outputs": [
    {
     "name": "stdout",
     "output_type": "stream",
     "text": [
      "0\n",
      "1\n",
      "2\n",
      "3\n",
      "4\n",
      "5\n",
      "6\n",
      "7\n",
      "8\n",
      "9\n"
     ]
    }
   ],
   "source": [
    "# we can also use \n",
    "# hit shift-tab after range and see what it can take as parameters\n",
    "\n",
    "for num in range(10):\n",
    "    print(num)"
   ]
  },
  {
   "cell_type": "code",
   "execution_count": 59,
   "id": "112cca0d",
   "metadata": {},
   "outputs": [
    {
     "name": "stdout",
     "output_type": "stream",
     "text": [
      "3\n",
      "4\n",
      "5\n",
      "6\n",
      "7\n",
      "8\n",
      "9\n"
     ]
    }
   ],
   "source": [
    "\n",
    "for num in range(3,10):\n",
    "    print(num)"
   ]
  },
  {
   "cell_type": "code",
   "execution_count": 60,
   "id": "3eea8ee1",
   "metadata": {},
   "outputs": [
    {
     "name": "stdout",
     "output_type": "stream",
     "text": [
      "3\n",
      "5\n",
      "7\n",
      "9\n"
     ]
    }
   ],
   "source": [
    "# we can add 3rd argument that is step size\n",
    "for num in range(3,10,2):\n",
    "    print(num)"
   ]
  },
  {
   "cell_type": "code",
   "execution_count": 62,
   "id": "0ad0245b",
   "metadata": {},
   "outputs": [
    {
     "data": {
      "text/plain": [
       "range(3, 10, 2)"
      ]
     },
     "execution_count": 62,
     "metadata": {},
     "output_type": "execute_result"
    }
   ],
   "source": [
    "# when i put the just range in  - it gives back the list because its a generator\n",
    "range(3,10,2)"
   ]
  },
  {
   "cell_type": "code",
   "execution_count": 63,
   "id": "865d9f88",
   "metadata": {},
   "outputs": [
    {
     "data": {
      "text/plain": [
       "[3, 5, 7, 9]"
      ]
     },
     "execution_count": 63,
     "metadata": {},
     "output_type": "execute_result"
    }
   ],
   "source": [
    "# Thats because range is a generator - if you want it in list cast range in list\n",
    "list( range(3,10,2))"
   ]
  },
  {
   "cell_type": "markdown",
   "id": "401824af",
   "metadata": {},
   "source": [
    "###### lets see another useful function called \n",
    "### Enumerate"
   ]
  },
  {
   "cell_type": "code",
   "execution_count": 66,
   "id": "76255f15",
   "metadata": {},
   "outputs": [
    {
     "name": "stdout",
     "output_type": "stream",
     "text": [
      "at index  0 the letter is a\n",
      "at index  1 the letter is b\n",
      "at index  2 the letter is c\n",
      "at index  3 the letter is d\n",
      "at index  4 the letter is e\n"
     ]
    }
   ],
   "source": [
    "## sometime you want to know howmany times you have gone through a forloop - for example :\n",
    "\n",
    "index_count = 0\n",
    "\n",
    "for letter in 'abcde':\n",
    "    print('at index  {} the letter is {}'.format(index_count,letter))\n",
    "    index_count += 1"
   ]
  },
  {
   "cell_type": "code",
   "execution_count": 68,
   "id": "479b3d88",
   "metadata": {},
   "outputs": [
    {
     "name": "stdout",
     "output_type": "stream",
     "text": [
      "a\n",
      "b\n",
      "c\n",
      "d\n",
      "e\n"
     ]
    }
   ],
   "source": [
    "index_count = 0\n",
    "word = 'abcde'\n",
    "for letter in word:\n",
    "    \n",
    "    print(word[index_count])\n",
    "    index_count += 1"
   ]
  },
  {
   "cell_type": "markdown",
   "id": "3e765899",
   "metadata": {},
   "source": [
    "well, what is happening in the above - we are doing the following - <br>\n",
    "\n",
    "we have an index_count starting at '0' \n",
    "we have a word 'abcde' \n",
    "\n",
    "for every character in that word at index value location we print the letters of the word - inorder to do that we want some sort of index_count\n",
    "\n",
    "because this sort of operation is common in python - python did was building and enumurate function\n"
   ]
  },
  {
   "cell_type": "code",
   "execution_count": 69,
   "id": "faac0050",
   "metadata": {},
   "outputs": [
    {
     "name": "stdout",
     "output_type": "stream",
     "text": [
      "(0, 'a')\n",
      "(1, 'b')\n",
      "(2, 'c')\n",
      "(3, 'd')\n",
      "(4, 'e')\n"
     ]
    }
   ],
   "source": [
    "word = 'abcde'\n",
    "\n",
    "for item in enumerate(word):\n",
    "    print(item)"
   ]
  },
  {
   "cell_type": "markdown",
   "id": "f724825e",
   "metadata": {},
   "source": [
    "what basically its doing is printing the index and the letter from the word in a tuples - \n",
    "\n",
    "we have learnt tuple unpacking from forloop what we can do is..."
   ]
  },
  {
   "cell_type": "code",
   "execution_count": 73,
   "id": "e6e46017",
   "metadata": {},
   "outputs": [
    {
     "name": "stdout",
     "output_type": "stream",
     "text": [
      "0\n",
      "a\n",
      "\n",
      "\n",
      "1\n",
      "b\n",
      "\n",
      "\n",
      "2\n",
      "c\n",
      "\n",
      "\n",
      "3\n",
      "d\n",
      "\n",
      "\n",
      "4\n",
      "e\n",
      "\n",
      "\n"
     ]
    }
   ],
   "source": [
    "word = 'abcde'\n",
    "\n",
    "for index,letter in enumerate(word):\n",
    "    print(index)\n",
    "    print(letter)\n",
    "    print('\\n')"
   ]
  },
  {
   "cell_type": "markdown",
   "id": "7029c9f6",
   "metadata": {},
   "source": [
    "#### Now lets see -zip-  function which is opposite of enumerate\n",
    "\n",
    "what it does is it zips together 2 lists"
   ]
  },
  {
   "cell_type": "code",
   "execution_count": 74,
   "id": "c8dc78a1",
   "metadata": {},
   "outputs": [],
   "source": [
    "mylist1 = [1,2,3,4,5,6,7,8,9]\n",
    "mylist2 = ['a','b','c','d','f','g','h','i','j']"
   ]
  },
  {
   "cell_type": "code",
   "execution_count": 75,
   "id": "e3118a98",
   "metadata": {},
   "outputs": [
    {
     "data": {
      "text/plain": [
       "<zip at 0x2143bc02d80>"
      ]
     },
     "execution_count": 75,
     "metadata": {},
     "output_type": "execute_result"
    }
   ],
   "source": [
    "zip(mylist1,mylist2)"
   ]
  },
  {
   "cell_type": "code",
   "execution_count": 76,
   "id": "b0df9af2",
   "metadata": {},
   "outputs": [
    {
     "name": "stdout",
     "output_type": "stream",
     "text": [
      "(1, 'a')\n",
      "(2, 'b')\n",
      "(3, 'c')\n",
      "(4, 'd')\n",
      "(5, 'f')\n",
      "(6, 'g')\n",
      "(7, 'h')\n",
      "(8, 'i')\n",
      "(9, 'j')\n"
     ]
    }
   ],
   "source": [
    "# when you use zip directly it gives saying zip is waiting\n",
    "# for that what we have to do is reiterate in for loop\n",
    "\n",
    "for items in zip(mylist1,mylist2):\n",
    "    print(items)"
   ]
  },
  {
   "cell_type": "code",
   "execution_count": 79,
   "id": "c23a4517",
   "metadata": {},
   "outputs": [
    {
     "name": "stdout",
     "output_type": "stream",
     "text": [
      "1\n",
      "a\n",
      "\n",
      "\n",
      "2\n",
      "b\n",
      "\n",
      "\n",
      "3\n",
      "c\n",
      "\n",
      "\n",
      "4\n",
      "d\n",
      "\n",
      "\n",
      "5\n",
      "f\n",
      "\n",
      "\n",
      "6\n",
      "g\n",
      "\n",
      "\n",
      "7\n",
      "h\n",
      "\n",
      "\n",
      "8\n",
      "i\n",
      "\n",
      "\n",
      "9\n",
      "j\n",
      "\n",
      "\n"
     ]
    }
   ],
   "source": [
    "# again it gave us the result in tuples - use tuple unpacking\n",
    "# tuples unpacking is usefulthing thing because lot of functions in python return tuples\n",
    "for index,string in zip(mylist1,mylist2):\n",
    "    print(index)\n",
    "    print(string)\n",
    "    print('\\n')"
   ]
  },
  {
   "cell_type": "markdown",
   "id": "af9718ba",
   "metadata": {},
   "source": [
    "you can add any number of lists in zip.. and another interesting question what if the list were un even - simple - the zip will take the lowest number of elements and ingnores the other items - it wont give any error but, just ignores the rest of the elements\n"
   ]
  },
  {
   "cell_type": "code",
   "execution_count": 80,
   "id": "fd48ac1b",
   "metadata": {},
   "outputs": [
    {
     "data": {
      "text/plain": [
       "[(1, 1, 'a'), (2, 2, 'b'), (3, 3, 'c')]"
      ]
     },
     "execution_count": 80,
     "metadata": {},
     "output_type": "execute_result"
    }
   ],
   "source": [
    "list(zip(mylist,mylist1,mylist2))"
   ]
  },
  {
   "cell_type": "markdown",
   "id": "2923ada3",
   "metadata": {},
   "source": [
    "###  In operator"
   ]
  },
  {
   "cell_type": "code",
   "execution_count": 81,
   "id": "ab345a7d",
   "metadata": {},
   "outputs": [
    {
     "data": {
      "text/plain": [
       "False"
      ]
     },
     "execution_count": 81,
     "metadata": {},
     "output_type": "execute_result"
    }
   ],
   "source": [
    "'x' in [1,2,3]"
   ]
  },
  {
   "cell_type": "code",
   "execution_count": 83,
   "id": "43220e9f",
   "metadata": {},
   "outputs": [
    {
     "data": {
      "text/plain": [
       "True"
      ]
     },
     "execution_count": 83,
     "metadata": {},
     "output_type": "execute_result"
    }
   ],
   "source": [
    "'x' in ['x','y','z']"
   ]
  },
  {
   "cell_type": "code",
   "execution_count": 84,
   "id": "ca38396f",
   "metadata": {},
   "outputs": [
    {
     "data": {
      "text/plain": [
       "True"
      ]
     },
     "execution_count": 84,
     "metadata": {},
     "output_type": "execute_result"
    }
   ],
   "source": [
    "# this in operator also works on a string\n",
    "\n",
    "'a' in  ' world is not a flat place'"
   ]
  },
  {
   "cell_type": "code",
   "execution_count": 88,
   "id": "1774be60",
   "metadata": {},
   "outputs": [
    {
     "data": {
      "text/plain": [
       "True"
      ]
     },
     "execution_count": 88,
     "metadata": {},
     "output_type": "execute_result"
    }
   ],
   "source": [
    "d = {'k1': 'world', 'k2' : 'sam'}\n",
    "\n",
    "'sam' in d.values()\n"
   ]
  },
  {
   "cell_type": "markdown",
   "id": "1b036b9c",
   "metadata": {},
   "source": [
    "##### min and max"
   ]
  },
  {
   "cell_type": "code",
   "execution_count": 89,
   "id": "1a6e9652",
   "metadata": {},
   "outputs": [
    {
     "data": {
      "text/plain": [
       "1"
      ]
     },
     "execution_count": 89,
     "metadata": {},
     "output_type": "execute_result"
    }
   ],
   "source": [
    "min(mylist1)"
   ]
  },
  {
   "cell_type": "code",
   "execution_count": 90,
   "id": "0f87587f",
   "metadata": {},
   "outputs": [
    {
     "data": {
      "text/plain": [
       "9"
      ]
     },
     "execution_count": 90,
     "metadata": {},
     "output_type": "execute_result"
    }
   ],
   "source": [
    "max(mylist1)"
   ]
  },
  {
   "cell_type": "markdown",
   "id": "7653486d",
   "metadata": {},
   "source": [
    "#### importing a library and random library"
   ]
  },
  {
   "cell_type": "code",
   "execution_count": 91,
   "id": "05c0402f",
   "metadata": {},
   "outputs": [],
   "source": [
    "from random import shuffle"
   ]
  },
  {
   "cell_type": "code",
   "execution_count": 92,
   "id": "7fdf84ae",
   "metadata": {},
   "outputs": [
    {
     "data": {
      "text/plain": [
       "[1, 2, 3, 4, 5, 6, 7, 8, 9]"
      ]
     },
     "execution_count": 92,
     "metadata": {},
     "output_type": "execute_result"
    }
   ],
   "source": [
    "mylist1"
   ]
  },
  {
   "cell_type": "code",
   "execution_count": 93,
   "id": "493aa760",
   "metadata": {},
   "outputs": [],
   "source": [
    "shuffle(mylist1)"
   ]
  },
  {
   "cell_type": "code",
   "execution_count": 94,
   "id": "cc67c4fe",
   "metadata": {},
   "outputs": [
    {
     "data": {
      "text/plain": [
       "[3, 4, 6, 7, 8, 1, 2, 9, 5]"
      ]
     },
     "execution_count": 94,
     "metadata": {},
     "output_type": "execute_result"
    }
   ],
   "source": [
    "mylist1"
   ]
  },
  {
   "cell_type": "markdown",
   "id": "c706989d",
   "metadata": {},
   "source": [
    "### List comprehension in Python"
   ]
  },
  {
   "cell_type": "markdown",
   "id": "991e7a70",
   "metadata": {},
   "source": [
    "List comprehensions are a unique way of quickly creating a list with Python \n",
    "\n",
    "if you find yourself using a for loop along with .append() to create a list, List comprehension are a good alternative!"
   ]
  },
  {
   "cell_type": "code",
   "execution_count": 95,
   "id": "5cefa175",
   "metadata": {},
   "outputs": [],
   "source": [
    "mystring = 'hello'"
   ]
  },
  {
   "cell_type": "code",
   "execution_count": 96,
   "id": "b212a960",
   "metadata": {},
   "outputs": [],
   "source": [
    "mylist = []\n",
    "\n",
    "for letter in mystring:\n",
    "    mylist.append(letter)"
   ]
  },
  {
   "cell_type": "code",
   "execution_count": 97,
   "id": "cd41ac8b",
   "metadata": {},
   "outputs": [
    {
     "data": {
      "text/plain": [
       "['h', 'e', 'l', 'l', 'o']"
      ]
     },
     "execution_count": 97,
     "metadata": {},
     "output_type": "execute_result"
    }
   ],
   "source": [
    "mylist"
   ]
  },
  {
   "cell_type": "code",
   "execution_count": 98,
   "id": "97b04ce4",
   "metadata": {},
   "outputs": [
    {
     "data": {
      "text/plain": [
       "['h', 'e', 'l', 'l', 'o']"
      ]
     },
     "execution_count": 98,
     "metadata": {},
     "output_type": "execute_result"
    }
   ],
   "source": [
    "# method 2 to do it in single line of code\n",
    "# this code is to shorten the for loop\n",
    "mylist = [letter for letter in mystring]\n",
    "mylist"
   ]
  },
  {
   "cell_type": "code",
   "execution_count": 99,
   "id": "dc872acf",
   "metadata": {},
   "outputs": [],
   "source": [
    "mylist = [x for x in 'word']"
   ]
  },
  {
   "cell_type": "code",
   "execution_count": 100,
   "id": "13cd2913",
   "metadata": {},
   "outputs": [
    {
     "data": {
      "text/plain": [
       "['w', 'o', 'r', 'd']"
      ]
     },
     "execution_count": 100,
     "metadata": {},
     "output_type": "execute_result"
    }
   ],
   "source": [
    "mylist"
   ]
  },
  {
   "cell_type": "code",
   "execution_count": 101,
   "id": "0de9ee81",
   "metadata": {},
   "outputs": [],
   "source": [
    "mylist5 = [x for x in range(0,11)]"
   ]
  },
  {
   "cell_type": "code",
   "execution_count": 102,
   "id": "df1424d4",
   "metadata": {},
   "outputs": [
    {
     "data": {
      "text/plain": [
       "[0, 1, 2, 3, 4, 5, 6, 7, 8, 9, 10]"
      ]
     },
     "execution_count": 102,
     "metadata": {},
     "output_type": "execute_result"
    }
   ],
   "source": [
    "mylist5"
   ]
  },
  {
   "cell_type": "code",
   "execution_count": 103,
   "id": "8a8e6139",
   "metadata": {},
   "outputs": [],
   "source": [
    "# not that we can also perform some operations in that list comprehension as well\n",
    "mylist6 = [ num**2 for num in range (0,21)]"
   ]
  },
  {
   "cell_type": "code",
   "execution_count": 104,
   "id": "76851d47",
   "metadata": {},
   "outputs": [
    {
     "data": {
      "text/plain": [
       "[0,\n",
       " 1,\n",
       " 4,\n",
       " 9,\n",
       " 16,\n",
       " 25,\n",
       " 36,\n",
       " 49,\n",
       " 64,\n",
       " 81,\n",
       " 100,\n",
       " 121,\n",
       " 144,\n",
       " 169,\n",
       " 196,\n",
       " 225,\n",
       " 256,\n",
       " 289,\n",
       " 324,\n",
       " 361,\n",
       " 400]"
      ]
     },
     "execution_count": 104,
     "metadata": {},
     "output_type": "execute_result"
    }
   ],
   "source": [
    "mylist6"
   ]
  },
  {
   "cell_type": "code",
   "execution_count": 105,
   "id": "44e9defe",
   "metadata": {},
   "outputs": [
    {
     "data": {
      "text/plain": [
       "[0, 2, 4, 6, 8, 10]"
      ]
     },
     "execution_count": 105,
     "metadata": {},
     "output_type": "execute_result"
    }
   ],
   "source": [
    "# we can also add if satatement into this- what we want to apppend even numbers\n",
    "\n",
    "mylist7 = [x for x in range(0,11) if x%2 == 0]\n",
    "mylist7"
   ]
  },
  {
   "cell_type": "code",
   "execution_count": 106,
   "id": "b83a4727",
   "metadata": {},
   "outputs": [
    {
     "data": {
      "text/plain": [
       "[0, 4, 16, 36, 64, 100]"
      ]
     },
     "execution_count": 106,
     "metadata": {},
     "output_type": "execute_result"
    }
   ],
   "source": [
    "mylist8 = [x**2 for x in range(0,11) if x%2 == 0]\n",
    "mylist8"
   ]
  },
  {
   "cell_type": "code",
   "execution_count": 108,
   "id": "6f030141",
   "metadata": {},
   "outputs": [
    {
     "data": {
      "text/plain": [
       "[32.0, 50.0, 68.0, 86.72, 97.88000000000001]"
      ]
     },
     "execution_count": 108,
     "metadata": {},
     "output_type": "execute_result"
    }
   ],
   "source": [
    "celcius = [0,10,20,30.4,36.6]\n",
    "\n",
    "fahrenheit = [((9/5)*temp + 32 ) for temp in celcius]\n",
    "fahrenheit"
   ]
  },
  {
   "cell_type": "code",
   "execution_count": 116,
   "id": "67e81e1f",
   "metadata": {},
   "outputs": [
    {
     "name": "stdout",
     "output_type": "stream",
     "text": [
      "what is the temp in celcius: 32\n",
      "[89.6]\n"
     ]
    }
   ],
   "source": [
    "celcius = float(input('what is the temp in celcius: '))\n",
    "fahrenheit = [((9/5)*celcius + 32 )]\n",
    "print(fahrenheit)"
   ]
  },
  {
   "cell_type": "code",
   "execution_count": 119,
   "id": "d34abee3",
   "metadata": {},
   "outputs": [
    {
     "data": {
      "text/plain": [
       "[200, 400, 600, 400, 800, 1200, 600, 1200, 1800]"
      ]
     },
     "execution_count": 119,
     "metadata": {},
     "output_type": "execute_result"
    }
   ],
   "source": [
    "# we can also do nested loop in List comprehensions\n",
    "mylist9 = []\n",
    "\n",
    "for x in [2,4,6]:\n",
    "    for y in [100,200,300]:\n",
    "        mylist9.append(x*y)\n",
    "mylist9        "
   ]
  },
  {
   "cell_type": "code",
   "execution_count": 121,
   "id": "cc06d2c4",
   "metadata": {},
   "outputs": [
    {
     "data": {
      "text/plain": [
       "[2, 20, 200, 4, 40, 400, 6, 60, 600]"
      ]
     },
     "execution_count": 121,
     "metadata": {},
     "output_type": "execute_result"
    }
   ],
   "source": [
    "# now lets do this in list comprehension\n",
    "\n",
    "mylist10 = [x*y for x in [2,4,6] for y in [1,10,100] ]\n",
    "mylist10\n"
   ]
  },
  {
   "cell_type": "markdown",
   "id": "a3fe8ef3",
   "metadata": {},
   "source": [
    "df"
   ]
  },
  {
   "cell_type": "code",
   "execution_count": null,
   "id": "d538fdf2",
   "metadata": {},
   "outputs": [],
   "source": []
  },
  {
   "cell_type": "code",
   "execution_count": null,
   "id": "274d12a9",
   "metadata": {},
   "outputs": [],
   "source": []
  },
  {
   "cell_type": "code",
   "execution_count": null,
   "id": "24e6f18c",
   "metadata": {},
   "outputs": [],
   "source": []
  },
  {
   "cell_type": "code",
   "execution_count": null,
   "id": "4608ac4b",
   "metadata": {},
   "outputs": [],
   "source": []
  },
  {
   "cell_type": "code",
   "execution_count": null,
   "id": "b683e9e5",
   "metadata": {},
   "outputs": [],
   "source": []
  },
  {
   "cell_type": "code",
   "execution_count": null,
   "id": "9d2d1b05",
   "metadata": {},
   "outputs": [],
   "source": []
  }
 ],
 "metadata": {
  "kernelspec": {
   "display_name": "Python 3 (ipykernel)",
   "language": "python",
   "name": "python3"
  },
  "language_info": {
   "codemirror_mode": {
    "name": "ipython",
    "version": 3
   },
   "file_extension": ".py",
   "mimetype": "text/x-python",
   "name": "python",
   "nbconvert_exporter": "python",
   "pygments_lexer": "ipython3",
   "version": "3.9.12"
  }
 },
 "nbformat": 4,
 "nbformat_minor": 5
}
