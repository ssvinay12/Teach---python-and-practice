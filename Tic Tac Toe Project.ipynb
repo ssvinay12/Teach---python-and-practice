{
 "cells": [
  {
   "cell_type": "markdown",
   "id": "e9ac57e2",
   "metadata": {},
   "source": [
    "### Tic Tac Toe\n",
    "For your milestone project you will create a Tic Tac Toe game for 2 human players\n",
    "\n",
    "2 players should be able to play the game(both sitting at the same computer)\n",
    "\n",
    "The board should be printed out everytime a player makes a move\n",
    "\n",
    "you should be able to accept input of player position and then place a symbol on the board"
   ]
  },
  {
   "cell_type": "markdown",
   "id": "4b971758",
   "metadata": {},
   "source": [
    "Step 1: Write a function that can print out a board. set up your board asa list, here each index 1-9 corresponds with a number on a number pad, so you get 3 by 3 board representation"
   ]
  },
  {
   "cell_type": "markdown",
   "id": "2a1b660b",
   "metadata": {},
   "source": [
    "##### Tic Tac Toe Project Helpful Hints\n",
    "\n",
    "In this text lecture we will just have a useful guide for helping you complete the project! Sometimes this project can feel overwhelming, like being thrown into the deep end of the pool and told \"Now learn to swim!\". So to help out with this, here's a guide to help you begin in the right direction! (Note, there's lots of ways to accomplish this task, so your code may look completely different than the given solution). If the hints below still aren't enough, check out the \"Walkthrough Workbook\" notebook for even more help!\n",
    "\n",
    "First off, make sure you understand the project scope. What needs to happen?\n",
    "\n",
    "\n",
    "We need to print a board.\n",
    "Take in player input.\n",
    "Place their input on the board.\n",
    "Check if the game is won,tied, lost, or ongoing.\n",
    "Repeat c and d until the game has been won or tied.\n",
    "Ask if players want to play again.\n",
    "Ok so we got a general idea of what we need to do. Let's break it down by steps. If you're having trouble with the project, come and check this lecture if you ever get stuck.\n",
    "\n",
    "##### PROJECT HINTS:\n",
    "\n",
    "\n",
    "Start by deciding how you will store the player's marker positions (Xs and Os). Let's choose a list, where each index corresponds with a number on a keypad, which in turn corresponds with a position on the 3 by 3 board.\n",
    "Create a list called board which will keep track of the player markers.\n",
    "The list should already be the same length as your intended board.\n",
    "Create a function that will print a board. Not just the list, but an actual representation of a board! This can be done with multiple print statements within the function. Think about how you would take elements from the list and print them out into the board. (You can also clear output in jupyter notebook with clear_output() . You need to import this, so at the top of a cell copy and paste: from IPython.display import clear_output\n",
    "Write a function which takes an input marker string 'X' or \"O' and a given number and stores it to a list at that appendix.\n",
    "You might have to look up how to take input in python! input()\n",
    "Play around with input() to make sure you understand it\n",
    "Write a function that takes in the board and a player marker and checks it theres a win or a tie.\n",
    "The checking for a win should be a series of a bunch checks, for example: (board[7] == board[8] == board[9] == marker)would check the first top row if they all match a player's marker.\n",
    "Check for a tie (this means nobody won and the board list is full!)\n",
    "Now begin writing functions that begin game play.\n",
    "You'll need to write a function which starts combining and calling the different functions you've made within it.\n",
    "For example, a function which asks for a player's move, then updates the board,then checks for a win, then prints out the board.\n",
    "How can you keep the game continually going?\n",
    "Maybe try using a while loop.\n",
    "Something like, while the board isn't full and nobody's won...\n",
    "You might want to think about how to use boolean objects as markers of the game's status.\n",
    "Alright you should have enough now to begin piecing things together!\n",
    "If you're still stuck, try googling around for \"Python Tic Tac Toe\" for ideas of how to put all your pieces and functions together!\n",
    "Great job and remember, this is a milestone project, so its meant to be challenging!\n",
    "\n",
    "\n",
    "\n",
    "Other things that you may want to implement:\n",
    "\n",
    "1. Taking in a player's input:\n",
    "\n",
    "If you're confused on how to take in a players input, you have to use input() for Python 3, or raw_input() for Python 2.. You can use it in the following manner:\n",
    "\n",
    "board_position = input(\"Please enter a number for the board position choice: \")\n",
    "\n",
    "Then you would see a pop-up occur with a text box asking you for your input. Type in the number and press enter, now the variable board_position is an integer you can use for your code. For more on the differences between raw_input() and input(), check out this answer.\n",
    "\n",
    "2. Checking an input and asking again:\n",
    "\n",
    "In my solution I take into account if a player possibly puts in an incorrect input (like passing a string 'hello' when asked for their board position choice). You can take care of this by using a while loop!"
   ]
  },
  {
   "cell_type": "code",
   "execution_count": 1,
   "id": "cb285ef5",
   "metadata": {},
   "outputs": [],
   "source": [
    "from IPython.display import clear_output\n",
    "\n",
    "def display_board(board):\n",
    "    clear_output()\n",
    "    print(board[7]+'|' +board[8]+'|'+board[9])\n",
    "    print (\"-|-|-\")\n",
    "    print(board[4]+'|' +board[5]+'|'+board[6])\n",
    "    print (\"-|-|-\")\n",
    "    print(board[1]+'|' +board[2]+'|'+board[3])\n"
   ]
  },
  {
   "cell_type": "code",
   "execution_count": 2,
   "id": "f62173b7",
   "metadata": {},
   "outputs": [
    {
     "name": "stdout",
     "output_type": "stream",
     "text": [
      "X|O|X\n",
      "-|-|-\n",
      "O|X|O\n",
      "-|-|-\n",
      "X|O|X\n"
     ]
    }
   ],
   "source": [
    "test_board = ['#','X','O','X','O','X','O','X','O','X']\n",
    "display_board(test_board)"
   ]
  },
  {
   "cell_type": "markdown",
   "id": "e0f57871",
   "metadata": {},
   "source": [
    "Test Step 1: run your function on a test version of the board list, and make adjustments as necessary"
   ]
  },
  {
   "cell_type": "code",
   "execution_count": 3,
   "id": "0fb36116",
   "metadata": {},
   "outputs": [
    {
     "name": "stdout",
     "output_type": "stream",
     "text": [
      " | | \n",
      "-|-|-\n",
      " | | \n",
      "-|-|-\n",
      " | | \n"
     ]
    }
   ],
   "source": [
    "test_board = [\" \"]*10\n",
    "display_board(test_board)"
   ]
  },
  {
   "cell_type": "markdown",
   "id": "02c4dbb1",
   "metadata": {},
   "source": [
    "Step 2: write a function that can take in a player input and assign their markers as \"X\" or 'O'. Think about using while loops to continually ask untill you get a correct answer"
   ]
  },
  {
   "cell_type": "code",
   "execution_count": 10,
   "id": "9ca9d850",
   "metadata": {},
   "outputs": [],
   "source": [
    "def player_input():\n",
    "    '''\n",
    "    OUTPUT = (player 1 marker, player 2 marker)\n",
    "    '''\n",
    "    marker = ''\n",
    "    # keep Asking Player1 to choose X or O\n",
    "    \n",
    "    while not (marker == 'X' or marker == 'O'):\n",
    "        marker = input('player 1, choose X or O: ').upper()\n",
    "        \n",
    "    if marker == 'X':\n",
    "        return ('X', 'O')\n",
    "   \n",
    "    else:\n",
    "        player2 = ('O','X')\n",
    "        \n",
    "   "
   ]
  },
  {
   "cell_type": "markdown",
   "id": "2ec4b44e",
   "metadata": {},
   "source": [
    "Test Step 2 : run the function to make sure it returns the desired output"
   ]
  },
  {
   "cell_type": "code",
   "execution_count": 11,
   "id": "a37b45b4",
   "metadata": {},
   "outputs": [
    {
     "name": "stdout",
     "output_type": "stream",
     "text": [
      "player 1, choose X or O: x\n"
     ]
    }
   ],
   "source": [
    "player1_marker, player2_marker = player_input()"
   ]
  },
  {
   "cell_type": "code",
   "execution_count": 12,
   "id": "931c91b0",
   "metadata": {},
   "outputs": [],
   "source": [
    "# you can use tuple unpacking the following way\n",
    "\n"
   ]
  },
  {
   "cell_type": "code",
   "execution_count": 13,
   "id": "bd412258",
   "metadata": {},
   "outputs": [
    {
     "data": {
      "text/plain": [
       "'O'"
      ]
     },
     "execution_count": 13,
     "metadata": {},
     "output_type": "execute_result"
    }
   ],
   "source": [
    "player2_marker"
   ]
  },
  {
   "cell_type": "markdown",
   "id": "72f057e0",
   "metadata": {},
   "source": [
    "#"
   ]
  },
  {
   "cell_type": "markdown",
   "id": "249286ff",
   "metadata": {},
   "source": [
    "#### Step 3 \n",
    "- write a function that takes in the board list object, a marker('X' or 'O') , and a desired positon (number 1-9) and assign it to the board"
   ]
  },
  {
   "cell_type": "code",
   "execution_count": 15,
   "id": "b1f957fe",
   "metadata": {},
   "outputs": [],
   "source": [
    "def place_marker(board, marker, position):\n",
    "    \n",
    "    board[position] = marker"
   ]
  },
  {
   "cell_type": "markdown",
   "id": "f1807299",
   "metadata": {},
   "source": [
    "#### Test Step 3:\n",
    "- Run the place marker function using test patameters and display the modified board"
   ]
  },
  {
   "cell_type": "code",
   "execution_count": 16,
   "id": "2728537e",
   "metadata": {},
   "outputs": [
    {
     "name": "stdout",
     "output_type": "stream",
     "text": [
      " |$| \n",
      "-|-|-\n",
      " | | \n",
      "-|-|-\n",
      " | | \n"
     ]
    }
   ],
   "source": [
    "place_marker(test_board, '$',8)\n",
    "display_board(test_board)"
   ]
  },
  {
   "cell_type": "markdown",
   "id": "5b1684d1",
   "metadata": {},
   "source": [
    "#### Step 4: is to write a function that takes in a board and a mark (X or O) and then checks to see if that mark has won."
   ]
  },
  {
   "cell_type": "code",
   "execution_count": 17,
   "id": "e8c7694a",
   "metadata": {},
   "outputs": [],
   "source": [
    "def win_check(board, mark):\n",
    "    # we have to ask what is is it to win tic tac toe?\n",
    "    \n",
    "    # All Rows , and check to see if they all share the same marker? \n",
    "    return((board[1] ==mark and board[2] ==mark and board[3] ==mark) or\n",
    "    (board[4] ==mark and board[5] ==mark and board[6] ==mark) or\n",
    "    (board[7] ==mark and board[8] ==mark and board[9] ==mark) or\n",
    "    (board[1] ==mark and board[4] ==mark and board[7] ==mark) or\n",
    "    (board[2] ==mark and board[5] ==mark and board[8] ==mark) or\n",
    "    (board[3] ==mark and board[6] ==mark and board[9] ==mark) or\n",
    "    (board[1] ==mark and board[5] ==mark and board[9] ==mark) or\n",
    "    (board[3] ==mark and board[5] ==mark and board[7] ==mark))\n",
    "    \n",
    "    #All columns , and check to see if they all share the same marker? \n",
    "    \n",
    "    # finally, we have 2 diagonals to check matching"
   ]
  },
  {
   "cell_type": "code",
   "execution_count": 19,
   "id": "2cc99a3c",
   "metadata": {},
   "outputs": [
    {
     "name": "stdout",
     "output_type": "stream",
     "text": [
      " |$| \n",
      "-|-|-\n",
      " | | \n",
      "-|-|-\n",
      " | | \n"
     ]
    },
    {
     "data": {
      "text/plain": [
       "False"
      ]
     },
     "execution_count": 19,
     "metadata": {},
     "output_type": "execute_result"
    }
   ],
   "source": [
    "display_board(test_board)\n",
    "win_check(test_board, 'X')"
   ]
  },
  {
   "cell_type": "markdown",
   "id": "57746f3d",
   "metadata": {},
   "source": [
    "#### Step5: \n",
    "- write a function that uses the random module to randomly decide whic player goes first. You may want to lookup random.randint() return a string of which player went first."
   ]
  },
  {
   "cell_type": "code",
   "execution_count": 20,
   "id": "9424afa7",
   "metadata": {},
   "outputs": [],
   "source": [
    "# we can use random.randint() just pass 0 or 1 and we can just use it as coin flip\n",
    "import random \n",
    "def choose_first():\n",
    "    \n",
    "    flip = random.randint(0,1)\n",
    "    \n",
    "    if flip == 0:\n",
    "        return 'Player 1'\n",
    "    else:\n",
    "        return 'Player 2'"
   ]
  },
  {
   "cell_type": "markdown",
   "id": "12e42a32",
   "metadata": {},
   "source": [
    "##### Step 6: \n",
    "- Write a function that returns a boolean indicating whether a space on the board is freely available - for our case it means an empty string"
   ]
  },
  {
   "cell_type": "code",
   "execution_count": 21,
   "id": "3aeefdcd",
   "metadata": {},
   "outputs": [],
   "source": [
    "def space_check(board, position):\n",
    "    \n",
    "    return board[position]== ' '"
   ]
  },
  {
   "cell_type": "markdown",
   "id": "8510ebaf",
   "metadata": {},
   "source": [
    "##### Step 7: \n",
    "- Write a function that checks if the board is full and return a bookean value. True if full, False otherwise"
   ]
  },
  {
   "cell_type": "code",
   "execution_count": 22,
   "id": "25b80f6a",
   "metadata": {},
   "outputs": [],
   "source": [
    "def full_board_check(board):\n",
    "    \n",
    "    for i in range(1,10):\n",
    "        if space_check(board, i):\n",
    "            return False\n",
    "    # Board is full if we return True\n",
    "    return True"
   ]
  },
  {
   "cell_type": "markdown",
   "id": "476bef7a",
   "metadata": {},
   "source": [
    "##### Step 8: Write a function that asks for a players next position( as a number 1-9) and then use the function form step 6 to check if its a free position. if it is, then return the position for later use"
   ]
  },
  {
   "cell_type": "code",
   "execution_count": 23,
   "id": "7e4a47be",
   "metadata": {},
   "outputs": [],
   "source": [
    "def player_choice(board):\n",
    "    \n",
    "    position = 0\n",
    "    \n",
    "    while position not in [1,2,3,4,5,6,7,8,9] or not space_check(board, position):\n",
    "        position = int(input('choose a position:(1-9)'))\n",
    "        \n",
    "    return position"
   ]
  },
  {
   "cell_type": "markdown",
   "id": "e24b6df2",
   "metadata": {},
   "source": [
    "#### Step:9\n",
    "- write a function that asks the player if they want to play again and returns a boolean True if they do want to play again"
   ]
  },
  {
   "cell_type": "code",
   "execution_count": 24,
   "id": "9d3237d6",
   "metadata": {},
   "outputs": [],
   "source": [
    "def replay():\n",
    "    \n",
    "    choice = input('play again? Enter Yes or No')\n",
    "    \n",
    "    return choice == 'Yes'"
   ]
  },
  {
   "cell_type": "markdown",
   "id": "25175963",
   "metadata": {},
   "source": [
    "### Step 10:  hardest part we have to code out all the LOGIC! \n",
    "#####   - Use While Loops and the Functions you've made to run the game!"
   ]
  },
  {
   "cell_type": "code",
   "execution_count": null,
   "id": "02b9a307",
   "metadata": {},
   "outputs": [
    {
     "name": "stdout",
     "output_type": "stream",
     "text": [
      " |O| \n",
      "-|-|-\n",
      " | |O\n",
      "-|-|-\n",
      "O| | \n"
     ]
    }
   ],
   "source": [
    "# While loop to keep Running The Game!\n",
    "print('Welcome to Tic Tac Toe! ')\n",
    "\n",
    "while True:\n",
    "    \n",
    "    # Play the game here\n",
    "    \n",
    "    ## Set everything up like board, who's First, choose markers etc\n",
    "    the_board = [' ']*10\n",
    "    player1_marker, player2_marker = player_input()\n",
    "    \n",
    "    turn = choose_first()\n",
    "    print(turn + 'will go first')\n",
    "    \n",
    "    play_game = input('Ready to play- y or n? ')\n",
    "    \n",
    "    if play_game == 'y':\n",
    "        game_on = True\n",
    "        \n",
    "    else:\n",
    "        game_on = False\n",
    "    ## game play\n",
    "    \n",
    "    while game_on:\n",
    "        \n",
    "        if turn == 'player 1':\n",
    "            \n",
    "            # Show the board\n",
    "            display_board(the_board)\n",
    "            # choose a position\n",
    "            position = player_choice(the_board)\n",
    "            # place the marker on the position\n",
    "            place_marker(the_board,player1_marker,position)\n",
    "            \n",
    "            # check if they won\n",
    "            if win_check(the_board,player1_marker):\n",
    "                display_board(the_board)\n",
    "                print('Player 1 Has Won! ! ')\n",
    "                \n",
    "                game_on = False\n",
    "                \n",
    "            else:\n",
    "                if full_board_check(the_board):\n",
    "                    display_board(the_board)\n",
    "                    print(\"Tie GAME!\")\n",
    "                    game_on = False\n",
    "                else:\n",
    "                    turn = 'Player 2'\n",
    "                    \n",
    "            \n",
    "    \n",
    "        else:\n",
    "            # Show the board\n",
    "            display_board(the_board)\n",
    "            # choose a position\n",
    "            position = player_choice(the_board)\n",
    "            # place the marker on the position\n",
    "            place_marker(the_board,player2_marker,position)\n",
    "            \n",
    "            # check if they won\n",
    "            if win_check(the_board,player2_marker):\n",
    "                display_board(the_board)\n",
    "                print('Player 2 Has Won! ! ')\n",
    "                \n",
    "                game_on = False\n",
    "                \n",
    "            else:\n",
    "                if full_board_check(the_board):\n",
    "                    display_board(the_board)\n",
    "                    print(\"Tie GAME!\")\n",
    "                    game_on = False\n",
    "                else:\n",
    "                    turn = 'Player 1'\n",
    "    \n",
    "        ### player Two Turn\n",
    "    \n",
    "    if not replay():\n",
    "        break\n",
    "    "
   ]
  },
  {
   "cell_type": "code",
   "execution_count": null,
   "id": "bbcf9681",
   "metadata": {},
   "outputs": [],
   "source": []
  }
 ],
 "metadata": {
  "kernelspec": {
   "display_name": "Python 3 (ipykernel)",
   "language": "python",
   "name": "python3"
  },
  "language_info": {
   "codemirror_mode": {
    "name": "ipython",
    "version": 3
   },
   "file_extension": ".py",
   "mimetype": "text/x-python",
   "name": "python",
   "nbconvert_exporter": "python",
   "pygments_lexer": "ipython3",
   "version": "3.9.12"
  }
 },
 "nbformat": 4,
 "nbformat_minor": 5
}
