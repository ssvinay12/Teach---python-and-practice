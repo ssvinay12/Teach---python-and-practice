{
 "cells": [
  {
   "cell_type": "code",
   "execution_count": 6,
   "id": "f1444f03",
   "metadata": {},
   "outputs": [],
   "source": [
    "job = 'chemist'\n"
   ]
  },
  {
   "cell_type": "code",
   "execution_count": 7,
   "id": "be483faf",
   "metadata": {},
   "outputs": [
    {
     "data": {
      "text/plain": [
       "'t'"
      ]
     },
     "execution_count": 7,
     "metadata": {},
     "output_type": "execute_result"
    }
   ],
   "source": [
    " job[len(job) - 1]\n",
    "    "
   ]
  },
  {
   "cell_type": "code",
   "execution_count": 8,
   "id": "622fae24",
   "metadata": {},
   "outputs": [
    {
     "data": {
      "text/plain": [
       "'s'"
      ]
     },
     "execution_count": 8,
     "metadata": {},
     "output_type": "execute_result"
    }
   ],
   "source": [
    "job[5:6]\n"
   ]
  },
  {
   "cell_type": "code",
   "execution_count": 9,
   "id": "5019ad2d",
   "metadata": {},
   "outputs": [
    {
     "data": {
      "text/plain": [
       "'t'"
      ]
     },
     "execution_count": 9,
     "metadata": {},
     "output_type": "execute_result"
    }
   ],
   "source": [
    "job[- 1]\n"
   ]
  },
  {
   "cell_type": "markdown",
   "id": "de91f02c",
   "metadata": {},
   "source": [
    "job[7]"
   ]
  },
  {
   "cell_type": "code",
   "execution_count": 11,
   "id": "e7549ac2",
   "metadata": {},
   "outputs": [
    {
     "name": "stdout",
     "output_type": "stream",
     "text": [
      "o\n",
      "u\n",
      "e\n",
      "e\n"
     ]
    }
   ],
   "source": [
    "word ='occurrence'\n",
    "for ltr in range(len(word)):\n",
    "    if ltr % 3 == 0:\n",
    "        print(word[ltr])\n",
    "        \n"
   ]
  },
  {
   "cell_type": "code",
   "execution_count": null,
   "id": "b1897837",
   "metadata": {},
   "outputs": [],
   "source": []
  }
 ],
 "metadata": {
  "kernelspec": {
   "display_name": "Python 3 (ipykernel)",
   "language": "python",
   "name": "python3"
  },
  "language_info": {
   "codemirror_mode": {
    "name": "ipython",
    "version": 3
   },
   "file_extension": ".py",
   "mimetype": "text/x-python",
   "name": "python",
   "nbconvert_exporter": "python",
   "pygments_lexer": "ipython3",
   "version": "3.9.12"
  }
 },
 "nbformat": 4,
 "nbformat_minor": 5
}
