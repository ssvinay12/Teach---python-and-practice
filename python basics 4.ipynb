{
 "cells": [
  {
   "cell_type": "markdown",
   "id": "37e92f4c",
   "metadata": {},
   "source": [
    "####   * **args and * ***kwargs"
   ]
  },
  {
   "cell_type": "markdown",
   "id": "e29dcd4b",
   "metadata": {},
   "source": [
    "It stands for arguments and keyword arguments\n",
    "\n",
    "eventually when you work with Python functions long enough - you want a way to accept and arbitary number- with out having to define a bunch of parameters in your function calls\n",
    "\n",
    "lets see what I Mean..."
   ]
  },
  {
   "cell_type": "code",
   "execution_count": 1,
   "id": "f94b0788",
   "metadata": {},
   "outputs": [],
   "source": [
    "def myfunc(a,b):\n",
    "    # returns 5% of the sum of a and b\n",
    "    return sum((a,b))*0.05"
   ]
  },
  {
   "cell_type": "code",
   "execution_count": 3,
   "id": "29225910",
   "metadata": {},
   "outputs": [
    {
     "data": {
      "text/plain": [
       "7.0"
      ]
     },
     "execution_count": 3,
     "metadata": {},
     "output_type": "execute_result"
    }
   ],
   "source": [
    "myfunc(80,60)"
   ]
  },
  {
   "cell_type": "markdown",
   "id": "a7cc7b6a",
   "metadata": {},
   "source": [
    "What if I had more numbers or more parameters to pass in- notice 'a' and 'b' are examples of what is called positional arguments\n",
    "\n",
    "Notice - when we want to work with mulitple positional aurguments in the um function we had to pass them in a Tuple\n",
    "\n",
    "Now the question is what if we had to work with more than two numbers- well, what we can do is assign multiple parameters such sa 'c' 'd' so on ... and pass them with default values to '0' "
   ]
  },
  {
   "cell_type": "code",
   "execution_count": 4,
   "id": "bd265e90",
   "metadata": {},
   "outputs": [
    {
     "data": {
      "text/plain": [
       "3.5500000000000003"
      ]
     },
     "execution_count": 4,
     "metadata": {},
     "output_type": "execute_result"
    }
   ],
   "source": [
    "# as shown below\n",
    "def myfunc(a,b,c=0,d=0,e=0):\n",
    "    # returns 5% of the sum of a and b and if any values given to c d e\n",
    "    return sum((a,b,c,d,e))*0.05\n",
    "myfunc(40,30,1)"
   ]
  },
  {
   "cell_type": "code",
   "execution_count": 5,
   "id": "799d2de0",
   "metadata": {},
   "outputs": [
    {
     "data": {
      "text/plain": [
       "3.5"
      ]
     },
     "execution_count": 5,
     "metadata": {},
     "output_type": "execute_result"
    }
   ],
   "source": [
    "myfunc(40,30)"
   ]
  },
  {
   "cell_type": "code",
   "execution_count": 6,
   "id": "9142fb24",
   "metadata": {},
   "outputs": [],
   "source": [
    "# here in the above case we can provide 2-5 (a-e) arguments --- this is where we can use *args\n",
    "def myfunc(*args):\n",
    "    # what this does is it allows this as a tuple of parameters that are coming in.\n",
    "    return sum(args)* 0.05\n",
    "# now i can pass in as many arguments as i want"
   ]
  },
  {
   "cell_type": "code",
   "execution_count": 7,
   "id": "28cbe22b",
   "metadata": {},
   "outputs": [
    {
     "data": {
      "text/plain": [
       "2.5"
      ]
     },
     "execution_count": 7,
     "metadata": {},
     "output_type": "execute_result"
    }
   ],
   "source": [
    "myfunc(20,30)"
   ]
  },
  {
   "cell_type": "code",
   "execution_count": 8,
   "id": "54ea1dc2",
   "metadata": {},
   "outputs": [
    {
     "data": {
      "text/plain": [
       "21.55"
      ]
     },
     "execution_count": 8,
     "metadata": {},
     "output_type": "execute_result"
    }
   ],
   "source": [
    "myfunc(20,30,25,41,33,2,6,5,7,78,88,96)"
   ]
  },
  {
   "cell_type": "markdown",
   "id": "0ce24dbc",
   "metadata": {},
   "source": [
    "###### by default when using*args, what Python is going to do is it's going to take all the parameters that are passed in and set them to be inside a tuple\n",
    "\n",
    "just to point things how this function look let us print the args function- it prints a tuple\n",
    "\n",
    "\n"
   ]
  },
  {
   "cell_type": "code",
   "execution_count": 9,
   "id": "c0410981",
   "metadata": {},
   "outputs": [],
   "source": [
    "def myfunc(*args):\n",
    "    print(args)"
   ]
  },
  {
   "cell_type": "code",
   "execution_count": 10,
   "id": "ad4ef22d",
   "metadata": {},
   "outputs": [
    {
     "name": "stdout",
     "output_type": "stream",
     "text": [
      "(10, 20, 36, 52)\n"
     ]
    }
   ],
   "source": [
    "myfunc(10,20,36,52)"
   ]
  },
  {
   "cell_type": "markdown",
   "id": "461d904d",
   "metadata": {},
   "source": [
    "Technically the term args can be replaced by any word it is identified with * infrom of that word but by convention we have to use *args only"
   ]
  },
  {
   "cell_type": "code",
   "execution_count": 11,
   "id": "a19eabf7",
   "metadata": {},
   "outputs": [],
   "source": [
    "def myfunc(*spam):\n",
    "    print(spam)"
   ]
  },
  {
   "cell_type": "code",
   "execution_count": 12,
   "id": "1c89fa0d",
   "metadata": {},
   "outputs": [
    {
     "name": "stdout",
     "output_type": "stream",
     "text": [
      "(10, 20, 36, 52)\n"
     ]
    }
   ],
   "source": [
    "myfunc(10,20,36,52)"
   ]
  },
  {
   "cell_type": "code",
   "execution_count": 13,
   "id": "cd101fa8",
   "metadata": {},
   "outputs": [],
   "source": [
    "def myfunc(*args):\n",
    "    for item in args:\n",
    "        print(item)"
   ]
  },
  {
   "cell_type": "code",
   "execution_count": 14,
   "id": "fa411f00",
   "metadata": {},
   "outputs": [
    {
     "name": "stdout",
     "output_type": "stream",
     "text": [
      "10\n",
      "20\n",
      "36\n",
      "52\n"
     ]
    }
   ],
   "source": [
    "myfunc(10,20,36,52)"
   ]
  },
  {
   "cell_type": "markdown",
   "id": "09ac9608",
   "metadata": {},
   "source": [
    "Similarly, Python offers a way to handle an arbitrary number of key worded arguments.\n",
    "\n",
    "So instead of creating a tuple of values, what happens is we use **kwargs, which is keyword arguments , and that builds a dictionary for key value pairs"
   ]
  },
  {
   "cell_type": "code",
   "execution_count": 16,
   "id": "2aa685c7",
   "metadata": {},
   "outputs": [],
   "source": [
    "def myfunc(**kwargs):\n",
    "    if 'fruit' in kwargs:\n",
    "        print('my fruit of choice is {}' .format(kwargs['fruit']))\n",
    "        # as *args returns back tuple; **kwargs returns back dictionary \n",
    "    else:\n",
    "        print('i didnot find any fruit here')"
   ]
  },
  {
   "cell_type": "code",
   "execution_count": 17,
   "id": "8b7ba79c",
   "metadata": {},
   "outputs": [
    {
     "name": "stdout",
     "output_type": "stream",
     "text": [
      "my fruit of choice is apple\n"
     ]
    }
   ],
   "source": [
    "myfunc(fruit='apple')"
   ]
  },
  {
   "cell_type": "code",
   "execution_count": 18,
   "id": "41ca3803",
   "metadata": {},
   "outputs": [
    {
     "name": "stdout",
     "output_type": "stream",
     "text": [
      "my fruit of choice is apple\n"
     ]
    }
   ],
   "source": [
    "# we can also pass in someother choices \n",
    "myfunc(fruit='apple', veggies = 'baingan')"
   ]
  },
  {
   "cell_type": "markdown",
   "id": "d4100ca6",
   "metadata": {},
   "source": [
    "In the above python is not complaining, that the power of python arbitary keyword arguments- kwargs is jus a dictionary"
   ]
  },
  {
   "cell_type": "code",
   "execution_count": 22,
   "id": "5437edfd",
   "metadata": {},
   "outputs": [
    {
     "name": "stdout",
     "output_type": "stream",
     "text": [
      "{'fruit': 'apple', 'veggies': 'baingan'}\n",
      "my fruit of choice is apple\n"
     ]
    }
   ],
   "source": [
    "def myfunc(**kwargs):\n",
    "    print(kwargs)\n",
    "    if 'fruit' in kwargs:\n",
    "        print('my fruit of choice is {}' .format(kwargs['fruit']))\n",
    "        \n",
    "    else:\n",
    "        print('i didnot find any fruit here')\n",
    "myfunc(fruit='apple', veggies = 'baingan')        "
   ]
  },
  {
   "cell_type": "markdown",
   "id": "7751458a",
   "metadata": {},
   "source": [
    "##### we can use these  *args and **kwargs in combination"
   ]
  },
  {
   "cell_type": "code",
   "execution_count": 23,
   "id": "6529834c",
   "metadata": {},
   "outputs": [],
   "source": [
    "def myfunc(*args,**kwargs):\n",
    "    \n",
    "    print('I would like {} {}'.format(args[0], kwargs['food']))\n",
    "    "
   ]
  },
  {
   "cell_type": "code",
   "execution_count": 24,
   "id": "cfd33dc2",
   "metadata": {},
   "outputs": [
    {
     "name": "stdout",
     "output_type": "stream",
     "text": [
      "I would like 10 eggs\n"
     ]
    }
   ],
   "source": [
    "myfunc(10,20,30,55,fruits='orange', food='eggs', animals= 'dog')"
   ]
  },
  {
   "cell_type": "code",
   "execution_count": 25,
   "id": "5fedd826",
   "metadata": {},
   "outputs": [
    {
     "name": "stdout",
     "output_type": "stream",
     "text": [
      "(10, 20, 30, 55)\n",
      "{'fruits': 'orange', 'food': 'eggs', 'animals': 'dog'}\n",
      "I would like 10 eggs\n"
     ]
    }
   ],
   "source": [
    "# again lets see what they are by printing args and kwargs\n",
    "def myfunc(*args,**kwargs):\n",
    "    print(args)\n",
    "    print(kwargs)\n",
    "    print('I would like {} {}'.format(args[0], kwargs['food']))\n",
    "myfunc(10,20,30,55,fruits='orange', food='eggs', animals= 'dog')    "
   ]
  },
  {
   "cell_type": "code",
   "execution_count": 38,
   "id": "002ba5c5",
   "metadata": {},
   "outputs": [],
   "source": [
    "def myfunc(*args):\n",
    "    output = []\n",
    "    for item in args:\n",
    "        if item%2 == 0:\n",
    "            output.append(item)\n",
    "    return output"
   ]
  },
  {
   "cell_type": "code",
   "execution_count": null,
   "id": "2890caed",
   "metadata": {},
   "outputs": [],
   "source": []
  },
  {
   "cell_type": "code",
   "execution_count": 39,
   "id": "25ab6756",
   "metadata": {},
   "outputs": [
    {
     "data": {
      "text/plain": [
       "[22, 36]"
      ]
     },
     "execution_count": 39,
     "metadata": {},
     "output_type": "execute_result"
    }
   ],
   "source": [
    "myfunc(21,22,36,41)"
   ]
  },
  {
   "cell_type": "code",
   "execution_count": 54,
   "id": "00c68145",
   "metadata": {},
   "outputs": [],
   "source": [
    "def myfunc(p):\n",
    "    x = []\n",
    "    for i in range(len(p)):\n",
    "        if i%2 == 0:\n",
    "            x.append(p[i].lower())\n",
    "        else:\n",
    "            x.append(p[i].upper())\n",
    "        \n",
    "                \n",
    "    return''.join(x)        "
   ]
  },
  {
   "cell_type": "code",
   "execution_count": 55,
   "id": "543faa77",
   "metadata": {},
   "outputs": [
    {
     "data": {
      "text/plain": [
       "'sAmEeR'"
      ]
     },
     "execution_count": 55,
     "metadata": {},
     "output_type": "execute_result"
    }
   ],
   "source": [
    "myfunc('sameer')"
   ]
  },
  {
   "cell_type": "code",
   "execution_count": 50,
   "id": "07d03e67",
   "metadata": {},
   "outputs": [],
   "source": [
    "def myfunc(x):\n",
    "    return x[1::2].upper()"
   ]
  },
  {
   "cell_type": "code",
   "execution_count": 51,
   "id": "1714090e",
   "metadata": {},
   "outputs": [
    {
     "data": {
      "text/plain": [
       "'AER'"
      ]
     },
     "execution_count": 51,
     "metadata": {},
     "output_type": "execute_result"
    }
   ],
   "source": [
    "myfunc('sameer')"
   ]
  },
  {
   "cell_type": "code",
   "execution_count": null,
   "id": "55fe4332",
   "metadata": {},
   "outputs": [],
   "source": []
  }
 ],
 "metadata": {
  "kernelspec": {
   "display_name": "Python 3 (ipykernel)",
   "language": "python",
   "name": "python3"
  },
  "language_info": {
   "codemirror_mode": {
    "name": "ipython",
    "version": 3
   },
   "file_extension": ".py",
   "mimetype": "text/x-python",
   "name": "python",
   "nbconvert_exporter": "python",
   "pygments_lexer": "ipython3",
   "version": "3.9.12"
  }
 },
 "nbformat": 4,
 "nbformat_minor": 5
}
